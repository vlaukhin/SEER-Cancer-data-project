{
 "cells": [
  {
   "cell_type": "code",
   "execution_count": 107,
   "metadata": {},
   "outputs": [],
   "source": [
    "import pandas as pd\n",
    "import numpy as np\n",
    "pd.options.display.max_colwidth = 390"
   ]
  },
  {
   "cell_type": "code",
   "execution_count": 81,
   "metadata": {
    "collapsed": true
   },
   "outputs": [],
   "source": [
    "import fileinput\n",
    "\n",
    "with fileinput.FileInput(\"BREAST.txt\", inplace=True, backup='.bak') as file:\n",
    "    for line in file:\n",
    "        print(line.replace(' ', '_'), end='')\n",
    "\n",
    "    "
   ]
  },
  {
   "cell_type": "code",
   "execution_count": 90,
   "metadata": {},
   "outputs": [],
   "source": [
    "df= pd.read_fwf(\"BREAST.txt\", dtype=str, header=None)\n"
   ]
  },
  {
   "cell_type": "code",
   "execution_count": 91,
   "metadata": {},
   "outputs": [],
   "source": [
    "df['all']=df.astype(str)"
   ]
  },
  {
   "cell_type": "code",
   "execution_count": 92,
   "metadata": {
    "collapsed": true
   },
   "outputs": [],
   "source": [
    "# Page 6 in description\n",
    "df['PATIENT_ID']=df['all'].str[0:8] # Patient ID number Leng 8\n",
    "df['REGISTRY_ID']=df['all'].str[8:18] # Registry ID number Leng 10\n",
    "df['MAR_STAT']=df['all'].str[18:19] # Marital Status at DX number Leng 1\n",
    "df['RACE']=df['all'].str[19:21] # Race/Ethnicity  Leng 2\n",
    "df['NHIADE']=df['all'].str[22:23] # NHIA Derived Hispanic Origin Leng 1\n",
    "df['SEX']=df['all'].str[23:24] # Sex Leng 1\n",
    "df['AGE_DX']=df['all'].str[24:27] # Age at diagnosis Leng 3\n",
    "df['YR_BRTH']=df['all'].str[27:31] # Year of Birth Leng 4\n",
    "df['SEQ_NUM']=df['all'].str[34:36] # Sequence Number—Central Leng 2\n",
    "df['MDXRECMP']=df['all'].str[36:38] # Month of diagnosis Leng 2\n",
    "df['YEAR_DX']=df['all'].str[38:42] # Year of diagnosis Leng 4\n",
    "df['PRIMSITE']=df['all'].str[38:42] # Primary Site Leng 4\n",
    "df['LATERAL']=df['all'].str[42:46] # Laterality Leng 1\n",
    "df['HISTO2V']=df['all'].str[46:51] # Histology (92-00) ICD-O-2 Leng 4\n",
    "df['BEHO2V']=df['all'].str[51:52] # Behavior (92-00) ICD-O-2 Leng 1\n",
    "df['HISTO3V']=df['all'].str[52:56] # Histologic Type ICD-O-3 Leng 4\n",
    "df['BEHO3V']=df['all'].str[56:57] # Behavior Code ICD-O-3 Leng 1\n",
    "df['GRADE']=df['all'].str[57:58] # Grade Leng 1\n",
    "df['DX_CONF']=df['all'].str[58:59] # Diagnostic Confirmation Leng 1 \n",
    "df['REPT_SRC']=df['all'].str[59:60] # Type of Reporting Source Leng 1 \n",
    "df['EOD10_SZ']=df['all'].str[60:63] # EOD—Tumor Size Leng 3 \n",
    "df['EOD10_EX']=df['all'].str[63:65] # EOD—Extension Leng 2 \n",
    "df['EOD10_PE']=df['all'].str[65:67] # EOD—Extension Prost Path Leng 2\n",
    "df['EOD10_ND']=df['all'].str[67:68] # EOD—Lymph Node Involv Leng 1 \n",
    "df['EOD10_PN']=df['all'].str[68:70] # Regional Nodes Positive Leng 2\n",
    "df['EOD10_NE']=df['all'].str[70:72] # Regional Nodes Examined Leng 2 \n",
    "df['EOD13']=df['all'].str[72:85] # EOD—Old 13 Digit Leng 13 \n",
    "df['EOD2']=df['all'].str[85:87] # EOD—Old 2 Digit Leng 2 \n",
    "df['EOD4']=df['all'].str[87:91] # EOD—Old 4 Digit Leng 4\n",
    "df['EOD_CODE']=df['all'].str[91:92] # Coding System for EOD Leng 1 \n",
    "df['TUMOR_1V']=df['all'].str[92:93] # Tumor Marker 1 Leng 1\n",
    "df['TUMOR_2V']=df['all'].str[93:94] # Tumor Marker 2 Leng 1\n",
    "df['TUMOR_3V']=df['all'].str[94:95] # Tumor Marker 3 Leng 1\n",
    "df['CSTUMSIZ']=df['all'].str[95:98] # CS Tumor Size Leng 3 \n",
    "df['CSEXTEN']=df['all'].str[98:101] # CS Extension Leng 3\n",
    "df['CSLYMPHN']=df['all'].str[101:104] # CS Lymph Nodes Leng 3\n",
    "df['CSMETSDX']=df['all'].str[104:106] # CS Mets at Dx Leng 2\n",
    "df['CS1SITE']=df['all'].str[106:109] # CS Site-Specific Factor 1 Leng 3\n",
    "df['CS2SITE']=df['all'].str[109:112] # CS Site-Specific Factor 2 Leng 3\n",
    "df['CS3SITE']=df['all'].str[112:115] # CS Site-Specific Factor 3 Leng 3\n",
    "df['CS4SITE']=df['all'].str[115:118] # CS Site-Specific Factor 4 Leng 3\n",
    "df['CS5SITE']=df['all'].str[118:121] # CS Site-Specific Factor 5 Leng 3\n"
   ]
  },
  {
   "cell_type": "code",
   "execution_count": 93,
   "metadata": {
    "collapsed": true
   },
   "outputs": [],
   "source": [
    "# Page 7 in description\n",
    "df['CS6SITE']=df['all'].str[121:124] # CS Site-Specific Factor 6 Leng 3\n",
    "df['CS25SITE']=df['all'].str[124:127] # CS Site-Specific Factor 25 Leng 3\n",
    "df['DAJCCT']=df['all'].str[127:129] # Derived AJCC T Leng 2\n",
    "df['DAJCCN']=df['all'].str[129:131] # Derived AJCC N Leng 2\n",
    "df['DAJCCM']=df['all'].str[131:133] # Derived AJCC M Leng 2\n",
    "df['DAJCCSTG']=df['all'].str[133:135] # Derived AJCC Stage Group Leng 2\n",
    "df['DSS1977S']=df['all'].str[135:136] # Derived SS1977 Leng 1\n",
    "df['DSS2000S']=df['all'].str[136:137] # Derived SS2000 Leng 1\n",
    "df['DAJCCFL']=df['all'].str[137:138] # Derived AJCC—Flag Leng 1\n",
    "df['CSVFIRST']=df['all'].str[140:146] # CCS Version Input Original Leng 6\n",
    "df['CSVLATES']=df['all'].str[146:152] # CS Version Derived Leng 6\n",
    "df['CSVCURRENT']=df['all'].str[152:158] # CS Version Input Current Leng 6\n",
    "df['SURGPRIF']=df['all'].str[158:160] # RX Summ—Surg Prim Site Leng 2\n",
    "df['SURGSCOF']=df['all'].str[160:161] # RX Summ—Scope Reg LN Sur Leng 1\n",
    "df['SURGSITF']=df['all'].str[161:162] # RX Summ—Surg Oth Reg/Dis Leng 1\n",
    "df['NUMNODES']=df['all'].str[162:164] # RX Summ—Reg LN Examined Leng 2\n",
    "df['NO_SURG']=df['all'].str[165:166] # Reason for no surgery Leng 1\n",
    "df['SS_SURG']=df['all'].str[169:171] # RX Summ—Surgery Type Leng 2\n",
    "df['SURGSCOP']=df['all'].str[173:174] # RX Summ—Scope Reg 98-02 Leng 1\n",
    "df['SURGSITE']=df['all'].str[174:175] # RX Summ—Surg Oth 98-02 Leng 1\n",
    "df['REC_NO']=df['all'].str[175:177] # SEER Record Number Leng 2\n",
    "df['TYPE_FU']=df['all'].str[190:191] # SEER Type of Follow-up Leng 1\n",
    "df['AGE_1REC']=df['all'].str[191:193] # Age Recode <1 Year olds Leng 2\n",
    "df['SITERWHO']=df['all'].str[198:203] # Site Recode ICD-O-3/WHO 2008 Leng 5\n",
    "df['ICDOTO9V']=df['all'].str[203:207] # Recode ICD-O-2 to 9 Leng 4\n",
    "df['ICDOT10V']=df['all'].str[207:211] # Recode ICD-O-2 to 10 Leng 4\n",
    "df['ICCC3WHO']=df['all'].str[217:220] # ICCC site recode ICD-O-3/WHO 2008 Leng 3\n",
    "df['ICCC3XWHO']=df['all'].str[220:223] # ICCC site rec extended ICD-O-3/WHO 2008 Leng 3\n",
    "df['BEHTREND']=df['all'].str[223:224] # Behavior Recode for Analysis Leng 1\n",
    "df['HISTREC']=df['all'].str[225:227] # Histology Recode—Broad Groupings Leng 2\n",
    "df['HISTRECB']=df['all'].str[227:229] # Histology Recode—Brain Groupings Leng 2\n",
    "df['cs0204schema']=df['all'].str[229:232] # CS Schema v0204+ Leng 3\n",
    "df['RAC_RECA']=df['all'].str[232:233] # Race recode (White, Black, Other) Leng 1\n",
    "df['RAC_RECY']=df['all'].str[233:234] # Race recode (W, B, AI, API) Leng 1\n",
    "df['ORIGRECB']=df['all'].str[234:235] # Origin recode NHIA (Hispanic, Non-Hisp) Leng 1\n",
    "df['HST_STGA']=df['all'].str[235:236] # SEER historic stage A Leng 1\n",
    "df['AJCC_STG']=df['all'].str[236:238] # AJCC stage 3rd edition (1988-2003) Leng 2\n",
    "df['AJ_3SEER']=df['all'].str[238:240] # SEER modified AJCC Stage 3rd ed (1988-2003) Leng 2\n",
    "df['SSS77VZ']=df['all'].str[240:241] #SEER Summary Stage 1977 (1995-2000) Leng 1\n",
    "df['SSSM2KPZ']=df['all'].str[241:242] # SEER Summary Stage 2000 (2001-2003) Leng 1"
   ]
  },
  {
   "cell_type": "code",
   "execution_count": 94,
   "metadata": {
    "collapsed": true
   },
   "outputs": [],
   "source": [
    "# Page 8 in description\n",
    "df['FIRSTPRM']=df['all'].str[244:245] # First malignant primary indicator Leng 1\n",
    "df['ST_CNTY']=df['all'].str[245:250] # State-county recode Leng 5\n",
    "df['CODPUB']=df['all'].str[254:259] # Cause of Death to SEER site recode Leng 5\n",
    "df['CODPUBKM']=df['all'].str[259:264] # COD to site rec KM Leng 5\n",
    "df['STAT_REC']=df['all'].str[264:265] # Vital Status recode Leng 1\n",
    "df['IHSLINK']=df['all'].str[265:266] # IHS Link Leng 1\n",
    "df['SUMM2K']=df['all'].str[266:267] # Summary stage 2000 (1998+) Leng 1\n",
    "df['AYASITERWHO']=df['all'].str[267:269] # AYA site recode/WHO 2008 Leng 2\n",
    "df['LYMSUBRWHO']=df['all'].str[269:271] # Lymphoma subtype recode/WHO 2008 Leng 2\n",
    "df['VSRTSADX']=df['all'].str[271:272] # SEER Cause-Specific Death Classification Leng 1\n",
    "df['ODTHCLASS']=df['all'].str[272:273] # SEER Other Cause of Death Classification Leng 1\n",
    "df['CSTSEVAL']=df['all'].str[273:274] # CS Tumor Size/Ext Eval Leng 1\n",
    "df['CSRGEVAL']=df['all'].str[274:275] # CS Lymph Nodes Eval Leng 1\n",
    "df['CSMTEVAL']=df['all'].str[275:276] # CS Mets Eval Leng 1\n",
    "df['intprim']=df['all'].str[276:277] # Primary by international rules Leng 1\n",
    "df['erstatus']=df['all'].str[277:278] # ER Status Recode Breast Cancer (1990+) Leng 1\n",
    "df['prstatus']=df['all'].str[278:279] # PR Status Recode Breast Cancer (1990+) Leng 1\n",
    "df['csschema']=df['all'].str[279:281] # CS Schema -AJCC 6th ed (previously called v1) Leng 2\n",
    "df['CS8SITE']=df['all'].str[281:284] # CS Site-Specific Factor 8 Leng 3\n",
    "df['CS10SITE']=df['all'].str[284:287] # CS Site-Specific Factor 10 Leng 3\n",
    "df['CS11SITE']=df['all'].str[287:290] # CS Site-Specific Factor 11 Leng 3\n",
    "df['CS13SITE']=df['all'].str[290:293] # CS Site-Specific Factor 13 Leng 3\n",
    "df['CS15SITE']=df['all'].str[293:296] # CS Site-Specific Factor 15 Leng 3\n",
    "df['CS16SITE']=df['all'].str[296:299] # CS Site-Specific Factor 16 Leng 3\n",
    "df['VASINV']=df['all'].str[299:300] # Lymph vascular invasion Leng 1\n",
    "df['srv_time_mon']=df['all'].str[300:304] # Survival months Leng 4\n",
    "df['srv_time_mon_flag']=df['all'].str[304:305] # Survival months flag Leng 1\n",
    "df['INSREC_PUB']=df['all'].str[310:311] # Insurance recode (2007+) Leng 1\n",
    "df['DAJCC7T']=df['all'].str[311:314] # Derived AJCC-7 T Leng 3\n",
    "df['DAJCC7N']=df['all'].str[314:317] # Derived AJCC-7 N Leng 3\n",
    "df['DAJCC7M']=df['all'].str[317:320] # Derived AJCC-7 M  Leng 3\n",
    "df['DAJCC7STG']=df['all'].str[320:323] # Derived AJCC-7 Stage Grp Leng 3\n",
    "df['ADJTM_6VALUE']=df['all'].str[323:325] # Breast Adjusted AJCC 6th T (1988+) Leng 2\n",
    "df['ADJNM_6VALUE']=df['all'].str[325:327] # Breast Adjusted AJCC 6th N (1988+) Leng 2\n",
    "df['ADJM_6VALUE']=df['all'].str[327:329] # Breast Adjusted AJCC 6th M (1988+) Leng 2\n",
    "df['ADJAJCCSTG']=df['all'].str[329:331] # Breast Adjusted AJCC 6th Stage (1988+) Leng 2\n",
    "df['CS7SITE']=df['all'].str[331:334] # CS Site-Specific Factor 7 Leng 3\n",
    "df['CS9SITE']=df['all'].str[334:337] # CS Site-Specific Factor 9 Leng 3\n",
    "df['CS12SITE']=df['all'].str[337:340] # CS Site-Specific Factor 12 Leng 3\n",
    "df['her2']=df['all'].str[340:341] # Derived HER2 Recode (2010+) Leng 1\n"
   ]
  },
  {
   "cell_type": "code",
   "execution_count": 95,
   "metadata": {
    "collapsed": true
   },
   "outputs": [],
   "source": [
    "# Page 9 Introduction\n",
    "df['brst_sub']=df['all'].str[341:342] # Breast Subtype (2010+) Leng 1\n",
    "df['ANNARBOR']=df['all'].str[347:348] # Lymphomas: Ann Arbor Staging (1983+) Leng 1\n",
    "df['CSMETSDXB_PUB']=df['all'].str[348:349] # CS Mets at Dx-Bone Leng 1\n",
    "df['CSMETSDXBR_PUB']=df['all'].str[349:350] # CS Mets at Dx-Brain Leng 1\n",
    "df['CSMETSDXLIV_PUB']=df['all'].str[350:351] # CS Mets at Dx-Liver Leng 1\n",
    "df['CSMETSDXLUNG_PUB']=df['all'].str[351:352] # CS Mets at Dx-Lung Leng 1\n",
    "df['T_VALUE']=df['all'].str[352:354] # T value - based on AJCC 3rd (1988-2003) Leng 2\n",
    "df['N_VALUE']=df['all'].str[354:356] # N value - based on AJCC 3rd (1988-2003) Leng 2\n",
    "df['M_VALUE']=df['all'].str[356:358] # M value - based on AJCC 3rd (1988-2003) Leng 2\n",
    "df['MALIGCOUNT']=df['all'].str[358:360] # Total Number of In Situ/malignant Tumors for Patient Leng 2\n",
    "df['BENBORDCOUNT']=df['all'].str[360:362] #Total Number of Benign/Borderline Tumors for Patient Leng 2"
   ]
  },
  {
   "cell_type": "code",
   "execution_count": 126,
   "metadata": {},
   "outputs": [
    {
     "data": {
      "text/plain": [
       "0    78004415\n",
       "1    78005031\n",
       "dtype: object"
      ]
     },
     "execution_count": 126,
     "metadata": {},
     "output_type": "execute_result"
    }
   ],
   "source": [
    "df['PATIENT_ID'].head(2)"
   ]
  },
  {
   "cell_type": "code",
   "execution_count": 109,
   "metadata": {},
   "outputs": [
    {
     "data": {
      "text/plain": [
       "0    0000001543\n",
       "Name: REGISTRY_ID, dtype: object"
      ]
     },
     "execution_count": 109,
     "metadata": {},
     "output_type": "execute_result"
    }
   ],
   "source": [
    "df['REGISTRY_ID'].head(1)"
   ]
  },
  {
   "cell_type": "code",
   "execution_count": 110,
   "metadata": {},
   "outputs": [
    {
     "data": {
      "text/plain": [
       "0    5\n",
       "Name: MAR_STAT, dtype: object"
      ]
     },
     "execution_count": 110,
     "metadata": {},
     "output_type": "execute_result"
    }
   ],
   "source": [
    "df['MAR_STAT'].head(1)"
   ]
  },
  {
   "cell_type": "code",
   "execution_count": 111,
   "metadata": {},
   "outputs": [
    {
     "data": {
      "text/plain": [
       "0    01\n",
       "Name: RACE, dtype: object"
      ]
     },
     "execution_count": 111,
     "metadata": {},
     "output_type": "execute_result"
    }
   ],
   "source": [
    "df['RACE'].head(1)"
   ]
  },
  {
   "cell_type": "code",
   "execution_count": 16,
   "metadata": {},
   "outputs": [
    {
     "data": {
      "text/plain": [
       "0    6\n",
       "1    0\n",
       "2    0\n",
       "3    0\n",
       "4    0\n",
       "dtype: object"
      ]
     },
     "execution_count": 16,
     "metadata": {},
     "output_type": "execute_result"
    }
   ],
   "source": [
    "df['NHIADE'].head(5)"
   ]
  },
  {
   "cell_type": "code",
   "execution_count": 22,
   "metadata": {
    "scrolled": true
   },
   "outputs": [
    {
     "data": {
      "text/plain": [
       "0    1927\n",
       "1    1962\n",
       "dtype: object"
      ]
     },
     "execution_count": 22,
     "metadata": {},
     "output_type": "execute_result"
    }
   ],
   "source": [
    "df['YR_BRTH'].head(2)"
   ]
  },
  {
   "cell_type": "code",
   "execution_count": 58,
   "metadata": {},
   "outputs": [
    {
     "data": {
      "text/plain": [
       "0    8520\n",
       "1    8500\n",
       "Name: HISTO2V, dtype: object"
      ]
     },
     "execution_count": 58,
     "metadata": {},
     "output_type": "execute_result"
    }
   ],
   "source": [
    "df['HISTO2V'].head(2)"
   ]
  },
  {
   "cell_type": "code",
   "execution_count": 51,
   "metadata": {},
   "outputs": [
    {
     "data": {
      "text/plain": [
       "0    205\n",
       "1    205\n",
       "Name: CS5SITE, dtype: object"
      ]
     },
     "execution_count": 51,
     "metadata": {},
     "output_type": "execute_result"
    }
   ],
   "source": [
    "df['CS5SITE'].head(2)"
   ]
  },
  {
   "cell_type": "code",
   "execution_count": 98,
   "metadata": {},
   "outputs": [],
   "source": [
    "df=df.iloc[:,2:]"
   ]
  },
  {
   "cell_type": "code",
   "execution_count": 119,
   "metadata": {
    "scrolled": true
   },
   "outputs": [],
   "source": [
    "df=df.replace('_', np.nan)"
   ]
  },
  {
   "cell_type": "code",
   "execution_count": 130,
   "metadata": {},
   "outputs": [],
   "source": [
    "df=df.dropna(axis=1)"
   ]
  },
  {
   "cell_type": "code",
   "execution_count": 133,
   "metadata": {
    "collapsed": true
   },
   "outputs": [],
   "source": [
    "df=df.replace('__', np.nan)"
   ]
  },
  {
   "cell_type": "code",
   "execution_count": 134,
   "metadata": {
    "collapsed": true
   },
   "outputs": [],
   "source": [
    "df=df.dropna(axis=1)"
   ]
  },
  {
   "cell_type": "code",
   "execution_count": 137,
   "metadata": {
    "collapsed": true
   },
   "outputs": [],
   "source": [
    "df=df.replace('___', np.nan)"
   ]
  },
  {
   "cell_type": "code",
   "execution_count": 138,
   "metadata": {
    "collapsed": true
   },
   "outputs": [],
   "source": [
    "df=df.dropna(axis=1)"
   ]
  },
  {
   "cell_type": "code",
   "execution_count": 139,
   "metadata": {},
   "outputs": [
    {
     "name": "stdout",
     "output_type": "stream",
     "text": [
      "<class 'pandas.core.frame.DataFrame'>\n",
      "RangeIndex: 1405 entries, 0 to 1404\n",
      "Data columns (total 94 columns):\n",
      "PATIENT_ID           1405 non-null object\n",
      "REGISTRY_ID          1405 non-null object\n",
      "MAR_STAT             1405 non-null object\n",
      "RACE                 1405 non-null object\n",
      "NHIADE               1405 non-null object\n",
      "SEX                  1405 non-null object\n",
      "AGE_DX               1405 non-null object\n",
      "YR_BRTH              1405 non-null object\n",
      "SEQ_NUM              1405 non-null object\n",
      "MDXRECMP             1405 non-null object\n",
      "YEAR_DX              1405 non-null object\n",
      "PRIMSITE             1405 non-null object\n",
      "LATERAL              1405 non-null object\n",
      "HISTO2V              1405 non-null object\n",
      "BEHO2V               1405 non-null object\n",
      "HISTO3V              1405 non-null object\n",
      "BEHO3V               1405 non-null object\n",
      "GRADE                1405 non-null object\n",
      "DX_CONF              1405 non-null object\n",
      "REPT_SRC             1405 non-null object\n",
      "EOD10_PN             1405 non-null object\n",
      "EOD10_NE             1405 non-null object\n",
      "EOD13                1405 non-null object\n",
      "EOD4                 1405 non-null object\n",
      "CSTUMSIZ             1405 non-null object\n",
      "CSEXTEN              1405 non-null object\n",
      "CSLYMPHN             1405 non-null object\n",
      "CSMETSDX             1405 non-null object\n",
      "CS1SITE              1405 non-null object\n",
      "CS2SITE              1405 non-null object\n",
      "CS3SITE              1405 non-null object\n",
      "CS4SITE              1405 non-null object\n",
      "CS5SITE              1405 non-null object\n",
      "CS6SITE              1405 non-null object\n",
      "CS25SITE             1405 non-null object\n",
      "DAJCCT               1405 non-null object\n",
      "DAJCCN               1405 non-null object\n",
      "DAJCCM               1405 non-null object\n",
      "DAJCCSTG             1405 non-null object\n",
      "DSS1977S             1405 non-null object\n",
      "DSS2000S             1405 non-null object\n",
      "DAJCCFL              1405 non-null object\n",
      "CSVFIRST             1405 non-null object\n",
      "CSVLATES             1405 non-null object\n",
      "CSVCURRENT           1405 non-null object\n",
      "SURGPRIF             1405 non-null object\n",
      "SURGSCOF             1405 non-null object\n",
      "SURGSITF             1405 non-null object\n",
      "NO_SURG              1405 non-null object\n",
      "REC_NO               1405 non-null object\n",
      "TYPE_FU              1405 non-null object\n",
      "AGE_1REC             1405 non-null object\n",
      "SITERWHO             1405 non-null object\n",
      "ICDOTO9V             1405 non-null object\n",
      "ICDOT10V             1405 non-null object\n",
      "ICCC3WHO             1405 non-null object\n",
      "ICCC3XWHO            1405 non-null object\n",
      "BEHTREND             1405 non-null object\n",
      "HISTREC              1405 non-null object\n",
      "HISTRECB             1405 non-null object\n",
      "cs0204schema         1405 non-null object\n",
      "RAC_RECA             1405 non-null object\n",
      "RAC_RECY             1405 non-null object\n",
      "ORIGRECB             1405 non-null object\n",
      "HST_STGA             1405 non-null object\n",
      "FIRSTPRM             1405 non-null object\n",
      "ST_CNTY              1405 non-null object\n",
      "CODPUB               1405 non-null object\n",
      "CODPUBKM             1405 non-null object\n",
      "STAT_REC             1405 non-null object\n",
      "IHSLINK              1405 non-null object\n",
      "SUMM2K               1405 non-null object\n",
      "AYASITERWHO          1405 non-null object\n",
      "LYMSUBRWHO           1405 non-null object\n",
      "VSRTSADX             1405 non-null object\n",
      "ODTHCLASS            1405 non-null object\n",
      "CSTSEVAL             1405 non-null object\n",
      "CSRGEVAL             1405 non-null object\n",
      "CSMTEVAL             1405 non-null object\n",
      "intprim              1405 non-null object\n",
      "erstatus             1405 non-null object\n",
      "prstatus             1405 non-null object\n",
      "csschema             1405 non-null object\n",
      "srv_time_mon         1405 non-null object\n",
      "srv_time_mon_flag    1405 non-null object\n",
      "ADJTM_6VALUE         1405 non-null object\n",
      "ADJNM_6VALUE         1405 non-null object\n",
      "ADJM_6VALUE          1405 non-null object\n",
      "ADJAJCCSTG           1405 non-null object\n",
      "her2                 1405 non-null object\n",
      "brst_sub             1405 non-null object\n",
      "ANNARBOR             1405 non-null object\n",
      "MALIGCOUNT           1405 non-null object\n",
      "BENBORDCOUNT         1405 non-null object\n",
      "dtypes: object(94)\n",
      "memory usage: 1.0+ MB\n"
     ]
    }
   ],
   "source": [
    "df.info()"
   ]
  },
  {
   "cell_type": "code",
   "execution_count": 140,
   "metadata": {},
   "outputs": [
    {
     "data": {
      "text/html": [
       "<div>\n",
       "<style>\n",
       "    .dataframe thead tr:only-child th {\n",
       "        text-align: right;\n",
       "    }\n",
       "\n",
       "    .dataframe thead th {\n",
       "        text-align: left;\n",
       "    }\n",
       "\n",
       "    .dataframe tbody tr th {\n",
       "        vertical-align: top;\n",
       "    }\n",
       "</style>\n",
       "<table border=\"1\" class=\"dataframe\">\n",
       "  <thead>\n",
       "    <tr style=\"text-align: right;\">\n",
       "      <th></th>\n",
       "      <th>PATIENT_ID</th>\n",
       "      <th>REGISTRY_ID</th>\n",
       "      <th>MAR_STAT</th>\n",
       "      <th>RACE</th>\n",
       "      <th>NHIADE</th>\n",
       "      <th>SEX</th>\n",
       "      <th>AGE_DX</th>\n",
       "      <th>YR_BRTH</th>\n",
       "      <th>SEQ_NUM</th>\n",
       "      <th>MDXRECMP</th>\n",
       "      <th>...</th>\n",
       "      <th>srv_time_mon_flag</th>\n",
       "      <th>ADJTM_6VALUE</th>\n",
       "      <th>ADJNM_6VALUE</th>\n",
       "      <th>ADJM_6VALUE</th>\n",
       "      <th>ADJAJCCSTG</th>\n",
       "      <th>her2</th>\n",
       "      <th>brst_sub</th>\n",
       "      <th>ANNARBOR</th>\n",
       "      <th>MALIGCOUNT</th>\n",
       "      <th>BENBORDCOUNT</th>\n",
       "    </tr>\n",
       "  </thead>\n",
       "  <tbody>\n",
       "    <tr>\n",
       "      <th>0</th>\n",
       "      <td>78004415</td>\n",
       "      <td>0000001543</td>\n",
       "      <td>5</td>\n",
       "      <td>01</td>\n",
       "      <td>6</td>\n",
       "      <td>2</td>\n",
       "      <td>077</td>\n",
       "      <td>1927</td>\n",
       "      <td>02</td>\n",
       "      <td>08</td>\n",
       "      <td>...</td>\n",
       "      <td>1</td>\n",
       "      <td>18</td>\n",
       "      <td>00</td>\n",
       "      <td>00</td>\n",
       "      <td>10</td>\n",
       "      <td>9</td>\n",
       "      <td>9</td>\n",
       "      <td>8</td>\n",
       "      <td>02</td>\n",
       "      <td>00</td>\n",
       "    </tr>\n",
       "    <tr>\n",
       "      <th>1</th>\n",
       "      <td>78005031</td>\n",
       "      <td>0000001543</td>\n",
       "      <td>1</td>\n",
       "      <td>02</td>\n",
       "      <td>0</td>\n",
       "      <td>2</td>\n",
       "      <td>042</td>\n",
       "      <td>1962</td>\n",
       "      <td>02</td>\n",
       "      <td>07</td>\n",
       "      <td>...</td>\n",
       "      <td>1</td>\n",
       "      <td>05</td>\n",
       "      <td>00</td>\n",
       "      <td>00</td>\n",
       "      <td>00</td>\n",
       "      <td>9</td>\n",
       "      <td>9</td>\n",
       "      <td>8</td>\n",
       "      <td>02</td>\n",
       "      <td>00</td>\n",
       "    </tr>\n",
       "    <tr>\n",
       "      <th>2</th>\n",
       "      <td>78006012</td>\n",
       "      <td>0000001543</td>\n",
       "      <td>2</td>\n",
       "      <td>02</td>\n",
       "      <td>0</td>\n",
       "      <td>2</td>\n",
       "      <td>074</td>\n",
       "      <td>1931</td>\n",
       "      <td>02</td>\n",
       "      <td>11</td>\n",
       "      <td>...</td>\n",
       "      <td>1</td>\n",
       "      <td>15</td>\n",
       "      <td>00</td>\n",
       "      <td>00</td>\n",
       "      <td>10</td>\n",
       "      <td>9</td>\n",
       "      <td>9</td>\n",
       "      <td>8</td>\n",
       "      <td>02</td>\n",
       "      <td>00</td>\n",
       "    </tr>\n",
       "    <tr>\n",
       "      <th>3</th>\n",
       "      <td>78006151</td>\n",
       "      <td>0000001543</td>\n",
       "      <td>5</td>\n",
       "      <td>01</td>\n",
       "      <td>0</td>\n",
       "      <td>2</td>\n",
       "      <td>081</td>\n",
       "      <td>1924</td>\n",
       "      <td>03</td>\n",
       "      <td>08</td>\n",
       "      <td>...</td>\n",
       "      <td>1</td>\n",
       "      <td>15</td>\n",
       "      <td>00</td>\n",
       "      <td>00</td>\n",
       "      <td>10</td>\n",
       "      <td>9</td>\n",
       "      <td>9</td>\n",
       "      <td>8</td>\n",
       "      <td>03</td>\n",
       "      <td>00</td>\n",
       "    </tr>\n",
       "    <tr>\n",
       "      <th>4</th>\n",
       "      <td>78007841</td>\n",
       "      <td>0000001543</td>\n",
       "      <td>5</td>\n",
       "      <td>02</td>\n",
       "      <td>0</td>\n",
       "      <td>2</td>\n",
       "      <td>055</td>\n",
       "      <td>1949</td>\n",
       "      <td>02</td>\n",
       "      <td>12</td>\n",
       "      <td>...</td>\n",
       "      <td>1</td>\n",
       "      <td>20</td>\n",
       "      <td>00</td>\n",
       "      <td>00</td>\n",
       "      <td>32</td>\n",
       "      <td>9</td>\n",
       "      <td>9</td>\n",
       "      <td>8</td>\n",
       "      <td>02</td>\n",
       "      <td>00</td>\n",
       "    </tr>\n",
       "  </tbody>\n",
       "</table>\n",
       "<p>5 rows × 94 columns</p>\n",
       "</div>"
      ],
      "text/plain": [
       "  PATIENT_ID REGISTRY_ID MAR_STAT RACE NHIADE SEX AGE_DX YR_BRTH SEQ_NUM  \\\n",
       "0   78004415  0000001543        5   01      6   2    077    1927      02   \n",
       "1   78005031  0000001543        1   02      0   2    042    1962      02   \n",
       "2   78006012  0000001543        2   02      0   2    074    1931      02   \n",
       "3   78006151  0000001543        5   01      0   2    081    1924      03   \n",
       "4   78007841  0000001543        5   02      0   2    055    1949      02   \n",
       "\n",
       "  MDXRECMP     ...      srv_time_mon_flag ADJTM_6VALUE ADJNM_6VALUE  \\\n",
       "0       08     ...                      1           18           00   \n",
       "1       07     ...                      1           05           00   \n",
       "2       11     ...                      1           15           00   \n",
       "3       08     ...                      1           15           00   \n",
       "4       12     ...                      1           20           00   \n",
       "\n",
       "  ADJM_6VALUE ADJAJCCSTG her2 brst_sub ANNARBOR MALIGCOUNT BENBORDCOUNT  \n",
       "0          00         10    9        9        8         02           00  \n",
       "1          00         00    9        9        8         02           00  \n",
       "2          00         10    9        9        8         02           00  \n",
       "3          00         10    9        9        8         03           00  \n",
       "4          00         32    9        9        8         02           00  \n",
       "\n",
       "[5 rows x 94 columns]"
      ]
     },
     "execution_count": 140,
     "metadata": {},
     "output_type": "execute_result"
    }
   ],
   "source": [
    "df.head()"
   ]
  },
  {
   "cell_type": "code",
   "execution_count": 141,
   "metadata": {
    "collapsed": true
   },
   "outputs": [],
   "source": [
    "with fileinput.FileInput(\"D:/SEER/SEER_1973_2015_TEXTDATA/incidence/yr1973_2015.seer9/BREAST.txt\", inplace=True, backup='.bak') as file:\n",
    "    for line in file:\n",
    "        print(line.replace(' ', '_'), end='')"
   ]
  },
  {
   "cell_type": "code",
   "execution_count": 144,
   "metadata": {
    "collapsed": true
   },
   "outputs": [],
   "source": [
    "df2= pd.read_fwf(\"D:/SEER/SEER_1973_2015_TEXTDATA/incidence/yr1973_2015.seer9/BREAST.txt\", dtype=str, header=None)\n"
   ]
  },
  {
   "cell_type": "code",
   "execution_count": 145,
   "metadata": {},
   "outputs": [],
   "source": [
    "df2['all']=df2.astype(str)"
   ]
  },
  {
   "cell_type": "code",
   "execution_count": 146,
   "metadata": {
    "collapsed": true
   },
   "outputs": [],
   "source": [
    "# Page 6 in description\n",
    "df2['PATIENT_ID']=df2['all'].str[0:8] # Patient ID number Leng 8\n",
    "df2['REGISTRY_ID']=df2['all'].str[8:18] # Registry ID number Leng 10\n",
    "df2['MAR_STAT']=df2['all'].str[18:19] # Marital Status at DX number Leng 1\n",
    "df2['RACE']=df2['all'].str[19:21] # Race/Ethnicity  Leng 2\n",
    "df2['NHIADE']=df2['all'].str[22:23] # NHIA Derived Hispanic Origin Leng 1\n",
    "df2['SEX']=df2['all'].str[23:24] # Sex Leng 1\n",
    "df2['AGE_DX']=df2['all'].str[24:27] # Age at diagnosis Leng 3\n",
    "df2['YR_BRTH']=df2['all'].str[27:31] # Year of Birth Leng 4\n",
    "df2['SEQ_NUM']=df2['all'].str[34:36] # Sequence Number—Central Leng 2\n",
    "df2['MDXRECMP']=df2['all'].str[36:38] # Month of diagnosis Leng 2\n",
    "df2['YEAR_DX']=df2['all'].str[38:42] # Year of diagnosis Leng 4\n",
    "df2['PRIMSITE']=df2['all'].str[38:42] # Primary Site Leng 4\n",
    "df2['LATERAL']=df2['all'].str[42:46] # Laterality Leng 1\n",
    "df2['HISTO2V']=df2['all'].str[46:51] # Histology (92-00) ICD-O-2 Leng 4\n",
    "df2['BEHO2V']=df2['all'].str[51:52] # Behavior (92-00) ICD-O-2 Leng 1\n",
    "df2['HISTO3V']=df2['all'].str[52:56] # Histologic Type ICD-O-3 Leng 4\n",
    "df2['BEHO3V']=df2['all'].str[56:57] # Behavior Code ICD-O-3 Leng 1\n",
    "df2['GRADE']=df2['all'].str[57:58] # Grade Leng 1\n",
    "df2['DX_CONF']=df2['all'].str[58:59] # Diagnostic Confirmation Leng 1 \n",
    "df2['REPT_SRC']=df2['all'].str[59:60] # Type of Reporting Source Leng 1 \n",
    "df2['EOD10_SZ']=df2['all'].str[60:63] # EOD—Tumor Size Leng 3 \n",
    "df2['EOD10_EX']=df2['all'].str[63:65] # EOD—Extension Leng 2 \n",
    "df2['EOD10_PE']=df2['all'].str[65:67] # EOD—Extension Prost Path Leng 2\n",
    "df2['EOD10_ND']=df2['all'].str[67:68] # EOD—Lymph Node Involv Leng 1 \n",
    "df2['EOD10_PN']=df2['all'].str[68:70] # Regional Nodes Positive Leng 2\n",
    "df2['EOD10_NE']=df2['all'].str[70:72] # Regional Nodes Examined Leng 2 \n",
    "df2['EOD13']=df2['all'].str[72:85] # EOD—Old 13 Digit Leng 13 \n",
    "df2['EOD2']=df2['all'].str[85:87] # EOD—Old 2 Digit Leng 2 \n",
    "df2['EOD4']=df2['all'].str[87:91] # EOD—Old 4 Digit Leng 4\n",
    "df2['EOD_CODE']=df2['all'].str[91:92] # Coding System for EOD Leng 1 \n",
    "df2['TUMOR_1V']=df2['all'].str[92:93] # Tumor Marker 1 Leng 1\n",
    "df2['TUMOR_2V']=df2['all'].str[93:94] # Tumor Marker 2 Leng 1\n",
    "df2['TUMOR_3V']=df2['all'].str[94:95] # Tumor Marker 3 Leng 1\n",
    "df2['CSTUMSIZ']=df2['all'].str[95:98] # CS Tumor Size Leng 3 \n",
    "df2['CSEXTEN']=df2['all'].str[98:101] # CS Extension Leng 3\n",
    "df2['CSLYMPHN']=df2['all'].str[101:104] # CS Lymph Nodes Leng 3\n",
    "df2['CSMETSDX']=df2['all'].str[104:106] # CS Mets at Dx Leng 2\n",
    "df2['CS1SITE']=df2['all'].str[106:109] # CS Site-Specific Factor 1 Leng 3\n",
    "df2['CS2SITE']=df2['all'].str[109:112] # CS Site-Specific Factor 2 Leng 3\n",
    "df2['CS3SITE']=df2['all'].str[112:115] # CS Site-Specific Factor 3 Leng 3\n",
    "df2['CS4SITE']=df2['all'].str[115:118] # CS Site-Specific Factor 4 Leng 3\n",
    "df2['CS5SITE']=df2['all'].str[118:121] # CS Site-Specific Factor 5 Leng 3\n",
    "\n",
    "# Page 7 in description\n",
    "df2['CS6SITE']=df2['all'].str[121:124] # CS Site-Specific Factor 6 Leng 3\n",
    "df2['CS25SITE']=df2['all'].str[124:127] # CS Site-Specific Factor 25 Leng 3\n",
    "df2['DAJCCT']=df2['all'].str[127:129] # Derived AJCC T Leng 2\n",
    "df2['DAJCCN']=df2['all'].str[129:131] # Derived AJCC N Leng 2\n",
    "df2['DAJCCM']=df2['all'].str[131:133] # Derived AJCC M Leng 2\n",
    "df2['DAJCCSTG']=df2['all'].str[133:135] # Derived AJCC Stage Group Leng 2\n",
    "df2['DSS1977S']=df2['all'].str[135:136] # Derived SS1977 Leng 1\n",
    "df2['DSS2000S']=df2['all'].str[136:137] # Derived SS2000 Leng 1\n",
    "df2['DAJCCFL']=df2['all'].str[137:138] # Derived AJCC—Flag Leng 1\n",
    "df2['CSVFIRST']=df2['all'].str[140:146] # CCS Version Input Original Leng 6\n",
    "df2['CSVLATES']=df2['all'].str[146:152] # CS Version Derived Leng 6\n",
    "df2['CSVCURRENT']=df2['all'].str[152:158] # CS Version Input Current Leng 6\n",
    "df2['SURGPRIF']=df2['all'].str[158:160] # RX Summ—Surg Prim Site Leng 2\n",
    "df2['SURGSCOF']=df2['all'].str[160:161] # RX Summ—Scope Reg LN Sur Leng 1\n",
    "df2['SURGSITF']=df2['all'].str[161:162] # RX Summ—Surg Oth Reg/Dis Leng 1\n",
    "df2['NUMNODES']=df2['all'].str[162:164] # RX Summ—Reg LN Examined Leng 2\n",
    "df2['NO_SURG']=df2['all'].str[165:166] # Reason for no surgery Leng 1\n",
    "df2['SS_SURG']=df2['all'].str[169:171] # RX Summ—Surgery Type Leng 2\n",
    "df2['SURGSCOP']=df2['all'].str[173:174] # RX Summ—Scope Reg 98-02 Leng 1\n",
    "df2['SURGSITE']=df2['all'].str[174:175] # RX Summ—Surg Oth 98-02 Leng 1\n",
    "df2['REC_NO']=df2['all'].str[175:177] # SEER Record Number Leng 2\n",
    "df2['TYPE_FU']=df2['all'].str[190:191] # SEER Type of Follow-up Leng 1\n",
    "df2['AGE_1REC']=df2['all'].str[191:193] # Age Recode <1 Year olds Leng 2\n",
    "df2['SITERWHO']=df2['all'].str[198:203] # Site Recode ICD-O-3/WHO 2008 Leng 5\n",
    "df2['ICDOTO9V']=df2['all'].str[203:207] # Recode ICD-O-2 to 9 Leng 4\n",
    "df2['ICDOT10V']=df2['all'].str[207:211] # Recode ICD-O-2 to 10 Leng 4\n",
    "df2['ICCC3WHO']=df2['all'].str[217:220] # ICCC site recode ICD-O-3/WHO 2008 Leng 3\n",
    "df2['ICCC3XWHO']=df2['all'].str[220:223] # ICCC site rec extended ICD-O-3/WHO 2008 Leng 3\n",
    "df2['BEHTREND']=df2['all'].str[223:224] # Behavior Recode for Analysis Leng 1\n",
    "df2['HISTREC']=df2['all'].str[225:227] # Histology Recode—Broad Groupings Leng 2\n",
    "df2['HISTRECB']=df2['all'].str[227:229] # Histology Recode—Brain Groupings Leng 2\n",
    "df2['cs0204schema']=df2['all'].str[229:232] # CS Schema v0204+ Leng 3\n",
    "df2['RAC_RECA']=df2['all'].str[232:233] # Race recode (White, Black, Other) Leng 1\n",
    "df2['RAC_RECY']=df2['all'].str[233:234] # Race recode (W, B, AI, API) Leng 1\n",
    "df2['ORIGRECB']=df2['all'].str[234:235] # Origin recode NHIA (Hispanic, Non-Hisp) Leng 1\n",
    "df2['HST_STGA']=df2['all'].str[235:236] # SEER historic stage A Leng 1\n",
    "df2['AJCC_STG']=df2['all'].str[236:238] # AJCC stage 3rd edition (1988-2003) Leng 2\n",
    "df2['AJ_3SEER']=df2['all'].str[238:240] # SEER modified AJCC Stage 3rd ed (1988-2003) Leng 2\n",
    "df2['SSS77VZ']=df2['all'].str[240:241] #SEER Summary Stage 1977 (1995-2000) Leng 1\n",
    "df2['SSSM2KPZ']=df2['all'].str[241:242] # SEER Summary Stage 2000 (2001-2003) Leng 1\n",
    "\n",
    "# Page 8 in description\n",
    "df2['FIRSTPRM']=df2['all'].str[244:245] # First malignant primary indicator Leng 1\n",
    "df2['ST_CNTY']=df2['all'].str[245:250] # State-county recode Leng 5\n",
    "df2['CODPUB']=df2['all'].str[254:259] # Cause of Death to SEER site recode Leng 5\n",
    "df2['CODPUBKM']=df2['all'].str[259:264] # COD to site rec KM Leng 5\n",
    "df2['STAT_REC']=df2['all'].str[264:265] # Vital Status recode Leng 1\n",
    "df2['IHSLINK']=df2['all'].str[265:266] # IHS Link Leng 1\n",
    "df2['SUMM2K']=df2['all'].str[266:267] # Summary stage 2000 (1998+) Leng 1\n",
    "df2['AYASITERWHO']=df2['all'].str[267:269] # AYA site recode/WHO 2008 Leng 2\n",
    "df2['LYMSUBRWHO']=df2['all'].str[269:271] # Lymphoma subtype recode/WHO 2008 Leng 2\n",
    "df2['VSRTSADX']=df2['all'].str[271:272] # SEER Cause-Specific Death Classification Leng 1\n",
    "df2['ODTHCLASS']=df2['all'].str[272:273] # SEER Other Cause of Death Classification Leng 1\n",
    "df2['CSTSEVAL']=df2['all'].str[273:274] # CS Tumor Size/Ext Eval Leng 1\n",
    "df2['CSRGEVAL']=df2['all'].str[274:275] # CS Lymph Nodes Eval Leng 1\n",
    "df2['CSMTEVAL']=df2['all'].str[275:276] # CS Mets Eval Leng 1\n",
    "df2['intprim']=df2['all'].str[276:277] # Primary by international rules Leng 1\n",
    "df2['erstatus']=df2['all'].str[277:278] # ER Status Recode Breast Cancer (1990+) Leng 1\n",
    "df2['prstatus']=df2['all'].str[278:279] # PR Status Recode Breast Cancer (1990+) Leng 1\n",
    "df2['csschema']=df2['all'].str[279:281] # CS Schema -AJCC 6th ed (previously called v1) Leng 2\n",
    "df2['CS8SITE']=df2['all'].str[281:284] # CS Site-Specific Factor 8 Leng 3\n",
    "df2['CS10SITE']=df2['all'].str[284:287] # CS Site-Specific Factor 10 Leng 3\n",
    "df2['CS11SITE']=df2['all'].str[287:290] # CS Site-Specific Factor 11 Leng 3\n",
    "df2['CS13SITE']=df2['all'].str[290:293] # CS Site-Specific Factor 13 Leng 3\n",
    "df2['CS15SITE']=df2['all'].str[293:296] # CS Site-Specific Factor 15 Leng 3\n",
    "df2['CS16SITE']=df2['all'].str[296:299] # CS Site-Specific Factor 16 Leng 3\n",
    "df2['VASINV']=df2['all'].str[299:300] # Lymph vascular invasion Leng 1\n",
    "df2['srv_time_mon']=df2['all'].str[300:304] # Survival months Leng 4\n",
    "df2['srv_time_mon_flag']=df2['all'].str[304:305] # Survival months flag Leng 1\n",
    "df2['INSREC_PUB']=df2['all'].str[310:311] # Insurance recode (2007+) Leng 1\n",
    "df2['DAJCC7T']=df2['all'].str[311:314] # Derived AJCC-7 T Leng 3\n",
    "df2['DAJCC7N']=df2['all'].str[314:317] # Derived AJCC-7 N Leng 3\n",
    "df2['DAJCC7M']=df2['all'].str[317:320] # Derived AJCC-7 M  Leng 3\n",
    "df2['DAJCC7STG']=df2['all'].str[320:323] # Derived AJCC-7 Stage Grp Leng 3\n",
    "df2['ADJTM_6VALUE']=df2['all'].str[323:325] # Breast Adjusted AJCC 6th T (1988+) Leng 2\n",
    "df2['ADJNM_6VALUE']=df2['all'].str[325:327] # Breast Adjusted AJCC 6th N (1988+) Leng 2\n",
    "df2['ADJM_6VALUE']=df2['all'].str[327:329] # Breast Adjusted AJCC 6th M (1988+) Leng 2\n",
    "df2['ADJAJCCSTG']=df2['all'].str[329:331] # Breast Adjusted AJCC 6th Stage (1988+) Leng 2\n",
    "df2['CS7SITE']=df2['all'].str[331:334] # CS Site-Specific Factor 7 Leng 3\n",
    "df2['CS9SITE']=df2['all'].str[334:337] # CS Site-Specific Factor 9 Leng 3\n",
    "df2['CS12SITE']=df2['all'].str[337:340] # CS Site-Specific Factor 12 Leng 3\n",
    "df2['her2']=df2['all'].str[340:341] # Derived HER2 Recode (2010+) Leng 1\n",
    "\n",
    "# Page 9 Introduction\n",
    "df2['brst_sub']=df2['all'].str[341:342] # Breast Subtype (2010+) Leng 1\n",
    "df2['ANNARBOR']=df2['all'].str[347:348] # Lymphomas: Ann Arbor Staging (1983+) Leng 1\n",
    "df2['CSMETSDXB_PUB']=df2['all'].str[348:349] # CS Mets at Dx-Bone Leng 1\n",
    "df2['CSMETSDXBR_PUB']=df2['all'].str[349:350] # CS Mets at Dx-Brain Leng 1\n",
    "df2['CSMETSDXLIV_PUB']=df2['all'].str[350:351] # CS Mets at Dx-Liver Leng 1\n",
    "df2['CSMETSDXLUNG_PUB']=df2['all'].str[351:352] # CS Mets at Dx-Lung Leng 1\n",
    "df2['T_VALUE']=df2['all'].str[352:354] # T value - based on AJCC 3rd (1988-2003) Leng 2\n",
    "df2['N_VALUE']=df2['all'].str[354:356] # N value - based on AJCC 3rd (1988-2003) Leng 2\n",
    "df2['M_VALUE']=df2['all'].str[356:358] # M value - based on AJCC 3rd (1988-2003) Leng 2\n",
    "df2['MALIGCOUNT']=df2['all'].str[358:360] # Total Number of In Situ/malignant Tumors for Patient Leng 2\n",
    "df2['BENBORDCOUNT']=df2['all'].str[360:362] #Total Number of Benign/Borderline Tumors for Patient Leng 2"
   ]
  },
  {
   "cell_type": "code",
   "execution_count": 147,
   "metadata": {
    "collapsed": true
   },
   "outputs": [],
   "source": [
    "df2=df2.iloc[:,2:]"
   ]
  },
  {
   "cell_type": "code",
   "execution_count": 148,
   "metadata": {
    "collapsed": true,
    "scrolled": true
   },
   "outputs": [],
   "source": [
    "df2=df2.replace('_', np.nan)"
   ]
  },
  {
   "cell_type": "code",
   "execution_count": 149,
   "metadata": {
    "collapsed": true
   },
   "outputs": [],
   "source": [
    "df2=df2.dropna(axis=1)"
   ]
  },
  {
   "cell_type": "code",
   "execution_count": 150,
   "metadata": {
    "collapsed": true
   },
   "outputs": [],
   "source": [
    "df2=df2.replace('__', np.nan)"
   ]
  },
  {
   "cell_type": "code",
   "execution_count": 151,
   "metadata": {
    "collapsed": true
   },
   "outputs": [],
   "source": [
    "df2=df2.dropna(axis=1)"
   ]
  },
  {
   "cell_type": "code",
   "execution_count": 152,
   "metadata": {
    "collapsed": true
   },
   "outputs": [],
   "source": [
    "df2=df2.replace('___', np.nan)"
   ]
  },
  {
   "cell_type": "code",
   "execution_count": 153,
   "metadata": {
    "collapsed": true
   },
   "outputs": [],
   "source": [
    "df2=df2.dropna(axis=1)"
   ]
  },
  {
   "cell_type": "code",
   "execution_count": 155,
   "metadata": {},
   "outputs": [
    {
     "data": {
      "text/html": [
       "<div>\n",
       "<style>\n",
       "    .dataframe thead tr:only-child th {\n",
       "        text-align: right;\n",
       "    }\n",
       "\n",
       "    .dataframe thead th {\n",
       "        text-align: left;\n",
       "    }\n",
       "\n",
       "    .dataframe tbody tr th {\n",
       "        vertical-align: top;\n",
       "    }\n",
       "</style>\n",
       "<table border=\"1\" class=\"dataframe\">\n",
       "  <thead>\n",
       "    <tr style=\"text-align: right;\">\n",
       "      <th></th>\n",
       "      <th>PATIENT_ID</th>\n",
       "      <th>REGISTRY_ID</th>\n",
       "      <th>MAR_STAT</th>\n",
       "      <th>RACE</th>\n",
       "      <th>NHIADE</th>\n",
       "      <th>SEX</th>\n",
       "      <th>AGE_DX</th>\n",
       "      <th>YR_BRTH</th>\n",
       "      <th>SEQ_NUM</th>\n",
       "      <th>MDXRECMP</th>\n",
       "      <th>...</th>\n",
       "      <th>erstatus</th>\n",
       "      <th>prstatus</th>\n",
       "      <th>csschema</th>\n",
       "      <th>srv_time_mon</th>\n",
       "      <th>srv_time_mon_flag</th>\n",
       "      <th>her2</th>\n",
       "      <th>brst_sub</th>\n",
       "      <th>ANNARBOR</th>\n",
       "      <th>MALIGCOUNT</th>\n",
       "      <th>BENBORDCOUNT</th>\n",
       "    </tr>\n",
       "  </thead>\n",
       "  <tbody>\n",
       "    <tr>\n",
       "      <th>0</th>\n",
       "      <td>07000002</td>\n",
       "      <td>0000001502</td>\n",
       "      <td>2</td>\n",
       "      <td>01</td>\n",
       "      <td>0</td>\n",
       "      <td>2</td>\n",
       "      <td>060</td>\n",
       "      <td>1932</td>\n",
       "      <td>02</td>\n",
       "      <td>11</td>\n",
       "      <td>...</td>\n",
       "      <td>1</td>\n",
       "      <td>1</td>\n",
       "      <td>58</td>\n",
       "      <td>0277</td>\n",
       "      <td>1</td>\n",
       "      <td>9</td>\n",
       "      <td>9</td>\n",
       "      <td>8</td>\n",
       "      <td>02</td>\n",
       "      <td>00</td>\n",
       "    </tr>\n",
       "  </tbody>\n",
       "</table>\n",
       "<p>1 rows × 62 columns</p>\n",
       "</div>"
      ],
      "text/plain": [
       "  PATIENT_ID REGISTRY_ID MAR_STAT RACE NHIADE SEX AGE_DX YR_BRTH SEQ_NUM  \\\n",
       "0   07000002  0000001502        2   01      0   2    060    1932      02   \n",
       "\n",
       "  MDXRECMP     ...      erstatus prstatus csschema srv_time_mon  \\\n",
       "0       11     ...             1        1       58         0277   \n",
       "\n",
       "  srv_time_mon_flag her2 brst_sub ANNARBOR MALIGCOUNT BENBORDCOUNT  \n",
       "0                 1    9        9        8         02           00  \n",
       "\n",
       "[1 rows x 62 columns]"
      ]
     },
     "execution_count": 155,
     "metadata": {},
     "output_type": "execute_result"
    }
   ],
   "source": [
    "df2.head(1)"
   ]
  },
  {
   "cell_type": "code",
   "execution_count": 154,
   "metadata": {},
   "outputs": [
    {
     "name": "stdout",
     "output_type": "stream",
     "text": [
      "<class 'pandas.core.frame.DataFrame'>\n",
      "RangeIndex: 828457 entries, 0 to 828456\n",
      "Data columns (total 62 columns):\n",
      "PATIENT_ID           828457 non-null object\n",
      "REGISTRY_ID          828457 non-null object\n",
      "MAR_STAT             828457 non-null object\n",
      "RACE                 828457 non-null object\n",
      "NHIADE               828457 non-null object\n",
      "SEX                  828457 non-null object\n",
      "AGE_DX               828457 non-null object\n",
      "YR_BRTH              828457 non-null object\n",
      "SEQ_NUM              828457 non-null object\n",
      "MDXRECMP             828457 non-null object\n",
      "YEAR_DX              828457 non-null object\n",
      "PRIMSITE             828457 non-null object\n",
      "LATERAL              828457 non-null object\n",
      "HISTO2V              828457 non-null object\n",
      "BEHO2V               828457 non-null object\n",
      "HISTO3V              828457 non-null object\n",
      "BEHO3V               828457 non-null object\n",
      "GRADE                828457 non-null object\n",
      "DX_CONF              828457 non-null object\n",
      "REPT_SRC             828457 non-null object\n",
      "EOD13                828457 non-null object\n",
      "EOD4                 828457 non-null object\n",
      "CSVFIRST             828457 non-null object\n",
      "CSVLATES             828457 non-null object\n",
      "CSVCURRENT           828457 non-null object\n",
      "NO_SURG              828457 non-null object\n",
      "REC_NO               828457 non-null object\n",
      "TYPE_FU              828457 non-null object\n",
      "AGE_1REC             828457 non-null object\n",
      "SITERWHO             828457 non-null object\n",
      "ICDOTO9V             828457 non-null object\n",
      "ICDOT10V             828457 non-null object\n",
      "ICCC3WHO             828457 non-null object\n",
      "ICCC3XWHO            828457 non-null object\n",
      "BEHTREND             828457 non-null object\n",
      "HISTREC              828457 non-null object\n",
      "HISTRECB             828457 non-null object\n",
      "cs0204schema         828457 non-null object\n",
      "RAC_RECA             828457 non-null object\n",
      "RAC_RECY             828457 non-null object\n",
      "ORIGRECB             828457 non-null object\n",
      "HST_STGA             828457 non-null object\n",
      "FIRSTPRM             828457 non-null object\n",
      "ST_CNTY              828457 non-null object\n",
      "CODPUB               828457 non-null object\n",
      "CODPUBKM             828457 non-null object\n",
      "STAT_REC             828457 non-null object\n",
      "AYASITERWHO          828457 non-null object\n",
      "LYMSUBRWHO           828457 non-null object\n",
      "VSRTSADX             828457 non-null object\n",
      "ODTHCLASS            828457 non-null object\n",
      "intprim              828457 non-null object\n",
      "erstatus             828457 non-null object\n",
      "prstatus             828457 non-null object\n",
      "csschema             828457 non-null object\n",
      "srv_time_mon         828457 non-null object\n",
      "srv_time_mon_flag    828457 non-null object\n",
      "her2                 828457 non-null object\n",
      "brst_sub             828457 non-null object\n",
      "ANNARBOR             828457 non-null object\n",
      "MALIGCOUNT           828457 non-null object\n",
      "BENBORDCOUNT         828457 non-null object\n",
      "dtypes: object(62)\n",
      "memory usage: 391.9+ MB\n"
     ]
    }
   ],
   "source": [
    "df2.info()"
   ]
  },
  {
   "cell_type": "code",
   "execution_count": 93,
   "metadata": {
    "collapsed": true
   },
   "outputs": [],
   "source": []
  },
  {
   "cell_type": "code",
   "execution_count": 94,
   "metadata": {
    "collapsed": true
   },
   "outputs": [],
   "source": []
  },
  {
   "cell_type": "code",
   "execution_count": 95,
   "metadata": {
    "collapsed": true
   },
   "outputs": [],
   "source": []
  },
  {
   "cell_type": "code",
   "execution_count": null,
   "metadata": {
    "collapsed": true
   },
   "outputs": [],
   "source": []
  }
 ],
 "metadata": {
  "kernelspec": {
   "display_name": "Python 3",
   "language": "python",
   "name": "python3"
  },
  "language_info": {
   "codemirror_mode": {
    "name": "ipython",
    "version": 3
   },
   "file_extension": ".py",
   "mimetype": "text/x-python",
   "name": "python",
   "nbconvert_exporter": "python",
   "pygments_lexer": "ipython3",
   "version": "3.6.1"
  }
 },
 "nbformat": 4,
 "nbformat_minor": 2
}
