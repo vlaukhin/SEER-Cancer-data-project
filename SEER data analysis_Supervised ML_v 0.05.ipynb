{
 "cells": [
  {
   "cell_type": "code",
   "execution_count": 1,
   "metadata": {
    "collapsed": true
   },
   "outputs": [],
   "source": [
    "import pandas as pd\n",
    "import numpy as np\n",
    "pd.options.display.max_colwidth = 390"
   ]
  },
  {
   "cell_type": "code",
   "execution_count": 2,
   "metadata": {
    "collapsed": true
   },
   "outputs": [],
   "source": [
    "import fileinput\n",
    "\n",
    "with fileinput.FileInput(\"D:\\SEER\\SEER_1973_2015_TEXTDATA\\incidence\\yr2000_2015.ca_ky_lo_nj_ga\\BREAST.txt\", inplace=True, backup='.bak') as file:\n",
    "    for line in file:\n",
    "        print(line.replace(' ', '_'), end='')\n",
    "\n",
    "    "
   ]
  },
  {
   "cell_type": "code",
   "execution_count": 80,
   "metadata": {
    "collapsed": true
   },
   "outputs": [],
   "source": [
    "import fileinput\n",
    "\n",
    "with fileinput.FileInput(\"D:\\SEER\\SEER_1973_2015_TEXTDATA\\incidence\\yr1992_2015.sj_la_rg_ak\\BREAST.txt\", inplace=True, backup='.bak') as file:\n",
    "    for line in file:\n",
    "        print(line.replace(' ', '_'), end='')\n",
    "\n",
    "    "
   ]
  },
  {
   "cell_type": "markdown",
   "metadata": {},
   "source": [
    "## Read in 4 available data sets"
   ]
  },
  {
   "cell_type": "code",
   "execution_count": 2,
   "metadata": {
    "collapsed": true
   },
   "outputs": [],
   "source": [
    "seer9= pd.read_fwf(\"D:\\SEER\\SEER_1973_2015_TEXTDATA\\incidence\\yr1973_2015.seer9\\BREAST.txt\", dtype=str, header=None)\n",
    "sj_la_rg_ak= pd.read_fwf(\"D:\\SEER\\SEER_1973_2015_TEXTDATA\\incidence\\yr1992_2015.sj_la_rg_ak\\BREAST.txt\", dtype=str, header=None)\n",
    "ca_ky_lo_nj_ga= pd.read_fwf(\"D:\\SEER\\SEER_1973_2015_TEXTDATA\\incidence\\yr2000_2015.ca_ky_lo_nj_ga\\BREAST.txt\", dtype=str, header=None)\n",
    "lo_2nd_half= pd.read_fwf(\"D:\\SEER\\SEER_1973_2015_TEXTDATA\\incidence\\yr2005.lo_2nd_half\\BREAST.txt\", dtype=str, header=None)\n"
   ]
  },
  {
   "cell_type": "code",
   "execution_count": 3,
   "metadata": {
    "collapsed": true
   },
   "outputs": [],
   "source": [
    "vars_to_keep = ['MAR_STAT','RACE1V','SEX','AGE_DX','PRIMSITE','LATERAL','HISTO2V','BEHO2V','HISTO3V',\n",
    "                'BEHO3V','GRADE','CSTUMSIZ','CSEXTEN','CSLYMPHN','CSMETSDX','CS1SITE','CS2SITE','CS3SITE',\n",
    "                'CS4SITE','CS5SITE','CS6SITE','CS25SITE','DAJCCT','DAJCCN','DAJCCM','DAJCCSTG','DSS1977S',\n",
    "                'DSS2000S','DAJCCFL','NO_SURG','cs0204schema','HST_STGA','FIRSTPRM','CODPUB','STAT_REC',\n",
    "                'VSRTSADX','ODTHCLASS','CS8SITE','CS10SITE','CS11SITE','CS13SITE','CS15SITE','CS16SITE',\n",
    "                'srv_time_mon','DAJCC7T','DAJCC7N','DAJCC7M','DAJCC7STG','CS7SITE','CS9SITE','CS12SITE',\n",
    "                'brst_sub','CSMETSDXB_PUB','CSMETSDXBR_PUB','CSMETSDXLIV_PUB','CSMETSDXLUNG_PUB',\n",
    "                'MALIGCOUNT','BENBORDCOUNT']\n"
   ]
  },
  {
   "cell_type": "markdown",
   "metadata": {},
   "source": [
    "## Transform data per each data set - seer9"
   ]
  },
  {
   "cell_type": "code",
   "execution_count": 4,
   "metadata": {
    "collapsed": true
   },
   "outputs": [],
   "source": [
    "seer9['all']=seer9.astype(str)"
   ]
  },
  {
   "cell_type": "code",
   "execution_count": 5,
   "metadata": {
    "collapsed": true
   },
   "outputs": [],
   "source": [
    "# Page 6 in description\n",
    "seer9['PUBCSNUM']=seer9['all'].str[0:8] # Patient ID number Leng 8\n",
    "seer9['REG']=seer9['all'].str[8:18] # Registry ID number Leng 10\n",
    "seer9['MAR_STAT']=seer9['all'].str[18:19] # Marital Status at DX number Leng 1\n",
    "seer9['RACE1V']=seer9['all'].str[19:21] # Race/Ethnicity  Leng 2\n",
    "seer9['NHIADE']=seer9['all'].str[22:23] # NHIA Derived Hispanic Origin Leng 1\n",
    "seer9['SEX']=seer9['all'].str[23:24] # Sex Leng 1\n",
    "seer9['AGE_DX']=seer9['all'].str[24:27] # Age at diagnosis Leng 3\n",
    "seer9['YR_BRTH']=seer9['all'].str[27:31] # Year of Birth Leng 4\n",
    "seer9['SEQ_NUM']=seer9['all'].str[34:36] # Sequence Number—Central Leng 2\n",
    "seer9['MDXRECMP']=seer9['all'].str[36:38] # Month of diagnosis Leng 2\n",
    "seer9['YEAR_DX']=seer9['all'].str[38:42] # Year of diagnosis Leng 4\n",
    "seer9['PRIMSITE']=seer9['all'].str[42:46] # Primary Site Leng 4\n",
    "seer9['LATERAL']=seer9['all'].str[46:47] # Laterality Leng 1\n",
    "seer9['HISTO2V']=seer9['all'].str[47:51] # Histology (92-00) ICD-O-2 Leng 4\n",
    "seer9['BEHO2V']=seer9['all'].str[51:52] # Behavior (92-00) ICD-O-2 Leng 1\n",
    "seer9['HISTO3V']=seer9['all'].str[52:56] # Histologic Type ICD-O-3 Leng 4\n",
    "seer9['BEHO3V']=seer9['all'].str[56:57] # Behavior Code ICD-O-3 Leng 1\n",
    "seer9['GRADE']=seer9['all'].str[57:58] # Grade Leng 1\n",
    "seer9['DX_CONF']=seer9['all'].str[58:59] # Diagnostic Confirmation Leng 1 \n",
    "seer9['REPT_SRC']=seer9['all'].str[59:60] # Type of Reporting Source Leng 1 \n",
    "seer9['EOD10_SZ']=seer9['all'].str[60:63] # EOD—Tumor Size Leng 3 \n",
    "seer9['EOD10_EX']=seer9['all'].str[63:65] # EOD—Extension Leng 2 \n",
    "seer9['EOD10_PE']=seer9['all'].str[65:67] # EOD—Extension Prost Path Leng 2\n",
    "seer9['EOD10_ND']=seer9['all'].str[67:68] # EOD—Lymph Node Involv Leng 1 \n",
    "seer9['EOD10_PN']=seer9['all'].str[68:70] # Regional Nodes Positive Leng 2\n",
    "seer9['EOD10_NE']=seer9['all'].str[70:72] # Regional Nodes Examined Leng 2 \n",
    "seer9['EOD13']=seer9['all'].str[72:85] # EOD—Old 13 Digit Leng 13 \n",
    "seer9['EOD2']=seer9['all'].str[85:87] # EOD—Old 2 Digit Leng 2 \n",
    "seer9['EOD4']=seer9['all'].str[87:91] # EOD—Old 4 Digit Leng 4\n",
    "seer9['EOD_CODE']=seer9['all'].str[91:92] # Coding System for EOD Leng 1 \n",
    "seer9['TUMOR_1V']=seer9['all'].str[92:93] # Tumor Marker 1 Leng 1\n",
    "seer9['TUMOR_2V']=seer9['all'].str[93:94] # Tumor Marker 2 Leng 1\n",
    "seer9['TUMOR_3V']=seer9['all'].str[94:95] # Tumor Marker 3 Leng 1\n",
    "seer9['CSTUMSIZ']=seer9['all'].str[95:98] # CS Tumor Size Leng 3 \n",
    "seer9['CSEXTEN']=seer9['all'].str[98:101] # CS Extension Leng 3\n",
    "seer9['CSLYMPHN']=seer9['all'].str[101:104] # CS Lymph Nodes Leng 3\n",
    "seer9['CSMETSDX']=seer9['all'].str[104:106] # CS Mets at Dx Leng 2\n",
    "seer9['CS1SITE']=seer9['all'].str[106:109] # CS Site-Specific Factor 1 Leng 3\n",
    "seer9['CS2SITE']=seer9['all'].str[109:112] # CS Site-Specific Factor 2 Leng 3\n",
    "seer9['CS3SITE']=seer9['all'].str[112:115] # CS Site-Specific Factor 3 Leng 3\n",
    "seer9['CS4SITE']=seer9['all'].str[115:118] # CS Site-Specific Factor 4 Leng 3\n",
    "seer9['CS5SITE']=seer9['all'].str[118:121] # CS Site-Specific Factor 5 Leng 3\n"
   ]
  },
  {
   "cell_type": "code",
   "execution_count": 6,
   "metadata": {
    "collapsed": true
   },
   "outputs": [],
   "source": [
    "# Page 7 in description\n",
    "seer9['CS6SITE']=seer9['all'].str[121:124] # CS Site-Specific Factor 6 Leng 3\n",
    "seer9['CS25SITE']=seer9['all'].str[124:127] # CS Site-Specific Factor 25 Leng 3\n",
    "seer9['DAJCCT']=seer9['all'].str[127:129] # Derived AJCC T Leng 2\n",
    "seer9['DAJCCN']=seer9['all'].str[129:131] # Derived AJCC N Leng 2\n",
    "seer9['DAJCCM']=seer9['all'].str[131:133] # Derived AJCC M Leng 2\n",
    "seer9['DAJCCSTG']=seer9['all'].str[133:135] # Derived AJCC Stage Group Leng 2\n",
    "seer9['DSS1977S']=seer9['all'].str[135:136] # Derived SS1977 Leng 1\n",
    "seer9['DSS2000S']=seer9['all'].str[136:137] # Derived SS2000 Leng 1\n",
    "seer9['DAJCCFL']=seer9['all'].str[137:138] # Derived AJCC—Flag Leng 1\n",
    "seer9['CSVFIRST']=seer9['all'].str[140:146] # CCS Version Input Original Leng 6\n",
    "seer9['CSVLATES']=seer9['all'].str[146:152] # CS Version Derived Leng 6\n",
    "seer9['CSVCURRENT']=seer9['all'].str[152:158] # CS Version Input Current Leng 6\n",
    "seer9['SURGPRIF']=seer9['all'].str[158:160] # RX Summ—Surg Prim Site Leng 2\n",
    "seer9['SURGSCOF']=seer9['all'].str[160:161] # RX Summ—Scope Reg LN Sur Leng 1\n",
    "seer9['SURGSITF']=seer9['all'].str[161:162] # RX Summ—Surg Oth Reg/Dis Leng 1\n",
    "seer9['NUMNODES']=seer9['all'].str[162:164] # RX Summ—Reg LN Examined Leng 2\n",
    "seer9['NO_SURG']=seer9['all'].str[165:166] # Reason for no surgery Leng 1\n",
    "seer9['SS_SURG']=seer9['all'].str[169:171] # RX Summ—Surgery Type Leng 2\n",
    "seer9['SURGSCOP']=seer9['all'].str[173:174] # RX Summ—Scope Reg 98-02 Leng 1\n",
    "seer9['SURGSITE']=seer9['all'].str[174:175] # RX Summ—Surg Oth 98-02 Leng 1\n",
    "seer9['REC_NO']=seer9['all'].str[175:177] # SEER Record Number Leng 2\n",
    "seer9['TYPE_FU']=seer9['all'].str[190:191] # SEER Type of Follow-up Leng 1\n",
    "seer9['AGE_1REC']=seer9['all'].str[191:193] # Age Recode <1 Year olds Leng 2\n",
    "seer9['SITERWHO']=seer9['all'].str[198:203] # Site Recode ICD-O-3/WHO 2008 Leng 5\n",
    "seer9['ICDOTO9V']=seer9['all'].str[203:207] # Recode ICD-O-2 to 9 Leng 4\n",
    "seer9['ICDOT10V']=seer9['all'].str[207:211] # Recode ICD-O-2 to 10 Leng 4\n",
    "seer9['ICCC3WHO']=seer9['all'].str[217:220] # ICCC site recode ICD-O-3/WHO 2008 Leng 3\n",
    "seer9['ICCC3XWHO']=seer9['all'].str[220:223] # ICCC site rec extended ICD-O-3/WHO 2008 Leng 3\n",
    "seer9['BEHTREND']=seer9['all'].str[223:224] # Behavior Recode for Analysis Leng 1\n",
    "seer9['HISTREC']=seer9['all'].str[225:227] # Histology Recode—Broad Groupings Leng 2\n",
    "seer9['HISTRECB']=seer9['all'].str[227:229] # Histology Recode—Brain Groupings Leng 2\n",
    "seer9['cs0204schema']=seer9['all'].str[229:232] # CS Schema v0204+ Leng 3\n",
    "seer9['RAC_RECA']=seer9['all'].str[232:233] # Race recode (White, Black, Other) Leng 1\n",
    "seer9['RAC_RECY']=seer9['all'].str[233:234] # Race recode (W, B, AI, API) Leng 1\n",
    "seer9['ORIGRECB']=seer9['all'].str[234:235] # Origin recode NHIA (Hispanic, Non-Hisp) Leng 1\n",
    "seer9['HST_STGA']=seer9['all'].str[235:236] # SEER historic stage A Leng 1\n",
    "seer9['AJCC_STG']=seer9['all'].str[236:238] # AJCC stage 3rd edition (1988-2003) Leng 2\n",
    "seer9['AJ_3SEER']=seer9['all'].str[238:240] # SEER modified AJCC Stage 3rd ed (1988-2003) Leng 2\n",
    "seer9['SSS77VZ']=seer9['all'].str[240:241] #SEER Summary Stage 1977 (1995-2000) Leng 1\n",
    "seer9['SSSM2KPZ']=seer9['all'].str[241:242] # SEER Summary Stage 2000 (2001-2003) Leng 1"
   ]
  },
  {
   "cell_type": "code",
   "execution_count": 7,
   "metadata": {
    "collapsed": true
   },
   "outputs": [],
   "source": [
    "# Page 8 in description\n",
    "seer9['FIRSTPRM']=seer9['all'].str[244:245] # First malignant primary indicator Leng 1\n",
    "seer9['ST_CNTY']=seer9['all'].str[245:250] # State-county recode Leng 5\n",
    "seer9['CODPUB']=seer9['all'].str[254:259] # Cause of Death to SEER site recode Leng 5\n",
    "seer9['CODPUBKM']=seer9['all'].str[259:264] # COD to site rec KM Leng 5\n",
    "seer9['STAT_REC']=seer9['all'].str[264:265] # Vital Status recode Leng 1\n",
    "seer9['IHSLINK']=seer9['all'].str[265:266] # IHS Link Leng 1\n",
    "seer9['SUMM2K']=seer9['all'].str[266:267] # Summary stage 2000 (1998+) Leng 1\n",
    "seer9['AYASITERWHO']=seer9['all'].str[267:269] # AYA site recode/WHO 2008 Leng 2\n",
    "seer9['LYMSUBRWHO']=seer9['all'].str[269:271] # Lymphoma subtype recode/WHO 2008 Leng 2\n",
    "seer9['VSRTSADX']=seer9['all'].str[271:272] # SEER Cause-Specific Death Classification Leng 1\n",
    "seer9['ODTHCLASS']=seer9['all'].str[272:273] # SEER Other Cause of Death Classification Leng 1\n",
    "seer9['CSTSEVAL']=seer9['all'].str[273:274] # CS Tumor Size/Ext Eval Leng 1\n",
    "seer9['CSRGEVAL']=seer9['all'].str[274:275] # CS Lymph Nodes Eval Leng 1\n",
    "seer9['CSMTEVAL']=seer9['all'].str[275:276] # CS Mets Eval Leng 1\n",
    "seer9['intprim']=seer9['all'].str[276:277] # Primary by international rules Leng 1\n",
    "seer9['erstatus']=seer9['all'].str[277:278] # ER Status Recode Breast Cancer (1990+) Leng 1\n",
    "seer9['prstatus']=seer9['all'].str[278:279] # PR Status Recode Breast Cancer (1990+) Leng 1\n",
    "seer9['csschema']=seer9['all'].str[279:281] # CS Schema -AJCC 6th ed (previously called v1) Leng 2\n",
    "seer9['CS8SITE']=seer9['all'].str[281:284] # CS Site-Specific Factor 8 Leng 3\n",
    "seer9['CS10SITE']=seer9['all'].str[284:287] # CS Site-Specific Factor 10 Leng 3\n",
    "seer9['CS11SITE']=seer9['all'].str[287:290] # CS Site-Specific Factor 11 Leng 3\n",
    "seer9['CS13SITE']=seer9['all'].str[290:293] # CS Site-Specific Factor 13 Leng 3\n",
    "seer9['CS15SITE']=seer9['all'].str[293:296] # CS Site-Specific Factor 15 Leng 3\n",
    "seer9['CS16SITE']=seer9['all'].str[296:299] # CS Site-Specific Factor 16 Leng 3\n",
    "seer9['VASINV']=seer9['all'].str[299:300] # Lymph vascular invasion Leng 1\n",
    "seer9['srv_time_mon']=seer9['all'].str[300:304] # Survival months Leng 4\n",
    "seer9['srv_time_mon_flag']=seer9['all'].str[304:305] # Survival months flag Leng 1\n",
    "seer9['INSREC_PUB']=seer9['all'].str[310:311] # Insurance recode (2007+) Leng 1\n",
    "seer9['DAJCC7T']=seer9['all'].str[311:314] # Derived AJCC-7 T Leng 3\n",
    "seer9['DAJCC7N']=seer9['all'].str[314:317] # Derived AJCC-7 N Leng 3\n",
    "seer9['DAJCC7M']=seer9['all'].str[317:320] # Derived AJCC-7 M  Leng 3\n",
    "seer9['DAJCC7STG']=seer9['all'].str[320:323] # Derived AJCC-7 Stage Grp Leng 3\n",
    "seer9['ADJTM_6VALUE']=seer9['all'].str[323:325] # Breast Adjusted AJCC 6th T (1988+) Leng 2\n",
    "seer9['ADJNM_6VALUE']=seer9['all'].str[325:327] # Breast Adjusted AJCC 6th N (1988+) Leng 2\n",
    "seer9['ADJM_6VALUE']=seer9['all'].str[327:329] # Breast Adjusted AJCC 6th M (1988+) Leng 2\n",
    "seer9['ADJAJCCSTG']=seer9['all'].str[329:331] # Breast Adjusted AJCC 6th Stage (1988+) Leng 2\n",
    "seer9['CS7SITE']=seer9['all'].str[331:334] # CS Site-Specific Factor 7 Leng 3\n",
    "seer9['CS9SITE']=seer9['all'].str[334:337] # CS Site-Specific Factor 9 Leng 3\n",
    "seer9['CS12SITE']=seer9['all'].str[337:340] # CS Site-Specific Factor 12 Leng 3\n",
    "seer9['her2']=seer9['all'].str[340:341] # Derived HER2 Recode (2010+) Leng 1\n"
   ]
  },
  {
   "cell_type": "code",
   "execution_count": 8,
   "metadata": {
    "collapsed": true
   },
   "outputs": [],
   "source": [
    "# Page 9 Introduction\n",
    "seer9['brst_sub']=seer9['all'].str[341:342] # Breast Subtype (2010+) Leng 1\n",
    "seer9['ANNARBOR']=seer9['all'].str[347:348] # Lymphomas: Ann Arbor Staging (1983+) Leng 1\n",
    "seer9['CSMETSDXB_PUB']=seer9['all'].str[348:349] # CS Mets at Dx-Bone Leng 1\n",
    "seer9['CSMETSDXBR_PUB']=seer9['all'].str[349:350] # CS Mets at Dx-Brain Leng 1\n",
    "seer9['CSMETSDXLIV_PUB']=seer9['all'].str[350:351] # CS Mets at Dx-Liver Leng 1\n",
    "seer9['CSMETSDXLUNG_PUB']=seer9['all'].str[351:352] # CS Mets at Dx-Lung Leng 1\n",
    "seer9['T_VALUE']=seer9['all'].str[352:354] # T value - based on AJCC 3rd (1988-2003) Leng 2\n",
    "seer9['N_VALUE']=seer9['all'].str[354:356] # N value - based on AJCC 3rd (1988-2003) Leng 2\n",
    "seer9['M_VALUE']=seer9['all'].str[356:358] # M value - based on AJCC 3rd (1988-2003) Leng 2\n",
    "seer9['MALIGCOUNT']=seer9['all'].str[358:360] # Total Number of In Situ/malignant Tumors for Patient Leng 2\n",
    "seer9['BENBORDCOUNT']=seer9['all'].str[360:362] #Total Number of Benign/Borderline Tumors for Patient Leng 2"
   ]
  },
  {
   "cell_type": "code",
   "execution_count": 9,
   "metadata": {
    "collapsed": true,
    "scrolled": true
   },
   "outputs": [],
   "source": [
    "seer9=seer9.replace('_', np.nan)"
   ]
  },
  {
   "cell_type": "code",
   "execution_count": 10,
   "metadata": {
    "collapsed": true
   },
   "outputs": [],
   "source": [
    "seer9=seer9.replace('__', np.nan)"
   ]
  },
  {
   "cell_type": "code",
   "execution_count": 11,
   "metadata": {
    "collapsed": true
   },
   "outputs": [],
   "source": [
    "seer9=seer9.replace('___', np.nan)"
   ]
  },
  {
   "cell_type": "code",
   "execution_count": 12,
   "metadata": {
    "collapsed": true
   },
   "outputs": [],
   "source": [
    "seer9 = seer9[vars_to_keep]"
   ]
  },
  {
   "cell_type": "markdown",
   "metadata": {},
   "source": [
    "## Transform the data per each data set - sj_la_rg_ak"
   ]
  },
  {
   "cell_type": "code",
   "execution_count": 13,
   "metadata": {
    "collapsed": true
   },
   "outputs": [],
   "source": [
    "sj_la_rg_ak['all']=sj_la_rg_ak.astype(str)"
   ]
  },
  {
   "cell_type": "code",
   "execution_count": 14,
   "metadata": {
    "collapsed": true
   },
   "outputs": [],
   "source": [
    "# Page 6 in description\n",
    "sj_la_rg_ak['PUBCSNUM']=sj_la_rg_ak['all'].str[0:8] # Patient ID number Leng 8\n",
    "sj_la_rg_ak['REG']=sj_la_rg_ak['all'].str[8:18] # Registry ID number Leng 10\n",
    "sj_la_rg_ak['MAR_STAT']=sj_la_rg_ak['all'].str[18:19] # Marital Status at DX number Leng 1\n",
    "sj_la_rg_ak['RACE1V']=sj_la_rg_ak['all'].str[19:21] # Race/Ethnicity  Leng 2\n",
    "sj_la_rg_ak['NHIADE']=sj_la_rg_ak['all'].str[22:23] # NHIA Derived Hispanic Origin Leng 1\n",
    "sj_la_rg_ak['SEX']=sj_la_rg_ak['all'].str[23:24] # Sex Leng 1\n",
    "sj_la_rg_ak['AGE_DX']=sj_la_rg_ak['all'].str[24:27] # Age at diagnosis Leng 3\n",
    "sj_la_rg_ak['YR_BRTH']=sj_la_rg_ak['all'].str[27:31] # Year of Birth Leng 4\n",
    "sj_la_rg_ak['SEQ_NUM']=sj_la_rg_ak['all'].str[34:36] # Sequence Number—Central Leng 2\n",
    "sj_la_rg_ak['MDXRECMP']=sj_la_rg_ak['all'].str[36:38] # Month of diagnosis Leng 2\n",
    "sj_la_rg_ak['YEAR_DX']=sj_la_rg_ak['all'].str[38:42] # Year of diagnosis Leng 4\n",
    "sj_la_rg_ak['PRIMSITE']=sj_la_rg_ak['all'].str[42:46] # Primary Site Leng 4\n",
    "sj_la_rg_ak['LATERAL']=sj_la_rg_ak['all'].str[46:47] # Laterality Leng 1\n",
    "sj_la_rg_ak['HISTO2V']=sj_la_rg_ak['all'].str[47:51] # Histology (92-00) ICD-O-2 Leng 4\n",
    "sj_la_rg_ak['BEHO2V']=sj_la_rg_ak['all'].str[51:52] # Behavior (92-00) ICD-O-2 Leng 1\n",
    "sj_la_rg_ak['HISTO3V']=sj_la_rg_ak['all'].str[52:56] # Histologic Type ICD-O-3 Leng 4\n",
    "sj_la_rg_ak['BEHO3V']=sj_la_rg_ak['all'].str[56:57] # Behavior Code ICD-O-3 Leng 1\n",
    "sj_la_rg_ak['GRADE']=sj_la_rg_ak['all'].str[57:58] # Grade Leng 1\n",
    "sj_la_rg_ak['DX_CONF']=sj_la_rg_ak['all'].str[58:59] # Diagnostic Confirmation Leng 1 \n",
    "sj_la_rg_ak['REPT_SRC']=sj_la_rg_ak['all'].str[59:60] # Type of Reporting Source Leng 1 \n",
    "sj_la_rg_ak['EOD10_SZ']=sj_la_rg_ak['all'].str[60:63] # EOD—Tumor Size Leng 3 \n",
    "sj_la_rg_ak['EOD10_EX']=sj_la_rg_ak['all'].str[63:65] # EOD—Extension Leng 2 \n",
    "sj_la_rg_ak['EOD10_PE']=sj_la_rg_ak['all'].str[65:67] # EOD—Extension Prost Path Leng 2\n",
    "sj_la_rg_ak['EOD10_ND']=sj_la_rg_ak['all'].str[67:68] # EOD—Lymph Node Involv Leng 1 \n",
    "sj_la_rg_ak['EOD10_PN']=sj_la_rg_ak['all'].str[68:70] # Regional Nodes Positive Leng 2\n",
    "sj_la_rg_ak['EOD10_NE']=sj_la_rg_ak['all'].str[70:72] # Regional Nodes Examined Leng 2 \n",
    "sj_la_rg_ak['EOD13']=sj_la_rg_ak['all'].str[72:85] # EOD—Old 13 Digit Leng 13 \n",
    "sj_la_rg_ak['EOD2']=sj_la_rg_ak['all'].str[85:87] # EOD—Old 2 Digit Leng 2 \n",
    "sj_la_rg_ak['EOD4']=sj_la_rg_ak['all'].str[87:91] # EOD—Old 4 Digit Leng 4\n",
    "sj_la_rg_ak['EOD_CODE']=sj_la_rg_ak['all'].str[91:92] # Coding System for EOD Leng 1 \n",
    "sj_la_rg_ak['TUMOR_1V']=sj_la_rg_ak['all'].str[92:93] # Tumor Marker 1 Leng 1\n",
    "sj_la_rg_ak['TUMOR_2V']=sj_la_rg_ak['all'].str[93:94] # Tumor Marker 2 Leng 1\n",
    "sj_la_rg_ak['TUMOR_3V']=sj_la_rg_ak['all'].str[94:95] # Tumor Marker 3 Leng 1\n",
    "sj_la_rg_ak['CSTUMSIZ']=sj_la_rg_ak['all'].str[95:98] # CS Tumor Size Leng 3 \n",
    "sj_la_rg_ak['CSEXTEN']=sj_la_rg_ak['all'].str[98:101] # CS Extension Leng 3\n",
    "sj_la_rg_ak['CSLYMPHN']=sj_la_rg_ak['all'].str[101:104] # CS Lymph Nodes Leng 3\n",
    "sj_la_rg_ak['CSMETSDX']=sj_la_rg_ak['all'].str[104:106] # CS Mets at Dx Leng 2\n",
    "sj_la_rg_ak['CS1SITE']=sj_la_rg_ak['all'].str[106:109] # CS Site-Specific Factor 1 Leng 3\n",
    "sj_la_rg_ak['CS2SITE']=sj_la_rg_ak['all'].str[109:112] # CS Site-Specific Factor 2 Leng 3\n",
    "sj_la_rg_ak['CS3SITE']=sj_la_rg_ak['all'].str[112:115] # CS Site-Specific Factor 3 Leng 3\n",
    "sj_la_rg_ak['CS4SITE']=sj_la_rg_ak['all'].str[115:118] # CS Site-Specific Factor 4 Leng 3\n",
    "sj_la_rg_ak['CS5SITE']=sj_la_rg_ak['all'].str[118:121] # CS Site-Specific Factor 5 Leng 3\n"
   ]
  },
  {
   "cell_type": "code",
   "execution_count": 15,
   "metadata": {
    "collapsed": true
   },
   "outputs": [],
   "source": [
    "# Page 7 in description\n",
    "sj_la_rg_ak['CS6SITE']=sj_la_rg_ak['all'].str[121:124] # CS Site-Specific Factor 6 Leng 3\n",
    "sj_la_rg_ak['CS25SITE']=sj_la_rg_ak['all'].str[124:127] # CS Site-Specific Factor 25 Leng 3\n",
    "sj_la_rg_ak['DAJCCT']=sj_la_rg_ak['all'].str[127:129] # Derived AJCC T Leng 2\n",
    "sj_la_rg_ak['DAJCCN']=sj_la_rg_ak['all'].str[129:131] # Derived AJCC N Leng 2\n",
    "sj_la_rg_ak['DAJCCM']=sj_la_rg_ak['all'].str[131:133] # Derived AJCC M Leng 2\n",
    "sj_la_rg_ak['DAJCCSTG']=sj_la_rg_ak['all'].str[133:135] # Derived AJCC Stage Group Leng 2\n",
    "sj_la_rg_ak['DSS1977S']=sj_la_rg_ak['all'].str[135:136] # Derived SS1977 Leng 1\n",
    "sj_la_rg_ak['DSS2000S']=sj_la_rg_ak['all'].str[136:137] # Derived SS2000 Leng 1\n",
    "sj_la_rg_ak['DAJCCFL']=sj_la_rg_ak['all'].str[137:138] # Derived AJCC—Flag Leng 1\n",
    "sj_la_rg_ak['CSVFIRST']=sj_la_rg_ak['all'].str[140:146] # CCS Version Input Original Leng 6\n",
    "sj_la_rg_ak['CSVLATES']=sj_la_rg_ak['all'].str[146:152] # CS Version Derived Leng 6\n",
    "sj_la_rg_ak['CSVCURRENT']=sj_la_rg_ak['all'].str[152:158] # CS Version Input Current Leng 6\n",
    "sj_la_rg_ak['SURGPRIF']=sj_la_rg_ak['all'].str[158:160] # RX Summ—Surg Prim Site Leng 2\n",
    "sj_la_rg_ak['SURGSCOF']=sj_la_rg_ak['all'].str[160:161] # RX Summ—Scope Reg LN Sur Leng 1\n",
    "sj_la_rg_ak['SURGSITF']=sj_la_rg_ak['all'].str[161:162] # RX Summ—Surg Oth Reg/Dis Leng 1\n",
    "sj_la_rg_ak['NUMNODES']=sj_la_rg_ak['all'].str[162:164] # RX Summ—Reg LN Examined Leng 2\n",
    "sj_la_rg_ak['NO_SURG']=sj_la_rg_ak['all'].str[165:166] # Reason for no surgery Leng 1\n",
    "sj_la_rg_ak['SS_SURG']=sj_la_rg_ak['all'].str[169:171] # RX Summ—Surgery Type Leng 2\n",
    "sj_la_rg_ak['SURGSCOP']=sj_la_rg_ak['all'].str[173:174] # RX Summ—Scope Reg 98-02 Leng 1\n",
    "sj_la_rg_ak['SURGSITE']=sj_la_rg_ak['all'].str[174:175] # RX Summ—Surg Oth 98-02 Leng 1\n",
    "sj_la_rg_ak['REC_NO']=sj_la_rg_ak['all'].str[175:177] # SEER Record Number Leng 2\n",
    "sj_la_rg_ak['TYPE_FU']=sj_la_rg_ak['all'].str[190:191] # SEER Type of Follow-up Leng 1\n",
    "sj_la_rg_ak['AGE_1REC']=sj_la_rg_ak['all'].str[191:193] # Age Recode <1 Year olds Leng 2\n",
    "sj_la_rg_ak['SITERWHO']=sj_la_rg_ak['all'].str[198:203] # Site Recode ICD-O-3/WHO 2008 Leng 5\n",
    "sj_la_rg_ak['ICDOTO9V']=sj_la_rg_ak['all'].str[203:207] # Recode ICD-O-2 to 9 Leng 4\n",
    "sj_la_rg_ak['ICDOT10V']=sj_la_rg_ak['all'].str[207:211] # Recode ICD-O-2 to 10 Leng 4\n",
    "sj_la_rg_ak['ICCC3WHO']=sj_la_rg_ak['all'].str[217:220] # ICCC site recode ICD-O-3/WHO 2008 Leng 3\n",
    "sj_la_rg_ak['ICCC3XWHO']=sj_la_rg_ak['all'].str[220:223] # ICCC site rec extended ICD-O-3/WHO 2008 Leng 3\n",
    "sj_la_rg_ak['BEHTREND']=sj_la_rg_ak['all'].str[223:224] # Behavior Recode for Analysis Leng 1\n",
    "sj_la_rg_ak['HISTREC']=sj_la_rg_ak['all'].str[225:227] # Histology Recode—Broad Groupings Leng 2\n",
    "sj_la_rg_ak['HISTRECB']=sj_la_rg_ak['all'].str[227:229] # Histology Recode—Brain Groupings Leng 2\n",
    "sj_la_rg_ak['cs0204schema']=sj_la_rg_ak['all'].str[229:232] # CS Schema v0204+ Leng 3\n",
    "sj_la_rg_ak['RAC_RECA']=sj_la_rg_ak['all'].str[232:233] # Race recode (White, Black, Other) Leng 1\n",
    "sj_la_rg_ak['RAC_RECY']=sj_la_rg_ak['all'].str[233:234] # Race recode (W, B, AI, API) Leng 1\n",
    "sj_la_rg_ak['ORIGRECB']=sj_la_rg_ak['all'].str[234:235] # Origin recode NHIA (Hispanic, Non-Hisp) Leng 1\n",
    "sj_la_rg_ak['HST_STGA']=sj_la_rg_ak['all'].str[235:236] # SEER historic stage A Leng 1\n",
    "sj_la_rg_ak['AJCC_STG']=sj_la_rg_ak['all'].str[236:238] # AJCC stage 3rd edition (1988-2003) Leng 2\n",
    "sj_la_rg_ak['AJ_3SEER']=sj_la_rg_ak['all'].str[238:240] # SEER modified AJCC Stage 3rd ed (1988-2003) Leng 2\n",
    "sj_la_rg_ak['SSS77VZ']=sj_la_rg_ak['all'].str[240:241] #SEER Summary Stage 1977 (1995-2000) Leng 1\n",
    "sj_la_rg_ak['SSSM2KPZ']=sj_la_rg_ak['all'].str[241:242] # SEER Summary Stage 2000 (2001-2003) Leng 1"
   ]
  },
  {
   "cell_type": "code",
   "execution_count": 16,
   "metadata": {
    "collapsed": true
   },
   "outputs": [],
   "source": [
    "# Page 8 in description\n",
    "sj_la_rg_ak['FIRSTPRM']=sj_la_rg_ak['all'].str[244:245] # First malignant primary indicator Leng 1\n",
    "sj_la_rg_ak['ST_CNTY']=sj_la_rg_ak['all'].str[245:250] # State-county recode Leng 5\n",
    "sj_la_rg_ak['CODPUB']=sj_la_rg_ak['all'].str[254:259] # Cause of Death to SEER site recode Leng 5\n",
    "sj_la_rg_ak['CODPUBKM']=sj_la_rg_ak['all'].str[259:264] # COD to site rec KM Leng 5\n",
    "sj_la_rg_ak['STAT_REC']=sj_la_rg_ak['all'].str[264:265] # Vital Status recode Leng 1\n",
    "sj_la_rg_ak['IHSLINK']=sj_la_rg_ak['all'].str[265:266] # IHS Link Leng 1\n",
    "sj_la_rg_ak['SUMM2K']=sj_la_rg_ak['all'].str[266:267] # Summary stage 2000 (1998+) Leng 1\n",
    "sj_la_rg_ak['AYASITERWHO']=sj_la_rg_ak['all'].str[267:269] # AYA site recode/WHO 2008 Leng 2\n",
    "sj_la_rg_ak['LYMSUBRWHO']=sj_la_rg_ak['all'].str[269:271] # Lymphoma subtype recode/WHO 2008 Leng 2\n",
    "sj_la_rg_ak['VSRTSADX']=sj_la_rg_ak['all'].str[271:272] # SEER Cause-Specific Death Classification Leng 1\n",
    "sj_la_rg_ak['ODTHCLASS']=sj_la_rg_ak['all'].str[272:273] # SEER Other Cause of Death Classification Leng 1\n",
    "sj_la_rg_ak['CSTSEVAL']=sj_la_rg_ak['all'].str[273:274] # CS Tumor Size/Ext Eval Leng 1\n",
    "sj_la_rg_ak['CSRGEVAL']=sj_la_rg_ak['all'].str[274:275] # CS Lymph Nodes Eval Leng 1\n",
    "sj_la_rg_ak['CSMTEVAL']=sj_la_rg_ak['all'].str[275:276] # CS Mets Eval Leng 1\n",
    "sj_la_rg_ak['intprim']=sj_la_rg_ak['all'].str[276:277] # Primary by international rules Leng 1\n",
    "sj_la_rg_ak['erstatus']=sj_la_rg_ak['all'].str[277:278] # ER Status Recode Breast Cancer (1990+) Leng 1\n",
    "sj_la_rg_ak['prstatus']=sj_la_rg_ak['all'].str[278:279] # PR Status Recode Breast Cancer (1990+) Leng 1\n",
    "sj_la_rg_ak['csschema']=sj_la_rg_ak['all'].str[279:281] # CS Schema -AJCC 6th ed (previously called v1) Leng 2\n",
    "sj_la_rg_ak['CS8SITE']=sj_la_rg_ak['all'].str[281:284] # CS Site-Specific Factor 8 Leng 3\n",
    "sj_la_rg_ak['CS10SITE']=sj_la_rg_ak['all'].str[284:287] # CS Site-Specific Factor 10 Leng 3\n",
    "sj_la_rg_ak['CS11SITE']=sj_la_rg_ak['all'].str[287:290] # CS Site-Specific Factor 11 Leng 3\n",
    "sj_la_rg_ak['CS13SITE']=sj_la_rg_ak['all'].str[290:293] # CS Site-Specific Factor 13 Leng 3\n",
    "sj_la_rg_ak['CS15SITE']=sj_la_rg_ak['all'].str[293:296] # CS Site-Specific Factor 15 Leng 3\n",
    "sj_la_rg_ak['CS16SITE']=sj_la_rg_ak['all'].str[296:299] # CS Site-Specific Factor 16 Leng 3\n",
    "sj_la_rg_ak['VASINV']=sj_la_rg_ak['all'].str[299:300] # Lymph vascular invasion Leng 1\n",
    "sj_la_rg_ak['srv_time_mon']=sj_la_rg_ak['all'].str[300:304] # Survival months Leng 4\n",
    "sj_la_rg_ak['srv_time_mon_flag']=sj_la_rg_ak['all'].str[304:305] # Survival months flag Leng 1\n",
    "sj_la_rg_ak['INSREC_PUB']=sj_la_rg_ak['all'].str[310:311] # Insurance recode (2007+) Leng 1\n",
    "sj_la_rg_ak['DAJCC7T']=sj_la_rg_ak['all'].str[311:314] # Derived AJCC-7 T Leng 3\n",
    "sj_la_rg_ak['DAJCC7N']=sj_la_rg_ak['all'].str[314:317] # Derived AJCC-7 N Leng 3\n",
    "sj_la_rg_ak['DAJCC7M']=sj_la_rg_ak['all'].str[317:320] # Derived AJCC-7 M  Leng 3\n",
    "sj_la_rg_ak['DAJCC7STG']=sj_la_rg_ak['all'].str[320:323] # Derived AJCC-7 Stage Grp Leng 3\n",
    "sj_la_rg_ak['ADJTM_6VALUE']=sj_la_rg_ak['all'].str[323:325] # Breast Adjusted AJCC 6th T (1988+) Leng 2\n",
    "sj_la_rg_ak['ADJNM_6VALUE']=sj_la_rg_ak['all'].str[325:327] # Breast Adjusted AJCC 6th N (1988+) Leng 2\n",
    "sj_la_rg_ak['ADJM_6VALUE']=sj_la_rg_ak['all'].str[327:329] # Breast Adjusted AJCC 6th M (1988+) Leng 2\n",
    "sj_la_rg_ak['ADJAJCCSTG']=sj_la_rg_ak['all'].str[329:331] # Breast Adjusted AJCC 6th Stage (1988+) Leng 2\n",
    "sj_la_rg_ak['CS7SITE']=sj_la_rg_ak['all'].str[331:334] # CS Site-Specific Factor 7 Leng 3\n",
    "sj_la_rg_ak['CS9SITE']=sj_la_rg_ak['all'].str[334:337] # CS Site-Specific Factor 9 Leng 3\n",
    "sj_la_rg_ak['CS12SITE']=sj_la_rg_ak['all'].str[337:340] # CS Site-Specific Factor 12 Leng 3\n",
    "sj_la_rg_ak['her2']=sj_la_rg_ak['all'].str[340:341] # Derived HER2 Recode (2010+) Leng 1\n"
   ]
  },
  {
   "cell_type": "code",
   "execution_count": 17,
   "metadata": {
    "collapsed": true
   },
   "outputs": [],
   "source": [
    "# Page 9 Introduction\n",
    "sj_la_rg_ak['brst_sub']=sj_la_rg_ak['all'].str[341:342] # Breast Subtype (2010+) Leng 1\n",
    "sj_la_rg_ak['ANNARBOR']=sj_la_rg_ak['all'].str[347:348] # Lymphomas: Ann Arbor Staging (1983+) Leng 1\n",
    "sj_la_rg_ak['CSMETSDXB_PUB']=sj_la_rg_ak['all'].str[348:349] # CS Mets at Dx-Bone Leng 1\n",
    "sj_la_rg_ak['CSMETSDXBR_PUB']=sj_la_rg_ak['all'].str[349:350] # CS Mets at Dx-Brain Leng 1\n",
    "sj_la_rg_ak['CSMETSDXLIV_PUB']=sj_la_rg_ak['all'].str[350:351] # CS Mets at Dx-Liver Leng 1\n",
    "sj_la_rg_ak['CSMETSDXLUNG_PUB']=sj_la_rg_ak['all'].str[351:352] # CS Mets at Dx-Lung Leng 1\n",
    "sj_la_rg_ak['T_VALUE']=sj_la_rg_ak['all'].str[352:354] # T value - based on AJCC 3rd (1988-2003) Leng 2\n",
    "sj_la_rg_ak['N_VALUE']=sj_la_rg_ak['all'].str[354:356] # N value - based on AJCC 3rd (1988-2003) Leng 2\n",
    "sj_la_rg_ak['M_VALUE']=sj_la_rg_ak['all'].str[356:358] # M value - based on AJCC 3rd (1988-2003) Leng 2\n",
    "sj_la_rg_ak['MALIGCOUNT']=sj_la_rg_ak['all'].str[358:360] # Total Number of In Situ/malignant Tumors for Patient Leng 2\n",
    "sj_la_rg_ak['BENBORDCOUNT']=sj_la_rg_ak['all'].str[360:362] #Total Number of Benign/Borderline Tumors for Patient Leng 2"
   ]
  },
  {
   "cell_type": "code",
   "execution_count": 18,
   "metadata": {
    "collapsed": true,
    "scrolled": true
   },
   "outputs": [],
   "source": [
    "sj_la_rg_ak=sj_la_rg_ak.replace('_', np.nan)"
   ]
  },
  {
   "cell_type": "code",
   "execution_count": 19,
   "metadata": {
    "collapsed": true
   },
   "outputs": [],
   "source": [
    "sj_la_rg_ak=sj_la_rg_ak.replace('__', np.nan)"
   ]
  },
  {
   "cell_type": "code",
   "execution_count": 20,
   "metadata": {
    "collapsed": true
   },
   "outputs": [],
   "source": [
    "sj_la_rg_ak=sj_la_rg_ak.replace('___', np.nan)"
   ]
  },
  {
   "cell_type": "code",
   "execution_count": 21,
   "metadata": {
    "collapsed": true
   },
   "outputs": [],
   "source": [
    "sj_la_rg_ak = sj_la_rg_ak[vars_to_keep]"
   ]
  },
  {
   "cell_type": "markdown",
   "metadata": {},
   "source": [
    "## Transform the data per each data set - ca_ky_lo_nj_ga"
   ]
  },
  {
   "cell_type": "code",
   "execution_count": 22,
   "metadata": {
    "collapsed": true
   },
   "outputs": [],
   "source": [
    "ca_ky_lo_nj_ga['all']=ca_ky_lo_nj_ga.astype(str)"
   ]
  },
  {
   "cell_type": "code",
   "execution_count": 23,
   "metadata": {
    "collapsed": true
   },
   "outputs": [],
   "source": [
    "# Page 6 in description\n",
    "ca_ky_lo_nj_ga['PUBCSNUM']=ca_ky_lo_nj_ga['all'].str[0:8] # Patient ID number Leng 8\n",
    "ca_ky_lo_nj_ga['REG']=ca_ky_lo_nj_ga['all'].str[8:18] # Registry ID number Leng 10\n",
    "ca_ky_lo_nj_ga['MAR_STAT']=ca_ky_lo_nj_ga['all'].str[18:19] # Marital Status at DX number Leng 1\n",
    "ca_ky_lo_nj_ga['RACE1V']=ca_ky_lo_nj_ga['all'].str[19:21] # Race/Ethnicity  Leng 2\n",
    "ca_ky_lo_nj_ga['NHIADE']=ca_ky_lo_nj_ga['all'].str[22:23] # NHIA Derived Hispanic Origin Leng 1\n",
    "ca_ky_lo_nj_ga['SEX']=ca_ky_lo_nj_ga['all'].str[23:24] # Sex Leng 1\n",
    "ca_ky_lo_nj_ga['AGE_DX']=ca_ky_lo_nj_ga['all'].str[24:27] # Age at diagnosis Leng 3\n",
    "ca_ky_lo_nj_ga['YR_BRTH']=ca_ky_lo_nj_ga['all'].str[27:31] # Year of Birth Leng 4\n",
    "ca_ky_lo_nj_ga['SEQ_NUM']=ca_ky_lo_nj_ga['all'].str[34:36] # Sequence Number—Central Leng 2\n",
    "ca_ky_lo_nj_ga['MDXRECMP']=ca_ky_lo_nj_ga['all'].str[36:38] # Month of diagnosis Leng 2\n",
    "ca_ky_lo_nj_ga['YEAR_DX']=ca_ky_lo_nj_ga['all'].str[38:42] # Year of diagnosis Leng 4\n",
    "ca_ky_lo_nj_ga['PRIMSITE']=ca_ky_lo_nj_ga['all'].str[42:46] # Primary Site Leng 4\n",
    "ca_ky_lo_nj_ga['LATERAL']=ca_ky_lo_nj_ga['all'].str[46:47] # Laterality Leng 1\n",
    "ca_ky_lo_nj_ga['HISTO2V']=ca_ky_lo_nj_ga['all'].str[47:51] # Histology (92-00) ICD-O-2 Leng 4\n",
    "ca_ky_lo_nj_ga['BEHO2V']=ca_ky_lo_nj_ga['all'].str[51:52] # Behavior (92-00) ICD-O-2 Leng 1\n",
    "ca_ky_lo_nj_ga['HISTO3V']=ca_ky_lo_nj_ga['all'].str[52:56] # Histologic Type ICD-O-3 Leng 4\n",
    "ca_ky_lo_nj_ga['BEHO3V']=ca_ky_lo_nj_ga['all'].str[56:57] # Behavior Code ICD-O-3 Leng 1\n",
    "ca_ky_lo_nj_ga['GRADE']=ca_ky_lo_nj_ga['all'].str[57:58] # Grade Leng 1\n",
    "ca_ky_lo_nj_ga['DX_CONF']=ca_ky_lo_nj_ga['all'].str[58:59] # Diagnostic Confirmation Leng 1 \n",
    "ca_ky_lo_nj_ga['REPT_SRC']=ca_ky_lo_nj_ga['all'].str[59:60] # Type of Reporting Source Leng 1 \n",
    "ca_ky_lo_nj_ga['EOD10_SZ']=ca_ky_lo_nj_ga['all'].str[60:63] # EOD—Tumor Size Leng 3 \n",
    "ca_ky_lo_nj_ga['EOD10_EX']=ca_ky_lo_nj_ga['all'].str[63:65] # EOD—Extension Leng 2 \n",
    "ca_ky_lo_nj_ga['EOD10_PE']=ca_ky_lo_nj_ga['all'].str[65:67] # EOD—Extension Prost Path Leng 2\n",
    "ca_ky_lo_nj_ga['EOD10_ND']=ca_ky_lo_nj_ga['all'].str[67:68] # EOD—Lymph Node Involv Leng 1 \n",
    "ca_ky_lo_nj_ga['EOD10_PN']=ca_ky_lo_nj_ga['all'].str[68:70] # Regional Nodes Positive Leng 2\n",
    "ca_ky_lo_nj_ga['EOD10_NE']=ca_ky_lo_nj_ga['all'].str[70:72] # Regional Nodes Examined Leng 2 \n",
    "ca_ky_lo_nj_ga['EOD13']=ca_ky_lo_nj_ga['all'].str[72:85] # EOD—Old 13 Digit Leng 13 \n",
    "ca_ky_lo_nj_ga['EOD2']=ca_ky_lo_nj_ga['all'].str[85:87] # EOD—Old 2 Digit Leng 2 \n",
    "ca_ky_lo_nj_ga['EOD4']=ca_ky_lo_nj_ga['all'].str[87:91] # EOD—Old 4 Digit Leng 4\n",
    "ca_ky_lo_nj_ga['EOD_CODE']=ca_ky_lo_nj_ga['all'].str[91:92] # Coding System for EOD Leng 1 \n",
    "ca_ky_lo_nj_ga['TUMOR_1V']=ca_ky_lo_nj_ga['all'].str[92:93] # Tumor Marker 1 Leng 1\n",
    "ca_ky_lo_nj_ga['TUMOR_2V']=ca_ky_lo_nj_ga['all'].str[93:94] # Tumor Marker 2 Leng 1\n",
    "ca_ky_lo_nj_ga['TUMOR_3V']=ca_ky_lo_nj_ga['all'].str[94:95] # Tumor Marker 3 Leng 1\n",
    "ca_ky_lo_nj_ga['CSTUMSIZ']=ca_ky_lo_nj_ga['all'].str[95:98] # CS Tumor Size Leng 3 \n",
    "ca_ky_lo_nj_ga['CSEXTEN']=ca_ky_lo_nj_ga['all'].str[98:101] # CS Extension Leng 3\n",
    "ca_ky_lo_nj_ga['CSLYMPHN']=ca_ky_lo_nj_ga['all'].str[101:104] # CS Lymph Nodes Leng 3\n",
    "ca_ky_lo_nj_ga['CSMETSDX']=ca_ky_lo_nj_ga['all'].str[104:106] # CS Mets at Dx Leng 2\n",
    "ca_ky_lo_nj_ga['CS1SITE']=ca_ky_lo_nj_ga['all'].str[106:109] # CS Site-Specific Factor 1 Leng 3\n",
    "ca_ky_lo_nj_ga['CS2SITE']=ca_ky_lo_nj_ga['all'].str[109:112] # CS Site-Specific Factor 2 Leng 3\n",
    "ca_ky_lo_nj_ga['CS3SITE']=ca_ky_lo_nj_ga['all'].str[112:115] # CS Site-Specific Factor 3 Leng 3\n",
    "ca_ky_lo_nj_ga['CS4SITE']=ca_ky_lo_nj_ga['all'].str[115:118] # CS Site-Specific Factor 4 Leng 3\n",
    "ca_ky_lo_nj_ga['CS5SITE']=ca_ky_lo_nj_ga['all'].str[118:121] # CS Site-Specific Factor 5 Leng 3\n"
   ]
  },
  {
   "cell_type": "code",
   "execution_count": 24,
   "metadata": {
    "collapsed": true
   },
   "outputs": [],
   "source": [
    "# Page 7 in description\n",
    "ca_ky_lo_nj_ga['CS6SITE']=ca_ky_lo_nj_ga['all'].str[121:124] # CS Site-Specific Factor 6 Leng 3\n",
    "ca_ky_lo_nj_ga['CS25SITE']=ca_ky_lo_nj_ga['all'].str[124:127] # CS Site-Specific Factor 25 Leng 3\n",
    "ca_ky_lo_nj_ga['DAJCCT']=ca_ky_lo_nj_ga['all'].str[127:129] # Derived AJCC T Leng 2\n",
    "ca_ky_lo_nj_ga['DAJCCN']=ca_ky_lo_nj_ga['all'].str[129:131] # Derived AJCC N Leng 2\n",
    "ca_ky_lo_nj_ga['DAJCCM']=ca_ky_lo_nj_ga['all'].str[131:133] # Derived AJCC M Leng 2\n",
    "ca_ky_lo_nj_ga['DAJCCSTG']=ca_ky_lo_nj_ga['all'].str[133:135] # Derived AJCC Stage Group Leng 2\n",
    "ca_ky_lo_nj_ga['DSS1977S']=ca_ky_lo_nj_ga['all'].str[135:136] # Derived SS1977 Leng 1\n",
    "ca_ky_lo_nj_ga['DSS2000S']=ca_ky_lo_nj_ga['all'].str[136:137] # Derived SS2000 Leng 1\n",
    "ca_ky_lo_nj_ga['DAJCCFL']=ca_ky_lo_nj_ga['all'].str[137:138] # Derived AJCC—Flag Leng 1\n",
    "ca_ky_lo_nj_ga['CSVFIRST']=ca_ky_lo_nj_ga['all'].str[140:146] # CCS Version Input Original Leng 6\n",
    "ca_ky_lo_nj_ga['CSVLATES']=ca_ky_lo_nj_ga['all'].str[146:152] # CS Version Derived Leng 6\n",
    "ca_ky_lo_nj_ga['CSVCURRENT']=ca_ky_lo_nj_ga['all'].str[152:158] # CS Version Input Current Leng 6\n",
    "ca_ky_lo_nj_ga['SURGPRIF']=ca_ky_lo_nj_ga['all'].str[158:160] # RX Summ—Surg Prim Site Leng 2\n",
    "ca_ky_lo_nj_ga['SURGSCOF']=ca_ky_lo_nj_ga['all'].str[160:161] # RX Summ—Scope Reg LN Sur Leng 1\n",
    "ca_ky_lo_nj_ga['SURGSITF']=ca_ky_lo_nj_ga['all'].str[161:162] # RX Summ—Surg Oth Reg/Dis Leng 1\n",
    "ca_ky_lo_nj_ga['NUMNODES']=ca_ky_lo_nj_ga['all'].str[162:164] # RX Summ—Reg LN Examined Leng 2\n",
    "ca_ky_lo_nj_ga['NO_SURG']=ca_ky_lo_nj_ga['all'].str[165:166] # Reason for no surgery Leng 1\n",
    "ca_ky_lo_nj_ga['SS_SURG']=ca_ky_lo_nj_ga['all'].str[169:171] # RX Summ—Surgery Type Leng 2\n",
    "ca_ky_lo_nj_ga['SURGSCOP']=ca_ky_lo_nj_ga['all'].str[173:174] # RX Summ—Scope Reg 98-02 Leng 1\n",
    "ca_ky_lo_nj_ga['SURGSITE']=ca_ky_lo_nj_ga['all'].str[174:175] # RX Summ—Surg Oth 98-02 Leng 1\n",
    "ca_ky_lo_nj_ga['REC_NO']=ca_ky_lo_nj_ga['all'].str[175:177] # SEER Record Number Leng 2\n",
    "ca_ky_lo_nj_ga['TYPE_FU']=ca_ky_lo_nj_ga['all'].str[190:191] # SEER Type of Follow-up Leng 1\n",
    "ca_ky_lo_nj_ga['AGE_1REC']=ca_ky_lo_nj_ga['all'].str[191:193] # Age Recode <1 Year olds Leng 2\n",
    "ca_ky_lo_nj_ga['SITERWHO']=ca_ky_lo_nj_ga['all'].str[198:203] # Site Recode ICD-O-3/WHO 2008 Leng 5\n",
    "ca_ky_lo_nj_ga['ICDOTO9V']=ca_ky_lo_nj_ga['all'].str[203:207] # Recode ICD-O-2 to 9 Leng 4\n",
    "ca_ky_lo_nj_ga['ICDOT10V']=ca_ky_lo_nj_ga['all'].str[207:211] # Recode ICD-O-2 to 10 Leng 4\n",
    "ca_ky_lo_nj_ga['ICCC3WHO']=ca_ky_lo_nj_ga['all'].str[217:220] # ICCC site recode ICD-O-3/WHO 2008 Leng 3\n",
    "ca_ky_lo_nj_ga['ICCC3XWHO']=ca_ky_lo_nj_ga['all'].str[220:223] # ICCC site rec extended ICD-O-3/WHO 2008 Leng 3\n",
    "ca_ky_lo_nj_ga['BEHTREND']=ca_ky_lo_nj_ga['all'].str[223:224] # Behavior Recode for Analysis Leng 1\n",
    "ca_ky_lo_nj_ga['HISTREC']=ca_ky_lo_nj_ga['all'].str[225:227] # Histology Recode—Broad Groupings Leng 2\n",
    "ca_ky_lo_nj_ga['HISTRECB']=ca_ky_lo_nj_ga['all'].str[227:229] # Histology Recode—Brain Groupings Leng 2\n",
    "ca_ky_lo_nj_ga['cs0204schema']=ca_ky_lo_nj_ga['all'].str[229:232] # CS Schema v0204+ Leng 3\n",
    "ca_ky_lo_nj_ga['RAC_RECA']=ca_ky_lo_nj_ga['all'].str[232:233] # Race recode (White, Black, Other) Leng 1\n",
    "ca_ky_lo_nj_ga['RAC_RECY']=ca_ky_lo_nj_ga['all'].str[233:234] # Race recode (W, B, AI, API) Leng 1\n",
    "ca_ky_lo_nj_ga['ORIGRECB']=ca_ky_lo_nj_ga['all'].str[234:235] # Origin recode NHIA (Hispanic, Non-Hisp) Leng 1\n",
    "ca_ky_lo_nj_ga['HST_STGA']=ca_ky_lo_nj_ga['all'].str[235:236] # SEER historic stage A Leng 1\n",
    "ca_ky_lo_nj_ga['AJCC_STG']=ca_ky_lo_nj_ga['all'].str[236:238] # AJCC stage 3rd edition (1988-2003) Leng 2\n",
    "ca_ky_lo_nj_ga['AJ_3SEER']=ca_ky_lo_nj_ga['all'].str[238:240] # SEER modified AJCC Stage 3rd ed (1988-2003) Leng 2\n",
    "ca_ky_lo_nj_ga['SSS77VZ']=ca_ky_lo_nj_ga['all'].str[240:241] #SEER Summary Stage 1977 (1995-2000) Leng 1\n",
    "ca_ky_lo_nj_ga['SSSM2KPZ']=ca_ky_lo_nj_ga['all'].str[241:242] # SEER Summary Stage 2000 (2001-2003) Leng 1"
   ]
  },
  {
   "cell_type": "code",
   "execution_count": 25,
   "metadata": {
    "collapsed": true
   },
   "outputs": [],
   "source": [
    "# Page 8 in description\n",
    "ca_ky_lo_nj_ga['FIRSTPRM']=ca_ky_lo_nj_ga['all'].str[244:245] # First malignant primary indicator Leng 1\n",
    "ca_ky_lo_nj_ga['ST_CNTY']=ca_ky_lo_nj_ga['all'].str[245:250] # State-county recode Leng 5\n",
    "ca_ky_lo_nj_ga['CODPUB']=ca_ky_lo_nj_ga['all'].str[254:259] # Cause of Death to SEER site recode Leng 5\n",
    "ca_ky_lo_nj_ga['CODPUBKM']=ca_ky_lo_nj_ga['all'].str[259:264] # COD to site rec KM Leng 5\n",
    "ca_ky_lo_nj_ga['STAT_REC']=ca_ky_lo_nj_ga['all'].str[264:265] # Vital Status recode Leng 1\n",
    "ca_ky_lo_nj_ga['IHSLINK']=ca_ky_lo_nj_ga['all'].str[265:266] # IHS Link Leng 1\n",
    "ca_ky_lo_nj_ga['SUMM2K']=ca_ky_lo_nj_ga['all'].str[266:267] # Summary stage 2000 (1998+) Leng 1\n",
    "ca_ky_lo_nj_ga['AYASITERWHO']=ca_ky_lo_nj_ga['all'].str[267:269] # AYA site recode/WHO 2008 Leng 2\n",
    "ca_ky_lo_nj_ga['LYMSUBRWHO']=ca_ky_lo_nj_ga['all'].str[269:271] # Lymphoma subtype recode/WHO 2008 Leng 2\n",
    "ca_ky_lo_nj_ga['VSRTSADX']=ca_ky_lo_nj_ga['all'].str[271:272] # SEER Cause-Specific Death Classification Leng 1\n",
    "ca_ky_lo_nj_ga['ODTHCLASS']=ca_ky_lo_nj_ga['all'].str[272:273] # SEER Other Cause of Death Classification Leng 1\n",
    "ca_ky_lo_nj_ga['CSTSEVAL']=ca_ky_lo_nj_ga['all'].str[273:274] # CS Tumor Size/Ext Eval Leng 1\n",
    "ca_ky_lo_nj_ga['CSRGEVAL']=ca_ky_lo_nj_ga['all'].str[274:275] # CS Lymph Nodes Eval Leng 1\n",
    "ca_ky_lo_nj_ga['CSMTEVAL']=ca_ky_lo_nj_ga['all'].str[275:276] # CS Mets Eval Leng 1\n",
    "ca_ky_lo_nj_ga['intprim']=ca_ky_lo_nj_ga['all'].str[276:277] # Primary by international rules Leng 1\n",
    "ca_ky_lo_nj_ga['erstatus']=ca_ky_lo_nj_ga['all'].str[277:278] # ER Status Recode Breast Cancer (1990+) Leng 1\n",
    "ca_ky_lo_nj_ga['prstatus']=ca_ky_lo_nj_ga['all'].str[278:279] # PR Status Recode Breast Cancer (1990+) Leng 1\n",
    "ca_ky_lo_nj_ga['csschema']=ca_ky_lo_nj_ga['all'].str[279:281] # CS Schema -AJCC 6th ed (previously called v1) Leng 2\n",
    "ca_ky_lo_nj_ga['CS8SITE']=ca_ky_lo_nj_ga['all'].str[281:284] # CS Site-Specific Factor 8 Leng 3\n",
    "ca_ky_lo_nj_ga['CS10SITE']=ca_ky_lo_nj_ga['all'].str[284:287] # CS Site-Specific Factor 10 Leng 3\n",
    "ca_ky_lo_nj_ga['CS11SITE']=ca_ky_lo_nj_ga['all'].str[287:290] # CS Site-Specific Factor 11 Leng 3\n",
    "ca_ky_lo_nj_ga['CS13SITE']=ca_ky_lo_nj_ga['all'].str[290:293] # CS Site-Specific Factor 13 Leng 3\n",
    "ca_ky_lo_nj_ga['CS15SITE']=ca_ky_lo_nj_ga['all'].str[293:296] # CS Site-Specific Factor 15 Leng 3\n",
    "ca_ky_lo_nj_ga['CS16SITE']=ca_ky_lo_nj_ga['all'].str[296:299] # CS Site-Specific Factor 16 Leng 3\n",
    "ca_ky_lo_nj_ga['VASINV']=ca_ky_lo_nj_ga['all'].str[299:300] # Lymph vascular invasion Leng 1\n",
    "ca_ky_lo_nj_ga['srv_time_mon']=ca_ky_lo_nj_ga['all'].str[300:304] # Survival months Leng 4\n",
    "ca_ky_lo_nj_ga['srv_time_mon_flag']=ca_ky_lo_nj_ga['all'].str[304:305] # Survival months flag Leng 1\n",
    "ca_ky_lo_nj_ga['INSREC_PUB']=ca_ky_lo_nj_ga['all'].str[310:311] # Insurance recode (2007+) Leng 1\n",
    "ca_ky_lo_nj_ga['DAJCC7T']=ca_ky_lo_nj_ga['all'].str[311:314] # Derived AJCC-7 T Leng 3\n",
    "ca_ky_lo_nj_ga['DAJCC7N']=ca_ky_lo_nj_ga['all'].str[314:317] # Derived AJCC-7 N Leng 3\n",
    "ca_ky_lo_nj_ga['DAJCC7M']=ca_ky_lo_nj_ga['all'].str[317:320] # Derived AJCC-7 M  Leng 3\n",
    "ca_ky_lo_nj_ga['DAJCC7STG']=ca_ky_lo_nj_ga['all'].str[320:323] # Derived AJCC-7 Stage Grp Leng 3\n",
    "ca_ky_lo_nj_ga['ADJTM_6VALUE']=ca_ky_lo_nj_ga['all'].str[323:325] # Breast Adjusted AJCC 6th T (1988+) Leng 2\n",
    "ca_ky_lo_nj_ga['ADJNM_6VALUE']=ca_ky_lo_nj_ga['all'].str[325:327] # Breast Adjusted AJCC 6th N (1988+) Leng 2\n",
    "ca_ky_lo_nj_ga['ADJM_6VALUE']=ca_ky_lo_nj_ga['all'].str[327:329] # Breast Adjusted AJCC 6th M (1988+) Leng 2\n",
    "ca_ky_lo_nj_ga['ADJAJCCSTG']=ca_ky_lo_nj_ga['all'].str[329:331] # Breast Adjusted AJCC 6th Stage (1988+) Leng 2\n",
    "ca_ky_lo_nj_ga['CS7SITE']=ca_ky_lo_nj_ga['all'].str[331:334] # CS Site-Specific Factor 7 Leng 3\n",
    "ca_ky_lo_nj_ga['CS9SITE']=ca_ky_lo_nj_ga['all'].str[334:337] # CS Site-Specific Factor 9 Leng 3\n",
    "ca_ky_lo_nj_ga['CS12SITE']=ca_ky_lo_nj_ga['all'].str[337:340] # CS Site-Specific Factor 12 Leng 3\n",
    "ca_ky_lo_nj_ga['her2']=ca_ky_lo_nj_ga['all'].str[340:341] # Derived HER2 Recode (2010+) Leng 1\n"
   ]
  },
  {
   "cell_type": "code",
   "execution_count": 26,
   "metadata": {
    "collapsed": true
   },
   "outputs": [],
   "source": [
    "# Page 9 Introduction\n",
    "ca_ky_lo_nj_ga['brst_sub']=ca_ky_lo_nj_ga['all'].str[341:342] # Breast Subtype (2010+) Leng 1\n",
    "ca_ky_lo_nj_ga['ANNARBOR']=ca_ky_lo_nj_ga['all'].str[347:348] # Lymphomas: Ann Arbor Staging (1983+) Leng 1\n",
    "ca_ky_lo_nj_ga['CSMETSDXB_PUB']=ca_ky_lo_nj_ga['all'].str[348:349] # CS Mets at Dx-Bone Leng 1\n",
    "ca_ky_lo_nj_ga['CSMETSDXBR_PUB']=ca_ky_lo_nj_ga['all'].str[349:350] # CS Mets at Dx-Brain Leng 1\n",
    "ca_ky_lo_nj_ga['CSMETSDXLIV_PUB']=ca_ky_lo_nj_ga['all'].str[350:351] # CS Mets at Dx-Liver Leng 1\n",
    "ca_ky_lo_nj_ga['CSMETSDXLUNG_PUB']=ca_ky_lo_nj_ga['all'].str[351:352] # CS Mets at Dx-Lung Leng 1\n",
    "ca_ky_lo_nj_ga['T_VALUE']=ca_ky_lo_nj_ga['all'].str[352:354] # T value - based on AJCC 3rd (1988-2003) Leng 2\n",
    "ca_ky_lo_nj_ga['N_VALUE']=ca_ky_lo_nj_ga['all'].str[354:356] # N value - based on AJCC 3rd (1988-2003) Leng 2\n",
    "ca_ky_lo_nj_ga['M_VALUE']=ca_ky_lo_nj_ga['all'].str[356:358] # M value - based on AJCC 3rd (1988-2003) Leng 2\n",
    "ca_ky_lo_nj_ga['MALIGCOUNT']=ca_ky_lo_nj_ga['all'].str[358:360] # Total Number of In Situ/malignant Tumors for Patient Leng 2\n",
    "ca_ky_lo_nj_ga['BENBORDCOUNT']=ca_ky_lo_nj_ga['all'].str[360:362] #Total Number of Benign/Borderline Tumors for Patient Leng 2"
   ]
  },
  {
   "cell_type": "code",
   "execution_count": 27,
   "metadata": {
    "collapsed": true,
    "scrolled": true
   },
   "outputs": [],
   "source": [
    "ca_ky_lo_nj_ga=ca_ky_lo_nj_ga.replace('_', np.nan)"
   ]
  },
  {
   "cell_type": "code",
   "execution_count": 28,
   "metadata": {
    "collapsed": true
   },
   "outputs": [],
   "source": [
    "ca_ky_lo_nj_ga=ca_ky_lo_nj_ga.replace('__', np.nan)"
   ]
  },
  {
   "cell_type": "code",
   "execution_count": 29,
   "metadata": {
    "collapsed": true
   },
   "outputs": [],
   "source": [
    "ca_ky_lo_nj_ga=ca_ky_lo_nj_ga.replace('___', np.nan)"
   ]
  },
  {
   "cell_type": "code",
   "execution_count": 30,
   "metadata": {
    "collapsed": true
   },
   "outputs": [],
   "source": [
    "ca_ky_lo_nj_ga = ca_ky_lo_nj_ga[vars_to_keep]"
   ]
  },
  {
   "cell_type": "markdown",
   "metadata": {},
   "source": [
    "## Transform the data per each data set - lo_2nd_half"
   ]
  },
  {
   "cell_type": "code",
   "execution_count": 31,
   "metadata": {
    "collapsed": true
   },
   "outputs": [],
   "source": [
    "lo_2nd_half['all']=lo_2nd_half.astype(str)"
   ]
  },
  {
   "cell_type": "code",
   "execution_count": 32,
   "metadata": {
    "collapsed": true
   },
   "outputs": [],
   "source": [
    "# Page 6 in description\n",
    "lo_2nd_half['PUBCSNUM']=lo_2nd_half['all'].str[0:8] # Patient ID number Leng 8\n",
    "lo_2nd_half['REG']=lo_2nd_half['all'].str[8:18] # Registry ID number Leng 10\n",
    "lo_2nd_half['MAR_STAT']=lo_2nd_half['all'].str[18:19] # Marital Status at DX number Leng 1\n",
    "lo_2nd_half['RACE1V']=lo_2nd_half['all'].str[19:21] # Race/Ethnicity  Leng 2\n",
    "lo_2nd_half['NHIADE']=lo_2nd_half['all'].str[22:23] # NHIA Derived Hispanic Origin Leng 1\n",
    "lo_2nd_half['SEX']=lo_2nd_half['all'].str[23:24] # Sex Leng 1\n",
    "lo_2nd_half['AGE_DX']=lo_2nd_half['all'].str[24:27] # Age at diagnosis Leng 3\n",
    "lo_2nd_half['YR_BRTH']=lo_2nd_half['all'].str[27:31] # Year of Birth Leng 4\n",
    "lo_2nd_half['SEQ_NUM']=lo_2nd_half['all'].str[34:36] # Sequence Number—Central Leng 2\n",
    "lo_2nd_half['MDXRECMP']=lo_2nd_half['all'].str[36:38] # Month of diagnosis Leng 2\n",
    "lo_2nd_half['YEAR_DX']=lo_2nd_half['all'].str[38:42] # Year of diagnosis Leng 4\n",
    "lo_2nd_half['PRIMSITE']=lo_2nd_half['all'].str[42:46] # Primary Site Leng 4\n",
    "lo_2nd_half['LATERAL']=lo_2nd_half['all'].str[46:47] # Laterality Leng 1\n",
    "lo_2nd_half['HISTO2V']=lo_2nd_half['all'].str[47:51] # Histology (92-00) ICD-O-2 Leng 4\n",
    "lo_2nd_half['BEHO2V']=lo_2nd_half['all'].str[51:52] # Behavior (92-00) ICD-O-2 Leng 1\n",
    "lo_2nd_half['HISTO3V']=lo_2nd_half['all'].str[52:56] # Histologic Type ICD-O-3 Leng 4\n",
    "lo_2nd_half['BEHO3V']=lo_2nd_half['all'].str[56:57] # Behavior Code ICD-O-3 Leng 1\n",
    "lo_2nd_half['GRADE']=lo_2nd_half['all'].str[57:58] # Grade Leng 1\n",
    "lo_2nd_half['DX_CONF']=lo_2nd_half['all'].str[58:59] # Diagnostic Confirmation Leng 1 \n",
    "lo_2nd_half['REPT_SRC']=lo_2nd_half['all'].str[59:60] # Type of Reporting Source Leng 1 \n",
    "lo_2nd_half['EOD10_SZ']=lo_2nd_half['all'].str[60:63] # EOD—Tumor Size Leng 3 \n",
    "lo_2nd_half['EOD10_EX']=lo_2nd_half['all'].str[63:65] # EOD—Extension Leng 2 \n",
    "lo_2nd_half['EOD10_PE']=lo_2nd_half['all'].str[65:67] # EOD—Extension Prost Path Leng 2\n",
    "lo_2nd_half['EOD10_ND']=lo_2nd_half['all'].str[67:68] # EOD—Lymph Node Involv Leng 1 \n",
    "lo_2nd_half['EOD10_PN']=lo_2nd_half['all'].str[68:70] # Regional Nodes Positive Leng 2\n",
    "lo_2nd_half['EOD10_NE']=lo_2nd_half['all'].str[70:72] # Regional Nodes Examined Leng 2 \n",
    "lo_2nd_half['EOD13']=lo_2nd_half['all'].str[72:85] # EOD—Old 13 Digit Leng 13 \n",
    "lo_2nd_half['EOD2']=lo_2nd_half['all'].str[85:87] # EOD—Old 2 Digit Leng 2 \n",
    "lo_2nd_half['EOD4']=lo_2nd_half['all'].str[87:91] # EOD—Old 4 Digit Leng 4\n",
    "lo_2nd_half['EOD_CODE']=lo_2nd_half['all'].str[91:92] # Coding System for EOD Leng 1 \n",
    "lo_2nd_half['TUMOR_1V']=lo_2nd_half['all'].str[92:93] # Tumor Marker 1 Leng 1\n",
    "lo_2nd_half['TUMOR_2V']=lo_2nd_half['all'].str[93:94] # Tumor Marker 2 Leng 1\n",
    "lo_2nd_half['TUMOR_3V']=lo_2nd_half['all'].str[94:95] # Tumor Marker 3 Leng 1\n",
    "lo_2nd_half['CSTUMSIZ']=lo_2nd_half['all'].str[95:98] # CS Tumor Size Leng 3 \n",
    "lo_2nd_half['CSEXTEN']=lo_2nd_half['all'].str[98:101] # CS Extension Leng 3\n",
    "lo_2nd_half['CSLYMPHN']=lo_2nd_half['all'].str[101:104] # CS Lymph Nodes Leng 3\n",
    "lo_2nd_half['CSMETSDX']=lo_2nd_half['all'].str[104:106] # CS Mets at Dx Leng 2\n",
    "lo_2nd_half['CS1SITE']=lo_2nd_half['all'].str[106:109] # CS Site-Specific Factor 1 Leng 3\n",
    "lo_2nd_half['CS2SITE']=lo_2nd_half['all'].str[109:112] # CS Site-Specific Factor 2 Leng 3\n",
    "lo_2nd_half['CS3SITE']=lo_2nd_half['all'].str[112:115] # CS Site-Specific Factor 3 Leng 3\n",
    "lo_2nd_half['CS4SITE']=lo_2nd_half['all'].str[115:118] # CS Site-Specific Factor 4 Leng 3\n",
    "lo_2nd_half['CS5SITE']=lo_2nd_half['all'].str[118:121] # CS Site-Specific Factor 5 Leng 3\n"
   ]
  },
  {
   "cell_type": "code",
   "execution_count": 33,
   "metadata": {
    "collapsed": true
   },
   "outputs": [],
   "source": [
    "# Page 7 in description\n",
    "lo_2nd_half['CS6SITE']=lo_2nd_half['all'].str[121:124] # CS Site-Specific Factor 6 Leng 3\n",
    "lo_2nd_half['CS25SITE']=lo_2nd_half['all'].str[124:127] # CS Site-Specific Factor 25 Leng 3\n",
    "lo_2nd_half['DAJCCT']=lo_2nd_half['all'].str[127:129] # Derived AJCC T Leng 2\n",
    "lo_2nd_half['DAJCCN']=lo_2nd_half['all'].str[129:131] # Derived AJCC N Leng 2\n",
    "lo_2nd_half['DAJCCM']=lo_2nd_half['all'].str[131:133] # Derived AJCC M Leng 2\n",
    "lo_2nd_half['DAJCCSTG']=lo_2nd_half['all'].str[133:135] # Derived AJCC Stage Group Leng 2\n",
    "lo_2nd_half['DSS1977S']=lo_2nd_half['all'].str[135:136] # Derived SS1977 Leng 1\n",
    "lo_2nd_half['DSS2000S']=lo_2nd_half['all'].str[136:137] # Derived SS2000 Leng 1\n",
    "lo_2nd_half['DAJCCFL']=lo_2nd_half['all'].str[137:138] # Derived AJCC—Flag Leng 1\n",
    "lo_2nd_half['CSVFIRST']=lo_2nd_half['all'].str[140:146] # CCS Version Input Original Leng 6\n",
    "lo_2nd_half['CSVLATES']=lo_2nd_half['all'].str[146:152] # CS Version Derived Leng 6\n",
    "lo_2nd_half['CSVCURRENT']=lo_2nd_half['all'].str[152:158] # CS Version Input Current Leng 6\n",
    "lo_2nd_half['SURGPRIF']=lo_2nd_half['all'].str[158:160] # RX Summ—Surg Prim Site Leng 2\n",
    "lo_2nd_half['SURGSCOF']=lo_2nd_half['all'].str[160:161] # RX Summ—Scope Reg LN Sur Leng 1\n",
    "lo_2nd_half['SURGSITF']=lo_2nd_half['all'].str[161:162] # RX Summ—Surg Oth Reg/Dis Leng 1\n",
    "lo_2nd_half['NUMNODES']=lo_2nd_half['all'].str[162:164] # RX Summ—Reg LN Examined Leng 2\n",
    "lo_2nd_half['NO_SURG']=lo_2nd_half['all'].str[165:166] # Reason for no surgery Leng 1\n",
    "lo_2nd_half['SS_SURG']=lo_2nd_half['all'].str[169:171] # RX Summ—Surgery Type Leng 2\n",
    "lo_2nd_half['SURGSCOP']=lo_2nd_half['all'].str[173:174] # RX Summ—Scope Reg 98-02 Leng 1\n",
    "lo_2nd_half['SURGSITE']=lo_2nd_half['all'].str[174:175] # RX Summ—Surg Oth 98-02 Leng 1\n",
    "lo_2nd_half['REC_NO']=lo_2nd_half['all'].str[175:177] # SEER Record Number Leng 2\n",
    "lo_2nd_half['TYPE_FU']=lo_2nd_half['all'].str[190:191] # SEER Type of Follow-up Leng 1\n",
    "lo_2nd_half['AGE_1REC']=lo_2nd_half['all'].str[191:193] # Age Recode <1 Year olds Leng 2\n",
    "lo_2nd_half['SITERWHO']=lo_2nd_half['all'].str[198:203] # Site Recode ICD-O-3/WHO 2008 Leng 5\n",
    "lo_2nd_half['ICDOTO9V']=lo_2nd_half['all'].str[203:207] # Recode ICD-O-2 to 9 Leng 4\n",
    "lo_2nd_half['ICDOT10V']=lo_2nd_half['all'].str[207:211] # Recode ICD-O-2 to 10 Leng 4\n",
    "lo_2nd_half['ICCC3WHO']=lo_2nd_half['all'].str[217:220] # ICCC site recode ICD-O-3/WHO 2008 Leng 3\n",
    "lo_2nd_half['ICCC3XWHO']=lo_2nd_half['all'].str[220:223] # ICCC site rec extended ICD-O-3/WHO 2008 Leng 3\n",
    "lo_2nd_half['BEHTREND']=lo_2nd_half['all'].str[223:224] # Behavior Recode for Analysis Leng 1\n",
    "lo_2nd_half['HISTREC']=lo_2nd_half['all'].str[225:227] # Histology Recode—Broad Groupings Leng 2\n",
    "lo_2nd_half['HISTRECB']=lo_2nd_half['all'].str[227:229] # Histology Recode—Brain Groupings Leng 2\n",
    "lo_2nd_half['cs0204schema']=lo_2nd_half['all'].str[229:232] # CS Schema v0204+ Leng 3\n",
    "lo_2nd_half['RAC_RECA']=lo_2nd_half['all'].str[232:233] # Race recode (White, Black, Other) Leng 1\n",
    "lo_2nd_half['RAC_RECY']=lo_2nd_half['all'].str[233:234] # Race recode (W, B, AI, API) Leng 1\n",
    "lo_2nd_half['ORIGRECB']=lo_2nd_half['all'].str[234:235] # Origin recode NHIA (Hispanic, Non-Hisp) Leng 1\n",
    "lo_2nd_half['HST_STGA']=lo_2nd_half['all'].str[235:236] # SEER historic stage A Leng 1\n",
    "lo_2nd_half['AJCC_STG']=lo_2nd_half['all'].str[236:238] # AJCC stage 3rd edition (1988-2003) Leng 2\n",
    "lo_2nd_half['AJ_3SEER']=lo_2nd_half['all'].str[238:240] # SEER modified AJCC Stage 3rd ed (1988-2003) Leng 2\n",
    "lo_2nd_half['SSS77VZ']=lo_2nd_half['all'].str[240:241] #SEER Summary Stage 1977 (1995-2000) Leng 1\n",
    "lo_2nd_half['SSSM2KPZ']=lo_2nd_half['all'].str[241:242] # SEER Summary Stage 2000 (2001-2003) Leng 1"
   ]
  },
  {
   "cell_type": "code",
   "execution_count": 34,
   "metadata": {
    "collapsed": true
   },
   "outputs": [],
   "source": [
    "# Page 8 in description\n",
    "lo_2nd_half['FIRSTPRM']=lo_2nd_half['all'].str[244:245] # First malignant primary indicator Leng 1\n",
    "lo_2nd_half['ST_CNTY']=lo_2nd_half['all'].str[245:250] # State-county recode Leng 5\n",
    "lo_2nd_half['CODPUB']=lo_2nd_half['all'].str[254:259] # Cause of Death to SEER site recode Leng 5\n",
    "lo_2nd_half['CODPUBKM']=lo_2nd_half['all'].str[259:264] # COD to site rec KM Leng 5\n",
    "lo_2nd_half['STAT_REC']=lo_2nd_half['all'].str[264:265] # Vital Status recode Leng 1\n",
    "lo_2nd_half['IHSLINK']=lo_2nd_half['all'].str[265:266] # IHS Link Leng 1\n",
    "lo_2nd_half['SUMM2K']=lo_2nd_half['all'].str[266:267] # Summary stage 2000 (1998+) Leng 1\n",
    "lo_2nd_half['AYASITERWHO']=lo_2nd_half['all'].str[267:269] # AYA site recode/WHO 2008 Leng 2\n",
    "lo_2nd_half['LYMSUBRWHO']=lo_2nd_half['all'].str[269:271] # Lymphoma subtype recode/WHO 2008 Leng 2\n",
    "lo_2nd_half['VSRTSADX']=lo_2nd_half['all'].str[271:272] # SEER Cause-Specific Death Classification Leng 1\n",
    "lo_2nd_half['ODTHCLASS']=lo_2nd_half['all'].str[272:273] # SEER Other Cause of Death Classification Leng 1\n",
    "lo_2nd_half['CSTSEVAL']=lo_2nd_half['all'].str[273:274] # CS Tumor Size/Ext Eval Leng 1\n",
    "lo_2nd_half['CSRGEVAL']=lo_2nd_half['all'].str[274:275] # CS Lymph Nodes Eval Leng 1\n",
    "lo_2nd_half['CSMTEVAL']=lo_2nd_half['all'].str[275:276] # CS Mets Eval Leng 1\n",
    "lo_2nd_half['intprim']=lo_2nd_half['all'].str[276:277] # Primary by international rules Leng 1\n",
    "lo_2nd_half['erstatus']=lo_2nd_half['all'].str[277:278] # ER Status Recode Breast Cancer (1990+) Leng 1\n",
    "lo_2nd_half['prstatus']=lo_2nd_half['all'].str[278:279] # PR Status Recode Breast Cancer (1990+) Leng 1\n",
    "lo_2nd_half['csschema']=lo_2nd_half['all'].str[279:281] # CS Schema -AJCC 6th ed (previously called v1) Leng 2\n",
    "lo_2nd_half['CS8SITE']=lo_2nd_half['all'].str[281:284] # CS Site-Specific Factor 8 Leng 3\n",
    "lo_2nd_half['CS10SITE']=lo_2nd_half['all'].str[284:287] # CS Site-Specific Factor 10 Leng 3\n",
    "lo_2nd_half['CS11SITE']=lo_2nd_half['all'].str[287:290] # CS Site-Specific Factor 11 Leng 3\n",
    "lo_2nd_half['CS13SITE']=lo_2nd_half['all'].str[290:293] # CS Site-Specific Factor 13 Leng 3\n",
    "lo_2nd_half['CS15SITE']=lo_2nd_half['all'].str[293:296] # CS Site-Specific Factor 15 Leng 3\n",
    "lo_2nd_half['CS16SITE']=lo_2nd_half['all'].str[296:299] # CS Site-Specific Factor 16 Leng 3\n",
    "lo_2nd_half['VASINV']=lo_2nd_half['all'].str[299:300] # Lymph vascular invasion Leng 1\n",
    "lo_2nd_half['srv_time_mon']=lo_2nd_half['all'].str[300:304] # Survival months Leng 4\n",
    "lo_2nd_half['srv_time_mon_flag']=lo_2nd_half['all'].str[304:305] # Survival months flag Leng 1\n",
    "lo_2nd_half['INSREC_PUB']=lo_2nd_half['all'].str[310:311] # Insurance recode (2007+) Leng 1\n",
    "lo_2nd_half['DAJCC7T']=lo_2nd_half['all'].str[311:314] # Derived AJCC-7 T Leng 3\n",
    "lo_2nd_half['DAJCC7N']=lo_2nd_half['all'].str[314:317] # Derived AJCC-7 N Leng 3\n",
    "lo_2nd_half['DAJCC7M']=lo_2nd_half['all'].str[317:320] # Derived AJCC-7 M  Leng 3\n",
    "lo_2nd_half['DAJCC7STG']=lo_2nd_half['all'].str[320:323] # Derived AJCC-7 Stage Grp Leng 3\n",
    "lo_2nd_half['ADJTM_6VALUE']=lo_2nd_half['all'].str[323:325] # Breast Adjusted AJCC 6th T (1988+) Leng 2\n",
    "lo_2nd_half['ADJNM_6VALUE']=lo_2nd_half['all'].str[325:327] # Breast Adjusted AJCC 6th N (1988+) Leng 2\n",
    "lo_2nd_half['ADJM_6VALUE']=lo_2nd_half['all'].str[327:329] # Breast Adjusted AJCC 6th M (1988+) Leng 2\n",
    "lo_2nd_half['ADJAJCCSTG']=lo_2nd_half['all'].str[329:331] # Breast Adjusted AJCC 6th Stage (1988+) Leng 2\n",
    "lo_2nd_half['CS7SITE']=lo_2nd_half['all'].str[331:334] # CS Site-Specific Factor 7 Leng 3\n",
    "lo_2nd_half['CS9SITE']=lo_2nd_half['all'].str[334:337] # CS Site-Specific Factor 9 Leng 3\n",
    "lo_2nd_half['CS12SITE']=lo_2nd_half['all'].str[337:340] # CS Site-Specific Factor 12 Leng 3\n",
    "lo_2nd_half['her2']=lo_2nd_half['all'].str[340:341] # Derived HER2 Recode (2010+) Leng 1\n"
   ]
  },
  {
   "cell_type": "code",
   "execution_count": 35,
   "metadata": {
    "collapsed": true
   },
   "outputs": [],
   "source": [
    "# Page 9 Introduction\n",
    "lo_2nd_half['brst_sub']=lo_2nd_half['all'].str[341:342] # Breast Subtype (2010+) Leng 1\n",
    "lo_2nd_half['ANNARBOR']=lo_2nd_half['all'].str[347:348] # Lymphomas: Ann Arbor Staging (1983+) Leng 1\n",
    "lo_2nd_half['CSMETSDXB_PUB']=lo_2nd_half['all'].str[348:349] # CS Mets at Dx-Bone Leng 1\n",
    "lo_2nd_half['CSMETSDXBR_PUB']=lo_2nd_half['all'].str[349:350] # CS Mets at Dx-Brain Leng 1\n",
    "lo_2nd_half['CSMETSDXLIV_PUB']=lo_2nd_half['all'].str[350:351] # CS Mets at Dx-Liver Leng 1\n",
    "lo_2nd_half['CSMETSDXLUNG_PUB']=lo_2nd_half['all'].str[351:352] # CS Mets at Dx-Lung Leng 1\n",
    "lo_2nd_half['T_VALUE']=lo_2nd_half['all'].str[352:354] # T value - based on AJCC 3rd (1988-2003) Leng 2\n",
    "lo_2nd_half['N_VALUE']=lo_2nd_half['all'].str[354:356] # N value - based on AJCC 3rd (1988-2003) Leng 2\n",
    "lo_2nd_half['M_VALUE']=lo_2nd_half['all'].str[356:358] # M value - based on AJCC 3rd (1988-2003) Leng 2\n",
    "lo_2nd_half['MALIGCOUNT']=lo_2nd_half['all'].str[358:360] # Total Number of In Situ/malignant Tumors for Patient Leng 2\n",
    "lo_2nd_half['BENBORDCOUNT']=lo_2nd_half['all'].str[360:362] #Total Number of Benign/Borderline Tumors for Patient Leng 2"
   ]
  },
  {
   "cell_type": "code",
   "execution_count": 36,
   "metadata": {
    "collapsed": true,
    "scrolled": true
   },
   "outputs": [],
   "source": [
    "lo_2nd_half=lo_2nd_half.replace('_', np.nan)"
   ]
  },
  {
   "cell_type": "code",
   "execution_count": 37,
   "metadata": {
    "collapsed": true
   },
   "outputs": [],
   "source": [
    "lo_2nd_half=lo_2nd_half.replace('__', np.nan)"
   ]
  },
  {
   "cell_type": "code",
   "execution_count": 38,
   "metadata": {
    "collapsed": true
   },
   "outputs": [],
   "source": [
    "lo_2nd_half=lo_2nd_half.replace('___', np.nan)"
   ]
  },
  {
   "cell_type": "code",
   "execution_count": 39,
   "metadata": {
    "collapsed": true
   },
   "outputs": [],
   "source": [
    "lo_2nd_half = lo_2nd_half[vars_to_keep]"
   ]
  },
  {
   "cell_type": "markdown",
   "metadata": {},
   "source": [
    "# Concat 4 dfs"
   ]
  },
  {
   "cell_type": "code",
   "execution_count": 40,
   "metadata": {
    "collapsed": true
   },
   "outputs": [],
   "source": [
    "frames = [seer9, sj_la_rg_ak, ca_ky_lo_nj_ga, lo_2nd_half]\n",
    "\n",
    "df = pd.concat(frames)"
   ]
  },
  {
   "cell_type": "code",
   "execution_count": 42,
   "metadata": {
    "collapsed": true
   },
   "outputs": [],
   "source": [
    "drop=['CS8SITE','CS10SITE', 'CS11SITE', 'CS13SITE', 'CS16SITE','CS9SITE','CS12SITE']\n",
    "df=df.drop(drop,axis=1)"
   ]
  },
  {
   "cell_type": "code",
   "execution_count": 43,
   "metadata": {
    "collapsed": true
   },
   "outputs": [],
   "source": [
    "df.to_csv('whole_list.csv')"
   ]
  },
  {
   "cell_type": "markdown",
   "metadata": {},
   "source": [
    "# Read output csv and work on it"
   ]
  },
  {
   "cell_type": "code",
   "execution_count": 1,
   "metadata": {
    "collapsed": true
   },
   "outputs": [],
   "source": [
    "import pandas as pd\n",
    "import numpy as np\n",
    "pd.options.display.max_colwidth = 390"
   ]
  },
  {
   "cell_type": "code",
   "execution_count": 2,
   "metadata": {
    "collapsed": true
   },
   "outputs": [],
   "source": [
    "df=pd.read_csv(\"whole_list.csv\")"
   ]
  },
  {
   "cell_type": "code",
   "execution_count": 3,
   "metadata": {
    "collapsed": true
   },
   "outputs": [],
   "source": [
    "df.drop('Unnamed: 0', axis=1,inplace=True)"
   ]
  },
  {
   "cell_type": "code",
   "execution_count": 4,
   "metadata": {
    "collapsed": true
   },
   "outputs": [],
   "source": [
    "df[['CSTUMSIZ','CSEXTEN','CSLYMPHN',\n",
    "    'CSMETSDX','CS1SITE','CS2SITE',\n",
    "    'CS3SITE','CS4SITE','CS5SITE',\n",
    "    'CS6SITE','CS25SITE', 'CS15SITE',\n",
    "    'CS7SITE']] = df[['CSTUMSIZ','CSEXTEN','CSLYMPHN',\n",
    "                      'CSMETSDX','CS1SITE','CS2SITE',\n",
    "                      'CS3SITE','CS4SITE','CS5SITE',\n",
    "                      'CS6SITE','CS25SITE', 'CS15SITE',\n",
    "                      'CS7SITE']].fillna(value=0)"
   ]
  },
  {
   "cell_type": "code",
   "execution_count": 5,
   "metadata": {
    "collapsed": true
   },
   "outputs": [],
   "source": [
    "df[['DAJCCT','DAJCCN','DAJCCM','DAJCCSTG']]=df[['DAJCCT','DAJCCN','DAJCCM','DAJCCSTG']].fillna(value=88)\n"
   ]
  },
  {
   "cell_type": "code",
   "execution_count": 6,
   "metadata": {
    "collapsed": true
   },
   "outputs": [],
   "source": [
    "df[['DSS1977S','DSS2000S']]=df[['DSS1977S','DSS2000S']].fillna(value=8) "
   ]
  },
  {
   "cell_type": "code",
   "execution_count": 7,
   "metadata": {
    "collapsed": true
   },
   "outputs": [],
   "source": [
    "df[['DAJCCFL']]=df[['DAJCCFL']].fillna(value=0)"
   ]
  },
  {
   "cell_type": "code",
   "execution_count": 8,
   "metadata": {
    "collapsed": true
   },
   "outputs": [],
   "source": [
    "df[['DAJCC7T','DAJCC7N','DAJCC7M','DAJCC7STG']]=df[['DAJCC7T','DAJCC7N','DAJCC7M','DAJCC7STG']].fillna(value=888)"
   ]
  },
  {
   "cell_type": "code",
   "execution_count": 9,
   "metadata": {
    "collapsed": true
   },
   "outputs": [],
   "source": [
    "df[['CSMETSDXB_PUB',\n",
    "    'CSMETSDXBR_PUB',\n",
    "    'CSMETSDXLIV_PUB',\n",
    "    'CSMETSDXLUNG_PUB']]=df[['CSMETSDXB_PUB',\n",
    "                             'CSMETSDXBR_PUB',\n",
    "                             'CSMETSDXLIV_PUB',\n",
    "                             'CSMETSDXLUNG_PUB']].fillna(value=8)"
   ]
  },
  {
   "cell_type": "markdown",
   "metadata": {},
   "source": [
    "# Transform and recode"
   ]
  },
  {
   "cell_type": "code",
   "execution_count": 10,
   "metadata": {
    "collapsed": true
   },
   "outputs": [],
   "source": [
    "#MAR_STAT\n",
    "'''\n",
    "1\tSingle (never married) \n",
    "2\tMarried (including common law) \n",
    "3\tSeparated \n",
    "4\tDivorced \n",
    "5\tWidowed \n",
    "6\tUnmarried or domestic partner (same sex or opposite sex or unregistered) \n",
    "9\tUnknown \n",
    "'''\n",
    "df['MAR_STAT'] = df['MAR_STAT'].map({1: 'Single', 2: 'Married',3:'Separated', 4:'Divorced',\n",
    "                                     5:'Widowed', 6:'Unmarried',9:'Unknown'})\n"
   ]
  },
  {
   "cell_type": "code",
   "execution_count": 11,
   "metadata": {
    "collapsed": true
   },
   "outputs": [],
   "source": [
    "#RACE1V\n",
    "'''\n",
    "1\tWhite \n",
    "2\tBlack \n",
    "3\tAmerican Indian, Aleutian, Alaskan Native or Eskimo (includes all indigenous populations of the Western hemisphere) \n",
    "4\tChinese \n",
    "5\tJapanese \n",
    "6\tFilipino \n",
    "7\tHawaiian \n",
    "8\tKorean (Effective with 1/1/1988 dx) \n",
    "10\tVietnamese (Effective with 1/1/1988 dx) \n",
    "11\tLaotian (Effective with 1/1/1988 dx) \n",
    "12\tHmong (Effective with 1/1/1988 dx) \n",
    "13\tKampuchean (including Khmer and Cambodian) (Effective with 1/1/1988 dx) \n",
    "14\tThai (Effective with 1/1/1994 dx) \n",
    "15\tAsian Indian or Pakistani, NOS (Effective with 1/1/1988 dx) \n",
    "16\tAsian Indian (Effective with 1/1/2010 dx) \n",
    "17\tPakistani (Effective with 1/1/2010 dx) \n",
    "20\tMicronesian, NOS (Effective with 1/1/1991) \n",
    "21\tChamorran (Effective with 1/1/1991 dx) \n",
    "22\tGuamanian, NOS (Effective with 1/1/1991 dx) \n",
    "25\tPolynesian, NOS (Effective with 1/1/1991 dx) \n",
    "26\tTahitian (Effective with 1/1/1991 dx) \n",
    "27\tSamoan (Effective with 1/1/1991 dx) \n",
    "28\tTongan (Effective with 1/1/1991 dx) \n",
    "30\tMelanesian, NOS (Effective with 1/1/1991 dx) \n",
    "31\tFiji Islander (Effective with 1/1/1991 dx) \n",
    "32\tNew Guinean (Effective with 1/1/1991 dx) \n",
    "96\tOther Asian, including Asian, NOS and Oriental, NOS (Effective with 1/1/1991 dx) \n",
    "97\tPacific Islander, NOS (Effective with 1/1/1991 dx) \n",
    "98\tOther \n",
    "99\tUnknown\n",
    "''' \n",
    "df['RACE1V'] = df['RACE1V'].map({1: 'White', 2: 'Black',3:'Indigenous', 4:'Chinese',5:'Japanese', 6:'Filipino',\n",
    "                                 7:'Hawaiian',8: 'Korean',10: 'Vietnamese',11:'Laotian', 12:'Hmong',13:'Kampuchean',\n",
    "                                 14:'Thai',15:'Asian Indian or Pakistani',16: 'Asian Indian', 17: 'Pakistani',\n",
    "                                 20:'Micronesian', 21:'Chamorran',22:'Guamanian',25:'Polynesian',26:'Tahitian',\n",
    "                                 27: 'Samoan',28: 'Tongan',30:'Melanesian',31:'Fiji_Islander',32:'New_Guinean',\n",
    "                                 96:'Other Asian',97:'Pacific_Islander',98: 'Other', 99: 'Unknown'})\n"
   ]
  },
  {
   "cell_type": "code",
   "execution_count": 12,
   "metadata": {
    "collapsed": true
   },
   "outputs": [],
   "source": [
    "#SEX\n",
    "'''\n",
    "1\tMale\n",
    "2\tFemale\n",
    "'''\n",
    "\n",
    "df['SEX'] = df['SEX'].map({1: 'Male', 2: 'Female'})"
   ]
  },
  {
   "cell_type": "code",
   "execution_count": 13,
   "metadata": {
    "collapsed": true
   },
   "outputs": [],
   "source": [
    "#AGE_DX\n",
    "'''\n",
    "000-130\tActual Age in Years\n",
    "999\tUnknown just deleted\n",
    "'''\n",
    "bins = [0,10,20,30,40,50,60,70,80,90,130,999]\n",
    "bin_names = ['<10' ,'<20','<30','<40','<50' ,'<60','<70','<80','<90','<130','Unknown']\n"
   ]
  },
  {
   "cell_type": "code",
   "execution_count": 14,
   "metadata": {
    "collapsed": true
   },
   "outputs": [],
   "source": [
    "df['AGE_DX'] = pd.cut(df['AGE_DX'], bins, right = True, labels=bin_names)"
   ]
  },
  {
   "cell_type": "code",
   "execution_count": 15,
   "metadata": {
    "collapsed": true
   },
   "outputs": [],
   "source": [
    "df[\"AGE_DX\"] = df[\"AGE_DX\"].astype('object')"
   ]
  },
  {
   "cell_type": "code",
   "execution_count": 16,
   "metadata": {
    "collapsed": true
   },
   "outputs": [],
   "source": [
    "#PRIMSITE\n",
    "'''\n",
    "     C50.0    Nipple\n",
    "     C50.1    Central portion of breast\n",
    "     C50.2    Upper-inner quadrant of breast\n",
    "     C50.3    Lower-inner quadrant of breast\n",
    "     C50.4    Upper-outer quadrant of breast\n",
    "     C50.5    Lower-outer quadrant of breast\n",
    "     C50.6    Axillary tail of breast\n",
    "     C50.8    Overlapping lesion of breast\n",
    "     C50.9    Breast, NOS\n",
    "'''\n",
    "\n",
    "df['PRIMSITE'] = df['PRIMSITE'].map({'C500': 'Nipple', 'C501': 'Central portion','C502': 'Upper-inner quadrant',\n",
    "                                     'C503': 'Lower-inner quadrant','C504': 'Upper-outer quadrant',\n",
    "                                     'C505': 'Lower-outer quadrant','C506': 'Axillary tail',\n",
    "                                     'C508': 'Overlapping lesion', 'C509': 'Breast, NOS'})"
   ]
  },
  {
   "cell_type": "code",
   "execution_count": 17,
   "metadata": {
    "collapsed": true
   },
   "outputs": [],
   "source": [
    "#LATERAL\n",
    "'''\n",
    "0 Not a paired site\n",
    "1 Right: origin of primary\n",
    "2 Left: origin of primary\n",
    "3 Only one side involved, right or left origin unspecified\n",
    "4 Bilateral involvement, lateral origin unknown; stated to be single primary\n",
    "    • Both ovaries involved simultaneously, single histology\n",
    "    • Bilateral retinoblastomas\n",
    "    • Bilateral Wilms’s tumors\n",
    "5 Paired site: midline tumor\n",
    "9 Paired site, but no information concerning laterality; midline tumor\n",
    "'''\n",
    "df['LATERAL'] = df['LATERAL'].map({0: 'Not_a_paired_site', 1: 'Right',2:'Left', 3:'Only_one_side',4:'Bilateral involvement',\n",
    "                                   5:'Paired site: midline_tumor',9:'Paired site_no_info'})"
   ]
  },
  {
   "cell_type": "code",
   "execution_count": 18,
   "metadata": {},
   "outputs": [
    {
     "data": {
      "text/plain": [
       "8500    1133846\n",
       "8520     146807\n",
       "8522      87947\n",
       "8501      37481\n",
       "8010      33384\n",
       "8480      29542\n",
       "8140      28487\n",
       "8201      22075\n",
       "8000      14066\n",
       "8230      13846\n",
       "8211      13663\n",
       "8503      11397\n",
       "8510      11121\n",
       "8530       8692\n",
       "8050       4608\n",
       "8541       4571\n",
       "8401       3479\n",
       "8543       3331\n",
       "8141       3108\n",
       "9020       2836\n",
       "8504       2771\n",
       "8521       1791\n",
       "8540       1529\n",
       "8260       1200\n",
       "8200       1093\n",
       "8481       1058\n",
       "9120        645\n",
       "8070        618\n",
       "8490        614\n",
       "8512        384\n",
       "         ...   \n",
       "8145          1\n",
       "8147          1\n",
       "8896          1\n",
       "9170          1\n",
       "9181          1\n",
       "8803          1\n",
       "9182          1\n",
       "9231          1\n",
       "8901          1\n",
       "9581          1\n",
       "8910          1\n",
       "9500          1\n",
       "9183          1\n",
       "9100          1\n",
       "9071          1\n",
       "8451          1\n",
       "8511          1\n",
       "8100          1\n",
       "8403          1\n",
       "9044          1\n",
       "8002          1\n",
       "8407          1\n",
       "9400          1\n",
       "8380          1\n",
       "8963          1\n",
       "9364          1\n",
       "8340          1\n",
       "8110          1\n",
       "8950          1\n",
       "8076          1\n",
       "Name: HISTO2V, Length: 166, dtype: int64"
      ]
     },
     "execution_count": 18,
     "metadata": {},
     "output_type": "execute_result"
    }
   ],
   "source": [
    "df['HISTO2V'].value_counts()"
   ]
  },
  {
   "cell_type": "code",
   "execution_count": 19,
   "metadata": {
    "collapsed": true
   },
   "outputs": [],
   "source": [
    "#HISTO2V\n",
    "'''\n",
    "8000\tNeoplasms\n",
    "8050\tSquamous cell neoplasms\n",
    "8090\tBasal cell neoplasms\n",
    "8120\tTransitional cell papillomas and carcinomas\n",
    "8140\tAdenomas and adenocarcinomas\n",
    "8390\tAdnexal and skin appendage neoplasms\n",
    "8430\tMucoepidermoid neoplasms\n",
    "8440\tCystic, mucinous and serous neoplasms\n",
    "8500\tDuctal and lobular neoplasms\n",
    "8550\tAcinar cell neoplasms\n",
    "8560\tComplex epithelial neoplasms\n",
    "8580\tThymic epithelial neoplasms\n",
    "8590\tSpecialized gonadal neoplasms\n",
    "8680\tParagangliomas and glomus tumors\n",
    "8720\tNevi and melanomas\n",
    "8800\tSoft tissue tumors and sarcomas, NOS\n",
    "8810\tFibromatous neoplasms\n",
    "8840\tMyxomatous neoplasms\n",
    "8850\tLipomatous neoplasms\n",
    "8890\tMyomatous neoplasms\n",
    "8930\tComplex mixed and stromal neoplasms\n",
    "9000\tFibroepithelial neoplasms\n",
    "9040\tSynovial-like neoplasms\n",
    "9050\tMesothelial neoplasms\n",
    "9060\tGerm cell neoplasms\n",
    "9100\tTrophoblastic neoplasms\n",
    "9110\tMesonephromas\n",
    "9120\tBlood vessel tumors\n",
    "9170\tLymphatic vessel tumors\n",
    "9180\tOsseous and chondromatous neoplasms\n",
    "9250\tGiant cell tumors\n",
    "9260\tMiscellaneous bone tumors\n",
    "9270\tOdontogenic tumors\n",
    "9350\tMiscellaneous tumors\n",
    "9380\tGliomas\n",
    "9490\tNeuroepitheliomatous neoplasms\n",
    "9530\tMeningiomas\n",
    "9540\tNerve sheath tumors\n",
    "9580\tGranular cell tumors and alveolar soft part sarcomas\n",
    "9590\tHodgkin and nonHodgkin lymphomas\n",
    "9730\tPlasma cell tumors\n",
    "9740\tMast cell tumors\n",
    "9750\tNeoplasms of histiocytes and accessory lymphoid cells\n",
    "9760\tImmunoproliferative diseases\n",
    "9800\tLeukemias\n",
    "9950\tChronic myeloproliferative disorders\n",
    "9970\tOther hematologic disorders\n",
    "9980\tMyelodysplastic syndromes\n",
    "'''\n",
    "bins=[8000,8050,8090,8120,8140,8390,8430,8440,8500,8550,8560,8580,8590,\n",
    "      8680,8720,8800,8810,8840,8850,8890,8930,9000,9040,9050,9060,9100,\n",
    "      9110,9120,9170,9180,9250,9260,9270,9350,9380,9490,9530,9540,9580,\n",
    "      9590,9730,9740,9750,9760,9800,9950,9970,9980,10000]\n",
    "bin_names=['Neoplasms','Squamous cell neoplasms','Basal cell neoplasms',\n",
    "      'Transitional cell papillomas and carcinomas',\n",
    "      'Adenomas and adenocarcinomas',\n",
    "      'Adnexal and skin appendage neoplasms','Mucoepidermoid neoplasms',\n",
    "      'Cystic, mucinous and serous neoplasms',\n",
    "      'Ductal and lobular neoplasms','Acinar cell neoplasms',\n",
    "      'Complex epithelial neoplasms','Thymic epithelial neoplasms',\n",
    "      'Specialized gonadal neoplasms',\n",
    "      'Paragangliomas and glomus tumors','Nevi and melanomas',\n",
    "      'Soft tissue tumors and sarcomas, NOS','Fibromatous neoplasms',\n",
    "      'Myxomatous neoplasms','Lipomatous neoplasms','Myomatous neoplasms',\n",
    "      'Complex mixed and stromal neoplasms','Fibroepithelial neoplasms',\n",
    "      'Synovial-like neoplasms','Mesothelial neoplasms',\n",
    "      'Germ cell neoplasms','Trophoblastic neoplasms','Mesonephromas',\n",
    "      'Blood vessel tumors','Lymphatic vessel tumors',\n",
    "      'Osseous and chondromatous neoplasms','Giant cell tumors',\n",
    "      'Miscellaneous bone tumors','Odontogenic tumors',\n",
    "      'Miscellaneous tumors','Gliomas','Neuroepitheliomatous neoplasms',\n",
    "      'Meningiomas','Nerve sheath tumors',\n",
    "      'Granular cell tumors and alveolar soft part sarcomas',\n",
    "      'Hodgkin and nonHodgkin lymphomas','Plasma cell tumors',\n",
    "      'Mast cell tumors',\n",
    "      'Neoplasms of histiocytes and accessory lymphoid cells',\n",
    "      'Immunoproliferative diseases','Leukemias',\n",
    "      'Chronic myeloproliferative disorders',\n",
    "      'Other hematologic disorders','Myelodysplastic syndromes']\n",
    "\n",
    "\n",
    "\n"
   ]
  },
  {
   "cell_type": "code",
   "execution_count": 20,
   "metadata": {
    "collapsed": true
   },
   "outputs": [],
   "source": [
    "df['HISTO2V'] = pd.cut(df['HISTO2V'], bins, right = False, labels=bin_names)"
   ]
  },
  {
   "cell_type": "code",
   "execution_count": 21,
   "metadata": {
    "collapsed": true
   },
   "outputs": [],
   "source": [
    "df[\"HISTO2V\"] = df[\"HISTO2V\"].astype('object')"
   ]
  },
  {
   "cell_type": "code",
   "execution_count": 22,
   "metadata": {},
   "outputs": [
    {
     "data": {
      "text/plain": [
       "Ductal and lobular neoplasms                            1451887\n",
       "Adenomas and adenocarcinomas                              84230\n",
       "Neoplasms                                                 49460\n",
       "Cystic, mucinous and serous neoplasms                     31263\n",
       "Squamous cell neoplasms                                    5384\n",
       "Adnexal and skin appendage neoplasms                       3488\n",
       "Fibroepithelial neoplasms                                  2836\n",
       "Complex epithelial neoplasms                                883\n",
       "Blood vessel tumors                                         654\n",
       "Complex mixed and stromal neoplasms                         558\n",
       "Soft tissue tumors and sarcomas, NOS                        355\n",
       "Fibromatous neoplasms                                       192\n",
       "Myomatous neoplasms                                         102\n",
       "Lipomatous neoplasms                                         71\n",
       "Osseous and chondromatous neoplasms                          63\n",
       "Acinar cell neoplasms                                        57\n",
       "Transitional cell papillomas and carcinomas                  27\n",
       "Nevi and melanomas                                           16\n",
       "Granular cell tumors and alveolar soft part sarcomas         10\n",
       "Mucoepidermoid neoplasms                                      9\n",
       "Basal cell neoplasms                                          6\n",
       "Synovial-like neoplasms                                       5\n",
       "Gliomas                                                       3\n",
       "Miscellaneous bone tumors                                     3\n",
       "Nerve sheath tumors                                           2\n",
       "Myxomatous neoplasms                                          2\n",
       "Trophoblastic neoplasms                                       1\n",
       "Miscellaneous tumors                                          1\n",
       "Specialized gonadal neoplasms                                 1\n",
       "Germ cell neoplasms                                           1\n",
       "Neuroepitheliomatous neoplasms                                1\n",
       "Lymphatic vessel tumors                                       1\n",
       "Name: HISTO2V, dtype: int64"
      ]
     },
     "execution_count": 22,
     "metadata": {},
     "output_type": "execute_result"
    }
   ],
   "source": [
    "df[\"HISTO2V\"].value_counts()"
   ]
  },
  {
   "cell_type": "code",
   "execution_count": 21,
   "metadata": {
    "collapsed": true
   },
   "outputs": [],
   "source": [
    "#BEHO2V\n",
    "'''\n",
    "0\tBenign (Reportable for intracranial and CNS sites only) \n",
    "1\tUncertain whether benign or malignant, borderline malignancy, low malignant potential, and uncertain malignant potential (Reportable for intracranial and CNS sites only) \n",
    "2\tCarcinoma in situ; intraepithelial; noninfiltrating; noninvasive \n",
    "3\tMalignant, primary site (invasive) \n",
    "'''\n",
    "df['BEHO2V'] = df['BEHO2V'].map({0: 'Benign', 1: 'Uncertain',2:'Carcinoma in situ', 3:'Malignant, primary site'})\n"
   ]
  },
  {
   "cell_type": "code",
   "execution_count": 22,
   "metadata": {
    "collapsed": true
   },
   "outputs": [],
   "source": [
    "#HISTO3V\n",
    "'''\n",
    "8000\tNeoplasms\n",
    "8050\tSquamous cell neoplasms\n",
    "8090\tBasal cell neoplasms\n",
    "8120\tTransitional cell papillomas and carcinomas\n",
    "8140\tAdenomas and adenocarcinomas\n",
    "8390\tAdnexal and skin appendage neoplasms\n",
    "8430\tMucoepidermoid neoplasms\n",
    "8440\tCystic, mucinous and serous neoplasms\n",
    "8500\tDuctal and lobular neoplasms\n",
    "8550\tAcinar cell neoplasms\n",
    "8560\tComplex epithelial neoplasms\n",
    "8580\tThymic epithelial neoplasms\n",
    "8590\tSpecialized gonadal neoplasms\n",
    "8680\tParagangliomas and glomus tumors\n",
    "8720\tNevi and melanomas\n",
    "8800\tSoft tissue tumors and sarcomas, NOS\n",
    "8810\tFibromatous neoplasms\n",
    "8840\tMyxomatous neoplasms\n",
    "8850\tLipomatous neoplasms\n",
    "8890\tMyomatous neoplasms\n",
    "8930\tComplex mixed and stromal neoplasms\n",
    "9000\tFibroepithelial neoplasms\n",
    "9040\tSynovial-like neoplasms\n",
    "9050\tMesothelial neoplasms\n",
    "9060\tGerm cell neoplasms\n",
    "9100\tTrophoblastic neoplasms\n",
    "9110\tMesonephromas\n",
    "9120\tBlood vessel tumors\n",
    "9170\tLymphatic vessel tumors\n",
    "9180\tOsseous and chondromatous neoplasms\n",
    "9250\tGiant cell tumors\n",
    "9260\tMiscellaneous bone tumors\n",
    "9270\tOdontogenic tumors\n",
    "9350\tMiscellaneous tumors\n",
    "9380\tGliomas\n",
    "9490\tNeuroepitheliomatous neoplasms\n",
    "9530\tMeningiomas\n",
    "9540\tNerve sheath tumors\n",
    "9580\tGranular cell tumors and alveolar soft part sarcomas\n",
    "9590\tHodgkin and nonHodgkin lymphomas\n",
    "9730\tPlasma cell tumors\n",
    "9740\tMast cell tumors\n",
    "9750\tNeoplasms of histiocytes and accessory lymphoid cells\n",
    "9760\tImmunoproliferative diseases\n",
    "9800\tLeukemias\n",
    "9950\tChronic myeloproliferative disorders\n",
    "9970\tOther hematologic disorders\n",
    "9980\tMyelodysplastic syndromes\n",
    "'''\n",
    "bins=[8000,8050,8090,8120,8140,8390,8430,8440,8500,8550,8560,8580,8590,\n",
    "      8680,8720,8800,8810,8840,8850,8890,8930,9000,9040,9050,9060,9100,\n",
    "      9110,9120,9170,9180,9250,9260,9270,9350,9380,9490,9530,9540,9580,\n",
    "      9590,9730,9740,9750,9760,9800,9950,9970,9980,10000]\n",
    "bin_names=['Neoplasms','Squamous cell neoplasms','Basal cell neoplasms',\n",
    "      'Transitional cell papillomas and carcinomas',\n",
    "      'Adenomas and adenocarcinomas',\n",
    "      'Adnexal and skin appendage neoplasms','Mucoepidermoid neoplasms',\n",
    "      'Cystic, mucinous and serous neoplasms',\n",
    "      'Ductal and lobular neoplasms','Acinar cell neoplasms',\n",
    "      'Complex epithelial neoplasms','Thymic epithelial neoplasms',\n",
    "      'Specialized gonadal neoplasms',\n",
    "      'Paragangliomas and glomus tumors','Nevi and melanomas',\n",
    "      'Soft tissue tumors and sarcomas, NOS','Fibromatous neoplasms',\n",
    "      'Myxomatous neoplasms','Lipomatous neoplasms','Myomatous neoplasms',\n",
    "      'Complex mixed and stromal neoplasms','Fibroepithelial neoplasms',\n",
    "      'Synovial-like neoplasms','Mesothelial neoplasms',\n",
    "      'Germ cell neoplasms','Trophoblastic neoplasms','Mesonephromas',\n",
    "      'Blood vessel tumors','Lymphatic vessel tumors',\n",
    "      'Osseous and chondromatous neoplasms','Giant cell tumors',\n",
    "      'Miscellaneous bone tumors','Odontogenic tumors',\n",
    "      'Miscellaneous tumors','Gliomas','Neuroepitheliomatous neoplasms',\n",
    "      'Meningiomas','Nerve sheath tumors',\n",
    "      'Granular cell tumors and alveolar soft part sarcomas',\n",
    "      'Hodgkin and nonHodgkin lymphomas','Plasma cell tumors',\n",
    "      'Mast cell tumors',\n",
    "      'Neoplasms of histiocytes and accessory lymphoid cells',\n",
    "      'Immunoproliferative diseases','Leukemias',\n",
    "      'Chronic myeloproliferative disorders',\n",
    "      'Other hematologic disorders','Myelodysplastic syndromes']\n"
   ]
  },
  {
   "cell_type": "code",
   "execution_count": 23,
   "metadata": {
    "collapsed": true
   },
   "outputs": [],
   "source": [
    "df['HISTO3V'] = pd.cut(df['HISTO3V'], bins, right = False, labels=bin_names)"
   ]
  },
  {
   "cell_type": "code",
   "execution_count": 24,
   "metadata": {
    "collapsed": true
   },
   "outputs": [],
   "source": [
    "df[\"HISTO3V\"] = df[\"HISTO3V\"].astype('object')"
   ]
  },
  {
   "cell_type": "code",
   "execution_count": 25,
   "metadata": {
    "collapsed": true
   },
   "outputs": [],
   "source": [
    "#BEHO3V\n",
    "'''\n",
    "0\tBenign (Reportable for intracranial and CNS sites only) \n",
    "1\tUncertain whether benign or malignant, borderline malignancy, low malignant potential, and uncertain malignant potential (Reportable for intracranial and CNS sites only) \n",
    "2\tCarcinoma in situ; intraepithelial; noninfiltrating; noninvasive \n",
    "3\tMalignant, primary site (invasive) \n",
    "'''\n",
    "df['BEHO3V'] = df['BEHO3V'].map({0: 'Benign', 1: 'Uncertain',2:'Carcinoma in situ', 3:'Malignant, primary site'})"
   ]
  },
  {
   "cell_type": "code",
   "execution_count": 26,
   "metadata": {
    "collapsed": true
   },
   "outputs": [],
   "source": [
    "#GRADE\n",
    "'''\n",
    "1\tGrade I; grade i; grade 1; well differentiated; differentiated, NOS \n",
    "2\tGrade II; grade ii; grade 2; moderately differentiated; moderately differentiated; intermediate differentiation \n",
    "3\tGrade III; grade iii; grade 3; poorly differentiated; differentiated \n",
    "4\tGrade IV; grade iv; grade 4; undifferentiated; anaplastic \n",
    "5\tT-cell; T-precursor \n",
    "6\tB-cell; Pre-B; B-Precursor \n",
    "7\tNull cell; Non T-non B; \n",
    "8\tN K cell (natural killer cell) \n",
    "9\tcell type not determined, not stated or not applicable \n",
    "'''\n",
    "\n",
    "df['GRADE'] = df['GRADE'].map({1: 'well differentiated', 2: 'moderately differentiated',3:'poorly differentiated',\n",
    "                               4:'undifferentiated, primary site',5: 'T-cell', 6: 'B-cell',7:'Null cell',\n",
    "                               8:'N K cell',9: 'cell type not determined'})"
   ]
  },
  {
   "cell_type": "code",
   "execution_count": 23,
   "metadata": {
    "collapsed": true
   },
   "outputs": [],
   "source": [
    "#CSTUMSIZ\n",
    "'''\n",
    "000 \tIndicates no mass or no tumor found; for example, when a tumor of a stated primary site is not found, but the tumor has metastasized. \n",
    "001-988 \tExact size in millimeters \n",
    "989 \t989 millimeters or larger \n",
    "990 \tMicroscopic focus or foci only; no size of focus is given \n",
    "991 \tDescribed as less than 1 cm \n",
    "992 \tDescribed as less than 2 cm \n",
    "993 \tDescribed as less than 3 cm \n",
    "994 \tDescribed as less than 4 cm \n",
    "995 \tDescribed as less than 5 cm \n",
    "996-998 \tSite-specific codes where needed \n",
    "999 \tUnknown; size not stated; not stated in patient record \n",
    "888 \tNot applicable \n",
    "'''\n",
    "bins = [0,1,10,20,30,40,50,60,70,80,90,100,200,300,400,500,600,700,800,888,889,989,990,991,992,993,994,995,996,999,1000]\n",
    "bin_names = ['no mass/tumor but meta','<10' ,'<20','<30','<40','<50' ,'<60','<70','<80','<90','<100','<200','<300','<400','<500',\n",
    "             '<600','<700','<800','<888','Not applicable','<989', '989 millimeters or larger','Microscopic/no size',\n",
    "             'less than 1 cm','less than 2 cm', 'less than 3 cm','less than 4 cm','less than 5 cm','Site-specific code',\n",
    "             'Unknown']\n"
   ]
  },
  {
   "cell_type": "code",
   "execution_count": 24,
   "metadata": {
    "collapsed": true
   },
   "outputs": [],
   "source": [
    "df['CSTUMSIZ'] = pd.cut(df['CSTUMSIZ'], bins, right = False,labels=bin_names)"
   ]
  },
  {
   "cell_type": "code",
   "execution_count": 25,
   "metadata": {
    "collapsed": true
   },
   "outputs": [],
   "source": [
    "df[\"CSTUMSIZ\"] = df[\"CSTUMSIZ\"].astype('object')"
   ]
  },
  {
   "cell_type": "code",
   "execution_count": 44,
   "metadata": {
    "collapsed": true
   },
   "outputs": [],
   "source": [
    "#CS1SITE\n",
    "'''\n",
    "000\tOBSOLETE DATA CONVERTED V0203\n",
    "See code 998\n",
    "\n",
    "Test not done (test not ordered and not performed)\n",
    "010\tPositive/elevated\n",
    "020\tNegative/normal; within normal limits\n",
    "030\tBorderline; undetermined whether positive or negative\n",
    "080\tOBSOLETE DATA CONVERTED V0203\n",
    "See code 997\n",
    "\n",
    "Ordered, but results not in chart\n",
    "988\tNot applicable:  Information not collected for this case\n",
    "(If this item is required by your standard setter, use of code 988 will result in an edit error.)\n",
    "996\tTest ordered, results not interpretable\n",
    "997\tTest ordered, results not in chart\n",
    "998\tTest not done (test not ordered and not performed)\n",
    "999\tUnknown or no information\n",
    "Not documented in patient record\n",
    "'''\n",
    "df['CS1SITE']= df['CS1SITE'].map({0:'Test not done',10:'Positive/elevated/amplified',20:'Negative/normal/not amplified',\n",
    "                                  30:\"Borderline/equivocal/ndeterminate\",80:\"Ordered, not in chart\", 988:\"Not applicable\",\n",
    "                                  996:\"Test ordered, not interpretable\",997:\"Test ordered, not in chart\",998:\"Test(s) not done\",\n",
    "                                  999:\"Unknown or no information\"})"
   ]
  },
  {
   "cell_type": "code",
   "execution_count": 45,
   "metadata": {
    "collapsed": true
   },
   "outputs": [],
   "source": [
    "#CS2SITE\n",
    "'''\n",
    "000\tOBSOLETE DATA CONVERTED V0203\n",
    "See code 998\n",
    "\n",
    "Test not done (test was not ordered and was not performed)\n",
    "010\tPositive/elevated\n",
    "020\tNegative/normal; within normal limits\n",
    "030\tBorderline; undetermined whether positive or negative\n",
    "080\tOBSOLETE DATA CONVERTED V0203\n",
    "See code 997\n",
    "\n",
    "Ordered, but results not in chart\n",
    "988\tNot applicable:  Information not collected for this case\n",
    "(If this item is required by your standard setter, use of code 988 will result in an edit error.)\n",
    "996\tTest ordered, results not interpretable\n",
    "997\tTest ordered, results not in chart\n",
    "998\tTest not done (test not ordered and not performed)\n",
    "999\tUnknown or no information\n",
    "Not documented in patient record\n",
    "'''\n",
    "df['CS2SITE']= df['CS2SITE'].map({0:'Test not done',10:'Positive/elevated/amplified',20:'Negative/normal/not amplified',\n",
    "                                  30:\"Borderline/equivocal/ndeterminate\",80:\"Ordered, not in chart\", 988:\"Not applicable\",\n",
    "                                  996:\"Test ordered, not interpretable\",997:\"Test ordered, not in chart\",998:\"Test(s) not done\",\n",
    "                                  999:\"Unknown or no information\"})\n",
    "\n"
   ]
  },
  {
   "cell_type": "code",
   "execution_count": 27,
   "metadata": {
    "collapsed": true
   },
   "outputs": [],
   "source": [
    "#CS3SITE\n",
    "'''\n",
    "000\tAll ipsilateral axillary nodes examined negative\n",
    "001-089\t1 - 89 nodes positive \n",
    "(Exact number of nodes positive)\n",
    "090\t90 or more nodes positive\n",
    "095\tPositive aspiration of lymph node(s)\n",
    "097\tPositive nodes, number unspecified\n",
    "098\tNo axillary nodes examined\n",
    "099\tUnknown if axillary nodes are positive\n",
    "Not documented in patient record\n",
    "988\tNot applicable:  Information not collected for this case\n",
    "(If this item is required by your standard setter, use of code 988 will result in an edit error.)\n",
    "'''\n",
    "\n",
    "bins = [-1,0,10,20,30,40,50,60,70,80,89,90,95,97,98,99,998]\n",
    "bin_names = ['All nodes negative','<10' ,'<20','<30','<40','<50' ,'<60','<70','<80','<89', '90 or more positive',\n",
    "             'Positive aspiration of lymph node(s)',\n",
    "             \"Positive nodes, number unspecified\",\"No axillary nodes examined\",\"Unknown if positive\",\n",
    "             \"Not applicable\"]\n"
   ]
  },
  {
   "cell_type": "code",
   "execution_count": 28,
   "metadata": {},
   "outputs": [],
   "source": [
    "df['CS3SITE'] = pd.cut(df['CS3SITE'], bins, right = True,labels=bin_names)"
   ]
  },
  {
   "cell_type": "code",
   "execution_count": 29,
   "metadata": {
    "collapsed": true
   },
   "outputs": [],
   "source": [
    "df[\"CS3SITE\"] = df[\"CS3SITE\"].astype('object')"
   ]
  },
  {
   "cell_type": "code",
   "execution_count": 30,
   "metadata": {},
   "outputs": [
    {
     "data": {
      "text/plain": [
       "All nodes negative                      1189366\n",
       "No axillary nodes examined               234603\n",
       "<10                                      168554\n",
       "<20                                       12337\n",
       "Unknown if positive                       11020\n",
       "Positive aspiration of lymph node(s)      10253\n",
       "<30                                        2424\n",
       "Positive nodes, number unspecified         2416\n",
       "<40                                         454\n",
       "<50                                          81\n",
       "<60                                          32\n",
       "90 or more positive                          15\n",
       "<70                                           9\n",
       "<80                                           5\n",
       "<89                                           3\n",
       "Name: CS3SITE, dtype: int64"
      ]
     },
     "execution_count": 30,
     "metadata": {},
     "output_type": "execute_result"
    }
   ],
   "source": [
    "df[\"CS3SITE\"].value_counts()"
   ]
  },
  {
   "cell_type": "code",
   "execution_count": 49,
   "metadata": {
    "collapsed": true
   },
   "outputs": [],
   "source": [
    "#CS4SITE\n",
    "'''\n",
    "000\tRegional lymph nodes negative on routine hematoxylin and eosin (H and E), no immunohistochemistry (IHC)  \n",
    "OR unknown if tested for isolated tumor cells (ITCs) by IHC studies \n",
    "Nodes clinically negative, not examined pathologically\n",
    "001\tRegional lymph nodes negative on routine H and E, IHC studies done, negative for tumor\n",
    "002\tRegional lymph nodes negative on routine H and E, IHC studies done, positive for ITCs \n",
    "(Tumor cell clusters not greater than 0.2 millimeter (mm))\n",
    "009\tRegional lymph nodes negative on routine H and E, positive for tumor detected by IHC, size of tumor cell clusters or metastases not stated\n",
    "\n",
    "Stated as N0(i+) with no further information on regional lymph nodes\n",
    "888\tOBSOLETE DATA CONVERTED V0200 \n",
    "See code 987\n",
    "\n",
    "Not applicable: CS Lymph Nodes not coded 000\n",
    "987\tNot applicable: CS Lymph Nodes not coded 000\n",
    "988\tNot applicable:  Information not collected for this case\n",
    "(If this item is required by your standard setter, use of code 988 will result in an edit error.)\n",
    "'''\n",
    "df['CS4SITE']= df['CS4SITE'].map({0:'nodes negative/no immunohistochemistry',1:'nodes negative/negative for tumor',\n",
    "                                  2:'nodes negative/positive for ITCs',\n",
    "                                  9:\"nodes negative/positive for tumor\",888:\"Not applicable/not coded\", 988:\"Not applicable/not coded\",\n",
    "                                  987:\"Not applicable/not coded\"})\n"
   ]
  },
  {
   "cell_type": "code",
   "execution_count": 50,
   "metadata": {
    "collapsed": true
   },
   "outputs": [],
   "source": [
    "#CS5SITE\n",
    "'''\n",
    "000\tRegional lymph nodes negative on routine hematoxylin and eosin (H and E), no RT-PCR molecular (MOL) studies done \n",
    "OR unknown if RT-PCR studies done\n",
    "Nodes clinically negative, not examined pathologically\n",
    "001\tRegional lymph nodes negative on routine H and E, RT-PCR MOL studies done, negative for tumor\n",
    "002\tRegional lymph nodes negative on routine H and E, RT-PCR MOL studies done, positive for tumor\n",
    "888\tOBSOLETE DATA CONVERTED V0200  \n",
    "See code 987\n",
    "\n",
    "Not applicable\n",
    "CS Lymph Nodes not coded 000\n",
    "987\tNot applicable:  CS Lymph Nodes not coded 000\n",
    "988\tNot applicable:  Information not collected for this case\n",
    "(If this item is required by your standard setter, use of code 988 will result in an edit error.)\n",
    "'''\n",
    "\n",
    "df['CS5SITE']= df['CS5SITE'].map({0:'nodes negative/no RT-PCR',1:'nodes negative/negative for tumor',\n",
    "                                  2:'nodes negative/positive for tumor',888:\"Not applicable/not coded\", \n",
    "                                  988:\"Not applicable/not coded\",987:\"Not applicable/not coded\"})"
   ]
  },
  {
   "cell_type": "code",
   "execution_count": 51,
   "metadata": {
    "collapsed": true
   },
   "outputs": [],
   "source": [
    "#CS6SITE\n",
    "'''\n",
    "000\tEntire tumor reported as invasive \n",
    "(No in situ component reported)\n",
    "010\tEntire tumor reported as in situ \n",
    "(No invasive component reported)\n",
    "020\tInvasive and in situ components present, size of invasive component stated and coded in CS Tumor Size\n",
    "030\tInvasive and in situ components present, size of entire tumor coded in CS Tumor Size because size of invasive component not stated\n",
    "AND in situ described as minimal (less than 25%)\n",
    "040\tInvasive and in situ components present, size of entire tumor coded in CS Tumor Size because size of invasive component not stated\n",
    "AND in situ described as extensive (25% or more)\n",
    "050\tInvasive and in situ components present, size of entire tumor coded in CS Tumor Size because size of invasive component not stated\n",
    "AND proportions of in situ and invasive not known\n",
    "060\tInvasive and in situ components present, unknown size of tumor (CS Tumor Size coded 999)\n",
    "888\tOBSOLETE DATA CONVERTED V0200 \n",
    "See code 987\n",
    "\n",
    "Unknown if invasive and in situ components present, unknown if tumor size represents mixed tumor or a \"pure\" tumor. (See Note 2.)\n",
    "Clinical tumor size coded.\n",
    "987\tUnknown if invasive and in situ components present, unknown if tumor size represents mixed tumor or a \"pure\" tumor. (See Note 2.)\n",
    "Clinical tumor size coded.\n",
    "988\tNot applicable:  Information not collected for this case\n",
    "(If this item is required by your standard setter, use of code 988 will result in an edit error.)\n",
    "'''\n",
    "\n",
    "df['CS6SITE']= df['CS6SITE'].map({0:'tumor invasive',10:'tumor in situ',20:'Invasive and in situ, coded in CS Tumor Size',\n",
    "                                  30:\"Invasive and in situ (less than 25%)\",40:\"Invasive and in situ (25% or more)\",\n",
    "                                  50:\"Invasive and in situ (not known)\",60:\"Invasive and in situ (unknown size of tumor)\",\n",
    "                                  888:\"Unknown if invasive and in situ\",987:\"Unknown if invasive and in situ\",\n",
    "                                  988:\"Not applicable\"})"
   ]
  },
  {
   "cell_type": "code",
   "execution_count": 52,
   "metadata": {
    "collapsed": true
   },
   "outputs": [],
   "source": [
    "#CS25SITE\n",
    "'''\n",
    "988\tNot applicable:  Site-specific factor not defined\n",
    "'''\n",
    "'''\n",
    "Plus lots of NA - WIll be deleted\n",
    "'''\n",
    "df.drop('CS25SITE', axis=1,inplace=True)"
   ]
  },
  {
   "cell_type": "code",
   "execution_count": 53,
   "metadata": {
    "collapsed": true
   },
   "outputs": [],
   "source": [
    "#DAJCCT\n",
    "'''\n",
    "99 \tTX \n",
    "00 \tT0 \n",
    "01 \tTa \n",
    "05 \tTis \n",
    "06 \tTispu (Urethra only) \n",
    "07 \tTispd (Urethra only) \n",
    "10 \tT1 \n",
    "11 \tT1mic \n",
    "19 \tT1 NOS \n",
    "12 \tT1a \n",
    "13 \tT1a1 \n",
    "14 \tT1a2 \n",
    "15 \tT1b \n",
    "16 \tT1b1 \n",
    "17 \tT1b2 \n",
    "18 \tT1c \n",
    "20 \tT2 \n",
    "29 \tT2 NOS \n",
    "21 \tT2a \n",
    "22 \tT2b \n",
    "23 \tT2c \n",
    "30 \tT3 \n",
    "39 \tT3 NOS \n",
    "31 \tT3a \n",
    "32 \tT3b \n",
    "33 \tT3c \n",
    "40 \tT4 \n",
    "49 \tT4 NOS \n",
    "41 \tT4a \n",
    "42 \tT4b \n",
    "43 \tT4c \n",
    "44 \tT4d \n",
    "80 \tT1a NOS \n",
    "81 \tT1b NOS \n",
    "88 \tNot applicable \n",
    "'''\n",
    "df['DAJCCT'] = df['DAJCCT'].map({99: 'TX', 0: 'T0',1:'Ta',5:'Tis',6: 'Tispu', 7: 'Tispd',10:'T1',\n",
    "                                 11: 'T1mic', 19: 'T1 NOS',12:'T1a',13:'T1a1',14: 'T1a2', 15: 'T1b',16:'T1b1',\n",
    "                                 17: 'T1b2', 18: 'T1c',20:'T2',29:'T2 NOS',21: 'T2a', 22: 'T2b',23:'T2c',\n",
    "                                 30: 'T3', 39: 'T3 NOS',31:'T3a',32:'T3b',33: 'T3c', 40: 'T4',49:'T4 NOS',\n",
    "                                 41: 'T4a', 42: 'T4b',43:'T4c',44:'T4d',80: 'T1a NOS', 81: 'T1b NOS',88:'Not applicable'})\n"
   ]
  },
  {
   "cell_type": "code",
   "execution_count": 54,
   "metadata": {
    "collapsed": true
   },
   "outputs": [],
   "source": [
    "#DAJCCN\n",
    "'''\n",
    "99 \tNX \n",
    "00 \tN0 \n",
    "01 \tN0(i-) \n",
    "02 \tN0(i+) \n",
    "03 \tN0(mol-) \n",
    "04 \tN0(mol+) \n",
    "10 \tN1 \n",
    "19 \tN1 NOS \n",
    "11 \tN1a \n",
    "12 \tN1b \n",
    "13 \tN1c \n",
    "18 \tN1mi \n",
    "20 \tN2 \n",
    "29 \tN2 NOS \n",
    "21 \tN2a \n",
    "22 \tN2b \n",
    "23 \tN2c \n",
    "30 \tN3 \n",
    "39 \tN3 NOS \n",
    "31 \tN3a \n",
    "32 \tN3b \n",
    "33 \tN3c \n",
    "88 \tNoN applicable \n",
    "'''\n",
    "\n",
    "df['DAJCCN'] = df['DAJCCN'].map({99: 'NX', 0: 'N0',1:'N0(i-)',2:'N0(i+)',3: 'N0(mol-)', 4: 'N0(mol+)',10:'N1',\n",
    "                                 19: 'N1 NOS',11: 'N1a', 12:'N1b',13:'N1c',18: 'N1mi', 20: 'N2',29:'N2 NOS',\n",
    "                                 21: 'N2a', 22: 'N2b',23:'N2c',30:'N3',39:'N3 NOS', 31: 'N3a',32:'N3b',\n",
    "                                 33: 'N3c', 88:'Not applicable'})"
   ]
  },
  {
   "cell_type": "code",
   "execution_count": 55,
   "metadata": {
    "collapsed": true
   },
   "outputs": [],
   "source": [
    "#DAJCCM\n",
    "'''\n",
    "99\tMX \n",
    "0\tM0 \n",
    "10\tM1 \n",
    "11\tM1a \n",
    "12\tM1b \n",
    "13\tM1c \n",
    "19\tM1 NOS \n",
    "88\tNot applicable \n",
    "'''\n",
    "\n",
    "df['DAJCCM'] = df['DAJCCM'].map({99: 'MX', 0: 'M0',10:'M1',11:'M1a',12: 'M1b', 13: 'M1c',19:'M1 NOS',\n",
    "                                 88:'Not applicable'})"
   ]
  },
  {
   "cell_type": "code",
   "execution_count": 56,
   "metadata": {
    "collapsed": true
   },
   "outputs": [],
   "source": [
    "#DAJCCSTG\n",
    "'''\n",
    "33 \tStage IIB \n",
    "34 \tStage IIC \n",
    "35 \tStage IIEA (lymphoma only) \n",
    "36 \tStage IIEB (lymphoma only) \n",
    "37 \tStage IIE (lymphoma only) \n",
    "38 \tStage IISA (lymphoma only) \n",
    "39 \tStage IISB (lymphoma only) \n",
    "40 \tStage IIS (lymphoma only) \n",
    "41 \tStage IIESA (lymphoma only) \n",
    "42 \tStage IIESB (lymphoma only) \n",
    "43 \tStage IIES (lymphoma only) \n",
    "50 \tStage III \n",
    "51 \tStage III NOS \n",
    "52 \tStage IIIA \n",
    "53 \tStage IIIB \n",
    "54 \tStage IIIC \n",
    "55 \tStage IIIEA (lymphoma only) \n",
    "56 \tStage IIIEB (lymphoma only) \n",
    "57 \tStage IIIE (lymphoma only) \n",
    "58 \tStage IIISA (lymphoma only) \n",
    "59 \tStage IIISB (lymphoma only) \n",
    "60 \tStage IIIS (lymphoma only) \n",
    "61 \tStage IIIESA (lymphoma only) \n",
    "62 \tStage IIIESB (lymphoma only) \n",
    "63 \tStage IIIES (lymphoma only) \n",
    "70 \tStage IV \n",
    "71 \tStage IV NOS \n",
    "72 \tStage IVA \n",
    "73 \tStage IVB \n",
    "74 \tStage IVC \n",
    "88 \tNot applicable \n",
    "90 \tStage Occult \n",
    "99 \tStage Unknown \n",
    "'''\n",
    "\n",
    "\n",
    "\n",
    "\n",
    "\n",
    "replace={0:'Stage 0',1:'Stage 0a',2:'Stage 0is',10:'Stage I',11:'Stage I NOS',\n",
    "         12:'Stage IA',13:'Stage IA1',14:'Stage IA2',15:'Stage IB',16:'Stage IB1',\n",
    "         17:'Stage IB2',18:'Stage IC',19:'Stage IS',23:'Stage ISA',24:'Stage ISB',\n",
    "         20:'Stage IEA',21:'Stage IEB',22:'Stage IE',30:'Stage II',31:'Stage II NOS',\n",
    "         32:'Stage IIA', 33:'Stage IIB',34:'Stage IIC',35:'Stage IIEA',36 :'Stage IIEB',\n",
    "         37:'Stage IIE',38:'Stage IISA',39 :'Stage IISB',40 :'Stage IIS',\n",
    "         41:'Stage IIESA',42:'Stage IIESB',43: 'Stage IIES',50 :'Stage III',\n",
    "         51:'Stage III NOS',52:'Stage IIIA ',53:'Stage IIIB',54 :'Stage IIIC',\n",
    "         55:'Stage IIIEA',56 :'Stage IIIEB',57 :'Stage IIIE',58:'Stage IIISA',\n",
    "         59:'Stage IIISB',60:'Stage IIIS',61:'Stage IIIESA',62:'Stage IIIESB',\n",
    "         63:'Stage IIIES',70:'Stage IV',71:'Stage IV NOS',72:'Stage IVA',73:'Stage IVB',\n",
    "         74:'Stage IVC',88:'Not applicable',90:'Stage Occult',99:'Stage Unknown'}\n",
    "df.replace({\"DAJCCSTG\": replace}, inplace=True)"
   ]
  },
  {
   "cell_type": "code",
   "execution_count": 57,
   "metadata": {
    "collapsed": true
   },
   "outputs": [],
   "source": [
    "#DSS1977S\n",
    "'''\n",
    "0\tIn Situ \n",
    "1\tLocalized \n",
    "2\tRegional, direct extension \n",
    "3\tRegional, lymph nodes only \n",
    "4\tRegional, extension and nodes \n",
    "5\tRegional, NOS \n",
    "7\tDistant \n",
    "8\tNot applicable \n",
    "9\tUnknown/Unstaged \n",
    "'''\n",
    "\n",
    "\n",
    "\n",
    "df['DSS1977S']= df['DSS1977S'].map({0:'In Situ',1:'Localized',2:'Regional, direct extension',\n",
    "                                    3 :'Regional, lymph nodes only',4:'Regional, extension and nodes',\n",
    "                                    5:'Regional, NOS',7 :'Distant',8 :'Not applicable',9:'Unknown/Unstaged'})"
   ]
  },
  {
   "cell_type": "code",
   "execution_count": 58,
   "metadata": {
    "collapsed": true
   },
   "outputs": [],
   "source": [
    "#DSS2000S\n",
    "'''\n",
    "0\tIn Situ \n",
    "1\tLocalized \n",
    "2\tRegional, direct extension \n",
    "3\tRegional, lymph nodes only \n",
    "4\tRegional, extension and nodes \n",
    "5\tRegional, NOS \n",
    "7\tDistant \n",
    "8\tNot applicable \n",
    "9\tUnknown/Unstaged \n",
    "'''\n",
    "\n",
    "df['DSS2000S']= df['DSS2000S'].map({0:'In Situ',1:'Localized',2:'Regional, direct extension',\n",
    "                                    3 :'Regional, lymph nodes only',4:'Regional, extension and nodes',\n",
    "                                    5:'Regional, NOS',7 :'Distant',8 :'Not applicable',9:'Unknown/Unstaged'})"
   ]
  },
  {
   "cell_type": "code",
   "execution_count": 59,
   "metadata": {
    "collapsed": true
   },
   "outputs": [],
   "source": [
    "\n",
    "#DAJCCFL             \n",
    "'''\n",
    "1\tAJCC Sixth Edition derived from Collaborative Staging Manual and Coding Instructions, Version 1.0 \n",
    "2\tAJCC Sixth Edition derived from EOD (prior to 2004) \n",
    "Blank \tNot derived \n",
    "'''\n",
    "df['DAJCCFL']= df['DAJCCFL'].map({0:'Not derived',1:'Derived from Collaborative Staging Manual and Coding Instructions',\n",
    "                                  2:'derived from EOD'})"
   ]
  },
  {
   "cell_type": "code",
   "execution_count": 60,
   "metadata": {},
   "outputs": [
    {
     "data": {
      "text/plain": [
       "Derived from Collaborative Staging Manual and Coding Instructions    894104\n",
       "Not derived                                                          737468\n",
       "Name: DAJCCFL, dtype: int64"
      ]
     },
     "execution_count": 60,
     "metadata": {},
     "output_type": "execute_result"
    }
   ],
   "source": [
    "df['DAJCCFL'].value_counts()"
   ]
  },
  {
   "cell_type": "code",
   "execution_count": 61,
   "metadata": {
    "collapsed": true
   },
   "outputs": [],
   "source": [
    "#NO_SURG\n",
    "'''\n",
    "0 \tSurgery performed \n",
    "1\tSurgery not recommended \n",
    "2\tContraindicated due to other conditions; Autopsy Only case (1973-2002) \n",
    "5 \tPatient died before recommended surgery \n",
    "6 \tUnknown reason for no surgery \n",
    "7\tPatient or patient's guardian refused \n",
    "8 \tRecommended, unknown if done \n",
    "9 \tUnknown if surgery performed; Death Certificate Only case; Autopsy only case (2003+) \n",
    "'''\n",
    "\n",
    "df['NO_SURG']= df['NO_SURG'].map({0:'Surgery performed',1:'Surgery not recommended',2:'Contraindicated/Autopsy',\n",
    "                                  5 :'Died before surgery',6:'Unknown reason for no surgery',\n",
    "                                  7:'Refused',8 :'Recommended, unknown if done',9 :'Unknown if performed/ Death Certificate/Autopsy'})"
   ]
  },
  {
   "cell_type": "code",
   "execution_count": 62,
   "metadata": {
    "collapsed": true
   },
   "outputs": [],
   "source": [
    "#cs0204schema\n",
    "'''\n",
    "001 \tAdnexaUterineOther \n",
    "002 \tAdrenalGland \n",
    "003 \tAmpullaVater \n",
    "004 \tAnus \n",
    "005 \tAppendix \n",
    "006 \tBileDuctsDistal \n",
    "007 \tBileDuctsIntraHepat \n",
    "008 \tBileDuctsPerihilar \n",
    "009 \tBiliaryOther \n",
    "010 \tBladder \n",
    "011 \tBone \n",
    "012 \tBrain \n",
    "013 \tBreast \n",
    "014 \tBuccalMucosa \n",
    "015 \tCarcinoidAppendix \n",
    "016 \tCervix \n",
    "017 \tCNSOther \n",
    "018 \tColon \n",
    "019 \tConjunctiva \n",
    "020 \tCorpusAdenosarcoma \n",
    "021 \tCorpusCarcinoma \n",
    "022 \tCorpusSarcoma \n",
    "023 \tCysticDuct \n",
    "024 \tDigestiveOther \n",
    "025 \tEndocrineOther \n",
    "026 \tEpiglottisAnterior \n",
    "027 \tEsophagus \n",
    "028 \tEsophagusGEJunction \n",
    "029 \tEyeOther \n",
    "030 \tFallopianTube \n",
    "031 \tFloorMouth \n",
    "032 \tGallbladder \n",
    "033 \tGenitalFemaleOther \n",
    "034 \tGenitalMaleOther \n",
    "035 \tGISTAppendix \n",
    "036 \tGISTColon \n",
    "037 \tGISTEsophagus \n",
    "038 \tGISTPeritoneum \n",
    "039 \tGISTRectum \n",
    "040 \tGISTSmallIntestine \n",
    "041 \tGISTStomach \n",
    "042 \tGumLower \n",
    "043 \tGumOther \n",
    "044 \tGumUpper \n",
    "045 \tHeartMediastinum \n",
    "046 \tHemeRetic \n",
    "047 \tHypopharynx \n",
    "048 \tIllDefinedOther \n",
    "049 \tIntracranialGland \n",
    "050 \tKaposiSarcoma \n",
    "051 \tKidneyParenchyma \n",
    "052 \tKidneyRenalPelvis \n",
    "053 \tLacrimalGland \n",
    "054 \tLacrimalSac \n",
    "055 \tLarynxGlottic \n",
    "056 \tLarynxOther \n",
    "057 \tLarynxSubglottic \n",
    "058 \tLarynxSupraglottic \n",
    "059 \tLipLower \n",
    "060 \tLipOther \n",
    "061 \tLipUpper \n",
    "062 \tLiver \n",
    "063 \tLung \n",
    "064 \tLymphoma \n",
    "065 \tLymphomaOcularAdnexa \n",
    "066 \tMelanomaBuccalMucosa \n",
    "067 \tMelanomaChoroid \n",
    "068 \tMelanomaCiliaryBody \n",
    "069 \tMelanomaConjunctiva \n",
    "070 \tMelanomaEpiglottisAnterior \n",
    "071 \tMelanomaEyeOther \n",
    "072 \tMelanomaFloorMouth \n",
    "073 \tMelanomaGumLower \n",
    "074 \tMelanomaGumOther \n",
    "075 \tMelanomaGumUpper \n",
    "076 \tMelanomaHypopharynx \n",
    "077 \tMelanomaIris \n",
    "078 \tMelanomaLarynxGlottic \n",
    "079 \tMelanomaLarynxOther \n",
    "080 \tMelanomaLarynxSubglottic \n",
    "081 \tMelanomaLarynxSupraglottic \n",
    "082 \tMelanomaLipLower \n",
    "083 \tMelanomaLipOther \n",
    "084 \tMelanomaLipUpper \n",
    "085 \tMelanomaMouthOther \n",
    "086 \tMelanomaNasalCavity \n",
    "087 \tMelanomaNasopharynx \n",
    "088 \tMelanomaOropharynx \n",
    "089 \tMelanomaPalateHard \n",
    "090 \tMelanomaPalateSoft \n",
    "091 \tMelanomaPharynxOther \n",
    "092 \tMelanomaSinusEthmoid \n",
    "093 \tMelanomaSinusMaxillary \n",
    "094 \tMelanomaSinusOther \n",
    "095 \tMelanomaSkin \n",
    "096 \tMelanomaTongueAnterior \n",
    "097 \tMelanomaTongueBase \n",
    "098 \tMerkelCellPenis \n",
    "099 \tMerkelCellScrotum \n",
    "100 \tMerkelCellSkin \n",
    "101 \tMerkelCellVulva \n",
    "102 \tMiddleEar \n",
    "103 \tMouthOther \n",
    "104 \tMycosisFungoides \n",
    "105 \tMyelomaPlasmaCellDisorder \n",
    "106 \tNasalCavity \n",
    "107 \tNasopharynx \n",
    "108 \tNETAmpulla \n",
    "109 \tNETColon \n",
    "110 \tNETRectum \n",
    "111 \tNETSmallIntestine \n",
    "112 \tNETStomach \n",
    "113 \tOrbit \n",
    "114 \tOropharynx \n",
    "115 \tOvary \n",
    "116 \tPalateHard \n",
    "117 \tPalateSoft \n",
    "118 \tPancreasBodyTail \n",
    "119 \tPancreasHead \n",
    "120 \tPancreasOther \n",
    "121 \tParotidGland \n",
    "122 \tPenis \n",
    "123 \tPeritoneum \n",
    "124 \tPeritoneumFemaleGen \n",
    "125 \tPharyngealTonsil \n",
    "126 \tPharynxOther \n",
    "127 \tPlacenta \n",
    "128 \tPleura \n",
    "129 \tProstate \n",
    "130 \tRectum \n",
    "131 \tRespiratoryOther \n",
    "132 \tRetinoblastoma \n",
    "133 \tRetroperitoneum \n",
    "134 \tSalivaryGlandOther \n",
    "135 \tScrotum \n",
    "136 \tSinusEthmoid \n",
    "137 \tSinusMaxillary \n",
    "138 \tSinusOther \n",
    "139 \tSkin \n",
    "140 \tSkinEyelid \n",
    "141 \tSmallIntestine \n",
    "142 \tSoftTissue \n",
    "143 \tStomach \n",
    "144 \tSubmandibularGland \n",
    "145 \tTestis \n",
    "146 \tThyroid \n",
    "147 \tTongueAnterior \n",
    "148 \tTongueBase \n",
    "149 \tTrachea \n",
    "150 \tUrethra \n",
    "151 \tUrinaryOther \n",
    "152 \tVagina \n",
    "153 \tVulva \n",
    "'''\n",
    "'''\n",
    "013    1631572\n",
    "Name: cs0204schema, dtype: int64 - WILL BE DELETED\n",
    "'''\n",
    "\n",
    "df=df.drop(['cs0204schema'], axis=1)"
   ]
  },
  {
   "cell_type": "code",
   "execution_count": 63,
   "metadata": {
    "collapsed": true
   },
   "outputs": [],
   "source": [
    "#HST_STGA\n",
    "'''\n",
    "0\tIn situ — A noninvasive neoplasm; a tumor which has not penetrated the basement membrane nor extended beyond the epithelial tissue. Some synonyms are intraepithelial (confined to epithelial tissue), noninvasive and noninfiltrating. \n",
    "1\tLocalized — An invasive neoplasm confined entirely to the organ of origin. It may include intraluminal extension where specified. For example for colon, intraluminal extension limited to immediately contiguous segments of the large bowel is localized, if no lymph nodes are involved. Localized may exclude invasion of the serosa because of the poor survival of the patient once the serosa is invaded. \n",
    "2\tRegional — A neoplasm that has extended 1) beyond the limits of the organ of origin directly into surrounding organs or tissues; 2) into regional lymph nodes by way of the lymphatic system; or 3) by a combination of extension and regional lymph nodes. \n",
    "4\tDistant — A neoplasm that has spread to parts of the body remote from the primary tumor either by direct extension or by discontinuous metastasis (e.g., implantation or seeding) to distant organs, issues, or via the lymphatic system to distant lymph nodes. \n",
    "8\tLocalized/Regional – Only used for Prostate cases. \n",
    "9\tUnstaged — Information is not sufficient to assign a stage. \n",
    "'''\n",
    "\n",
    "df['HST_STGA']= df['HST_STGA'].map({0:'In situ - noninvasive neoplasm',1:'Localized - invasive neoplasm',\n",
    "                             2:'Regional — neoplasm that has extended',4 :'Distant — neoplasm that has spread',\n",
    "                             8:'Localized/Regional – Only used for Prostate cases',9:'Unstaged'})"
   ]
  },
  {
   "cell_type": "code",
   "execution_count": 31,
   "metadata": {
    "collapsed": true
   },
   "outputs": [],
   "source": [
    "#FIRSTPRM\n",
    "'''\n",
    "0\tno\n",
    "1\tyes\n",
    "'''\n",
    "df['FIRSTPRM']= df['FIRSTPRM'].map({0:'no',1:'yes'})"
   ]
  },
  {
   "cell_type": "code",
   "execution_count": 32,
   "metadata": {},
   "outputs": [
    {
     "data": {
      "text/plain": [
       "yes    1160657\n",
       "no      470915\n",
       "Name: FIRSTPRM, dtype: int64"
      ]
     },
     "execution_count": 32,
     "metadata": {},
     "output_type": "execute_result"
    }
   ],
   "source": [
    "df['FIRSTPRM'].value_counts()"
   ]
  },
  {
   "cell_type": "code",
   "execution_count": 65,
   "metadata": {
    "collapsed": true
   },
   "outputs": [],
   "source": [
    "#CODPUB              \n",
    "'''\n",
    "20010\tLip, Oral/Pharynx, Malignant\n",
    "20020\tTongue, Oral/Pharynx, Malignant\n",
    "20030\tSalivary Gland, Oral/Pharynx, Malignant\n",
    "20040\tFloor of Mouth, Oral/Pharynx, Malignant\n",
    "20050\tGum and Other Mouth, Oral/Pharynx, Malignant\n",
    "20060\tNasopharynx, Oral/Pharynx, Malignant\n",
    "20070\tTonsil, Oral/Pharynx, Malignant\n",
    "20080\tOropharynx, Oral/Pharynx, Malignant\n",
    "20090\tHypopharynx, Oral/Pharynx, Malignant\n",
    "20100\tOther Oral Cavity and Pharynx, Oral/Pharynx, Malignant\n",
    "21010\tEsophagus, Digestive, Malignant\n",
    "21020\tStomach, Digestive, Malignant\n",
    "21030\tSmall Intestine, Digestive, Malignant\n",
    "21040\tColon excluding Rectum, Digestive, Malignant\n",
    "21050\tRectum and Rectosigmoid Junction, Digestive, Malignant\n",
    "21060\tAnus, Anal Canal and Anorectum, Digestive, Malignant\n",
    "21071\tLiver, Digestive, Malignant\n",
    "21072\tIntrahepatic Bile Duct, Digestive, Malignant\n",
    "21080\tGallbladder, Digestive, Malignant\n",
    "21090\tOther Biliary, Digestive, Malignant\n",
    "21100\tPancreas, Digestive, Malignant\n",
    "21110\tRetroperitoneum, Digestive, Malignant\n",
    "21120\tPeritoneum, Omentum and Mesentery, Digestive, Malignant\n",
    "21130\tOther Digestive Organs, Digestive, Malignant\n",
    "22010\tNose, Nasal Cavity and Middle Ear, Respiratory, Malignant\n",
    "22020\tLarynx, Respiratory, Malignant\n",
    "22030\tLung and Bronchus, Respiratory, Malignant\n",
    "22050\tPleura, Respiratory, Malignant\n",
    "22060\tTrachea, Mediastinum and Other Respiratory Organs, Respiratory, Malignant\n",
    "23000\tBones and Joints,  Malignant\n",
    "24000\tSoft Tissue including Heart , Malignant\n",
    "25010\tSkin & Melanoma , Skin, Malignant\n",
    "25020\tNon-Melanoma , Skin, Malignant\n",
    "26000\tBreast, Malignant\n",
    "27010\tCervix Uteri, Female genitalia, Malignant\n",
    "27020\tCorpus Uteri, Female genitalia, Malignant\n",
    "27030\tUterus, NOS, Female genitalia, Malignant\n",
    "27040\tOvary, Female genitalia, Malignant\n",
    "27050\tVagina, Female genitalia, Malignant\n",
    "27060\tVulva, Female genitalia, Malignant\n",
    "27070\tOther Female Genital Organs, Female genitalia, Malignant\n",
    "28010\tProstate, Male genitalia, Malignant\n",
    "28020\tTestis, Male genitalia, Malignant\n",
    "28030\tPenis, Male genitalia, Malignant\n",
    "28040\tOther Male Genital Organs, Male genitalia, Malignant\n",
    "29010\tUrinary Bladder, Urinary, Malignant\n",
    "29020\tKidney and Renal Pelvis, Urinary, Malignant\n",
    "29030\tUreter, Urinary, Malignant\n",
    "29040\tOther Urinary Organs, Urinary, Malignant\n",
    "30000\tEye and Orbit, Malignant\n",
    "31010\tBrain and Other Nervous System, Malignant\n",
    "32010\tThyroid, Endocrine, Malignant\n",
    "32020\tOther Endocrine including thymus, Endocrine, Malignant\n",
    "33010\tHodgkin Lymphoma, Lymphoma, Malignant\n",
    "33040\tNon-Hodgkin Lymphoma, Lymphoma, Malignant\n",
    "34000\tMyeloma, Malignant\n",
    "35011\tAcute Lymphocytic Leukemia, Leukemia, Malignant\n",
    "35012\tChronic Lymphocytic Leukemia, Leukemia, Malignant\n",
    "35013\tOther Lymphocytic Leukemia, Leukemia, Malignant\n",
    "35021\tAcute myeloid, Leukemia, Malignant\n",
    "35031\tAcute Monocytic Leukemia, Leukemia, Malignant\n",
    "35022\tChronic Myeloid Leukemia, Leukemia, Malignant\n",
    "35023\tOther Myeloid/Monocytic Leukemia, Leukemia, Malignant\n",
    "35041\tOther Acute Leukemia, Leukemia, Malignant\n",
    "35043\tAleukemic, subleukemic and NOS, Leukemia, Malignant\n",
    "36010\tMesothelioma (ICD-10 only) +, Malignant\n",
    "36020\tKaposi Sarcoma (ICD-10 only) +, Malignant\n",
    "37000\tMiscellaneous Malignant Cancer, Malignant\n",
    "38000\tIn situ, benign or unknown behavior neoplasm, Non-Cancer\n",
    "50000\tTuberculosis, Non-Cancer\n",
    "50010\tSyphilis, Non-Cancer\n",
    "50040\tHuman Immunodeficiency Virus (HIV) (1987+), Non-Cancer\n",
    "50030\tSepticemia, Non-Cancer\n",
    "50040 \tOther Infectious and Parasitic Diseases, Non-Cancer\n",
    "50050\tDiabetes Mellitus, Non-Cancer\n",
    "50051\tAlzheimers (ICD-9 and 10 only), Non-Cancer\n",
    "50060\tDiseases of Heart, Non-Cancer\n",
    "50070\tHypertension without Heart Disease, Non-Cancer\n",
    "50080\tCerebrovascular Diseases, Non-Cancer\n",
    "50090\tAtherosclerosis, Non-Cancer\n",
    "50100\tAortic Aneurysm and Dissection, Non-Cancer\n",
    "50110\tOther Diseases of Arteries, Arterioles, Capillaries, Non-Cancer\n",
    "50120\tPneumonia and Influenza, Non-Cancer\n",
    "50130\tChronic Obstructive Pulmonary Disease and Allied Cond, Non-Cancer\n",
    "50140\tStomach and Duodenal Ulcers, Non-Cancer\n",
    "50150\tChronic Liver Disease and Cirrhosis, Non-Cancer\n",
    "50160\tNephritis, Nephrotic Syndrome and Nephrosis, Non-Cancer\n",
    "50170\tComplications of Pregnancy, Childbirth, Puerperium, Non-Cancer\n",
    "50180\tCongenital Anomalies, Non-Cancer\n",
    "50190\tCertain Conditions Originating in Perinatal Period, Non-Cancer\n",
    "50200\tSymptoms, Signs and Ill-Defined Conditions, Non-Cancer\n",
    "50210\tAccidents and Adverse Effects, Non-Cancer\n",
    "50220\tSuicide and Self-Inflicted Injury, Non-Cancer\n",
    "50230\tHomicide and Legal Intervention, Non-Cancer\n",
    "50300\tOther Cause of Death, Non-Cancer\n",
    "0\tAlive\n",
    "41000 \tNot Available/no COD\n",
    "99999 \tUnknown\n",
    "'''\n",
    "list1=[20010,20020,20030,20040,20050,20060,20070,20080,20090,20100,21010,21020,21030,21040,21050,21060,\n",
    "       21071,21072,21080,21090,21100,21110,21120,21130,22010,22020,22030,22050,22060,23000,24000,25010,\n",
    "       25020,26000,27010,27020,27030,27040,27050,27060,27070,28010,28020,28030,28040,29010,29020,29030,\n",
    "       29040,30000,31010,32010,32020,33010,33040,34000,35011,35012,35013,35021,35031,35022,35023,35041,\n",
    "       35043,36010,36020,37000,38000,50000,50010,50040,50030,50040,50050,50051,50060,50070,50080,50090,\n",
    "       50100,50110,50120,50130,50140,50150,50160,50170,50180,50190,50200,50210,50220,50230,50300,0,41000,\n",
    "       99999]\n",
    "list2=['Lip, Oral/Pharynx, Malignant','Tongue, Oral/Pharynx, Malignant','Salivary Gland, Oral/Pharynx, Malignant',\n",
    "       'Floor of Mouth, Oral/Pharynx, Malignant','Gum and Other Mouth, Oral/Pharynx, Malignant',\n",
    "       'Nasopharynx, Oral/Pharynx, Malignant','Tonsil, Oral/Pharynx, Malignant','Oropharynx, Oral/Pharynx, Malignant',\n",
    "       'Hypopharynx, Oral/Pharynx, Malignant','Other Oral Cavity and Pharynx, Oral/Pharynx, Malignant',\n",
    "       'Esophagus, Digestive, Malignant','Stomach, Digestive, Malignant','Small Intestine, Digestive, Malignant',\n",
    "       'Colon excluding Rectum, Digestive, Malignant','Rectum and Rectosigmoid Junction, Digestive, Malignant',\n",
    "       'Anus, Anal Canal and Anorectum, Digestive, Malignant','Liver, Digestive, Malignant',\n",
    "       'Intrahepatic Bile Duct, Digestive, Malignant','Gallbladder, Digestive, Malignant',\n",
    "       'Other Biliary, Digestive, Malignant','Pancreas, Digestive, Malignant','Retroperitoneum, Digestive, Malignant',\n",
    "       'Peritoneum, Omentum and Mesentery, Digestive, Malignant','Other Digestive Organs, Digestive, Malignant',\n",
    "       'Nose, Nasal Cavity and Middle Ear, Respiratory, Malignant','Larynx, Respiratory, Malignant',\n",
    "       'Lung and Bronchus, Respiratory, Malignant','Pleura, Respiratory, Malignant',\n",
    "       'Trachea, Mediastinum and Other Respiratory Organs, Respiratory, Malignant','Bones and Joints,  Malignant',\n",
    "       'Soft Tissue including Heart , Malignant','Skin & Melanoma , Skin, Malignant','Non-Melanoma , Skin, Malignant',\n",
    "       'Breast, Malignant','Cervix Uteri, Female genitalia, Malignant','Corpus Uteri, Female genitalia, Malignant',\n",
    "       'Uterus, NOS, Female genitalia, Malignant','Ovary, Female genitalia, Malignant','Vagina, Female genitalia, Malignant',\n",
    "       'Vulva, Female genitalia, Malignant','Other Female Genital Organs, Female genitalia, Malignant',\n",
    "       'Prostate, Male genitalia, Malignant','Testis, Male genitalia, Malignant','Penis, Male genitalia, Malignant',\n",
    "       'Other Male Genital Organs, Male genitalia, Malignant','Urinary Bladder, Urinary, Malignant',\n",
    "       'Kidney and Renal Pelvis, Urinary, Malignant','Ureter, Urinary, Malignant','Other Urinary Organs, Urinary, Malignant',\n",
    "       'Eye and Orbit, Malignant','Brain and Other Nervous System, Malignant','Thyroid, Endocrine, Malignant',\n",
    "       'Other Endocrine including thymus, Endocrine, Malignant','Hodgkin Lymphoma, Lymphoma, Malignant',\n",
    "       'Non-Hodgkin Lymphoma, Lymphoma, Malignant','Myeloma, Malignant','Acute Lymphocytic Leukemia, Leukemia, Malignant',\n",
    "       'Chronic Lymphocytic Leukemia, Leukemia, Malignant','Other Lymphocytic Leukemia, Leukemia, Malignant',\n",
    "       'Acute myeloid, Leukemia, Malignant','Acute Monocytic Leukemia, Leukemia, Malignant',\n",
    "       'Chronic Myeloid Leukemia, Leukemia, Malignant','Other Myeloid/Monocytic Leukemia, Leukemia, Malignant',\n",
    "       'Other Acute Leukemia, Leukemia, Malignant','Aleukemic, subleukemic and NOS, Leukemia, Malignant',\n",
    "       'Mesothelioma (ICD-10 only) +, Malignant','Kaposi Sarcoma (ICD-10 only) +, Malignant',\n",
    "       'Miscellaneous Malignant Cancer, Malignant','In situ, benign or unknown behavior neoplasm, Non-Cancer',\n",
    "       'Tuberculosis, Non-Cancer','Syphilis, Non-Cancer','Human Immunodeficiency Virus (HIV) (1987+), Non-Cancer',\n",
    "       'Septicemia, Non-Cancer','Other Infectious and Parasitic Diseases, Non-Cancer','Diabetes Mellitus, Non-Cancer',\n",
    "       'Alzheimers (ICD-9 and 10 only), Non-Cancer',\n",
    "       'Diseases of Heart, Non-Cancer','Hypertension without Heart Disease, Non-Cancer',\n",
    "       'Cerebrovascular Diseases, Non-Cancer','Atherosclerosis, Non-Cancer','Aortic Aneurysm and Dissection, Non-Cancer',\n",
    "       'Other Diseases of Arteries, Arterioles, Capillaries, Non-Cancer','Pneumonia and Influenza, Non-Cancer',\n",
    "       'Chronic Obstructive Pulmonary Disease and Allied Cond, Non-Cancer','Stomach and Duodenal Ulcers, Non-Cancer',\n",
    "       'Chronic Liver Disease and Cirrhosis, Non-Cancer','Nephritis, Nephrotic Syndrome and Nephrosis, Non-Cancer',\n",
    "       'Complications of Pregnancy, Childbirth, Puerperium, Non-Cancer','Congenital Anomalies, Non-Cancer',\n",
    "       'Certain Conditions Originating in Perinatal Period, Non-Cancer',\n",
    "       'Symptoms, Signs and Ill-Defined Conditions, Non-Cancer','Accidents and Adverse Effects, Non-Cancer',\n",
    "       'Suicide and Self-Inflicted Injury, Non-Cancer','Homicide and Legal Intervention, Non-Cancer',\n",
    "       'Other Cause of Death, Non-Cancer','Alive','Not Available/no COD','Unknown']\n"
   ]
  },
  {
   "cell_type": "code",
   "execution_count": 66,
   "metadata": {
    "collapsed": true
   },
   "outputs": [],
   "source": [
    "recode=dict(zip(list1, list2))"
   ]
  },
  {
   "cell_type": "code",
   "execution_count": 67,
   "metadata": {
    "collapsed": true
   },
   "outputs": [],
   "source": [
    "df['CODPUB']= df['CODPUB'].map(recode)"
   ]
  },
  {
   "cell_type": "code",
   "execution_count": 68,
   "metadata": {
    "collapsed": true
   },
   "outputs": [],
   "source": [
    "# Replace Non cancer cases with \"Non-Cancer\"\n",
    "df['CODPUB'] = df['CODPUB'].replace({'In situ, benign or unknown behavior neoplasm, Non-Cancer':'Non-Cancer',\n",
    "                                     'Tuberculosis, Non-Cancer':'Non-Cancer','Syphilis, Non-Cancer':'Non-Cancer',\n",
    "                                     'Human Immunodeficiency Virus (HIV) (1987+), Non-Cancer':'Non-Cancer',\n",
    "                                     'Septicemia, Non-Cancer':'Non-Cancer',\n",
    "                                     'Other Infectious and Parasitic Diseases, Non-Cancer':'Non-Cancer',\n",
    "                                     'Diabetes Mellitus, Non-Cancer':'Non-Cancer',\n",
    "                                     'Alzheimers (ICD-9 and 10 only), Non-Cancer':'Non-Cancer',\n",
    "                                     'Diseases of Heart, Non-Cancer':'Non-Cancer',\n",
    "                                     'Hypertension without Heart Disease, Non-Cancer':'Non-Cancer',\n",
    "                                     'Cerebrovascular Diseases, Non-Cancer':'Non-Cancer',\n",
    "                                     'Atherosclerosis, Non-Cancer':'Non-Cancer',\n",
    "                                     'Aortic Aneurysm and Dissection, Non-Cancer':'Non-Cancer',\n",
    "                                     'Other Diseases of Arteries, Arterioles, Capillaries, Non-Cancer':'Non-Cancer',\n",
    "                                     'Pneumonia and Influenza, Non-Cancer':'Non-Cancer',\n",
    "                                     'Chronic Obstructive Pulmonary Disease and Allied Cond, Non-Cancer':'Non-Cancer',\n",
    "                                     'Stomach and Duodenal Ulcers, Non-Cancer':'Non-Cancer',\n",
    "                                     'Chronic Liver Disease and Cirrhosis, Non-Cancer':'Non-Cancer',\n",
    "                                     'Nephritis, Nephrotic Syndrome and Nephrosis, Non-Cancer':'Non-Cancer',\n",
    "                                     'Complications of Pregnancy, Childbirth, Puerperium, Non-Cancer':'Non-Cancer',\n",
    "                                     'Congenital Anomalies, Non-Cancer':'Non-Cancer',\n",
    "                                     'Certain Conditions Originating in Perinatal Period, Non-Cancer':'Non-Cancer',\n",
    "                                     'Symptoms, Signs and Ill-Defined Conditions, Non-Cancer':'Non-Cancer',\n",
    "                                     'Accidents and Adverse Effects, Non-Cancer':'Non-Cancer',\n",
    "                                     'Suicide and Self-Inflicted Injury, Non-Cancer':'Non-Cancer',\n",
    "                                     'Homicide and Legal Intervention, Non-Cancer':'Non-Cancer',\n",
    "                                     'Other Cause of Death, Non-Cancer':'Non-Cancer'})"
   ]
  },
  {
   "cell_type": "code",
   "execution_count": 69,
   "metadata": {
    "collapsed": true
   },
   "outputs": [],
   "source": [
    "#STAT_REC\n",
    "'''\n",
    "1\tAlive\n",
    "4\tDead\n",
    "'''\n",
    "df['STAT_REC']= df['STAT_REC'].map({1:'Alive',4:'Dead'})"
   ]
  },
  {
   "cell_type": "markdown",
   "metadata": {},
   "source": [
    "# DEPENDANT VARIABLE"
   ]
  },
  {
   "cell_type": "code",
   "execution_count": 70,
   "metadata": {
    "collapsed": true
   },
   "outputs": [],
   "source": [
    "#VSRTSADX\n",
    "'''\n",
    "0\tAlive or dead of other cause \n",
    "1\tDead \n",
    "9\tN/A not first tumor \n",
    "'''\n",
    "\n",
    "df['VSRTSADX']= df['VSRTSADX'].replace({9:0,8:0})"
   ]
  },
  {
   "cell_type": "code",
   "execution_count": 71,
   "metadata": {},
   "outputs": [
    {
     "data": {
      "text/plain": [
       "0    1397102\n",
       "1     234470\n",
       "Name: VSRTSADX, dtype: int64"
      ]
     },
     "execution_count": 71,
     "metadata": {},
     "output_type": "execute_result"
    }
   ],
   "source": [
    "df['VSRTSADX'].value_counts()"
   ]
  },
  {
   "cell_type": "code",
   "execution_count": 72,
   "metadata": {
    "collapsed": true
   },
   "outputs": [],
   "source": [
    "#ODTHCLASS\n",
    "'''\n",
    "0\tAlive or dead due to cancer \n",
    "1\tDead \n",
    "9\tN/A not first tumor \n",
    "8 - Dead (missing/unknown COD)\n",
    "'''\n",
    "df['ODTHCLASS']= df['ODTHCLASS'].replace({0:'Alive or dead due to cancer',1:'Dead',9:'N/A not first tumor',\n",
    "                                         8:\"Dead\"})"
   ]
  },
  {
   "cell_type": "code",
   "execution_count": 73,
   "metadata": {},
   "outputs": [
    {
     "data": {
      "text/plain": [
       "Alive or dead due to cancer    1088520\n",
       "N/A not first tumor             279889\n",
       "Dead                            263163\n",
       "Name: ODTHCLASS, dtype: int64"
      ]
     },
     "execution_count": 73,
     "metadata": {},
     "output_type": "execute_result"
    }
   ],
   "source": [
    "df['ODTHCLASS'].value_counts()"
   ]
  },
  {
   "cell_type": "code",
   "execution_count": 74,
   "metadata": {
    "collapsed": true
   },
   "outputs": [],
   "source": [
    "#CS15SITE\n",
    "'''\n",
    "010\tPositive/elevated; amplified\n",
    "020\tNegative/normal; within normal limits; not amplified\n",
    "030\tBorderline; equivocal; indeterminate; undetermined whether positive or negative\n",
    "988\tNot applicable: Information not collected for this case\n",
    "(If this information is required by your standard setter, use of code 988 may result in an edit error.)\n",
    "997\tTest(s) ordered, results not in chart\n",
    "998\tTest(s) not done (test(s) not ordered and not performed)\n",
    "999\tUnknown or no information\n",
    "Not documented in patient record\n",
    "'''\n",
    "df['CS15SITE']= df['CS15SITE'].replace({0:'Not documented',10:'Positive/elevated/amplified',20:'Negative/normal, not amplified',\n",
    "                                    30:\"Borderline/equivocal/ndeterminate\",988:\"Not applicable\",997:\"Test(s) ordered\",\n",
    "                                    998:\"Test(s) not done\",999:\"Unknown or no information\"})\n"
   ]
  },
  {
   "cell_type": "code",
   "execution_count": 75,
   "metadata": {},
   "outputs": [
    {
     "data": {
      "text/plain": [
       "Not documented                       1159347\n",
       "Negative/normal, not amplified        298082\n",
       "Test(s) not done                       67582\n",
       "Positive/elevated/amplified            55011\n",
       "Unknown or no information              34942\n",
       "Borderline/equivocal/ndeterminate       8917\n",
       "Not applicable                          4167\n",
       "Test(s) ordered                         3524\n",
       "Name: CS15SITE, dtype: int64"
      ]
     },
     "execution_count": 75,
     "metadata": {},
     "output_type": "execute_result"
    }
   ],
   "source": [
    "df['CS15SITE'].value_counts()"
   ]
  },
  {
   "cell_type": "markdown",
   "metadata": {},
   "source": [
    "# ELABORATE ON TIMES"
   ]
  },
  {
   "cell_type": "code",
   "execution_count": 76,
   "metadata": {
    "collapsed": true
   },
   "outputs": [],
   "source": [
    "df['srv_time_mon']=df['srv_time_mon'].replace({9999: 9})\n"
   ]
  },
  {
   "cell_type": "code",
   "execution_count": 77,
   "metadata": {
    "collapsed": true
   },
   "outputs": [],
   "source": [
    "#srv_time_mon\n",
    "'''\n",
    "0\tComplete dates are available and there are 0 days of survival \n",
    "1\tComplete dates are available and there are more than 0 days of survival \n",
    "2\tIncomplete dates are available and there could be zero days of follow-up \n",
    "3\tIncomplete dates are available and there cannot be zero days of follow-up \n",
    "9\tUnknown \n",
    "\n",
    "'''\n",
    "# Need to make batches 10-12,12-18,18-24,24-36,36-48,48-60,60-72,72-84,84-96,more than 100\n",
    "bins = [-1,0,1,2,3,9,10, 13, 19, 25, 37, 49,61,73,85,97,109,516]\n",
    "bin_names = ['dates available / 0 days of survival','dates available / more than 0 days of survival',\n",
    "             'Incomplete dates/ 0 days of follow-up',\"Incomplete dates/ no 0 days of follow-up\",\n",
    "             '4-9',\"Unknown\",'<12' ,'<18','<24','<36','<48' ,'<60','<72','<84','<96','<108','>100']"
   ]
  },
  {
   "cell_type": "code",
   "execution_count": 78,
   "metadata": {
    "collapsed": true
   },
   "outputs": [],
   "source": [
    "df['srv_time_mon'] = pd.cut(df['srv_time_mon'], bins, labels=bin_names)"
   ]
  },
  {
   "cell_type": "code",
   "execution_count": 79,
   "metadata": {
    "collapsed": true
   },
   "outputs": [],
   "source": [
    "df[\"srv_time_mon\"] = df[\"srv_time_mon\"].astype('object')"
   ]
  },
  {
   "cell_type": "code",
   "execution_count": 80,
   "metadata": {
    "collapsed": true
   },
   "outputs": [],
   "source": [
    "#DAJCC7T\n",
    "'''\n",
    "999 \tTX \n",
    "000 \tT0 \n",
    "010 \tTa \n",
    "050 \tTis \n",
    "060 \tTispu (Urethra only) \n",
    "070 \tTispd (Urethra only) \n",
    "100 \tT1 \n",
    "110 \tT1mic \n",
    "199 \tT1 NOS \n",
    "120 \tT1a \n",
    "130 \tT1a1 \n",
    "140 \tT1a2 \n",
    "150 \tT1b \n",
    "160 \tT1b1 \n",
    "170 \tT1b2 \n",
    "180 \tT1c \n",
    "181 \tT1d \n",
    "200 \tT2 \n",
    "299 \tT2 NOS \n",
    "210 \tT2a \n",
    "211 \tT2a1 \n",
    "212 \tT2a2 \n",
    "213 \tT2a NOS \n",
    "220 \tT2b \n",
    "230 \tT2c \n",
    "240 \tT2d \n",
    "300 \tT3 \n",
    "399 \tT3 NOS \n",
    "310 \tT3a \n",
    "320 \tT3b \n",
    "330 \tT3c \n",
    "400 \tT4 \n",
    "499 \tT4 NOS \n",
    "410 \tT4a \n",
    "420 \tT4b \n",
    "430 \tT4c \n",
    "440 \tT4d \n",
    "450 \tT4e \n",
    "800 \tT1a NOS \n",
    "810 \tT1b NOS \n",
    "888 \tNot applicable \n",
    "\n",
    "'''\n",
    "replace={0:\"Not applicable\", 999: 'TX', 0: 'T0',10:'Ta',50:'Tis',60: 'Tispu', 70: 'Tispd',100:'T1',\n",
    "                                 110: 'T1mic', 199: 'T1 NOS',120:'T1a',130:'T1a1',140: 'T1a2', 150: 'T1b',160:'T1b1',\n",
    "                                 170: 'T1b2', 180: 'T1c',181:\"T1d\", 200:'T2',299:'T2 NOS',210: 'T2a',211:\"T2a1\",\n",
    "                                 212:\"T2a2\",213:\"T2a NOS\",220: 'T2b',230:'T2c',240:\"T2d\", 300: 'T3', 399: 'T3 NOS',\n",
    "                                 310:'T3a',320:'T3b',330: 'T3c', 400: 'T4',499:'T4 NOS',410: 'T4a', 420: 'T4b',\n",
    "                                 430:'T4c',440:'T4d',450:\"T4e\", 800: 'T1a NOS', 810: 'T1b NOS',88:'Not applicable'}\n",
    "df.replace({\"DAJCC7T\": replace}, inplace=True)"
   ]
  },
  {
   "cell_type": "code",
   "execution_count": 81,
   "metadata": {
    "collapsed": true
   },
   "outputs": [],
   "source": [
    "#DAJCC7N\n",
    "'''\n",
    "999 \tNX \n",
    "000 \tN0 \n",
    "010 \tN0(i-) \n",
    "020 \tN0(i+) \n",
    "030 \tN0(mol-) \n",
    "040 \tN0(mol+) \n",
    "100 \tN1 \n",
    "199 \tN1 NOS \n",
    "110 \tN1a \n",
    "120 \tN1b \n",
    "130 \tN1c \n",
    "180 \tN1mi \n",
    "200 \tN2 \n",
    "299 \tN2 NOS \n",
    "210 \tN2a \n",
    "220 \tN2b \n",
    "230 \tN2c \n",
    "300 \tN3 \n",
    "399 \tN3 NOS \n",
    "310 \tN3a \n",
    "320 \tN3b \n",
    "330 \tN3c \n",
    "400 \tN4 \n",
    "888 \tNot applicable \n",
    "\n",
    "'''\n",
    "\n",
    "df['DAJCC7N'] = df['DAJCC7N'].map({999: 'NX', 0: 'N0',10:'N0(i-)',20:'N0(i+)',30: 'N0(mol-)', 40: 'N0(mol+)',100:'N1',\n",
    "                                 199: 'N1 NOS',110: 'N1a', 120:'N1b',130:'N1c',180: 'N1mi', 200: 'N2',299:'N2 NOS',\n",
    "                                 210: 'N2a', 220: 'N2b',230:'N2c',300:'N3',399:'N3 NOS', 310: 'N3a',320:'N3b',\n",
    "                                 330: 'N3c',400:\"N4\", 888:'Not applicable'})"
   ]
  },
  {
   "cell_type": "code",
   "execution_count": 82,
   "metadata": {
    "collapsed": true
   },
   "outputs": [],
   "source": [
    "#DAJCC7M\n",
    "'''\n",
    "999 \tMX \n",
    "000 \tM0 \n",
    "010 \tM0(i+) \n",
    "100 \tM1 \n",
    "110 \tM1a \n",
    "120 \tM1b \n",
    "130 \tM1c \n",
    "140 \tM1d \n",
    "150 \tM1e \n",
    "199 \tM1 NOS \n",
    "888 \tNot applicable \n",
    "'''\n",
    "df['DAJCC7M'] = df['DAJCC7M'].map({999: 'MX', 0: 'M0',10:\"M0(i+)\", 100:'M1',110:'M1a',120: 'M1b', 130: 'M1c',\n",
    "                                   140:\"M1d\",150:\"M1e\", 199:'M1 NOS',888:'Not applicable'})\n"
   ]
  },
  {
   "cell_type": "code",
   "execution_count": 83,
   "metadata": {
    "collapsed": true
   },
   "outputs": [],
   "source": [
    "#DAJCC7STG\n",
    "'''\n",
    "0\tStage 0 \n",
    "010 \tStage 0a \n",
    "020 \tStage 0is \n",
    "100 \tStage I \n",
    "110 \tStage I NOS \n",
    "120 \tStage IA \n",
    "130 \tStage IA1 \n",
    "140 \tStage IA2 \n",
    "121 \tStage IA NOS \n",
    "150 \tStage IB \n",
    "160 \tStage IB1 \n",
    "170 \tStage IB2 \n",
    "151 \tStage IB NOS \n",
    "180 \tStage IC \n",
    "190 \tStage IS \n",
    "230 \tStage ISA (lymphoma only) \n",
    "240 \tStage ISB (lymphoma only) \n",
    "200 \tStage IEA (lymphoma only) \n",
    "210 \tStage IEB (lymphoma only) \n",
    "220 \tStage IE (lymphoma only) \n",
    "300 \tStage II \n",
    "310 \tStage II NOS \n",
    "320 \tStage IIA \n",
    "321 \tStage IIA NOS \n",
    "322 \tStage IIA1 \n",
    "323 \tStage IIA NOS \n",
    "330 \tStage IIB \n",
    "340 \tStage IIC \n",
    "350 \tStage IIEA (lymphoma only) \n",
    "360 \tStage IIEB (lymphoma only) \n",
    "370 \tStage IIE (lymphoma only) \n",
    "380 \tStage IISA (lymphoma only) \n",
    "390 \tStage IISB (lymphoma only) \n",
    "400 \tStage IIS (lymphoma only) \n",
    "410 \tStage IIESA (lymphoma only) \n",
    "420 \tStage IIESB (lymphoma only) \n",
    "430 \tStage IIES (lymphoma only) \n",
    "500 \tStage III \n",
    "510 \tStage III NOS \n",
    "520 \tStage IIIA \n",
    "530 \tStage IIIB \n",
    "540 \tStage IIIC \n",
    "541 \tStage IIIC1 \n",
    "542 \tStage IIIC2 \n",
    "550 \tStage IIIEA (lymphoma only) \n",
    "560 \tStage IIIEB (lymphoma only) \n",
    "570 \tStage IIIE (lymphoma only) \n",
    "580 \tStage IIISA (lymphoma only) \n",
    "590 \tStage IIISB (lymphoma only) \n",
    "600 \tStage IIIS (lymphoma only) \n",
    "610 \tStage IIIESA (lymphoma only) \n",
    "620 \tStage IIIESB (lymphoma only) \n",
    "630 \tStage IIIES (lymphoma only) \n",
    "700 \tStage IV \n",
    "710 \tStage IV NOS \n",
    "720 \tStage IVA \n",
    "730 \tStage IVB \n",
    "740 \tStage IVC \n",
    "888 \tNot applicable \n",
    "900 \tStage Occult \n",
    "999 \tStage Unknown \n",
    "'''\n",
    "\n",
    "replace={0:'Stage 0',10:'Stage 0a',20:'Stage 0is',100:'Stage I',110:'Stage I NOS',\n",
    "         120:'Stage IA',130:'Stage IA1',140:'Stage IA2',121:'Stage IA NOS', 150:'Stage IB',160:'Stage IB1',\n",
    "         170:'Stage IB2',151 :'Stage IB NOS', 180:'Stage IC',190:'Stage IS',230:'Stage ISA',240:'Stage ISB',\n",
    "         200:'Stage IEA',210:'Stage IEB',220:'Stage IE',300:'Stage II',310:'Stage II NOS',\n",
    "         320:'Stage IIA',321:'Stage IIA NOS',322:'Stage IIA1',323:'Stage IIA NOS', 330:'Stage IIB',\n",
    "         340:'Stage IIC',350:'Stage IIEA',360 :'Stage IIEB',\n",
    "         370:'Stage IIE',380:'Stage IISA',390:'Stage IISB',400 :'Stage IIS',\n",
    "         410:'Stage IIESA',420:'Stage IIESB',430: 'Stage IIES',500 :'Stage III',\n",
    "         510:'Stage III NOS',520:'Stage IIIA ',530:'Stage IIIB',540 :'Stage IIIC',\n",
    "         541 :'Stage IIIC1',542 :'Stage IIIC2',550:'Stage IIIEA',560 :'Stage IIIEB',570 :'Stage IIIE',580:'Stage IIISA',\n",
    "         590:'Stage IIISB',600:'Stage IIIS',610:'Stage IIIESA',620:'Stage IIIESB',\n",
    "         630:'Stage IIIES',700:'Stage IV',710:'Stage IV NOS',720:'Stage IVA',730:'Stage IVB',\n",
    "         740:'Stage IVC',888:'Not applicable',900:'Stage Occult',999:'Stage Unknown'}\n",
    "df.replace({\"DAJCC7STG\": replace}, inplace=True)"
   ]
  },
  {
   "cell_type": "code",
   "execution_count": 84,
   "metadata": {
    "collapsed": true
   },
   "outputs": [],
   "source": [
    "#CS7SITE\n",
    "'''\n",
    "030\tScore of 3\n",
    "040\tScore of 4\n",
    "050\tScore of 5\n",
    "060\tScore of 6\n",
    "070\tScore of 7\n",
    "080\tScore of 8\n",
    "090\tScore of 9\n",
    "110\tLow Grade, Bloom-Richardson (BR) grade 1, score not given\n",
    "120\tMedium (Intermediate) Grade, BR grade 2, score not given\n",
    "130\tHigh Grade, BR grade 3, score not given\n",
    "988\tNot applicable: Information not collected for this case\n",
    "(If this information is required by your standard setter, use of code 988 may result in an edit error.)\n",
    "998\tNo histologic examination of primary site\n",
    "999\tNeither BR grade nor BR score given\n",
    "Unknown or no information\n",
    "Not documented in patient record\n",
    "'''\n",
    "\n",
    "df['CS7SITE'] = df['CS7SITE'].map({0: 'Unknown',30:\"Score of 3\",40:'Score of 4',50:'Score of 5',60:'Score of 6',\n",
    "                                   70:'Score of 7',80:'Score of 8',90:'Score of 9',110:'Low Grade',\n",
    "                                   120:'Medium Grade',130:'High Grade',988:'Not applicable',\n",
    "                                   998:'No histologic examination',999:'Unknown'})"
   ]
  },
  {
   "cell_type": "code",
   "execution_count": 85,
   "metadata": {
    "collapsed": true
   },
   "outputs": [],
   "source": [
    "#brst_sub\n",
    "'''\n",
    "1\tHer2+/HR+ \n",
    "2\tHer2+/HR- \n",
    "3\tHer2-/HR+ \n",
    "4\tTriple Negative \n",
    "5\tUnknown \n",
    "9\tNot 2010+ Breast \n",
    "\n",
    "'''\n",
    "df['brst_sub'] = df['brst_sub'].map({1:'Her2+/HR+',2:'Her2+/HR-',3:'Her2-/HR+',4:'Triple Negative',\n",
    "                                     5:'Unknown',9:'Not 2010+ Breast'})"
   ]
  },
  {
   "cell_type": "code",
   "execution_count": 86,
   "metadata": {
    "collapsed": true
   },
   "outputs": [],
   "source": [
    "#CSMETSDXB_PUB\n",
    "'''\n",
    "0\tNone; no bone metastases \n",
    "1\tYes \n",
    "8\tNot applicable \n",
    "9\tUnknown; not documented in patient record \n",
    "\n",
    "'''\n",
    "df['CSMETSDXB_PUB'] = df['CSMETSDXB_PUB'].map({0:'None',1:'Yes',8:'Not applicable',9:'Unknown'})"
   ]
  },
  {
   "cell_type": "code",
   "execution_count": 87,
   "metadata": {
    "collapsed": true
   },
   "outputs": [],
   "source": [
    "#CSMETSDXBR_PUB\n",
    "'''\n",
    "0\tNone; no bone metastases \n",
    "1\tYes \n",
    "8\tNot applicable \n",
    "9\tUnknown; not documented in patient record \n",
    "\n",
    "'''\n",
    "df['CSMETSDXBR_PUB'] = df['CSMETSDXBR_PUB'].map({0:'None',1:'Yes',8:'Not applicable',9:'Unknown'})"
   ]
  },
  {
   "cell_type": "code",
   "execution_count": 88,
   "metadata": {
    "collapsed": true
   },
   "outputs": [],
   "source": [
    "#CSMETSDXLIV_PUB\n",
    "'''\n",
    "0\tNone; no bone metastases \n",
    "1\tYes \n",
    "8\tNot applicable \n",
    "9\tUnknown; not documented in patient record \n",
    "\n",
    "'''\n",
    "df['CSMETSDXLIV_PUB'] = df['CSMETSDXLIV_PUB'].map({0:'None',1:'Yes',8:'Not applicable',9:'Unknown'})"
   ]
  },
  {
   "cell_type": "code",
   "execution_count": 89,
   "metadata": {
    "collapsed": true
   },
   "outputs": [],
   "source": [
    "#CSMETSDXLUNG_PUB\n",
    "'''\n",
    "0\tNone; no bone metastases \n",
    "1\tYes \n",
    "8\tNot applicable \n",
    "9\tUnknown; not documented in patient record\n",
    "'''\n",
    "df['CSMETSDXLUNG_PUB'] = df['CSMETSDXLUNG_PUB'].map({0:'None',1:'Yes',8:'Not applicable',9:'Unknown'})"
   ]
  },
  {
   "cell_type": "code",
   "execution_count": 90,
   "metadata": {
    "collapsed": true
   },
   "outputs": [],
   "source": [
    "#MALIGCOUNT\n",
    "'''\n",
    "Valid values: 00-98; 99 (unknown)\n",
    "'''\n",
    "replace={99:\"Unknown\"}\n",
    "df.replace({\"MALIGCOUNT\": replace}, inplace=True)"
   ]
  },
  {
   "cell_type": "code",
   "execution_count": 91,
   "metadata": {
    "collapsed": true
   },
   "outputs": [],
   "source": [
    "#BENBORDCOUNT\n",
    "'''\n",
    "Valid values: 00-98; 99 (unknown)\n",
    "'''\n",
    "replace={99:\"Unknown\"}\n",
    "df.replace({\"BENBORDCOUNT\": replace}, inplace=True)\n",
    "\n",
    "df['BENBORDCOUNT'] = df['BENBORDCOUNT'].astype(str)"
   ]
  },
  {
   "cell_type": "code",
   "execution_count": 92,
   "metadata": {
    "collapsed": true
   },
   "outputs": [],
   "source": [
    "#CSEXTEN             \n",
    "'''\n",
    "0\tIn situ\n",
    "50\tPaget disease of nipple  no tumor\n",
    "70\tPaget Disease disease of nipple  no carcinoma\n",
    "100\tConfined to breast tissue and fat including nipple and/or areola\n",
    "110\tT1mi\n",
    "120\t T1a\n",
    "130\tT1b \n",
    "140\tT1c\n",
    "170\tT1 [NOS] \n",
    "180\t T2 \n",
    "190\tT3 \n",
    "200\tInvasion of subcutaneous tissue\n",
    "300\tAttachment or fixation to pectoral muscle(s) or underlying tissue\n",
    "380\tT4 \n",
    "390\tT4a \n",
    "400\tInvasion chest wall\n",
    "410\tT4a\n",
    "510\tExtensive skin involvement\n",
    "512\tExtensive skin involvement\n",
    "514\tExtensive skin involvement\n",
    "516\tExtensive skin involvement breast more then 33%\n",
    "518\tExtensive skin involvement breast  33%-50%\n",
    "519\tExtensive skin involvement\n",
    "520\tExtensive skin involvement breast  more 50%\n",
    "575\tExtensive skin involvement\n",
    "580\tExtensive skin involvement breast  % not stated\n",
    "585\tExtensive skin involvement\n",
    "590\tT4b\n",
    "605\tT4b\n",
    "610\tInvasion chest wall +Extensive skin involvement\n",
    "612\tExtensive skin involvement\n",
    "613\tExtensive skin involvement\n",
    "615\tExtensive skin involvement\n",
    "620\tExtensive skin involvement\n",
    "680\tT4c\n",
    "710\tDiagnosis of inflammatory carcinoma\n",
    "715\tDiagnosis of inflammatory carcinoma\n",
    "720\tDiagnosis of inflammatory carcinoma\n",
    "725\tDiagnosis of inflammatory carcinoma\n",
    "730\tDiagnosis of inflammatory carcinoma\n",
    "750\tDiagnosis of inflammatory carcinoma\n",
    "780\tT4d\n",
    "790\tT4 -NOS\n",
    "950\tNo evidence of primary tumor\n",
    "999\tUnknown\n",
    "'''\n",
    "df['CSEXTEN']= df['CSEXTEN'].replace({0 : 'In situ Lobular neoplasia',50 : 'Paget disease of nipple  no tumor',\n",
    "                                      70 : 'Paget Disease disease of nipple  no carcinoma',\n",
    "                                      100 : 'Confined to breast tissue and fat including nipple and/or areola',\n",
    "                                      110 : 'T1mi',120 : ' T1a',130 : 'T1b ',140 : 'T1c',170 : 'T1 [NOS]',\n",
    "                                      180 : ' T2 ',190 : 'T3 ',200 : 'Invasion of subcutaneous tissue',\n",
    "                                      300 : 'Attachment or fixation to pectoral muscle(s) or underlying tissue',\n",
    "                                      380 : 'T4 ',390 : 'T4a ',400 : 'Invasion chest wall',410 : 'T4a',\n",
    "                                      510 : 'Extensive skin involvement',512 : 'Extensive skin involvement',\n",
    "                                      514 : 'Extensive skin involvement',\n",
    "                                      516 : 'Extensive skin involvement breast more then 33%',\n",
    "                                      518 : 'Extensive skin involvement breast  33%-50%',519 : 'Extensive skin involvement',\n",
    "                                      520 : 'Extensive skin involvement breast  more 50%',\n",
    "                                      575 : 'Extensive skin involvement',\n",
    "                                      580 : 'Extensive skin involvement breast  % not stated',\n",
    "                                      585 : 'Extensive skin involvement',590 : 'T4b',\n",
    "                                      610 : \"Diagnosis of inflammatory carcinoma\",605 : 'T4b',\n",
    "                                      610 : 'Invasion chest wall +Extensive skin involvement',\n",
    "                                      612 : 'Extensive skin involvement',613 : 'Extensive skin involvement',\n",
    "                                      615 : 'Extensive skin involvement',620 : 'Extensive skin involvement',\n",
    "                                      680 : 'T4c',710 : 'Diagnosis of inflammatory carcinoma',\n",
    "                                      715 : 'Diagnosis of inflammatory carcinoma',\n",
    "                                      720 : 'Diagnosis of inflammatory carcinoma',\n",
    "                                      725 : 'Diagnosis of inflammatory carcinoma',\n",
    "                                      730 : 'Diagnosis of inflammatory carcinoma',\n",
    "                                      750 : 'Diagnosis of inflammatory carcinoma',\n",
    "                                      780 : 'T4d',790 : 'T4 -NOS',950 : 'No evidence of primary tumor',999 : 'Unknown',}) \n",
    "\n"
   ]
  },
  {
   "cell_type": "code",
   "execution_count": 93,
   "metadata": {
    "collapsed": true
   },
   "outputs": [],
   "source": [
    "#CSLYMPHN            \n",
    "'''\n",
    "0 : 'No regional lymph node involvement ',\n",
    "50 : 'Evaluated pathologically:',\n",
    "130 : 'Evaluated pathologically:',\n",
    "150 : 'Evaluated pathologically:',\n",
    "155 : 'Evaluated pathologically:',\n",
    "250 : 'Evaluated pathologically:',\n",
    "255 : 'Evaluated clinically:',\n",
    "257 : 'Evaluated clinically:',\n",
    "258 : 'Evaluated pathologically:',\n",
    "260 : 'N1 [NOS] ',\n",
    "280 : 'N2 NOS ',\n",
    "290 : 'N2 NOS - clinical',\n",
    "300 : 'N2 NOS pathological',\n",
    "500 : 'Fixed/matted ipsilateral axillary nodes NOS',\n",
    "510 : 'Evaluated clinically:',\n",
    "520 : 'Evaluated pathologically:',\n",
    "600 : 'Axillary/regional lymph node(s)',\n",
    "610 : 'Evaluated clinically:',\n",
    "620 : 'Evaluated pathologically:',\n",
    "630 : 'Stated as N2 [NOS] with no other information on regional lymph nodes',\n",
    "710 : 'Evaluated pathologically:',\n",
    "720 : 'Evaluated pathologically:',\n",
    "730 : 'Evaluated pathologically:',\n",
    "735 : 'Evaluated clinically:',\n",
    "740 : 'Internal mammary node(s)',\n",
    "745 : 'Internal mammary node(s)',\n",
    "748 : ' N2b',\n",
    "750 : 'Infraclavicular lymph node(s)',\n",
    "755 : 'N3a',\n",
    "760 : 'Internal mammary node(s)',\n",
    "763 : 'Internal mammary node(s)',\n",
    "764 : 'Internal mammary node(s)',\n",
    "765 : 'Internal mammary node(s)',\n",
    "768 : 'N3b',\n",
    "770 : 'UNKNOWN if positive',\n",
    "780 : 'UNKNOWN if positive Infraclavicular lymph nodes',\n",
    "790 : 'N3',\n",
    "800 : 'Supraclavicular node(s), ipsilateral',\n",
    "805 : 'N3c ',\n",
    "810 : 'Evaluated clinically:',\n",
    "815 : 'Evaluated pathologically:',\n",
    "820 : 'Stated as N3, NOS with no other information on regional lymph nodes',\n",
    "999 : 'Unknown; regional lymph nodes not stated',\n",
    "\n",
    "'''\n",
    "\n",
    "df['CSLYMPHN']= df['CSLYMPHN'].replace ({0 : 'No regional lymph node involvement ',50 : 'Evaluated pathologically:',\n",
    "                                         130 : 'Evaluated pathologically:',150 : 'Evaluated pathologically:',\n",
    "                                         155 : 'Evaluated pathologically:',250 : 'Evaluated pathologically:',\n",
    "                                         255 : 'Evaluated clinically:',257 : 'Evaluated clinically:',\n",
    "                                         258 : 'Evaluated pathologically:',260 : 'N1 [NOS] ',280 : 'N2 NOS ',\n",
    "                                         290 : 'N2 NOS - clinical',300 : 'N2 NOS pathological',\n",
    "                                         500 : 'Fixed/matted ipsilateral axillary nodes NOS',\n",
    "                                         510 : 'Evaluated clinically:',520 : 'Evaluated pathologically:',\n",
    "                                         600 : 'Axillary/regional lymph node(s)',610 : 'Evaluated clinically:',\n",
    "                                         620 : 'Evaluated pathologically:',\n",
    "                                         630 : 'Stated as N2 [NOS] with no other information on regional lymph nodes',\n",
    "                                         710 : 'Evaluated pathologically:',720 : 'Evaluated pathologically:',\n",
    "                                         730 : 'Evaluated pathologically:',735 : 'Evaluated clinically:',\n",
    "                                         740 : 'Internal mammary node(s)',745 : 'Internal mammary node(s)',748 : 'N2b',\n",
    "                                         750 : 'Infraclavicular lymph node(s)',755 : 'N3a',760 : 'Internal mammary node(s)',\n",
    "                                         763 : 'Internal mammary node(s)',764 : 'Internal mammary node(s)',\n",
    "                                         765 : 'Internal mammary node(s)',768 : 'N3b',770 : 'UNKNOWN if positive',\n",
    "                                         780 : 'UNKNOWN if positive Infraclavicular lymph nodes',790 : 'N3',\n",
    "                                         800 : 'Supraclavicular node(s), ipsilateral',805 : 'N3c ',\n",
    "                                         810 : 'Evaluated clinically:',815 : 'Evaluated pathologically:',\n",
    "                                         820 : 'Stated as N3, NOS with no other information on regional lymph nodes',\n",
    "                                         999 : 'Unknown; regional lymph nodes not stated'})"
   ]
  },
  {
   "cell_type": "code",
   "execution_count": 94,
   "metadata": {
    "collapsed": true
   },
   "outputs": [],
   "source": [
    "#CSMETSDX\n",
    "'''\n",
    "0 : 'No distant metastasis',\n",
    "5 : 'No clinical or radiographic evidence of distant metastasis',\n",
    "7 : 'M0(i+) ',\n",
    "10 : 'Distant lymph node(s):',\n",
    "40 : 'Distant metastasis except distant lymph node(s)',\n",
    "42 : 'Further contiguous extension:',\n",
    "44 : 'Metastasis:',\n",
    "50 : 'Metastasis + Distant lymph node(s):',\n",
    "60 : 'Distant metastasis, NOS',\n",
    "99 : 'Unknown',\n",
    "'''\n",
    "df['CSMETSDX']=df['CSMETSDX'].replace({0 : 'No distant metastasis',\n",
    "                                       5 : 'No clinical or radiographic evidence of distant metastasis',\n",
    "                                       7 : 'M0(i+) ',10 : 'Distant lymph node(s):',\n",
    "                                       40 : 'Distant metastasis except distant lymph node(s)',\n",
    "                                       42 : 'Further contiguous extension:',44 : 'Metastasis:',\n",
    "                                       50 : 'Metastasis + Distant lymph node(s):',60 : 'Distant metastasis, NOS',\n",
    "                                       99 : 'Unknown'})"
   ]
  },
  {
   "cell_type": "code",
   "execution_count": 95,
   "metadata": {
    "scrolled": true
   },
   "outputs": [
    {
     "name": "stdout",
     "output_type": "stream",
     "text": [
      "<class 'pandas.core.frame.DataFrame'>\n",
      "RangeIndex: 1631572 entries, 0 to 1631571\n",
      "Data columns (total 49 columns):\n",
      "MAR_STAT            1631572 non-null object\n",
      "RACE1V              1631572 non-null object\n",
      "SEX                 1631572 non-null object\n",
      "AGE_DX              1631572 non-null object\n",
      "PRIMSITE            1631572 non-null object\n",
      "LATERAL             1631572 non-null object\n",
      "HISTO2V             1631572 non-null object\n",
      "BEHO2V              1631572 non-null object\n",
      "HISTO3V             1631572 non-null object\n",
      "BEHO3V              1631572 non-null object\n",
      "GRADE               1631572 non-null object\n",
      "CSTUMSIZ            1631572 non-null object\n",
      "CSEXTEN             1631572 non-null object\n",
      "CSLYMPHN            1631572 non-null object\n",
      "CSMETSDX            1631572 non-null object\n",
      "CS1SITE             1631572 non-null object\n",
      "CS2SITE             1631572 non-null object\n",
      "CS3SITE             1631572 non-null object\n",
      "CS4SITE             1631572 non-null object\n",
      "CS5SITE             1631572 non-null object\n",
      "CS6SITE             1631572 non-null object\n",
      "DAJCCT              1631572 non-null object\n",
      "DAJCCN              1631572 non-null object\n",
      "DAJCCM              1631572 non-null object\n",
      "DAJCCSTG            1631572 non-null object\n",
      "DSS1977S            1631572 non-null object\n",
      "DSS2000S            1631572 non-null object\n",
      "DAJCCFL             1631572 non-null object\n",
      "NO_SURG             1631572 non-null object\n",
      "HST_STGA            1631572 non-null object\n",
      "FIRSTPRM            1631572 non-null object\n",
      "CODPUB              1631572 non-null object\n",
      "STAT_REC            1631572 non-null object\n",
      "VSRTSADX            1631572 non-null int64\n",
      "ODTHCLASS           1631572 non-null object\n",
      "CS15SITE            1631572 non-null object\n",
      "srv_time_mon        1631572 non-null object\n",
      "DAJCC7T             1631572 non-null object\n",
      "DAJCC7N             1631572 non-null object\n",
      "DAJCC7M             1631572 non-null object\n",
      "DAJCC7STG           1631572 non-null object\n",
      "CS7SITE             1631572 non-null object\n",
      "brst_sub            1631572 non-null object\n",
      "CSMETSDXB_PUB       1631572 non-null object\n",
      "CSMETSDXBR_PUB      1631572 non-null object\n",
      "CSMETSDXLIV_PUB     1631572 non-null object\n",
      "CSMETSDXLUNG_PUB    1631572 non-null object\n",
      "MALIGCOUNT          1631572 non-null object\n",
      "BENBORDCOUNT        1631572 non-null object\n",
      "dtypes: int64(1), object(48)\n",
      "memory usage: 609.9+ MB\n"
     ]
    }
   ],
   "source": [
    "df.info()"
   ]
  },
  {
   "cell_type": "code",
   "execution_count": 96,
   "metadata": {
    "scrolled": false
   },
   "outputs": [
    {
     "name": "stdout",
     "output_type": "stream",
     "text": [
      "Number of Categories per feature MAR_STAT         is 7\n",
      "Number of Categories per feature RACE1V           is 30\n",
      "Number of Categories per feature SEX              is 2\n",
      "Number of Categories per feature AGE_DX           is 11\n",
      "Number of Categories per feature PRIMSITE         is 9\n",
      "Number of Categories per feature LATERAL          is 5\n",
      "Number of Categories per feature HISTO2V          is 32\n",
      "Number of Categories per feature BEHO2V           is 4\n",
      "Number of Categories per feature HISTO3V          is 31\n",
      "Number of Categories per feature BEHO3V           is 2\n",
      "Number of Categories per feature GRADE            is 5\n",
      "Number of Categories per feature CSTUMSIZ         is 30\n",
      "Number of Categories per feature CSEXTEN          is 29\n",
      "Number of Categories per feature CSLYMPHN         is 19\n",
      "Number of Categories per feature CSMETSDX         is 10\n",
      "Number of Categories per feature CS1SITE          is 8\n",
      "Number of Categories per feature CS2SITE          is 8\n",
      "Number of Categories per feature CS3SITE          is 15\n",
      "Number of Categories per feature CS4SITE          is 5\n",
      "Number of Categories per feature CS5SITE          is 4\n",
      "Number of Categories per feature CS6SITE          is 8\n",
      "Number of Categories per feature DAJCCT           is 16\n",
      "Number of Categories per feature DAJCCN           is 20\n",
      "Number of Categories per feature DAJCCM           is 4\n",
      "Number of Categories per feature DAJCCSTG         is 11\n",
      "Number of Categories per feature DSS1977S         is 8\n",
      "Number of Categories per feature DSS2000S         is 8\n",
      "Number of Categories per feature DAJCCFL          is 2\n",
      "Number of Categories per feature NO_SURG          is 8\n",
      "Number of Categories per feature HST_STGA         is 5\n",
      "Number of Categories per feature FIRSTPRM         is 2\n",
      "Number of Categories per feature CODPUB           is 67\n",
      "Number of Categories per feature STAT_REC         is 2\n",
      "Number of Categories per feature VSRTSADX         is 2\n",
      "Number of Categories per feature ODTHCLASS        is 3\n",
      "Number of Categories per feature CS15SITE         is 8\n",
      "Number of Categories per feature srv_time_mon     is 17\n",
      "Number of Categories per feature DAJCC7T          is 16\n",
      "Number of Categories per feature DAJCC7N          is 20\n",
      "Number of Categories per feature DAJCC7M          is 4\n",
      "Number of Categories per feature DAJCC7STG        is 12\n",
      "Number of Categories per feature CS7SITE          is 12\n",
      "Number of Categories per feature brst_sub         is 6\n",
      "Number of Categories per feature CSMETSDXB_PUB    is 4\n",
      "Number of Categories per feature CSMETSDXBR_PUB   is 4\n",
      "Number of Categories per feature CSMETSDXLIV_PUB  is 4\n",
      "Number of Categories per feature CSMETSDXLUNG_PUB is 4\n",
      "Number of Categories per feature MALIGCOUNT       is 18\n",
      "Number of Categories per feature BENBORDCOUNT     is 6\n"
     ]
    }
   ],
   "source": [
    "def category_count(df,feature):\n",
    "    score=df[feature].value_counts().count()\n",
    "    print(\"Number of Categories per feature {:16} is {:.0f}\".format(feature, score))\n",
    "for feature in df.columns:\n",
    "    category_count(df,feature)"
   ]
  },
  {
   "cell_type": "code",
   "execution_count": 97,
   "metadata": {
    "collapsed": true
   },
   "outputs": [],
   "source": [
    "df.to_csv('whole_list_categorical.csv')"
   ]
  },
  {
   "cell_type": "markdown",
   "metadata": {},
   "source": [
    "# Data Preprocessing "
   ]
  },
  {
   "cell_type": "code",
   "execution_count": 98,
   "metadata": {},
   "outputs": [
    {
     "data": {
      "text/plain": [
       "0    1397102\n",
       "1     234470\n",
       "Name: VSRTSADX, dtype: int64"
      ]
     },
     "execution_count": 98,
     "metadata": {},
     "output_type": "execute_result"
    }
   ],
   "source": [
    "df['VSRTSADX'].value_counts()"
   ]
  },
  {
   "cell_type": "code",
   "execution_count": 99,
   "metadata": {
    "collapsed": true
   },
   "outputs": [],
   "source": [
    "df1=df['VSRTSADX']"
   ]
  },
  {
   "cell_type": "code",
   "execution_count": 100,
   "metadata": {
    "collapsed": true
   },
   "outputs": [],
   "source": [
    "df=df.drop('VSRTSADX', axis=1)"
   ]
  },
  {
   "cell_type": "code",
   "execution_count": 101,
   "metadata": {},
   "outputs": [
    {
     "name": "stdout",
     "output_type": "stream",
     "text": [
      "<class 'pandas.core.frame.DataFrame'>\n",
      "RangeIndex: 1631572 entries, 0 to 1631571\n",
      "Data columns (total 48 columns):\n",
      "MAR_STAT            1631572 non-null object\n",
      "RACE1V              1631572 non-null object\n",
      "SEX                 1631572 non-null object\n",
      "AGE_DX              1631572 non-null object\n",
      "PRIMSITE            1631572 non-null object\n",
      "LATERAL             1631572 non-null object\n",
      "HISTO2V             1631572 non-null object\n",
      "BEHO2V              1631572 non-null object\n",
      "HISTO3V             1631572 non-null object\n",
      "BEHO3V              1631572 non-null object\n",
      "GRADE               1631572 non-null object\n",
      "CSTUMSIZ            1631572 non-null object\n",
      "CSEXTEN             1631572 non-null object\n",
      "CSLYMPHN            1631572 non-null object\n",
      "CSMETSDX            1631572 non-null object\n",
      "CS1SITE             1631572 non-null object\n",
      "CS2SITE             1631572 non-null object\n",
      "CS3SITE             1631572 non-null object\n",
      "CS4SITE             1631572 non-null object\n",
      "CS5SITE             1631572 non-null object\n",
      "CS6SITE             1631572 non-null object\n",
      "DAJCCT              1631572 non-null object\n",
      "DAJCCN              1631572 non-null object\n",
      "DAJCCM              1631572 non-null object\n",
      "DAJCCSTG            1631572 non-null object\n",
      "DSS1977S            1631572 non-null object\n",
      "DSS2000S            1631572 non-null object\n",
      "DAJCCFL             1631572 non-null object\n",
      "NO_SURG             1631572 non-null object\n",
      "HST_STGA            1631572 non-null object\n",
      "FIRSTPRM            1631572 non-null object\n",
      "CODPUB              1631572 non-null object\n",
      "STAT_REC            1631572 non-null object\n",
      "ODTHCLASS           1631572 non-null object\n",
      "CS15SITE            1631572 non-null object\n",
      "srv_time_mon        1631572 non-null object\n",
      "DAJCC7T             1631572 non-null object\n",
      "DAJCC7N             1631572 non-null object\n",
      "DAJCC7M             1631572 non-null object\n",
      "DAJCC7STG           1631572 non-null object\n",
      "CS7SITE             1631572 non-null object\n",
      "brst_sub            1631572 non-null object\n",
      "CSMETSDXB_PUB       1631572 non-null object\n",
      "CSMETSDXBR_PUB      1631572 non-null object\n",
      "CSMETSDXLIV_PUB     1631572 non-null object\n",
      "CSMETSDXLUNG_PUB    1631572 non-null object\n",
      "MALIGCOUNT          1631572 non-null object\n",
      "BENBORDCOUNT        1631572 non-null object\n",
      "dtypes: object(48)\n",
      "memory usage: 597.5+ MB\n"
     ]
    }
   ],
   "source": [
    "df.info()"
   ]
  },
  {
   "cell_type": "code",
   "execution_count": 34,
   "metadata": {},
   "outputs": [
    {
     "data": {
      "text/plain": [
       "1     1145463\n",
       "2      386934\n",
       "3       81073\n",
       "4       14809\n",
       "5        2562\n",
       "6         554\n",
       "7          84\n",
       "8          39\n",
       "99         30\n",
       "9          11\n",
       "10          4\n",
       "12          2\n",
       "20          2\n",
       "50          1\n",
       "11          1\n",
       "14          1\n",
       "21          1\n",
       "25          1\n",
       "Name: MALIGCOUNT, dtype: int64"
      ]
     },
     "execution_count": 34,
     "metadata": {},
     "output_type": "execute_result"
    }
   ],
   "source": [
    "df['MALIGCOUNT'].value_counts()"
   ]
  },
  {
   "cell_type": "markdown",
   "metadata": {
    "collapsed": true
   },
   "source": [
    "### Onehot encode"
   ]
  },
  {
   "cell_type": "code",
   "execution_count": 102,
   "metadata": {},
   "outputs": [],
   "source": [
    "sample_df=pd.get_dummies(df,drop_first=True)"
   ]
  },
  {
   "cell_type": "code",
   "execution_count": 103,
   "metadata": {
    "collapsed": true
   },
   "outputs": [],
   "source": [
    "sample_df=sample_df.join(df1)"
   ]
  },
  {
   "cell_type": "code",
   "execution_count": 104,
   "metadata": {
    "scrolled": true
   },
   "outputs": [
    {
     "name": "stdout",
     "output_type": "stream",
     "text": [
      "<class 'pandas.core.frame.DataFrame'>\n",
      "RangeIndex: 1631572 entries, 0 to 1631571\n",
      "Columns: 518 entries, MAR_STAT_Married to VSRTSADX\n",
      "dtypes: int64(1), uint8(517)\n",
      "memory usage: 816.9 MB\n"
     ]
    }
   ],
   "source": [
    "sample_df.info(memory_usage='deep')"
   ]
  },
  {
   "cell_type": "code",
   "execution_count": 105,
   "metadata": {
    "collapsed": true
   },
   "outputs": [],
   "source": [
    "sample_df.to_csv('sample_df.csv')"
   ]
  },
  {
   "cell_type": "markdown",
   "metadata": {},
   "source": [
    "# Feature relevance"
   ]
  },
  {
   "cell_type": "code",
   "execution_count": 38,
   "metadata": {
    "collapsed": true
   },
   "outputs": [],
   "source": [
    "import numpy as np\n",
    "import pandas as pd\n",
    "from time import time\n",
    "from IPython.display import display # Allows the use of display() for DataFrames\n",
    "import matplotlib.pyplot as plt\n",
    "pd.options.display.max_colwidth = 390\n",
    "%matplotlib inline"
   ]
  },
  {
   "cell_type": "code",
   "execution_count": 13,
   "metadata": {},
   "outputs": [],
   "source": [
    "chunksize = 10**6\n",
    "TextFileReader = pd.read_csv('sample_df.csv', sep=',', chunksize=chunksize, iterator=True)\n",
    "sample_df = pd.concat(TextFileReader, ignore_index=True)\n"
   ]
  },
  {
   "cell_type": "code",
   "execution_count": 14,
   "metadata": {},
   "outputs": [],
   "source": [
    "sample_df.drop('Unnamed: 0', axis=1,inplace=True)"
   ]
  },
  {
   "cell_type": "code",
   "execution_count": 15,
   "metadata": {
    "scrolled": true
   },
   "outputs": [
    {
     "name": "stdout",
     "output_type": "stream",
     "text": [
      "<class 'pandas.core.frame.DataFrame'>\n",
      "RangeIndex: 1631572 entries, 0 to 1631571\n",
      "Columns: 518 entries, MAR_STAT_Married to VSRTSADX\n",
      "dtypes: int64(518)\n",
      "memory usage: 6.3 GB\n"
     ]
    }
   ],
   "source": [
    "sample_df.info()"
   ]
  },
  {
   "cell_type": "code",
   "execution_count": 5,
   "metadata": {
    "collapsed": true
   },
   "outputs": [],
   "source": [
    "X=sample_df.iloc[:,1:-1].values\n",
    "y=sample_df.iloc[:,-1].values"
   ]
  },
  {
   "cell_type": "code",
   "execution_count": 6,
   "metadata": {},
   "outputs": [
    {
     "name": "stderr",
     "output_type": "stream",
     "text": [
      "C:\\Users\\user\\Anaconda3\\lib\\site-packages\\sklearn\\cross_validation.py:44: DeprecationWarning: This module was deprecated in version 0.18 in favor of the model_selection module into which all the refactored classes and functions are moved. Also note that the interface of the new CV iterators are different from that of this module. This module will be removed in 0.20.\n",
      "  \"This module will be removed in 0.20.\", DeprecationWarning)\n"
     ]
    }
   ],
   "source": [
    "from sklearn.cross_validation import train_test_split\n",
    "X_train,X_test, y_train, y_test= train_test_split(X,y,test_size=0.25,random_state=42)"
   ]
  },
  {
   "cell_type": "code",
   "execution_count": 7,
   "metadata": {
    "collapsed": true
   },
   "outputs": [],
   "source": [
    "del X"
   ]
  },
  {
   "cell_type": "code",
   "execution_count": 8,
   "metadata": {
    "collapsed": true
   },
   "outputs": [],
   "source": [
    "del y"
   ]
  },
  {
   "cell_type": "code",
   "execution_count": 9,
   "metadata": {
    "collapsed": true
   },
   "outputs": [],
   "source": [
    "del sample_df"
   ]
  },
  {
   "cell_type": "code",
   "execution_count": 10,
   "metadata": {},
   "outputs": [],
   "source": [
    "# TODO: Import a supervised learning model that has 'feature_importances_'\n",
    "from sklearn.ensemble import GradientBoostingClassifier\n",
    "clf = GradientBoostingClassifier(random_state=0)\n",
    "# TODO: Train the supervised model on the training set using .fit(X_train, y_train)\n",
    "model = clf.fit(X_train, y_train)\n"
   ]
  },
  {
   "cell_type": "code",
   "execution_count": 19,
   "metadata": {
    "collapsed": true
   },
   "outputs": [],
   "source": [
    "importances = model.feature_importances_"
   ]
  },
  {
   "cell_type": "code",
   "execution_count": 20,
   "metadata": {},
   "outputs": [
    {
     "data": {
      "text/plain": [
       "array([0.        , 0.        , 0.        , 0.        , 0.        ,\n",
       "       0.        , 0.        , 0.        , 0.        , 0.        ,\n",
       "       0.        , 0.        , 0.        , 0.        , 0.        ,\n",
       "       0.        , 0.        , 0.        , 0.        , 0.        ,\n",
       "       0.        , 0.        , 0.        , 0.        , 0.        ,\n",
       "       0.        , 0.        , 0.        , 0.        , 0.        ,\n",
       "       0.        , 0.        , 0.        , 0.        , 0.        ,\n",
       "       0.        , 0.        , 0.        , 0.        , 0.        ,\n",
       "       0.        , 0.        , 0.        , 0.        , 0.        ,\n",
       "       0.        , 0.        , 0.        , 0.        , 0.        ,\n",
       "       0.        , 0.        , 0.        , 0.        , 0.        ,\n",
       "       0.        , 0.        , 0.        , 0.        , 0.        ,\n",
       "       0.        , 0.        , 0.        , 0.        , 0.        ,\n",
       "       0.        , 0.        , 0.        , 0.        , 0.        ,\n",
       "       0.        , 0.        , 0.        , 0.        , 0.        ,\n",
       "       0.        , 0.        , 0.        , 0.        , 0.        ,\n",
       "       0.        , 0.        , 0.        , 0.        , 0.        ,\n",
       "       0.        , 0.        , 0.        , 0.        , 0.        ,\n",
       "       0.        , 0.        , 0.        , 0.        , 0.        ,\n",
       "       0.        , 0.        , 0.        , 0.        , 0.        ,\n",
       "       0.        , 0.        , 0.        , 0.        , 0.        ,\n",
       "       0.        , 0.        , 0.        , 0.        , 0.        ,\n",
       "       0.        , 0.        , 0.        , 0.        , 0.        ,\n",
       "       0.        , 0.        , 0.        , 0.        , 0.        ,\n",
       "       0.        , 0.        , 0.        , 0.        , 0.        ,\n",
       "       0.        , 0.        , 0.        , 0.        , 0.        ,\n",
       "       0.        , 0.        , 0.        , 0.        , 0.        ,\n",
       "       0.        , 0.        , 0.        , 0.        , 0.        ,\n",
       "       0.        , 0.        , 0.        , 0.        , 0.        ,\n",
       "       0.        , 0.        , 0.        , 0.        , 0.        ,\n",
       "       0.        , 0.        , 0.        , 0.        , 0.        ,\n",
       "       0.        , 0.        , 0.        , 0.        , 0.        ,\n",
       "       0.        , 0.        , 0.        , 0.        , 0.        ,\n",
       "       0.        , 0.        , 0.        , 0.        , 0.        ,\n",
       "       0.        , 0.        , 0.        , 0.        , 0.        ,\n",
       "       0.        , 0.        , 0.        , 0.        , 0.        ,\n",
       "       0.        , 0.        , 0.        , 0.        , 0.        ,\n",
       "       0.        , 0.        , 0.        , 0.        , 0.        ,\n",
       "       0.        , 0.        , 0.        , 0.        , 0.        ,\n",
       "       0.        , 0.        , 0.        , 0.        , 0.        ,\n",
       "       0.        , 0.        , 0.        , 0.        , 0.        ,\n",
       "       0.        , 0.        , 0.        , 0.        , 0.        ,\n",
       "       0.        , 0.        , 0.        , 0.        , 0.        ,\n",
       "       0.        , 0.        , 0.        , 0.        , 0.        ,\n",
       "       0.        , 0.        , 0.        , 0.        , 0.        ,\n",
       "       0.        , 0.        , 0.        , 0.        , 0.        ,\n",
       "       0.        , 0.        , 0.        , 0.        , 0.        ,\n",
       "       0.        , 0.        , 0.        , 0.        , 0.        ,\n",
       "       0.        , 0.        , 0.        , 0.        , 0.        ,\n",
       "       0.        , 0.        , 0.        , 0.        , 0.        ,\n",
       "       0.        , 0.        , 0.        , 0.        , 0.        ,\n",
       "       0.        , 0.        , 0.        , 0.        , 0.        ,\n",
       "       0.        , 0.        , 0.        , 0.        , 0.        ,\n",
       "       0.        , 0.        , 0.        , 0.        , 0.        ,\n",
       "       0.        , 0.        , 0.        , 0.        , 0.        ,\n",
       "       0.        , 0.        , 0.        , 0.        , 0.        ,\n",
       "       0.        , 0.        , 0.        , 0.        , 0.        ,\n",
       "       0.        , 0.        , 0.        , 0.        , 0.        ,\n",
       "       0.        , 0.        , 0.        , 0.        , 0.        ,\n",
       "       0.        , 0.        , 0.        , 0.        , 0.        ,\n",
       "       0.        , 0.        , 0.        , 0.        , 0.        ,\n",
       "       0.        , 0.        , 0.        , 0.        , 0.        ,\n",
       "       0.        , 0.        , 0.        , 0.        , 0.        ,\n",
       "       0.        , 0.        , 0.        , 0.        , 0.        ,\n",
       "       0.        , 0.        , 0.        , 0.        , 0.        ,\n",
       "       0.        , 0.        , 0.        , 0.        , 0.04346109,\n",
       "       0.        , 0.00158881, 0.00379699, 0.19181279, 0.        ,\n",
       "       0.        , 0.        , 0.00570161, 0.        , 0.        ,\n",
       "       0.        , 0.        , 0.        , 0.        , 0.        ,\n",
       "       0.        , 0.        , 0.        , 0.        , 0.        ,\n",
       "       0.0039286 , 0.05431248, 0.20658806, 0.        , 0.        ,\n",
       "       0.00727221, 0.        , 0.00143181, 0.        , 0.09534946,\n",
       "       0.        , 0.        , 0.        , 0.        , 0.        ,\n",
       "       0.        , 0.        , 0.        , 0.        , 0.        ,\n",
       "       0.00742243, 0.01039063, 0.        , 0.        , 0.        ,\n",
       "       0.        , 0.        , 0.        , 0.        , 0.        ,\n",
       "       0.0010784 , 0.        , 0.        , 0.        , 0.        ,\n",
       "       0.        , 0.        , 0.        , 0.        , 0.        ,\n",
       "       0.        , 0.        , 0.04756683, 0.18249963, 0.13579818,\n",
       "       0.        , 0.        , 0.        , 0.        , 0.        ,\n",
       "       0.        , 0.        , 0.        , 0.        , 0.        ,\n",
       "       0.        , 0.        , 0.        , 0.        , 0.        ,\n",
       "       0.        , 0.        , 0.        , 0.        , 0.        ,\n",
       "       0.        , 0.        , 0.        , 0.        , 0.        ,\n",
       "       0.        , 0.        , 0.        , 0.        , 0.        ,\n",
       "       0.        , 0.        , 0.        , 0.        , 0.        ,\n",
       "       0.        , 0.        , 0.        , 0.        , 0.        ,\n",
       "       0.        , 0.        , 0.        , 0.        , 0.        ,\n",
       "       0.        , 0.        , 0.        , 0.        , 0.        ,\n",
       "       0.        , 0.        , 0.        , 0.        , 0.        ,\n",
       "       0.        , 0.        , 0.        , 0.        , 0.        ,\n",
       "       0.        , 0.        , 0.        , 0.        , 0.        ,\n",
       "       0.        , 0.        , 0.        , 0.        , 0.        ,\n",
       "       0.        , 0.        , 0.        , 0.        , 0.        ,\n",
       "       0.        , 0.        , 0.        , 0.        , 0.        ,\n",
       "       0.        , 0.        , 0.        , 0.        , 0.        ,\n",
       "       0.        , 0.        , 0.        , 0.        , 0.        ,\n",
       "       0.        , 0.        , 0.        , 0.        , 0.        ,\n",
       "       0.        , 0.        , 0.        , 0.        , 0.        ,\n",
       "       0.        , 0.        , 0.        , 0.        , 0.        ,\n",
       "       0.        , 0.        , 0.        , 0.        , 0.        ,\n",
       "       0.        , 0.        , 0.        , 0.        , 0.        ,\n",
       "       0.        , 0.        , 0.        , 0.        , 0.        ,\n",
       "       0.        ])"
      ]
     },
     "execution_count": 20,
     "metadata": {},
     "output_type": "execute_result"
    }
   ],
   "source": [
    "importances"
   ]
  },
  {
   "cell_type": "code",
   "execution_count": 16,
   "metadata": {},
   "outputs": [],
   "source": [
    "feats = {} # a dict to hold feature_name: feature_importance\n",
    "for feature, importance in zip(sample_df.columns, model.feature_importances_):\n",
    "    feats[feature] = importance #add the name/value pair \n",
    "\n",
    "importance = pd.DataFrame.from_dict(feats, orient='index').rename(columns={0: 'Gini-importance'})"
   ]
  },
  {
   "cell_type": "code",
   "execution_count": 46,
   "metadata": {},
   "outputs": [
    {
     "data": {
      "text/plain": [
       "['CODPUB_Small Intestine, Digestive, Malignant',\n",
       " 'CODPUB_Non-Hodgkin Lymphoma, Lymphoma, Malignant',\n",
       " 'CODPUB_Anus, Anal Canal and Anorectum, Digestive, Malignant',\n",
       " 'CODPUB_Bones and Joints,  Malignant',\n",
       " 'CODPUB_Lip, Oral/Pharynx, Malignant',\n",
       " 'CODPUB_Chronic Myeloid Leukemia, Leukemia, Malignant',\n",
       " 'CODPUB_Nasopharynx, Oral/Pharynx, Malignant',\n",
       " 'CODPUB_Other Urinary Organs, Urinary, Malignant',\n",
       " 'CODPUB_Ovary, Female genitalia, Malignant',\n",
       " 'CODPUB_Aleukemic, subleukemic and NOS, Leukemia, Malignant',\n",
       " 'CODPUB_Vulva, Female genitalia, Malignant',\n",
       " 'CODPUB_Liver, Digestive, Malignant',\n",
       " 'CODPUB_Nose, Nasal Cavity and Middle Ear, Respiratory, Malignant',\n",
       " 'ODTHCLASS_Dead',\n",
       " 'STAT_REC_Dead',\n",
       " 'CODPUB_Brain and Other Nervous System, Malignant',\n",
       " 'CODPUB_Lung and Bronchus, Respiratory, Malignant']"
      ]
     },
     "execution_count": 46,
     "metadata": {},
     "output_type": "execute_result"
    }
   ],
   "source": [
    "importance.sort_values('Gini-importance')[-17:].index.values.tolist()"
   ]
  },
  {
   "cell_type": "code",
   "execution_count": 40,
   "metadata": {},
   "outputs": [
    {
     "data": {
      "text/plain": [
       "<matplotlib.axes._subplots.AxesSubplot at 0x1ca25208>"
      ]
     },
     "execution_count": 40,
     "metadata": {},
     "output_type": "execute_result"
    },
    {
     "data": {
      "image/png": "[encoded data removed]",
      "text/plain": [
       "<matplotlib.figure.Figure at 0x1c7d2550>"
      ]
     },
     "metadata": {},
     "output_type": "display_data"
    }
   ],
   "source": [
    "n = 20\n",
    "importance.sort_values('Gini-importance')[-n:].plot(kind='barh')"
   ]
  },
  {
   "cell_type": "code",
   "execution_count": 56,
   "metadata": {},
   "outputs": [],
   "source": [
    "vars_to_keep=importance.sort_values('Gini-importance')[-17:].index.values.tolist()"
   ]
  },
  {
   "cell_type": "code",
   "execution_count": 57,
   "metadata": {
    "collapsed": true
   },
   "outputs": [],
   "source": [
    "vars_to_keep.append('VSRTSADX')"
   ]
  },
  {
   "cell_type": "code",
   "execution_count": 59,
   "metadata": {},
   "outputs": [],
   "source": [
    "sample_df=sample_df[vars_to_keep]"
   ]
  },
  {
   "cell_type": "code",
   "execution_count": 61,
   "metadata": {},
   "outputs": [],
   "source": [
    "sample_df.to_csv('after_variable_importance.csv')"
   ]
  },
  {
   "cell_type": "code",
   "execution_count": null,
   "metadata": {
    "collapsed": true
   },
   "outputs": [],
   "source": []
  },
  {
   "cell_type": "markdown",
   "metadata": {},
   "source": [
    "# PCA"
   ]
  },
  {
   "cell_type": "code",
   "execution_count": 11,
   "metadata": {
    "collapsed": true
   },
   "outputs": [],
   "source": [
    "import numpy as np\n",
    "import pandas as pd\n",
    "from time import time\n",
    "from IPython.display import display # Allows the use of display() for DataFrames\n",
    "import matplotlib.pyplot as plt\n",
    "pd.options.display.max_colwidth = 390\n",
    "%matplotlib inline"
   ]
  },
  {
   "cell_type": "code",
   "execution_count": 12,
   "metadata": {
    "collapsed": true
   },
   "outputs": [],
   "source": [
    "chunksize = 10**6\n",
    "TextFileReader = pd.read_csv('after_variable_importance.csv', sep=',', chunksize=chunksize, iterator=True)\n",
    "df = pd.concat(TextFileReader, ignore_index=True)\n"
   ]
  },
  {
   "cell_type": "code",
   "execution_count": 13,
   "metadata": {
    "collapsed": true
   },
   "outputs": [],
   "source": [
    "df.drop('Unnamed: 0', axis=1,inplace=True)"
   ]
  },
  {
   "cell_type": "code",
   "execution_count": 4,
   "metadata": {},
   "outputs": [],
   "source": [
    "X=df.iloc[:,1:-1].values\n",
    "y=df.iloc[:,17].values"
   ]
  },
  {
   "cell_type": "code",
   "execution_count": 5,
   "metadata": {},
   "outputs": [
    {
     "name": "stderr",
     "output_type": "stream",
     "text": [
      "C:\\Users\\user\\Anaconda3\\lib\\site-packages\\sklearn\\cross_validation.py:44: DeprecationWarning: This module was deprecated in version 0.18 in favor of the model_selection module into which all the refactored classes and functions are moved. Also note that the interface of the new CV iterators are different from that of this module. This module will be removed in 0.20.\n",
      "  \"This module will be removed in 0.20.\", DeprecationWarning)\n"
     ]
    }
   ],
   "source": [
    "from sklearn.cross_validation import train_test_split\n",
    "X_train,X_test, y_train, y_test= train_test_split(X,y, test_size=0.25)"
   ]
  },
  {
   "cell_type": "code",
   "execution_count": 6,
   "metadata": {
    "collapsed": true
   },
   "outputs": [],
   "source": [
    "from sklearn.decomposition import PCA\n",
    "pca=PCA()\n",
    "\n",
    "X_train=pca.fit_transform(X_train)\n",
    "X_test=pca.fit_transform(X_test)"
   ]
  },
  {
   "cell_type": "code",
   "execution_count": 7,
   "metadata": {
    "collapsed": true
   },
   "outputs": [],
   "source": [
    "explained_variance = pca.explained_variance_ratio_"
   ]
  },
  {
   "cell_type": "code",
   "execution_count": 8,
   "metadata": {},
   "outputs": [
    {
     "data": {
      "text/plain": [
       "array([7.67018989e-01, 1.84212884e-01, 3.05790665e-02, 7.38568581e-03,\n",
       "       4.23576711e-03, 2.57371494e-03, 1.92564009e-03, 7.01826339e-04,\n",
       "       3.35246379e-04, 3.22603321e-04, 2.84663320e-04, 1.39191013e-04,\n",
       "       1.07558407e-04, 8.22618374e-05, 8.22464493e-05, 1.26554149e-05])"
      ]
     },
     "execution_count": 8,
     "metadata": {},
     "output_type": "execute_result"
    }
   ],
   "source": [
    "explained_variance"
   ]
  },
  {
   "cell_type": "code",
   "execution_count": 9,
   "metadata": {},
   "outputs": [],
   "source": [
    "feats = {} # a dict to hold feature_name: feature_importance\n",
    "for feature, variance in zip(df.columns, pca.explained_variance_ratio_):\n",
    "    feats[feature] = variance #add the name/value pair \n",
    "\n",
    "variance = pd.DataFrame.from_dict(feats, orient='index').rename(columns={0: 'pca.explained_variance_ratio_'})"
   ]
  },
  {
   "cell_type": "code",
   "execution_count": 10,
   "metadata": {},
   "outputs": [
    {
     "data": {
      "image/png": "[encoded data removed]",
      "text/plain": [
       "<matplotlib.figure.Figure at 0x18c26c50>"
      ]
     },
     "metadata": {},
     "output_type": "display_data"
    }
   ],
   "source": [
    "n = 10\n",
    "variance.sort_values('pca.explained_variance_ratio_')[-n:].plot(kind='barh');"
   ]
  },
  {
   "cell_type": "code",
   "execution_count": 11,
   "metadata": {},
   "outputs": [
    {
     "data": {
      "text/plain": [
       "['CODPUB_Aleukemic, subleukemic and NOS, Leukemia, Malignant',\n",
       " 'CODPUB_Ovary, Female genitalia, Malignant',\n",
       " 'CODPUB_Other Urinary Organs, Urinary, Malignant',\n",
       " 'CODPUB_Nasopharynx, Oral/Pharynx, Malignant',\n",
       " 'CODPUB_Chronic Myeloid Leukemia, Leukemia, Malignant',\n",
       " 'CODPUB_Lip, Oral/Pharynx, Malignant',\n",
       " 'CODPUB_Bones and Joints,  Malignant',\n",
       " 'CODPUB_Anus, Anal Canal and Anorectum, Digestive, Malignant',\n",
       " 'CODPUB_Non-Hodgkin Lymphoma, Lymphoma, Malignant',\n",
       " 'CODPUB_Small Intestine, Digestive, Malignant']"
      ]
     },
     "execution_count": 11,
     "metadata": {},
     "output_type": "execute_result"
    }
   ],
   "source": [
    "variance.sort_values('pca.explained_variance_ratio_')[-n:].index.tolist()"
   ]
  },
  {
   "cell_type": "code",
   "execution_count": 12,
   "metadata": {},
   "outputs": [
    {
     "name": "stdout",
     "output_type": "stream",
     "text": [
      "Chosen samples of wholesale customers dataset:\n"
     ]
    },
    {
     "data": {
      "text/html": [
       "<div>\n",
       "<style scoped>\n",
       "    .dataframe tbody tr th:only-of-type {\n",
       "        vertical-align: middle;\n",
       "    }\n",
       "\n",
       "    .dataframe tbody tr th {\n",
       "        vertical-align: top;\n",
       "    }\n",
       "\n",
       "    .dataframe thead th {\n",
       "        text-align: right;\n",
       "    }\n",
       "</style>\n",
       "<table border=\"1\" class=\"dataframe\">\n",
       "  <thead>\n",
       "    <tr style=\"text-align: right;\">\n",
       "      <th></th>\n",
       "      <th>CODPUB_Small Intestine, Digestive, Malignant</th>\n",
       "      <th>CODPUB_Non-Hodgkin Lymphoma, Lymphoma, Malignant</th>\n",
       "      <th>CODPUB_Anus, Anal Canal and Anorectum, Digestive, Malignant</th>\n",
       "      <th>CODPUB_Bones and Joints,  Malignant</th>\n",
       "      <th>CODPUB_Lip, Oral/Pharynx, Malignant</th>\n",
       "      <th>CODPUB_Chronic Myeloid Leukemia, Leukemia, Malignant</th>\n",
       "      <th>CODPUB_Nasopharynx, Oral/Pharynx, Malignant</th>\n",
       "      <th>CODPUB_Other Urinary Organs, Urinary, Malignant</th>\n",
       "      <th>CODPUB_Ovary, Female genitalia, Malignant</th>\n",
       "      <th>CODPUB_Aleukemic, subleukemic and NOS, Leukemia, Malignant</th>\n",
       "      <th>CODPUB_Vulva, Female genitalia, Malignant</th>\n",
       "      <th>CODPUB_Liver, Digestive, Malignant</th>\n",
       "      <th>CODPUB_Nose, Nasal Cavity and Middle Ear, Respiratory, Malignant</th>\n",
       "      <th>ODTHCLASS_Dead</th>\n",
       "      <th>STAT_REC_Dead</th>\n",
       "      <th>CODPUB_Brain and Other Nervous System, Malignant</th>\n",
       "      <th>CODPUB_Lung and Bronchus, Respiratory, Malignant</th>\n",
       "      <th>VSRTSADX</th>\n",
       "    </tr>\n",
       "  </thead>\n",
       "  <tbody>\n",
       "    <tr>\n",
       "      <th>0</th>\n",
       "      <td>0</td>\n",
       "      <td>0</td>\n",
       "      <td>0</td>\n",
       "      <td>0</td>\n",
       "      <td>0</td>\n",
       "      <td>0</td>\n",
       "      <td>0</td>\n",
       "      <td>0</td>\n",
       "      <td>0</td>\n",
       "      <td>0</td>\n",
       "      <td>0</td>\n",
       "      <td>0</td>\n",
       "      <td>0</td>\n",
       "      <td>0</td>\n",
       "      <td>0</td>\n",
       "      <td>0</td>\n",
       "      <td>0</td>\n",
       "      <td>0</td>\n",
       "    </tr>\n",
       "    <tr>\n",
       "      <th>1</th>\n",
       "      <td>0</td>\n",
       "      <td>0</td>\n",
       "      <td>0</td>\n",
       "      <td>0</td>\n",
       "      <td>0</td>\n",
       "      <td>0</td>\n",
       "      <td>0</td>\n",
       "      <td>0</td>\n",
       "      <td>0</td>\n",
       "      <td>0</td>\n",
       "      <td>0</td>\n",
       "      <td>0</td>\n",
       "      <td>0</td>\n",
       "      <td>0</td>\n",
       "      <td>1</td>\n",
       "      <td>0</td>\n",
       "      <td>0</td>\n",
       "      <td>0</td>\n",
       "    </tr>\n",
       "    <tr>\n",
       "      <th>2</th>\n",
       "      <td>0</td>\n",
       "      <td>0</td>\n",
       "      <td>0</td>\n",
       "      <td>0</td>\n",
       "      <td>0</td>\n",
       "      <td>0</td>\n",
       "      <td>0</td>\n",
       "      <td>0</td>\n",
       "      <td>0</td>\n",
       "      <td>0</td>\n",
       "      <td>0</td>\n",
       "      <td>0</td>\n",
       "      <td>0</td>\n",
       "      <td>0</td>\n",
       "      <td>0</td>\n",
       "      <td>0</td>\n",
       "      <td>0</td>\n",
       "      <td>0</td>\n",
       "    </tr>\n",
       "  </tbody>\n",
       "</table>\n",
       "</div>"
      ],
      "text/plain": [
       "   CODPUB_Small Intestine, Digestive, Malignant  \\\n",
       "0                                             0   \n",
       "1                                             0   \n",
       "2                                             0   \n",
       "\n",
       "   CODPUB_Non-Hodgkin Lymphoma, Lymphoma, Malignant  \\\n",
       "0                                                 0   \n",
       "1                                                 0   \n",
       "2                                                 0   \n",
       "\n",
       "   CODPUB_Anus, Anal Canal and Anorectum, Digestive, Malignant  \\\n",
       "0                                                            0   \n",
       "1                                                            0   \n",
       "2                                                            0   \n",
       "\n",
       "   CODPUB_Bones and Joints,  Malignant  CODPUB_Lip, Oral/Pharynx, Malignant  \\\n",
       "0                                    0                                    0   \n",
       "1                                    0                                    0   \n",
       "2                                    0                                    0   \n",
       "\n",
       "   CODPUB_Chronic Myeloid Leukemia, Leukemia, Malignant  \\\n",
       "0                                                     0   \n",
       "1                                                     0   \n",
       "2                                                     0   \n",
       "\n",
       "   CODPUB_Nasopharynx, Oral/Pharynx, Malignant  \\\n",
       "0                                            0   \n",
       "1                                            0   \n",
       "2                                            0   \n",
       "\n",
       "   CODPUB_Other Urinary Organs, Urinary, Malignant  \\\n",
       "0                                                0   \n",
       "1                                                0   \n",
       "2                                                0   \n",
       "\n",
       "   CODPUB_Ovary, Female genitalia, Malignant  \\\n",
       "0                                          0   \n",
       "1                                          0   \n",
       "2                                          0   \n",
       "\n",
       "   CODPUB_Aleukemic, subleukemic and NOS, Leukemia, Malignant  \\\n",
       "0                                                           0   \n",
       "1                                                           0   \n",
       "2                                                           0   \n",
       "\n",
       "   CODPUB_Vulva, Female genitalia, Malignant  \\\n",
       "0                                          0   \n",
       "1                                          0   \n",
       "2                                          0   \n",
       "\n",
       "   CODPUB_Liver, Digestive, Malignant  \\\n",
       "0                                   0   \n",
       "1                                   0   \n",
       "2                                   0   \n",
       "\n",
       "   CODPUB_Nose, Nasal Cavity and Middle Ear, Respiratory, Malignant  \\\n",
       "0                                                                 0   \n",
       "1                                                                 0   \n",
       "2                                                                 0   \n",
       "\n",
       "   ODTHCLASS_Dead  STAT_REC_Dead  \\\n",
       "0               0              0   \n",
       "1               0              1   \n",
       "2               0              0   \n",
       "\n",
       "   CODPUB_Brain and Other Nervous System, Malignant  \\\n",
       "0                                                 0   \n",
       "1                                                 0   \n",
       "2                                                 0   \n",
       "\n",
       "   CODPUB_Lung and Bronchus, Respiratory, Malignant  VSRTSADX  \n",
       "0                                                 0         0  \n",
       "1                                                 0         0  \n",
       "2                                                 0         0  "
      ]
     },
     "metadata": {},
     "output_type": "display_data"
    }
   ],
   "source": [
    "indices = [0,5,10]\n",
    "\n",
    "# Create a DataFrame of the chosen samples\n",
    "samples = pd.DataFrame(df.loc[indices], columns = df.keys()).reset_index(drop = True)\n",
    "print (\"Chosen samples of wholesale customers dataset:\")\n",
    "display(samples)"
   ]
  },
  {
   "cell_type": "code",
   "execution_count": 13,
   "metadata": {},
   "outputs": [],
   "source": [
    "# TODO: Apply PCA by fitting the good data with the same number of dimensions as features\n",
    "pca = PCA().fit(df)\n",
    "\n",
    "# TODO: Transform the sample log-data using the PCA fit above\n",
    "pca_samples = pca.transform(samples)"
   ]
  },
  {
   "cell_type": "code",
   "execution_count": null,
   "metadata": {
    "collapsed": true
   },
   "outputs": [],
   "source": []
  },
  {
   "cell_type": "code",
   "execution_count": 17,
   "metadata": {},
   "outputs": [],
   "source": [
    "def pca_results(good_data, pca):\n",
    "\t'''\n",
    "\tCreate a DataFrame of the PCA results\n",
    "\tIncludes dimension feature weights and explained variance\n",
    "\tVisualizes the PCA results\n",
    "\t'''\n",
    "\n",
    "\t# Dimension indexing\n",
    "\tdimensions = ['Dimension {}'.format(i) for i in range(1,len(pca.components_)+1)]\n",
    "\n",
    "\t# PCA components\n",
    "\tcomponents = pd.DataFrame(np.round(pca.components_, 4), columns = list(good_data.keys()))\n",
    "\tcomponents.index = dimensions\n",
    "\n",
    "\t# PCA explained variance\n",
    "\tratios = pca.explained_variance_ratio_.reshape(len(pca.components_), 1)\n",
    "\tvariance_ratios = pd.DataFrame(np.round(ratios, 4), columns = ['Explained Variance'])\n",
    "\tvariance_ratios.index = dimensions\n",
    "\n",
    "\t# Create a bar plot visualization\n",
    "\tfig, ax = plt.subplots(figsize = (20,8))\n",
    "\n",
    "\t# Plot the feature weights as a function of the components\n",
    "\tcomponents.plot(ax = ax, kind = 'bar');\n",
    "\tax.set_ylabel(\"Feature Weights\")\n",
    "\tax.set_xticklabels(dimensions, rotation=0)\n",
    "\n",
    "4\n",
    "\t# Display the explained variance ratios\n",
    "\tfor i, ev in enumerate(pca.explained_variance_ratio_):\n",
    "\t\tax.text(i-0.40, ax.get_ylim()[1] + 0.05, \"Explained Variance\\n          %.4f\"%(ev))\n",
    "\n",
    "\t# Return a concatenated DataFrame\n",
    "\treturn pd.concat([variance_ratios, components], axis = 1)"
   ]
  },
  {
   "cell_type": "code",
   "execution_count": 18,
   "metadata": {},
   "outputs": [
    {
     "data": {
      "image/png": "[encoded data removed]",
      "text/plain": [
       "<matplotlib.figure.Figure at 0x1aa7bd68>"
      ]
     },
     "metadata": {},
     "output_type": "display_data"
    }
   ],
   "source": [
    "\n",
    "# Generate PCA results plot\n",
    "pca_results = pca_results(df, pca)"
   ]
  },
  {
   "cell_type": "code",
   "execution_count": 29,
   "metadata": {},
   "outputs": [],
   "source": [
    "# TODO: Apply PCA by fitting the good data with only two dimensions\n",
    "pca = PCA(n_components=4).fit(df)\n",
    "\n",
    "# TODO: Transform the good data using the PCA fit above\n",
    "reduced_data = pca.transform(df)\n",
    "\n",
    "# TODO: Transform the sample log-data using the PCA fit above\n",
    "pca_samples = pca.transform(samples)\n",
    "\n",
    "# Create a DataFrame for the reduced data\n",
    "reduced_data = pd.DataFrame(reduced_data, columns = ['Dimension 1', 'Dimension 2','Dimension 3', 'Dimension 4'])"
   ]
  },
  {
   "cell_type": "code",
   "execution_count": 14,
   "metadata": {},
   "outputs": [],
   "source": [
    "vars_to_keep=['CODPUB_Small Intestine, Digestive, Malignant',\n",
    "             'CODPUB_Non-Hodgkin Lymphoma, Lymphoma, Malignant',\n",
    "             'CODPUB_Anus, Anal Canal and Anorectum, Digestive, Malignant',\n",
    "             'C_Bones anODPUBd Joints,  Malignant',\n",
    "             'VSRTSADX']\n",
    "df=df[vars_to_keep]"
   ]
  },
  {
   "cell_type": "code",
   "execution_count": 15,
   "metadata": {
    "collapsed": true
   },
   "outputs": [],
   "source": [
    "df.to_csv('final_set.csv')"
   ]
  },
  {
   "cell_type": "markdown",
   "metadata": {},
   "source": [
    "# Supervised ML"
   ]
  },
  {
   "cell_type": "code",
   "execution_count": 1,
   "metadata": {
    "collapsed": true
   },
   "outputs": [],
   "source": [
    "import numpy as np\n",
    "import pandas as pd\n",
    "from time import time\n",
    "from IPython.display import display # Allows the use of display() for DataFrames\n",
    "import matplotlib.pyplot as plt\n",
    "pd.options.display.max_colwidth = 390\n",
    "%matplotlib inline"
   ]
  },
  {
   "cell_type": "code",
   "execution_count": 2,
   "metadata": {},
   "outputs": [
    {
     "name": "stderr",
     "output_type": "stream",
     "text": [
      "C:\\Users\\user\\Anaconda3\\lib\\site-packages\\IPython\\core\\interactiveshell.py:2881: DtypeWarning: Columns (48) have mixed types. Specify dtype option on import or set low_memory=False.\n",
      "  exec(code_obj, self.user_global_ns, self.user_ns)\n"
     ]
    }
   ],
   "source": [
    "chunksize = 10**6\n",
    "TextFileReader = pd.read_csv('whole_list_categorical.csv', sep=',', chunksize=chunksize, iterator=True)\n",
    "df = pd.concat(TextFileReader, ignore_index=True)\n"
   ]
  },
  {
   "cell_type": "code",
   "execution_count": 3,
   "metadata": {
    "collapsed": true
   },
   "outputs": [],
   "source": [
    "df1=df['VSRTSADX']"
   ]
  },
  {
   "cell_type": "code",
   "execution_count": 4,
   "metadata": {},
   "outputs": [],
   "source": [
    "vars_to_keep=['CODPUB','STAT_REC', 'ODTHCLASS', 'CSEXTEN']\n",
    "df=df[vars_to_keep]"
   ]
  },
  {
   "cell_type": "code",
   "execution_count": 5,
   "metadata": {
    "collapsed": true
   },
   "outputs": [],
   "source": [
    "df_sample=pd.get_dummies(df,drop_first=True)"
   ]
  },
  {
   "cell_type": "code",
   "execution_count": 6,
   "metadata": {},
   "outputs": [],
   "source": [
    "df=df_sample.join(df1)"
   ]
  },
  {
   "cell_type": "code",
   "execution_count": 7,
   "metadata": {},
   "outputs": [
    {
     "name": "stdout",
     "output_type": "stream",
     "text": [
      "<class 'pandas.core.frame.DataFrame'>\n",
      "RangeIndex: 1631572 entries, 0 to 1631571\n",
      "Data columns (total 98 columns):\n",
      "CODPUB_Acute Monocytic Leukemia, Leukemia, Malignant                                1631572 non-null uint8\n",
      "CODPUB_Acute myeloid, Leukemia, Malignant                                           1631572 non-null uint8\n",
      "CODPUB_Aleukemic, subleukemic and NOS, Leukemia, Malignant                          1631572 non-null uint8\n",
      "CODPUB_Alive                                                                        1631572 non-null uint8\n",
      "CODPUB_Anus, Anal Canal and Anorectum, Digestive, Malignant                         1631572 non-null uint8\n",
      "CODPUB_Bones and Joints,  Malignant                                                 1631572 non-null uint8\n",
      "CODPUB_Brain and Other Nervous System, Malignant                                    1631572 non-null uint8\n",
      "CODPUB_Breast, Malignant                                                            1631572 non-null uint8\n",
      "CODPUB_Cervix Uteri, Female genitalia, Malignant                                    1631572 non-null uint8\n",
      "CODPUB_Chronic Lymphocytic Leukemia, Leukemia, Malignant                            1631572 non-null uint8\n",
      "CODPUB_Chronic Myeloid Leukemia, Leukemia, Malignant                                1631572 non-null uint8\n",
      "CODPUB_Colon excluding Rectum, Digestive, Malignant                                 1631572 non-null uint8\n",
      "CODPUB_Corpus Uteri, Female genitalia, Malignant                                    1631572 non-null uint8\n",
      "CODPUB_Esophagus, Digestive, Malignant                                              1631572 non-null uint8\n",
      "CODPUB_Eye and Orbit, Malignant                                                     1631572 non-null uint8\n",
      "CODPUB_Floor of Mouth, Oral/Pharynx, Malignant                                      1631572 non-null uint8\n",
      "CODPUB_Gallbladder, Digestive, Malignant                                            1631572 non-null uint8\n",
      "CODPUB_Gum and Other Mouth, Oral/Pharynx, Malignant                                 1631572 non-null uint8\n",
      "CODPUB_Hodgkin Lymphoma, Lymphoma, Malignant                                        1631572 non-null uint8\n",
      "CODPUB_Hypopharynx, Oral/Pharynx, Malignant                                         1631572 non-null uint8\n",
      "CODPUB_Intrahepatic Bile Duct, Digestive, Malignant                                 1631572 non-null uint8\n",
      "CODPUB_Kidney and Renal Pelvis, Urinary, Malignant                                  1631572 non-null uint8\n",
      "CODPUB_Larynx, Respiratory, Malignant                                               1631572 non-null uint8\n",
      "CODPUB_Lip, Oral/Pharynx, Malignant                                                 1631572 non-null uint8\n",
      "CODPUB_Liver, Digestive, Malignant                                                  1631572 non-null uint8\n",
      "CODPUB_Lung and Bronchus, Respiratory, Malignant                                    1631572 non-null uint8\n",
      "CODPUB_Miscellaneous Malignant Cancer, Malignant                                    1631572 non-null uint8\n",
      "CODPUB_Myeloma, Malignant                                                           1631572 non-null uint8\n",
      "CODPUB_Nasopharynx, Oral/Pharynx, Malignant                                         1631572 non-null uint8\n",
      "CODPUB_Non-Cancer                                                                   1631572 non-null uint8\n",
      "CODPUB_Non-Hodgkin Lymphoma, Lymphoma, Malignant                                    1631572 non-null uint8\n",
      "CODPUB_Non-Melanoma , Skin, Malignant                                               1631572 non-null uint8\n",
      "CODPUB_Nose, Nasal Cavity and Middle Ear, Respiratory, Malignant                    1631572 non-null uint8\n",
      "CODPUB_Not Available/no COD                                                         1631572 non-null uint8\n",
      "CODPUB_Oropharynx, Oral/Pharynx, Malignant                                          1631572 non-null uint8\n",
      "CODPUB_Other Acute Leukemia, Leukemia, Malignant                                    1631572 non-null uint8\n",
      "CODPUB_Other Biliary, Digestive, Malignant                                          1631572 non-null uint8\n",
      "CODPUB_Other Digestive Organs, Digestive, Malignant                                 1631572 non-null uint8\n",
      "CODPUB_Other Endocrine including thymus, Endocrine, Malignant                       1631572 non-null uint8\n",
      "CODPUB_Other Female Genital Organs, Female genitalia, Malignant                     1631572 non-null uint8\n",
      "CODPUB_Other Lymphocytic Leukemia, Leukemia, Malignant                              1631572 non-null uint8\n",
      "CODPUB_Other Myeloid/Monocytic Leukemia, Leukemia, Malignant                        1631572 non-null uint8\n",
      "CODPUB_Other Oral Cavity and Pharynx, Oral/Pharynx, Malignant                       1631572 non-null uint8\n",
      "CODPUB_Other Urinary Organs, Urinary, Malignant                                     1631572 non-null uint8\n",
      "CODPUB_Ovary, Female genitalia, Malignant                                           1631572 non-null uint8\n",
      "CODPUB_Pancreas, Digestive, Malignant                                               1631572 non-null uint8\n",
      "CODPUB_Peritoneum, Omentum and Mesentery, Digestive, Malignant                      1631572 non-null uint8\n",
      "CODPUB_Pleura, Respiratory, Malignant                                               1631572 non-null uint8\n",
      "CODPUB_Prostate, Male genitalia, Malignant                                          1631572 non-null uint8\n",
      "CODPUB_Rectum and Rectosigmoid Junction, Digestive, Malignant                       1631572 non-null uint8\n",
      "CODPUB_Retroperitoneum, Digestive, Malignant                                        1631572 non-null uint8\n",
      "CODPUB_Salivary Gland, Oral/Pharynx, Malignant                                      1631572 non-null uint8\n",
      "CODPUB_Skin & Melanoma , Skin, Malignant                                            1631572 non-null uint8\n",
      "CODPUB_Small Intestine, Digestive, Malignant                                        1631572 non-null uint8\n",
      "CODPUB_Soft Tissue including Heart , Malignant                                      1631572 non-null uint8\n",
      "CODPUB_Stomach, Digestive, Malignant                                                1631572 non-null uint8\n",
      "CODPUB_Testis, Male genitalia, Malignant                                            1631572 non-null uint8\n",
      "CODPUB_Thyroid, Endocrine, Malignant                                                1631572 non-null uint8\n",
      "CODPUB_Tongue, Oral/Pharynx, Malignant                                              1631572 non-null uint8\n",
      "CODPUB_Tonsil, Oral/Pharynx, Malignant                                              1631572 non-null uint8\n",
      "CODPUB_Trachea, Mediastinum and Other Respiratory Organs, Respiratory, Malignant    1631572 non-null uint8\n",
      "CODPUB_Ureter, Urinary, Malignant                                                   1631572 non-null uint8\n",
      "CODPUB_Urinary Bladder, Urinary, Malignant                                          1631572 non-null uint8\n",
      "CODPUB_Uterus, NOS, Female genitalia, Malignant                                     1631572 non-null uint8\n",
      "CODPUB_Vagina, Female genitalia, Malignant                                          1631572 non-null uint8\n",
      "CODPUB_Vulva, Female genitalia, Malignant                                           1631572 non-null uint8\n",
      "STAT_REC_Dead                                                                       1631572 non-null uint8\n",
      "ODTHCLASS_Dead                                                                      1631572 non-null uint8\n",
      "ODTHCLASS_N/A not first tumor                                                       1631572 non-null uint8\n",
      "CSEXTEN_ T2                                                                         1631572 non-null uint8\n",
      "CSEXTEN_600.0                                                                       1631572 non-null uint8\n",
      "CSEXTEN_Attachment or fixation to pectoral muscle(s) or underlying tissue           1631572 non-null uint8\n",
      "CSEXTEN_Confined to breast tissue and fat including nipple and/or areola            1631572 non-null uint8\n",
      "CSEXTEN_Diagnosis of inflammatory carcinoma                                         1631572 non-null uint8\n",
      "CSEXTEN_Extensive skin involvement                                                  1631572 non-null uint8\n",
      "CSEXTEN_Extensive skin involvement breast  % not stated                             1631572 non-null uint8\n",
      "CSEXTEN_Extensive skin involvement breast  33%-50%                                  1631572 non-null uint8\n",
      "CSEXTEN_Extensive skin involvement breast  more 50%                                 1631572 non-null uint8\n",
      "CSEXTEN_Extensive skin involvement breast more then 33%                             1631572 non-null uint8\n",
      "CSEXTEN_In situ Lobular neoplasia                                                   1631572 non-null uint8\n",
      "CSEXTEN_Invasion chest wall                                                         1631572 non-null uint8\n",
      "CSEXTEN_Invasion chest wall +Extensive skin involvement                             1631572 non-null uint8\n",
      "CSEXTEN_Invasion of subcutaneous tissue                                             1631572 non-null uint8\n",
      "CSEXTEN_No evidence of primary tumor                                                1631572 non-null uint8\n",
      "CSEXTEN_Paget Disease disease of nipple  no carcinoma                               1631572 non-null uint8\n",
      "CSEXTEN_Paget disease of nipple  no tumor                                           1631572 non-null uint8\n",
      "CSEXTEN_T1 [NOS]                                                                    1631572 non-null uint8\n",
      "CSEXTEN_T1b                                                                         1631572 non-null uint8\n",
      "CSEXTEN_T1c                                                                         1631572 non-null uint8\n",
      "CSEXTEN_T1mi                                                                        1631572 non-null uint8\n",
      "CSEXTEN_T3                                                                          1631572 non-null uint8\n",
      "CSEXTEN_T4 -NOS                                                                     1631572 non-null uint8\n",
      "CSEXTEN_T4a                                                                         1631572 non-null uint8\n",
      "CSEXTEN_T4b                                                                         1631572 non-null uint8\n",
      "CSEXTEN_T4c                                                                         1631572 non-null uint8\n",
      "CSEXTEN_T4d                                                                         1631572 non-null uint8\n",
      "CSEXTEN_Unknown                                                                     1631572 non-null uint8\n",
      "VSRTSADX                                                                            1631572 non-null int64\n",
      "dtypes: int64(1), uint8(97)\n",
      "memory usage: 163.4 MB\n"
     ]
    }
   ],
   "source": [
    "df.info()"
   ]
  },
  {
   "cell_type": "code",
   "execution_count": null,
   "metadata": {
    "collapsed": true
   },
   "outputs": [],
   "source": []
  },
  {
   "cell_type": "code",
   "execution_count": 8,
   "metadata": {
    "collapsed": true
   },
   "outputs": [],
   "source": [
    "X=df.iloc[:,1:-1].values\n",
    "y=df.iloc[:,97].values"
   ]
  },
  {
   "cell_type": "code",
   "execution_count": 9,
   "metadata": {},
   "outputs": [
    {
     "name": "stderr",
     "output_type": "stream",
     "text": [
      "C:\\Users\\user\\Anaconda3\\lib\\site-packages\\sklearn\\cross_validation.py:44: DeprecationWarning: This module was deprecated in version 0.18 in favor of the model_selection module into which all the refactored classes and functions are moved. Also note that the interface of the new CV iterators are different from that of this module. This module will be removed in 0.20.\n",
      "  \"This module will be removed in 0.20.\", DeprecationWarning)\n"
     ]
    }
   ],
   "source": [
    "from sklearn.cross_validation import train_test_split\n",
    "X_train,X_test, y_train, y_test= train_test_split(X,y, test_size=0.25)"
   ]
  },
  {
   "cell_type": "code",
   "execution_count": 10,
   "metadata": {},
   "outputs": [
    {
     "name": "stdout",
     "output_type": "stream",
     "text": [
      "Training set has 1223679 samples.\n",
      "Testing set has 407893 samples.\n"
     ]
    }
   ],
   "source": [
    "print(\"Training set has {} samples.\".format(X_train.shape[0]))\n",
    "print(\"Testing set has {} samples.\".format(X_test.shape[0]))"
   ]
  },
  {
   "cell_type": "code",
   "execution_count": 11,
   "metadata": {},
   "outputs": [
    {
     "data": {
      "text/html": [
       "<div>\n",
       "<style scoped>\n",
       "    .dataframe tbody tr th:only-of-type {\n",
       "        vertical-align: middle;\n",
       "    }\n",
       "\n",
       "    .dataframe tbody tr th {\n",
       "        vertical-align: top;\n",
       "    }\n",
       "\n",
       "    .dataframe thead th {\n",
       "        text-align: right;\n",
       "    }\n",
       "</style>\n",
       "<table border=\"1\" class=\"dataframe\">\n",
       "  <thead>\n",
       "    <tr style=\"text-align: right;\">\n",
       "      <th></th>\n",
       "      <th>CODPUB_Acute Monocytic Leukemia, Leukemia, Malignant</th>\n",
       "      <th>CODPUB_Acute myeloid, Leukemia, Malignant</th>\n",
       "      <th>CODPUB_Aleukemic, subleukemic and NOS, Leukemia, Malignant</th>\n",
       "      <th>CODPUB_Alive</th>\n",
       "      <th>CODPUB_Anus, Anal Canal and Anorectum, Digestive, Malignant</th>\n",
       "      <th>CODPUB_Bones and Joints,  Malignant</th>\n",
       "      <th>CODPUB_Brain and Other Nervous System, Malignant</th>\n",
       "      <th>CODPUB_Breast, Malignant</th>\n",
       "      <th>CODPUB_Cervix Uteri, Female genitalia, Malignant</th>\n",
       "      <th>CODPUB_Chronic Lymphocytic Leukemia, Leukemia, Malignant</th>\n",
       "      <th>...</th>\n",
       "      <th>CSEXTEN_T1c</th>\n",
       "      <th>CSEXTEN_T1mi</th>\n",
       "      <th>CSEXTEN_T3</th>\n",
       "      <th>CSEXTEN_T4 -NOS</th>\n",
       "      <th>CSEXTEN_T4a</th>\n",
       "      <th>CSEXTEN_T4b</th>\n",
       "      <th>CSEXTEN_T4c</th>\n",
       "      <th>CSEXTEN_T4d</th>\n",
       "      <th>CSEXTEN_Unknown</th>\n",
       "      <th>VSRTSADX</th>\n",
       "    </tr>\n",
       "  </thead>\n",
       "  <tbody>\n",
       "    <tr>\n",
       "      <th>0</th>\n",
       "      <td>0</td>\n",
       "      <td>0</td>\n",
       "      <td>0</td>\n",
       "      <td>1</td>\n",
       "      <td>0</td>\n",
       "      <td>0</td>\n",
       "      <td>0</td>\n",
       "      <td>0</td>\n",
       "      <td>0</td>\n",
       "      <td>0</td>\n",
       "      <td>...</td>\n",
       "      <td>0</td>\n",
       "      <td>0</td>\n",
       "      <td>0</td>\n",
       "      <td>0</td>\n",
       "      <td>0</td>\n",
       "      <td>0</td>\n",
       "      <td>0</td>\n",
       "      <td>0</td>\n",
       "      <td>0</td>\n",
       "      <td>0</td>\n",
       "    </tr>\n",
       "    <tr>\n",
       "      <th>1</th>\n",
       "      <td>0</td>\n",
       "      <td>0</td>\n",
       "      <td>0</td>\n",
       "      <td>0</td>\n",
       "      <td>0</td>\n",
       "      <td>0</td>\n",
       "      <td>0</td>\n",
       "      <td>0</td>\n",
       "      <td>0</td>\n",
       "      <td>0</td>\n",
       "      <td>...</td>\n",
       "      <td>0</td>\n",
       "      <td>0</td>\n",
       "      <td>0</td>\n",
       "      <td>0</td>\n",
       "      <td>0</td>\n",
       "      <td>0</td>\n",
       "      <td>0</td>\n",
       "      <td>0</td>\n",
       "      <td>0</td>\n",
       "      <td>0</td>\n",
       "    </tr>\n",
       "    <tr>\n",
       "      <th>2</th>\n",
       "      <td>0</td>\n",
       "      <td>0</td>\n",
       "      <td>0</td>\n",
       "      <td>0</td>\n",
       "      <td>0</td>\n",
       "      <td>0</td>\n",
       "      <td>0</td>\n",
       "      <td>0</td>\n",
       "      <td>0</td>\n",
       "      <td>0</td>\n",
       "      <td>...</td>\n",
       "      <td>0</td>\n",
       "      <td>0</td>\n",
       "      <td>0</td>\n",
       "      <td>0</td>\n",
       "      <td>0</td>\n",
       "      <td>0</td>\n",
       "      <td>0</td>\n",
       "      <td>0</td>\n",
       "      <td>0</td>\n",
       "      <td>0</td>\n",
       "    </tr>\n",
       "    <tr>\n",
       "      <th>3</th>\n",
       "      <td>0</td>\n",
       "      <td>0</td>\n",
       "      <td>0</td>\n",
       "      <td>0</td>\n",
       "      <td>0</td>\n",
       "      <td>0</td>\n",
       "      <td>0</td>\n",
       "      <td>0</td>\n",
       "      <td>0</td>\n",
       "      <td>0</td>\n",
       "      <td>...</td>\n",
       "      <td>0</td>\n",
       "      <td>0</td>\n",
       "      <td>0</td>\n",
       "      <td>0</td>\n",
       "      <td>0</td>\n",
       "      <td>0</td>\n",
       "      <td>0</td>\n",
       "      <td>0</td>\n",
       "      <td>0</td>\n",
       "      <td>0</td>\n",
       "    </tr>\n",
       "    <tr>\n",
       "      <th>4</th>\n",
       "      <td>0</td>\n",
       "      <td>0</td>\n",
       "      <td>0</td>\n",
       "      <td>1</td>\n",
       "      <td>0</td>\n",
       "      <td>0</td>\n",
       "      <td>0</td>\n",
       "      <td>0</td>\n",
       "      <td>0</td>\n",
       "      <td>0</td>\n",
       "      <td>...</td>\n",
       "      <td>0</td>\n",
       "      <td>0</td>\n",
       "      <td>0</td>\n",
       "      <td>0</td>\n",
       "      <td>0</td>\n",
       "      <td>0</td>\n",
       "      <td>0</td>\n",
       "      <td>0</td>\n",
       "      <td>0</td>\n",
       "      <td>0</td>\n",
       "    </tr>\n",
       "  </tbody>\n",
       "</table>\n",
       "<p>5 rows × 98 columns</p>\n",
       "</div>"
      ],
      "text/plain": [
       "   CODPUB_Acute Monocytic Leukemia, Leukemia, Malignant  \\\n",
       "0                                                     0   \n",
       "1                                                     0   \n",
       "2                                                     0   \n",
       "3                                                     0   \n",
       "4                                                     0   \n",
       "\n",
       "   CODPUB_Acute myeloid, Leukemia, Malignant  \\\n",
       "0                                          0   \n",
       "1                                          0   \n",
       "2                                          0   \n",
       "3                                          0   \n",
       "4                                          0   \n",
       "\n",
       "   CODPUB_Aleukemic, subleukemic and NOS, Leukemia, Malignant  CODPUB_Alive  \\\n",
       "0                                                           0             1   \n",
       "1                                                           0             0   \n",
       "2                                                           0             0   \n",
       "3                                                           0             0   \n",
       "4                                                           0             1   \n",
       "\n",
       "   CODPUB_Anus, Anal Canal and Anorectum, Digestive, Malignant  \\\n",
       "0                                                            0   \n",
       "1                                                            0   \n",
       "2                                                            0   \n",
       "3                                                            0   \n",
       "4                                                            0   \n",
       "\n",
       "   CODPUB_Bones and Joints,  Malignant  \\\n",
       "0                                    0   \n",
       "1                                    0   \n",
       "2                                    0   \n",
       "3                                    0   \n",
       "4                                    0   \n",
       "\n",
       "   CODPUB_Brain and Other Nervous System, Malignant  CODPUB_Breast, Malignant  \\\n",
       "0                                                 0                         0   \n",
       "1                                                 0                         0   \n",
       "2                                                 0                         0   \n",
       "3                                                 0                         0   \n",
       "4                                                 0                         0   \n",
       "\n",
       "   CODPUB_Cervix Uteri, Female genitalia, Malignant  \\\n",
       "0                                                 0   \n",
       "1                                                 0   \n",
       "2                                                 0   \n",
       "3                                                 0   \n",
       "4                                                 0   \n",
       "\n",
       "   CODPUB_Chronic Lymphocytic Leukemia, Leukemia, Malignant    ...     \\\n",
       "0                                                         0    ...      \n",
       "1                                                         0    ...      \n",
       "2                                                         0    ...      \n",
       "3                                                         0    ...      \n",
       "4                                                         0    ...      \n",
       "\n",
       "   CSEXTEN_T1c  CSEXTEN_T1mi  CSEXTEN_T3   CSEXTEN_T4 -NOS  CSEXTEN_T4a  \\\n",
       "0            0             0            0                0            0   \n",
       "1            0             0            0                0            0   \n",
       "2            0             0            0                0            0   \n",
       "3            0             0            0                0            0   \n",
       "4            0             0            0                0            0   \n",
       "\n",
       "   CSEXTEN_T4b  CSEXTEN_T4c  CSEXTEN_T4d  CSEXTEN_Unknown  VSRTSADX  \n",
       "0            0            0            0                0         0  \n",
       "1            0            0            0                0         0  \n",
       "2            0            0            0                0         0  \n",
       "3            0            0            0                0         0  \n",
       "4            0            0            0                0         0  \n",
       "\n",
       "[5 rows x 98 columns]"
      ]
     },
     "execution_count": 11,
     "metadata": {},
     "output_type": "execute_result"
    }
   ],
   "source": [
    "df.head()"
   ]
  },
  {
   "cell_type": "code",
   "execution_count": 12,
   "metadata": {},
   "outputs": [
    {
     "data": {
      "text/plain": [
       "234470"
      ]
     },
     "execution_count": 12,
     "metadata": {},
     "output_type": "execute_result"
    }
   ],
   "source": [
    "TP = np.sum(df['VSRTSADX'])\n",
    "TP"
   ]
  },
  {
   "cell_type": "code",
   "execution_count": 13,
   "metadata": {},
   "outputs": [
    {
     "data": {
      "text/plain": [
       "1397102"
      ]
     },
     "execution_count": 13,
     "metadata": {},
     "output_type": "execute_result"
    }
   ],
   "source": [
    "FP = df['VSRTSADX'].count() - TP\n",
    "FP"
   ]
  },
  {
   "cell_type": "code",
   "execution_count": 14,
   "metadata": {
    "collapsed": true
   },
   "outputs": [],
   "source": [
    "TN = 0 # No predicted negatives in the naive case\n",
    "FN = 0 # No predicted negatives in the naive case"
   ]
  },
  {
   "cell_type": "code",
   "execution_count": 15,
   "metadata": {},
   "outputs": [
    {
     "name": "stdout",
     "output_type": "stream",
     "text": [
      "Naive Predictor: [Accuracy score: 0.1437, F-score: 0.1734]\n"
     ]
    }
   ],
   "source": [
    "#  Calculate accuracy, precision and recall\n",
    "accuracy = TP/(TP + FP)\n",
    "precision = TP/(TP + FP)\n",
    "recall = TP/(TP + FN)\n",
    "\n",
    "#  Calculate F-score using the formula above for beta = 0.5 and correct values for precision and recall.\n",
    "b=0.5\n",
    "fscore = (1+b**2)*(precision/recall)/((precision*b**2)+recall)\n",
    "\n",
    "# Print the results \n",
    "print(\"Naive Predictor: [Accuracy score: {:.4f}, F-score: {:.4f}]\".format(accuracy, fscore))"
   ]
  },
  {
   "cell_type": "code",
   "execution_count": null,
   "metadata": {
    "collapsed": true
   },
   "outputs": [],
   "source": []
  },
  {
   "cell_type": "code",
   "execution_count": 16,
   "metadata": {
    "collapsed": true
   },
   "outputs": [],
   "source": [
    "# TODO: Import two metrics from sklearn - fbeta_score and accuracy_score\n",
    "from sklearn.metrics import fbeta_score\n",
    "from sklearn.metrics import accuracy_score\n",
    " \n",
    "\n",
    "def train_predict(learner, sample_size, X_train, y_train, X_test, y_test): \n",
    "    '''\n",
    "    inputs:\n",
    "       - learner: the learning algorithm to be trained and predicted on\n",
    "       - sample_size: the size of samples (number) to be drawn from training set\n",
    "       - X_train: features training set\n",
    "       - y_train: income training set\n",
    "       - X_test: features testing set\n",
    "       - y_test: income testing set\n",
    "    '''\n",
    "    \n",
    "    results = {}\n",
    "    \n",
    "    # Fit the learner to the training data using slicing with 'sample_size' using .fit(training_features[:], \n",
    "    #training_labels[:])\n",
    "    start = time() # Get start time\n",
    "    learner = learner.fit(X_train[:sample_size],y_train[:sample_size])\n",
    "    end = time() # Get end time\n",
    "    \n",
    "    #  Calculate the training time\n",
    "    results['train_time'] = end - start\n",
    "        \n",
    "    #  Get the predictions on the test set(X_test),\n",
    "    #       then get predictions on the first 300 training samples(X_train) using .predict()\n",
    "    start = time() # Get start time\n",
    "    predictions_test = learner.predict(X_test)\n",
    "    predictions_train = learner.predict(X_train[:300])\n",
    "    end = time() # Get end time\n",
    "    \n",
    "    #  Calculate the total prediction time\n",
    "    results['pred_time'] =  end - start\n",
    "            \n",
    "    #  Compute accuracy on the first 300 training samples which is y_train[:300]\n",
    "    results['acc_train'] = accuracy_score(y_train[:300], predictions_train)\n",
    "        \n",
    "    #  Compute accuracy on test set using accuracy_score()\n",
    "    results['acc_test'] = accuracy_score(y_test, predictions_test)\n",
    "\n",
    "    #  Compute F-score on the the first 300 training samples using fbeta_score()\n",
    "    results['f_train'] = fbeta_score(y_train[:300], predictions_train, 0.5)\n",
    "        \n",
    "    #  Compute F-score on the test set which is y_test\n",
    "    results['f_test'] = fbeta_score(y_test, predictions_test, 0.5)\n",
    "       \n",
    "    # Success\n",
    "    print(\"{} trained on {} samples.\".format(learner.__class__.__name__, sample_size))\n",
    "        \n",
    "    # Return the results\n",
    "    return results"
   ]
  },
  {
   "cell_type": "code",
   "execution_count": 17,
   "metadata": {
    "scrolled": true
   },
   "outputs": [
    {
     "name": "stdout",
     "output_type": "stream",
     "text": [
      "RandomForestClassifier trained on 12236 samples.\n",
      "RandomForestClassifier trained on 122367 samples.\n",
      "RandomForestClassifier trained on 1223679 samples.\n",
      "DecisionTreeClassifier trained on 12236 samples.\n",
      "DecisionTreeClassifier trained on 122367 samples.\n",
      "DecisionTreeClassifier trained on 1223679 samples.\n",
      "GradientBoostingClassifier trained on 12236 samples.\n",
      "GradientBoostingClassifier trained on 122367 samples.\n",
      "GradientBoostingClassifier trained on 1223679 samples.\n"
     ]
    }
   ],
   "source": [
    "#  Import the three supervised learning models from sklearn\n",
    "from sklearn.ensemble import RandomForestClassifier\n",
    "from sklearn.tree import DecisionTreeClassifier\n",
    "from sklearn.ensemble import GradientBoostingClassifier\n",
    "\n",
    "#  Initialize the three models\n",
    "clf_A = RandomForestClassifier()\n",
    "clf_B = DecisionTreeClassifier(random_state=0)\n",
    "clf_C = GradientBoostingClassifier (random_state=0)\n",
    "\n",
    "#  Calculate the number of samples for 1%, 10%, and 100% of the training data\n",
    "#  samples_100 is the entire training set i.e. len(y_train)\n",
    "#  samples_10 is 10% of samples_100 (ensure to set the count of the values to be `int` and not `float`)\n",
    "#  samples_1 is 1% of samples_100 (ensure to set the count of the values to be `int` and not `float`)\n",
    "samples_100 = len(y_train)\n",
    "samples_10 = int(len(y_train)*0.1)\n",
    "samples_1 = int(len(y_train)*0.01)\n",
    "\n",
    "# Collect results on the learners\n",
    "results = {}\n",
    "for clf in [clf_A, clf_B, clf_C]:\n",
    "    clf_name = clf.__class__.__name__\n",
    "    results[clf_name] = {}\n",
    "    for i, samples in enumerate([samples_1, samples_10, samples_100]):\n",
    "        results[clf_name][i] = \\\n",
    "        train_predict(clf, samples, X_train, y_train, X_test, y_test)\n"
   ]
  },
  {
   "cell_type": "code",
   "execution_count": 18,
   "metadata": {
    "collapsed": true
   },
   "outputs": [],
   "source": [
    "import matplotlib.pyplot as pl\n",
    "import matplotlib.patches as mpatches\n",
    "import numpy as np\n",
    "import pandas as pd\n",
    "from time import time\n",
    "from sklearn.metrics import f1_score, accuracy_score\n",
    "def evaluate(results, accuracy, f1):\n",
    "    \"\"\"\n",
    "    Visualization code to display results of various learners.\n",
    "    \n",
    "    inputs:\n",
    "      - learners: a list of supervised learners\n",
    "      - stats: a list of dictionaries of the statistic results from 'train_predict()'\n",
    "      - accuracy: The score for the naive predictor\n",
    "      - f1: The score for the naive predictor\n",
    "    \"\"\"\n",
    "  \n",
    "    # Create figure\n",
    "    fig, ax = pl.subplots(2, 3, figsize = (11,7))\n",
    "\n",
    "    # Constants\n",
    "    bar_width = 0.3\n",
    "    colors = ['#A00000','#00A0A0','#00A000']\n",
    "    \n",
    "    # Super loop to plot four panels of data\n",
    "    for k, learner in enumerate(results.keys()):\n",
    "        for j, metric in enumerate(['train_time', 'acc_train', 'f_train', 'pred_time', 'acc_test', 'f_test']):\n",
    "            for i in np.arange(3):\n",
    "                \n",
    "                # Creative plot code\n",
    "                ax[j//3, j%3].bar(i+k*bar_width, results[learner][i][metric], width = bar_width, color = colors[k])\n",
    "                ax[j//3, j%3].set_xticks([0.45, 1.45, 2.45])\n",
    "                ax[j//3, j%3].set_xticklabels([\"1%\", \"10%\", \"100%\"])\n",
    "                ax[j//3, j%3].set_xlabel(\"Training Set Size\")\n",
    "                ax[j//3, j%3].set_xlim((-0.1, 3.0))\n",
    "    \n",
    "    # Add unique y-labels\n",
    "    ax[0, 0].set_ylabel(\"Time (in seconds)\")\n",
    "    ax[0, 1].set_ylabel(\"Accuracy Score\")\n",
    "    ax[0, 2].set_ylabel(\"F-score\")\n",
    "    ax[1, 0].set_ylabel(\"Time (in seconds)\")\n",
    "    ax[1, 1].set_ylabel(\"Accuracy Score\")\n",
    "    ax[1, 2].set_ylabel(\"F-score\")\n",
    "    \n",
    "    # Add titles\n",
    "    ax[0, 0].set_title(\"Model Training\")\n",
    "    ax[0, 1].set_title(\"Accuracy Score on Training Subset\")\n",
    "    ax[0, 2].set_title(\"F-score on Training Subset\")\n",
    "    ax[1, 0].set_title(\"Model Predicting\")\n",
    "    ax[1, 1].set_title(\"Accuracy Score on Testing Set\")\n",
    "    ax[1, 2].set_title(\"F-score on Testing Set\")\n",
    "    \n",
    "    # Add horizontal lines for naive predictors\n",
    "    ax[0, 1].axhline(y = accuracy, xmin = -0.1, xmax = 3.0, linewidth = 1, color = 'k', linestyle = 'dashed')\n",
    "    ax[1, 1].axhline(y = accuracy, xmin = -0.1, xmax = 3.0, linewidth = 1, color = 'k', linestyle = 'dashed')\n",
    "    ax[0, 2].axhline(y = f1, xmin = -0.1, xmax = 3.0, linewidth = 1, color = 'k', linestyle = 'dashed')\n",
    "    ax[1, 2].axhline(y = f1, xmin = -0.1, xmax = 3.0, linewidth = 1, color = 'k', linestyle = 'dashed')\n",
    "    \n",
    "    # Set y-limits for score panels\n",
    "    ax[0, 1].set_ylim((0, 1))\n",
    "    ax[0, 2].set_ylim((0, 1))\n",
    "    ax[1, 1].set_ylim((0, 1))\n",
    "    ax[1, 2].set_ylim((0, 1))\n",
    "\n",
    "    # Create patches for the legend\n",
    "    patches = []\n",
    "    for i, learner in enumerate(results.keys()):\n",
    "        patches.append(mpatches.Patch(color = colors[i], label = learner))\n",
    "    pl.legend(handles = patches, bbox_to_anchor = (-.80, 2.53), \\\n",
    "               loc = 'upper center', borderaxespad = 0., ncol = 3, fontsize = 'x-large')\n",
    "    \n",
    "    # Aesthetics\n",
    "    pl.suptitle(\"Performance Metrics for Three Supervised Learning Models\", fontsize = 16, y = 1.10)\n",
    "    pl.tight_layout()\n",
    "    pl.show()"
   ]
  },
  {
   "cell_type": "code",
   "execution_count": null,
   "metadata": {
    "collapsed": true
   },
   "outputs": [],
   "source": []
  },
  {
   "cell_type": "code",
   "execution_count": 19,
   "metadata": {},
   "outputs": [
    {
     "data": {
      "image/png": "[encoded data removed]",
      "text/plain": [
       "<matplotlib.figure.Figure at 0x192af390>"
      ]
     },
     "metadata": {},
     "output_type": "display_data"
    }
   ],
   "source": [
    "# Run metrics visualization for the three supervised learning models chosen\n",
    "evaluate(results, accuracy, fscore)"
   ]
  },
  {
   "cell_type": "code",
   "execution_count": 21,
   "metadata": {},
   "outputs": [
    {
     "name": "stdout",
     "output_type": "stream",
     "text": [
      "Unoptimized model\n",
      "------\n",
      "Accuracy score on testing data: 1.0000\n",
      "F-score on testing data: 1.0000\n",
      "\n",
      "Optimized Model\n",
      "------\n",
      "Final accuracy score on the testing data: 1.0000\n",
      "Final F-score on the testing data: 1.0000\n"
     ]
    }
   ],
   "source": [
    "#  Import 'GridSearchCV', 'make_scorer', and any other necessary libraries\n",
    "from sklearn.model_selection import GridSearchCV\n",
    "from sklearn.metrics import make_scorer\n",
    "from sklearn.model_selection import KFold\n",
    "\n",
    "#  Initialize the classifier\n",
    "clf = GradientBoostingClassifier(random_state=0)\n",
    "\n",
    "#  Create the parameters list you wish to tune, using a dictionary if needed.\n",
    "#  parameters = {'parameter_1': [value1, value2], 'parameter_2': [value1, value2]}\n",
    "parameters = { 'learning_rate': [0.2, 0.3,0.4], 'max_depth' :[3, 5, 7] }\n",
    "\n",
    "#  Make an fbeta_score scoring object using make_scorer()\n",
    "scorer = make_scorer(fbeta_score, beta =0.5)\n",
    "kfold = KFold(n_splits=10, shuffle=True, random_state=0)\n",
    "\n",
    "#  Perform grid search on the classifier using 'scorer' as the scoring method using GridSearchCV()\n",
    "grid_obj = GridSearchCV(clf,parameters, scoring = scorer, cv = kfold)\n",
    "\n",
    "#  Fit the grid search object to the training data and find the optimal parameters using fit()\n",
    "grid_fit = grid_obj.fit(X_train, y_train)\n",
    "\n",
    "# Get the estimator\n",
    "best_clf = grid_fit.best_estimator_\n",
    "\n",
    "# Make predictions using the unoptimized and model\n",
    "predictions = (clf.fit(X_train, y_train)).predict(X_test)\n",
    "best_predictions = best_clf.predict(X_test)\n",
    "\n",
    "# Report the before-and-afterscores\n",
    "print(\"Unoptimized model\\n------\")\n",
    "print(\"Accuracy score on testing data: {:.4f}\".format(accuracy_score(y_test, predictions)))\n",
    "print(\"F-score on testing data: {:.4f}\".format(fbeta_score(y_test, predictions, beta = 0.5)))\n",
    "print(\"\\nOptimized Model\\n------\")\n",
    "print(\"Final accuracy score on the testing data: {:.4f}\".format(accuracy_score(y_test, best_predictions)))\n",
    "print(\"Final F-score on the testing data: {:.4f}\".format(fbeta_score(y_test, best_predictions, beta = 0.5)))"
   ]
  },
  {
   "cell_type": "code",
   "execution_count": null,
   "metadata": {
    "collapsed": true
   },
   "outputs": [],
   "source": []
  },
  {
   "cell_type": "code",
   "execution_count": null,
   "metadata": {
    "collapsed": true
   },
   "outputs": [],
   "source": []
  },
  {
   "cell_type": "code",
   "execution_count": null,
   "metadata": {
    "collapsed": true
   },
   "outputs": [],
   "source": []
  },
  {
   "cell_type": "code",
   "execution_count": null,
   "metadata": {
    "collapsed": true
   },
   "outputs": [],
   "source": []
  },
  {
   "cell_type": "code",
   "execution_count": null,
   "metadata": {
    "collapsed": true
   },
   "outputs": [],
   "source": []
  }
 ],
 "metadata": {
  "kernelspec": {
   "display_name": "Python 3",
   "language": "python",
   "name": "python3"
  },
  "language_info": {
   "codemirror_mode": {
    "name": "ipython",
    "version": 3
   },
   "file_extension": ".py",
   "mimetype": "text/x-python",
   "name": "python",
   "nbconvert_exporter": "python",
   "pygments_lexer": "ipython3",
   "version": "3.6.1"
  }
 },
 "nbformat": 4,
 "nbformat_minor": 2
}
