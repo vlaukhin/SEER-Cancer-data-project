{
 "cells": [
  {
   "cell_type": "markdown",
   "metadata": {},
   "source": [
    "# Read output csv and work on it"
   ]
  },
  {
   "cell_type": "code",
   "execution_count": 1,
   "metadata": {
    "collapsed": true
   },
   "outputs": [],
   "source": [
    "import pandas as pd\n",
    "import numpy as np\n",
    "pd.options.display.max_colwidth = 390"
   ]
  },
  {
   "cell_type": "code",
   "execution_count": 2,
   "metadata": {},
   "outputs": [],
   "source": [
    "df=pd.read_csv(\"whole_list.csv\")"
   ]
  },
  {
   "cell_type": "code",
   "execution_count": 3,
   "metadata": {
    "collapsed": true
   },
   "outputs": [],
   "source": [
    "df.drop('Unnamed: 0', axis=1,inplace=True)"
   ]
  },
  {
   "cell_type": "code",
   "execution_count": 4,
   "metadata": {
    "collapsed": true
   },
   "outputs": [],
   "source": [
    "df[['CSTUMSIZ','CSEXTEN','CSLYMPHN',\n",
    "    'CSMETSDX','CS1SITE','CS2SITE',\n",
    "    'CS3SITE','CS4SITE','CS5SITE',\n",
    "    'CS6SITE','CS25SITE', 'CS15SITE',\n",
    "    'CS7SITE']] = df[['CSTUMSIZ','CSEXTEN','CSLYMPHN',\n",
    "                      'CSMETSDX','CS1SITE','CS2SITE',\n",
    "                      'CS3SITE','CS4SITE','CS5SITE',\n",
    "                      'CS6SITE','CS25SITE', 'CS15SITE',\n",
    "                      'CS7SITE']].fillna(value=0)"
   ]
  },
  {
   "cell_type": "code",
   "execution_count": 5,
   "metadata": {
    "collapsed": true
   },
   "outputs": [],
   "source": [
    "df[['DAJCCT','DAJCCN','DAJCCM','DAJCCSTG']]=df[['DAJCCT','DAJCCN','DAJCCM','DAJCCSTG']].fillna(value=88)\n"
   ]
  },
  {
   "cell_type": "code",
   "execution_count": 6,
   "metadata": {
    "collapsed": true
   },
   "outputs": [],
   "source": [
    "df[['DSS1977S','DSS2000S']]=df[['DSS1977S','DSS2000S']].fillna(value=8) "
   ]
  },
  {
   "cell_type": "code",
   "execution_count": 7,
   "metadata": {
    "collapsed": true
   },
   "outputs": [],
   "source": [
    "df[['DAJCCFL']]=df[['DAJCCFL']].fillna(value=0)"
   ]
  },
  {
   "cell_type": "code",
   "execution_count": 8,
   "metadata": {
    "collapsed": true
   },
   "outputs": [],
   "source": [
    "df[['DAJCC7T','DAJCC7N','DAJCC7M','DAJCC7STG']]=df[['DAJCC7T','DAJCC7N','DAJCC7M','DAJCC7STG']].fillna(value=888)"
   ]
  },
  {
   "cell_type": "code",
   "execution_count": 9,
   "metadata": {
    "collapsed": true
   },
   "outputs": [],
   "source": [
    "df[['CSMETSDXB_PUB',\n",
    "    'CSMETSDXBR_PUB',\n",
    "    'CSMETSDXLIV_PUB',\n",
    "    'CSMETSDXLUNG_PUB']]=df[['CSMETSDXB_PUB',\n",
    "                             'CSMETSDXBR_PUB',\n",
    "                             'CSMETSDXLIV_PUB',\n",
    "                             'CSMETSDXLUNG_PUB']].fillna(value=8)"
   ]
  },
  {
   "cell_type": "code",
   "execution_count": 10,
   "metadata": {
    "collapsed": true
   },
   "outputs": [],
   "source": [
    "df=df[df['CODPUB']==26000]"
   ]
  },
  {
   "cell_type": "code",
   "execution_count": 11,
   "metadata": {
    "collapsed": true
   },
   "outputs": [],
   "source": [
    "continuous_vars=['AGE_DX','CSTUMSIZ','CS3SITE', 'MALIGCOUNT','BENBORDCOUNT','srv_time_mon' ]"
   ]
  },
  {
   "cell_type": "code",
   "execution_count": 12,
   "metadata": {
    "collapsed": true
   },
   "outputs": [],
   "source": [
    "df1=df[continuous_vars]"
   ]
  },
  {
   "cell_type": "markdown",
   "metadata": {},
   "source": [
    "# Transform and recode"
   ]
  },
  {
   "cell_type": "markdown",
   "metadata": {},
   "source": [
    "## Continuous vars transformation"
   ]
  },
  {
   "cell_type": "code",
   "execution_count": 13,
   "metadata": {
    "collapsed": true
   },
   "outputs": [],
   "source": [
    "#AGE_DX\n",
    "'''\n",
    "000-130\tActual Age in Years\n",
    "999\tUnknown just deleted\n",
    "'''\n",
    "bins = [0,10,20,30,40,50,60,70,80,90,130,999]\n",
    "bin_names = ['<10' ,'<20','<30','<40','<50' ,'<60','<70','<80','<90','<130','Unknown']\n"
   ]
  },
  {
   "cell_type": "code",
   "execution_count": 14,
   "metadata": {
    "collapsed": true
   },
   "outputs": [],
   "source": [
    "df['AGE_DX'] = pd.cut(df['AGE_DX'], bins, right = True, labels=bin_names)"
   ]
  },
  {
   "cell_type": "code",
   "execution_count": 15,
   "metadata": {
    "collapsed": true
   },
   "outputs": [],
   "source": [
    "df[\"AGE_DX\"] = df[\"AGE_DX\"].astype('object')"
   ]
  },
  {
   "cell_type": "code",
   "execution_count": null,
   "metadata": {
    "collapsed": true
   },
   "outputs": [],
   "source": []
  },
  {
   "cell_type": "code",
   "execution_count": 16,
   "metadata": {
    "collapsed": true
   },
   "outputs": [],
   "source": [
    "#CSTUMSIZ\n",
    "'''\n",
    "000 \tIndicates no mass or no tumor found; for example, when a tumor of a stated primary site is not found, but the tumor has metastasized. \n",
    "001-988 \tExact size in millimeters \n",
    "989 \t989 millimeters or larger \n",
    "990 \tMicroscopic focus or foci only; no size of focus is given \n",
    "991 \tDescribed as less than 1 cm \n",
    "992 \tDescribed as less than 2 cm \n",
    "993 \tDescribed as less than 3 cm \n",
    "994 \tDescribed as less than 4 cm \n",
    "995 \tDescribed as less than 5 cm \n",
    "996-998 \tSite-specific codes where needed \n",
    "999 \tUnknown; size not stated; not stated in patient record \n",
    "888 \tNot applicable \n",
    "'''\n",
    "bins = [0,1,10,20,30,40,50,60,70,80,90,100,200,300,400,500,600,700,800,888,889,989,990,991,992,993,994,995,996,999,1000]\n",
    "bin_names = ['no mass/tumor but meta','<10' ,'<20','<30','<40','<50' ,'<60','<70','<80','<90','<100','<200','<300','<400','<500',\n",
    "             '<600','<700','<800','<888','Not applicable','<989', '989 millimeters or larger','Microscopic/no size',\n",
    "             'less than 1 cm','less than 2 cm', 'less than 3 cm','less than 4 cm','less than 5 cm','Site-specific code',\n",
    "             'Unknown']\n"
   ]
  },
  {
   "cell_type": "code",
   "execution_count": 17,
   "metadata": {
    "collapsed": true
   },
   "outputs": [],
   "source": [
    "df['CSTUMSIZ'] = pd.cut(df['CSTUMSIZ'], bins, right = False,labels=bin_names)"
   ]
  },
  {
   "cell_type": "code",
   "execution_count": 18,
   "metadata": {
    "collapsed": true
   },
   "outputs": [],
   "source": [
    "df[\"CSTUMSIZ\"] = df[\"CSTUMSIZ\"].astype('object')"
   ]
  },
  {
   "cell_type": "code",
   "execution_count": null,
   "metadata": {
    "collapsed": true
   },
   "outputs": [],
   "source": []
  },
  {
   "cell_type": "code",
   "execution_count": 19,
   "metadata": {
    "collapsed": true
   },
   "outputs": [],
   "source": [
    "#CS3SITE\n",
    "'''\n",
    "000\tAll ipsilateral axillary nodes examined negative\n",
    "001-089\t1 - 89 nodes positive \n",
    "(Exact number of nodes positive)\n",
    "090\t90 or more nodes positive\n",
    "095\tPositive aspiration of lymph node(s)\n",
    "097\tPositive nodes, number unspecified\n",
    "098\tNo axillary nodes examined\n",
    "099\tUnknown if axillary nodes are positive\n",
    "Not documented in patient record\n",
    "988\tNot applicable:  Information not collected for this case\n",
    "(If this item is required by your standard setter, use of code 988 will result in an edit error.)\n",
    "'''\n",
    "\n",
    "bins = [-1,0,10,20,30,40,50,60,70,80,89,90,95,97,98,99,998]\n",
    "bin_names = ['All nodes negative','<10' ,'<20','<30','<40','<50' ,'<60','<70','<80','<89', '90 or more positive',\n",
    "             'Positive aspiration of lymph node(s)',\n",
    "             \"Positive nodes, number unspecified\",\"No axillary nodes examined\",\"Unknown if positive\",\n",
    "             \"Not applicable\"]\n"
   ]
  },
  {
   "cell_type": "code",
   "execution_count": 20,
   "metadata": {
    "collapsed": true
   },
   "outputs": [],
   "source": [
    "df['CS3SITE'] = pd.cut(df['CS3SITE'], bins, right = True,labels=bin_names)"
   ]
  },
  {
   "cell_type": "code",
   "execution_count": 21,
   "metadata": {
    "collapsed": true
   },
   "outputs": [],
   "source": [
    "df[\"CS3SITE\"] = df[\"CS3SITE\"].astype('object')"
   ]
  },
  {
   "cell_type": "code",
   "execution_count": null,
   "metadata": {
    "collapsed": true
   },
   "outputs": [],
   "source": []
  },
  {
   "cell_type": "markdown",
   "metadata": {},
   "source": [
    "# ELABORATE ON TIMES"
   ]
  },
  {
   "cell_type": "code",
   "execution_count": 22,
   "metadata": {
    "collapsed": true
   },
   "outputs": [],
   "source": [
    "df['srv_time_mon']=df['srv_time_mon'].replace({9999: 9})\n"
   ]
  },
  {
   "cell_type": "code",
   "execution_count": 23,
   "metadata": {
    "collapsed": true
   },
   "outputs": [],
   "source": [
    "#srv_time_mon\n",
    "'''\n",
    "0\tComplete dates are available and there are 0 days of survival \n",
    "1\tComplete dates are available and there are more than 0 days of survival \n",
    "2\tIncomplete dates are available and there could be zero days of follow-up \n",
    "3\tIncomplete dates are available and there cannot be zero days of follow-up \n",
    "9\tUnknown \n",
    "\n",
    "'''\n",
    "# Need to make batches 10-12,12-18,18-24,24-36,36-48,48-60,60-72,72-84,84-96,more than 100\n",
    "bins = [-1,0,1,2,3,9,10, 13, 19, 25, 37, 49,61,73,85,97,109,516]\n",
    "bin_names = ['dates available / 0 days of survival','dates available / more than 0 days of survival',\n",
    "             'Incomplete dates/ 0 days of follow-up',\"Incomplete dates/ no 0 days of follow-up\",\n",
    "             '4-9',\"Unknown\",'<12' ,'<18','<24','<36','<48' ,'<60','<72','<84','<96','<108','>100']"
   ]
  },
  {
   "cell_type": "code",
   "execution_count": 24,
   "metadata": {
    "collapsed": true
   },
   "outputs": [],
   "source": [
    "df['srv_time_mon'] = pd.cut(df['srv_time_mon'], bins, labels=bin_names)"
   ]
  },
  {
   "cell_type": "code",
   "execution_count": 25,
   "metadata": {
    "collapsed": true
   },
   "outputs": [],
   "source": [
    "df[\"srv_time_mon\"] = df[\"srv_time_mon\"].astype('object')"
   ]
  },
  {
   "cell_type": "code",
   "execution_count": null,
   "metadata": {
    "collapsed": true
   },
   "outputs": [],
   "source": []
  },
  {
   "cell_type": "code",
   "execution_count": 26,
   "metadata": {
    "collapsed": true
   },
   "outputs": [],
   "source": [
    "#MALIGCOUNT\n",
    "'''\n",
    "Valid values: 00-98; 99 (unknown)\n",
    "'''\n",
    "replace={99:\"Unknown\"}\n",
    "df.replace({\"MALIGCOUNT\": replace}, inplace=True)"
   ]
  },
  {
   "cell_type": "code",
   "execution_count": 27,
   "metadata": {
    "collapsed": true
   },
   "outputs": [],
   "source": [
    "#BENBORDCOUNT\n",
    "'''\n",
    "Valid values: 00-98; 99 (unknown)\n",
    "'''\n",
    "replace={99:\"Unknown\"}\n",
    "df.replace({\"BENBORDCOUNT\": replace}, inplace=True)\n",
    "\n",
    "df['BENBORDCOUNT'] = df['BENBORDCOUNT'].astype(str)"
   ]
  },
  {
   "cell_type": "markdown",
   "metadata": {},
   "source": [
    "# Other Values transformation"
   ]
  },
  {
   "cell_type": "code",
   "execution_count": 28,
   "metadata": {
    "collapsed": true
   },
   "outputs": [],
   "source": [
    "#MAR_STAT\n",
    "'''\n",
    "1\tSingle (never married) \n",
    "2\tMarried (including common law) \n",
    "3\tSeparated \n",
    "4\tDivorced \n",
    "5\tWidowed \n",
    "6\tUnmarried or domestic partner (same sex or opposite sex or unregistered) \n",
    "9\tUnknown \n",
    "'''\n",
    "df['MAR_STAT'] = df['MAR_STAT'].replace({1: 'Single', 2: 'Married',3:'Separated', 4:'Divorced',\n",
    "                                     5:'Widowed', 6:'Unmarried',9:'Unknown'})\n"
   ]
  },
  {
   "cell_type": "code",
   "execution_count": 29,
   "metadata": {
    "collapsed": true
   },
   "outputs": [],
   "source": [
    "#RACE1V\n",
    "'''\n",
    "1\tWhite \n",
    "2\tBlack \n",
    "3\tAmerican Indian, Aleutian, Alaskan Native or Eskimo (includes all indigenous populations of the Western hemisphere) \n",
    "4\tChinese \n",
    "5\tJapanese \n",
    "6\tFilipino \n",
    "7\tHawaiian \n",
    "8\tKorean (Effective with 1/1/1988 dx) \n",
    "10\tVietnamese (Effective with 1/1/1988 dx) \n",
    "11\tLaotian (Effective with 1/1/1988 dx) \n",
    "12\tHmong (Effective with 1/1/1988 dx) \n",
    "13\tKampuchean (including Khmer and Cambodian) (Effective with 1/1/1988 dx) \n",
    "14\tThai (Effective with 1/1/1994 dx) \n",
    "15\tAsian Indian or Pakistani, NOS (Effective with 1/1/1988 dx) \n",
    "16\tAsian Indian (Effective with 1/1/2010 dx) \n",
    "17\tPakistani (Effective with 1/1/2010 dx) \n",
    "20\tMicronesian, NOS (Effective with 1/1/1991) \n",
    "21\tChamorran (Effective with 1/1/1991 dx) \n",
    "22\tGuamanian, NOS (Effective with 1/1/1991 dx) \n",
    "25\tPolynesian, NOS (Effective with 1/1/1991 dx) \n",
    "26\tTahitian (Effective with 1/1/1991 dx) \n",
    "27\tSamoan (Effective with 1/1/1991 dx) \n",
    "28\tTongan (Effective with 1/1/1991 dx) \n",
    "30\tMelanesian, NOS (Effective with 1/1/1991 dx) \n",
    "31\tFiji Islander (Effective with 1/1/1991 dx) \n",
    "32\tNew Guinean (Effective with 1/1/1991 dx) \n",
    "96\tOther Asian, including Asian, NOS and Oriental, NOS (Effective with 1/1/1991 dx) \n",
    "97\tPacific Islander, NOS (Effective with 1/1/1991 dx) \n",
    "98\tOther \n",
    "99\tUnknown\n",
    "''' \n",
    "df['RACE1V'] = df['RACE1V'].replace({1: 'White', 2: 'Black',3:'Indigenous', 4:'Chinese',5:'Japanese', 6:'Filipino',\n",
    "                                 7:'Hawaiian',8: 'Korean',10: 'Vietnamese',11:'Laotian', 12:'Hmong',13:'Kampuchean',\n",
    "                                 14:'Thai',15:'Asian Indian or Pakistani',16: 'Asian Indian', 17: 'Pakistani',\n",
    "                                 20:'Micronesian', 21:'Chamorran',22:'Guamanian',25:'Polynesian',26:'Tahitian',\n",
    "                                 27: 'Samoan',28: 'Tongan',30:'Melanesian',31:'Fiji_Islander',32:'New_Guinean',\n",
    "                                 96:'Other Asian',97:'Pacific_Islander',98: 'Other', 99: 'Unknown'})\n"
   ]
  },
  {
   "cell_type": "code",
   "execution_count": 30,
   "metadata": {
    "collapsed": true
   },
   "outputs": [],
   "source": [
    "#SEX\n",
    "'''\n",
    "1\tMale\n",
    "2\tFemale\n",
    "'''\n",
    "\n",
    "df['SEX'] = df['SEX'].replace({1: 'Male', 2: 'Female'})"
   ]
  },
  {
   "cell_type": "code",
   "execution_count": 31,
   "metadata": {
    "collapsed": true
   },
   "outputs": [],
   "source": [
    "#PRIMSITE\n",
    "'''\n",
    "     C50.0    Nipple\n",
    "     C50.1    Central portion of breast\n",
    "     C50.2    Upper-inner quadrant of breast\n",
    "     C50.3    Lower-inner quadrant of breast\n",
    "     C50.4    Upper-outer quadrant of breast\n",
    "     C50.5    Lower-outer quadrant of breast\n",
    "     C50.6    Axillary tail of breast\n",
    "     C50.8    Overlapping lesion of breast\n",
    "     C50.9    Breast, NOS\n",
    "'''\n",
    "\n",
    "df['PRIMSITE'] = df['PRIMSITE'].replace({'C500': 'Nipple', 'C501': 'Central portion','C502': 'Upper-inner quadrant',\n",
    "                                     'C503': 'Lower-inner quadrant','C504': 'Upper-outer quadrant',\n",
    "                                     'C505': 'Lower-outer quadrant','C506': 'Axillary tail',\n",
    "                                     'C508': 'Overlapping lesion', 'C509': 'Breast, NOS'})"
   ]
  },
  {
   "cell_type": "code",
   "execution_count": 32,
   "metadata": {
    "collapsed": true
   },
   "outputs": [],
   "source": [
    "#LATERAL\n",
    "'''\n",
    "0 Not a paired site\n",
    "1 Right: origin of primary\n",
    "2 Left: origin of primary\n",
    "3 Only one side involved, right or left origin unspecified\n",
    "4 Bilateral involvement, lateral origin unknown; stated to be single primary\n",
    "    • Both ovaries involved simultaneously, single histology\n",
    "    • Bilateral retinoblastomas\n",
    "    • Bilateral Wilms’s tumors\n",
    "5 Paired site: midline tumor\n",
    "9 Paired site, but no information concerning laterality; midline tumor\n",
    "'''\n",
    "df['LATERAL'] = df['LATERAL'].replace({0: 'Not_a_paired_site', 1: 'Right',2:'Left', 3:'Only_one_side',4:'Bilateral involvement',\n",
    "                                   5:'Paired site: midline_tumor',9:'Paired site_no_info'})"
   ]
  },
  {
   "cell_type": "code",
   "execution_count": 33,
   "metadata": {},
   "outputs": [
    {
     "data": {
      "text/plain": [
       "8500    162204\n",
       "8520     19852\n",
       "8010     13745\n",
       "8140     11548\n",
       "8522     11168\n",
       "8000      8219\n",
       "8530      5714\n",
       "8501      2670\n",
       "8480      2107\n",
       "8510      1967\n",
       "8141      1231\n",
       "8541      1213\n",
       "8503       532\n",
       "8211       450\n",
       "8401       416\n",
       "8521       382\n",
       "8201       358\n",
       "8050       311\n",
       "9020       280\n",
       "8490       243\n",
       "8230       211\n",
       "8481       201\n",
       "8543       170\n",
       "8540       165\n",
       "8260       162\n",
       "8070       160\n",
       "9120       158\n",
       "8020       150\n",
       "8021       134\n",
       "8504       128\n",
       "         ...  \n",
       "8314         3\n",
       "8440         3\n",
       "8854         3\n",
       "8850         3\n",
       "9220         3\n",
       "8251         3\n",
       "8940         2\n",
       "8470         2\n",
       "9473         2\n",
       "8190         2\n",
       "8811         2\n",
       "8852         2\n",
       "8471         2\n",
       "8350         2\n",
       "9130         2\n",
       "8804         2\n",
       "8963         1\n",
       "8320         1\n",
       "8895         1\n",
       "9170         1\n",
       "9181         1\n",
       "8261         1\n",
       "9150         1\n",
       "9100         1\n",
       "8933         1\n",
       "8045         1\n",
       "8430         1\n",
       "8400         1\n",
       "8900         1\n",
       "8143         1\n",
       "Name: HISTO2V, Length: 98, dtype: int64"
      ]
     },
     "execution_count": 33,
     "metadata": {},
     "output_type": "execute_result"
    }
   ],
   "source": [
    "df['HISTO2V'].value_counts()"
   ]
  },
  {
   "cell_type": "code",
   "execution_count": 34,
   "metadata": {
    "collapsed": true
   },
   "outputs": [],
   "source": [
    "#HISTO2V\n",
    "'''\n",
    "8000\tNeoplasms\n",
    "8050\tSquamous cell neoplasms\n",
    "8090\tBasal cell neoplasms\n",
    "8120\tTransitional cell papillomas and carcinomas\n",
    "8140\tAdenomas and adenocarcinomas\n",
    "8390\tAdnexal and skin appendage neoplasms\n",
    "8430\tMucoepidermoid neoplasms\n",
    "8440\tCystic, mucinous and serous neoplasms\n",
    "8500\tDuctal and lobular neoplasms\n",
    "8550\tAcinar cell neoplasms\n",
    "8560\tComplex epithelial neoplasms\n",
    "8580\tThymic epithelial neoplasms\n",
    "8590\tSpecialized gonadal neoplasms\n",
    "8680\tParagangliomas and glomus tumors\n",
    "8720\tNevi and melanomas\n",
    "8800\tSoft tissue tumors and sarcomas, NOS\n",
    "8810\tFibromatous neoplasms\n",
    "8840\tMyxomatous neoplasms\n",
    "8850\tLipomatous neoplasms\n",
    "8890\tMyomatous neoplasms\n",
    "8930\tComplex mixed and stromal neoplasms\n",
    "9000\tFibroepithelial neoplasms\n",
    "9040\tSynovial-like neoplasms\n",
    "9050\tMesothelial neoplasms\n",
    "9060\tGerm cell neoplasms\n",
    "9100\tTrophoblastic neoplasms\n",
    "9110\tMesonephromas\n",
    "9120\tBlood vessel tumors\n",
    "9170\tLymphatic vessel tumors\n",
    "9180\tOsseous and chondromatous neoplasms\n",
    "9250\tGiant cell tumors\n",
    "9260\tMiscellaneous bone tumors\n",
    "9270\tOdontogenic tumors\n",
    "9350\tMiscellaneous tumors\n",
    "9380\tGliomas\n",
    "9490\tNeuroepitheliomatous neoplasms\n",
    "9530\tMeningiomas\n",
    "9540\tNerve sheath tumors\n",
    "9580\tGranular cell tumors and alveolar soft part sarcomas\n",
    "9590\tHodgkin and nonHodgkin lymphomas\n",
    "9730\tPlasma cell tumors\n",
    "9740\tMast cell tumors\n",
    "9750\tNeoplasms of histiocytes and accessory lymphoid cells\n",
    "9760\tImmunoproliferative diseases\n",
    "9800\tLeukemias\n",
    "9950\tChronic myeloproliferative disorders\n",
    "9970\tOther hematologic disorders\n",
    "9980\tMyelodysplastic syndromes\n",
    "'''\n",
    "bins=[8000,8050,8090,8120,8140,8390,8430,8440,8500,8550,8560,8580,8590,\n",
    "      8680,8720,8800,8810,8840,8850,8890,8930,9000,9040,9050,9060,9100,\n",
    "      9110,9120,9170,9180,9250,9260,9270,9350,9380,9490,9530,9540,9580,\n",
    "      9590,9730,9740,9750,9760,9800,9950,9970,9980,10000]\n",
    "bin_names=['Neoplasms','Squamous cell neoplasms','Basal cell neoplasms',\n",
    "      'Transitional cell papillomas and carcinomas',\n",
    "      'Adenomas and adenocarcinomas',\n",
    "      'Adnexal and skin appendage neoplasms','Mucoepidermoid neoplasms',\n",
    "      'Cystic, mucinous and serous neoplasms',\n",
    "      'Ductal and lobular neoplasms','Acinar cell neoplasms',\n",
    "      'Complex epithelial neoplasms','Thymic epithelial neoplasms',\n",
    "      'Specialized gonadal neoplasms',\n",
    "      'Paragangliomas and glomus tumors','Nevi and melanomas',\n",
    "      'Soft tissue tumors and sarcomas, NOS','Fibromatous neoplasms',\n",
    "      'Myxomatous neoplasms','Lipomatous neoplasms','Myomatous neoplasms',\n",
    "      'Complex mixed and stromal neoplasms','Fibroepithelial neoplasms',\n",
    "      'Synovial-like neoplasms','Mesothelial neoplasms',\n",
    "      'Germ cell neoplasms','Trophoblastic neoplasms','Mesonephromas',\n",
    "      'Blood vessel tumors','Lymphatic vessel tumors',\n",
    "      'Osseous and chondromatous neoplasms','Giant cell tumors',\n",
    "      'Miscellaneous bone tumors','Odontogenic tumors',\n",
    "      'Miscellaneous tumors','Gliomas','Neuroepitheliomatous neoplasms',\n",
    "      'Meningiomas','Nerve sheath tumors',\n",
    "      'Granular cell tumors and alveolar soft part sarcomas',\n",
    "      'Hodgkin and nonHodgkin lymphomas','Plasma cell tumors',\n",
    "      'Mast cell tumors',\n",
    "      'Neoplasms of histiocytes and accessory lymphoid cells',\n",
    "      'Immunoproliferative diseases','Leukemias',\n",
    "      'Chronic myeloproliferative disorders',\n",
    "      'Other hematologic disorders','Myelodysplastic syndromes']\n",
    "\n",
    "\n",
    "\n"
   ]
  },
  {
   "cell_type": "code",
   "execution_count": 35,
   "metadata": {
    "collapsed": true
   },
   "outputs": [],
   "source": [
    "df['HISTO2V'] = pd.cut(df['HISTO2V'], bins, right = False, labels=bin_names)"
   ]
  },
  {
   "cell_type": "code",
   "execution_count": 36,
   "metadata": {
    "collapsed": true
   },
   "outputs": [],
   "source": [
    "df[\"HISTO2V\"] = df[\"HISTO2V\"].astype('object')"
   ]
  },
  {
   "cell_type": "code",
   "execution_count": 37,
   "metadata": {},
   "outputs": [
    {
     "data": {
      "text/plain": [
       "Ductal and lobular neoplasms                   206250\n",
       "Neoplasms                                       22692\n",
       "Adenomas and adenocarcinomas                    14218\n",
       "Cystic, mucinous and serous neoplasms            2558\n",
       "Squamous cell neoplasms                           521\n",
       "Adnexal and skin appendage neoplasms              417\n",
       "Fibroepithelial neoplasms                         280\n",
       "Complex epithelial neoplasms                      237\n",
       "Complex mixed and stromal neoplasms               163\n",
       "Blood vessel tumors                               161\n",
       "Soft tissue tumors and sarcomas, NOS               88\n",
       "Fibromatous neoplasms                              23\n",
       "Osseous and chondromatous neoplasms                17\n",
       "Myomatous neoplasms                                14\n",
       "Lipomatous neoplasms                                8\n",
       "Acinar cell neoplasms                               6\n",
       "Transitional cell papillomas and carcinomas         4\n",
       "Gliomas                                             2\n",
       "Trophoblastic neoplasms                             1\n",
       "Mucoepidermoid neoplasms                            1\n",
       "Lymphatic vessel tumors                             1\n",
       "Name: HISTO2V, dtype: int64"
      ]
     },
     "execution_count": 37,
     "metadata": {},
     "output_type": "execute_result"
    }
   ],
   "source": [
    "df[\"HISTO2V\"].value_counts()"
   ]
  },
  {
   "cell_type": "code",
   "execution_count": 38,
   "metadata": {
    "collapsed": true
   },
   "outputs": [],
   "source": [
    "#BEHO2V\n",
    "'''\n",
    "0\tBenign (Reportable for intracranial and CNS sites only) \n",
    "1\tUncertain whether benign or malignant, borderline malignancy, low malignant potential, and uncertain malignant potential (Reportable for intracranial and CNS sites only) \n",
    "2\tCarcinoma in situ; intraepithelial; noninfiltrating; noninvasive \n",
    "3\tMalignant, primary site (invasive) \n",
    "'''\n",
    "df['BEHO2V'] = df['BEHO2V'].replace({0: 'Benign', 1: 'Uncertain',2:'Carcinoma in situ', 3:'Malignant, primary site'})\n"
   ]
  },
  {
   "cell_type": "code",
   "execution_count": 39,
   "metadata": {
    "collapsed": true
   },
   "outputs": [],
   "source": [
    "#HISTO3V\n",
    "'''\n",
    "8000\tNeoplasms\n",
    "8050\tSquamous cell neoplasms\n",
    "8090\tBasal cell neoplasms\n",
    "8120\tTransitional cell papillomas and carcinomas\n",
    "8140\tAdenomas and adenocarcinomas\n",
    "8390\tAdnexal and skin appendage neoplasms\n",
    "8430\tMucoepidermoid neoplasms\n",
    "8440\tCystic, mucinous and serous neoplasms\n",
    "8500\tDuctal and lobular neoplasms\n",
    "8550\tAcinar cell neoplasms\n",
    "8560\tComplex epithelial neoplasms\n",
    "8580\tThymic epithelial neoplasms\n",
    "8590\tSpecialized gonadal neoplasms\n",
    "8680\tParagangliomas and glomus tumors\n",
    "8720\tNevi and melanomas\n",
    "8800\tSoft tissue tumors and sarcomas, NOS\n",
    "8810\tFibromatous neoplasms\n",
    "8840\tMyxomatous neoplasms\n",
    "8850\tLipomatous neoplasms\n",
    "8890\tMyomatous neoplasms\n",
    "8930\tComplex mixed and stromal neoplasms\n",
    "9000\tFibroepithelial neoplasms\n",
    "9040\tSynovial-like neoplasms\n",
    "9050\tMesothelial neoplasms\n",
    "9060\tGerm cell neoplasms\n",
    "9100\tTrophoblastic neoplasms\n",
    "9110\tMesonephromas\n",
    "9120\tBlood vessel tumors\n",
    "9170\tLymphatic vessel tumors\n",
    "9180\tOsseous and chondromatous neoplasms\n",
    "9250\tGiant cell tumors\n",
    "9260\tMiscellaneous bone tumors\n",
    "9270\tOdontogenic tumors\n",
    "9350\tMiscellaneous tumors\n",
    "9380\tGliomas\n",
    "9490\tNeuroepitheliomatous neoplasms\n",
    "9530\tMeningiomas\n",
    "9540\tNerve sheath tumors\n",
    "9580\tGranular cell tumors and alveolar soft part sarcomas\n",
    "9590\tHodgkin and nonHodgkin lymphomas\n",
    "9730\tPlasma cell tumors\n",
    "9740\tMast cell tumors\n",
    "9750\tNeoplasms of histiocytes and accessory lymphoid cells\n",
    "9760\tImmunoproliferative diseases\n",
    "9800\tLeukemias\n",
    "9950\tChronic myeloproliferative disorders\n",
    "9970\tOther hematologic disorders\n",
    "9980\tMyelodysplastic syndromes\n",
    "'''\n",
    "bins=[8000,8050,8090,8120,8140,8390,8430,8440,8500,8550,8560,8580,8590,\n",
    "      8680,8720,8800,8810,8840,8850,8890,8930,9000,9040,9050,9060,9100,\n",
    "      9110,9120,9170,9180,9250,9260,9270,9350,9380,9490,9530,9540,9580,\n",
    "      9590,9730,9740,9750,9760,9800,9950,9970,9980,10000]\n",
    "bin_names=['Neoplasms','Squamous cell neoplasms','Basal cell neoplasms',\n",
    "      'Transitional cell papillomas and carcinomas',\n",
    "      'Adenomas and adenocarcinomas',\n",
    "      'Adnexal and skin appendage neoplasms','Mucoepidermoid neoplasms',\n",
    "      'Cystic, mucinous and serous neoplasms',\n",
    "      'Ductal and lobular neoplasms','Acinar cell neoplasms',\n",
    "      'Complex epithelial neoplasms','Thymic epithelial neoplasms',\n",
    "      'Specialized gonadal neoplasms',\n",
    "      'Paragangliomas and glomus tumors','Nevi and melanomas',\n",
    "      'Soft tissue tumors and sarcomas, NOS','Fibromatous neoplasms',\n",
    "      'Myxomatous neoplasms','Lipomatous neoplasms','Myomatous neoplasms',\n",
    "      'Complex mixed and stromal neoplasms','Fibroepithelial neoplasms',\n",
    "      'Synovial-like neoplasms','Mesothelial neoplasms',\n",
    "      'Germ cell neoplasms','Trophoblastic neoplasms','Mesonephromas',\n",
    "      'Blood vessel tumors','Lymphatic vessel tumors',\n",
    "      'Osseous and chondromatous neoplasms','Giant cell tumors',\n",
    "      'Miscellaneous bone tumors','Odontogenic tumors',\n",
    "      'Miscellaneous tumors','Gliomas','Neuroepitheliomatous neoplasms',\n",
    "      'Meningiomas','Nerve sheath tumors',\n",
    "      'Granular cell tumors and alveolar soft part sarcomas',\n",
    "      'Hodgkin and nonHodgkin lymphomas','Plasma cell tumors',\n",
    "      'Mast cell tumors',\n",
    "      'Neoplasms of histiocytes and accessory lymphoid cells',\n",
    "      'Immunoproliferative diseases','Leukemias',\n",
    "      'Chronic myeloproliferative disorders',\n",
    "      'Other hematologic disorders','Myelodysplastic syndromes']\n"
   ]
  },
  {
   "cell_type": "code",
   "execution_count": 40,
   "metadata": {
    "collapsed": true
   },
   "outputs": [],
   "source": [
    "df['HISTO3V'] = pd.cut(df['HISTO3V'], bins, right = False, labels=bin_names)"
   ]
  },
  {
   "cell_type": "code",
   "execution_count": 41,
   "metadata": {
    "collapsed": true
   },
   "outputs": [],
   "source": [
    "df[\"HISTO3V\"] = df[\"HISTO3V\"].astype('object')"
   ]
  },
  {
   "cell_type": "code",
   "execution_count": 42,
   "metadata": {
    "collapsed": true
   },
   "outputs": [],
   "source": [
    "#BEHO3V\n",
    "'''\n",
    "0\tBenign (Reportable for intracranial and CNS sites only) \n",
    "1\tUncertain whether benign or malignant, borderline malignancy, low malignant potential, and uncertain malignant potential (Reportable for intracranial and CNS sites only) \n",
    "2\tCarcinoma in situ; intraepithelial; noninfiltrating; noninvasive \n",
    "3\tMalignant, primary site (invasive) \n",
    "'''\n",
    "df['BEHO3V'] = df['BEHO3V'].replace({0: 'Benign', 1: 'Uncertain',2:'Carcinoma in situ', 3:'Malignant, primary site'})"
   ]
  },
  {
   "cell_type": "code",
   "execution_count": 43,
   "metadata": {
    "collapsed": true
   },
   "outputs": [],
   "source": [
    "#GRADE\n",
    "'''\n",
    "1\tGrade I; grade i; grade 1; well differentiated; differentiated, NOS \n",
    "2\tGrade II; grade ii; grade 2; moderately differentiated; moderately differentiated; intermediate differentiation \n",
    "3\tGrade III; grade iii; grade 3; poorly differentiated; differentiated \n",
    "4\tGrade IV; grade iv; grade 4; undifferentiated; anaplastic \n",
    "5\tT-cell; T-precursor \n",
    "6\tB-cell; Pre-B; B-Precursor \n",
    "7\tNull cell; Non T-non B; \n",
    "8\tN K cell (natural killer cell) \n",
    "9\tcell type not determined, not stated or not applicable \n",
    "'''\n",
    "\n",
    "df['GRADE'] = df['GRADE'].replace({1: 'well differentiated', 2: 'moderately differentiated',3:'poorly differentiated',\n",
    "                               4:'undifferentiated, primary site',5: 'T-cell', 6: 'B-cell',7:'Null cell',\n",
    "                               8:'N K cell',9: 'cell type not determined'})"
   ]
  },
  {
   "cell_type": "code",
   "execution_count": 44,
   "metadata": {
    "collapsed": true
   },
   "outputs": [],
   "source": [
    "#CS1SITE\n",
    "'''\n",
    "000\tOBSOLETE DATA CONVERTED V0203\n",
    "See code 998\n",
    "\n",
    "Test not done (test not ordered and not performed)\n",
    "010\tPositive/elevated\n",
    "020\tNegative/normal; within normal limits\n",
    "030\tBorderline; undetermined whether positive or negative\n",
    "080\tOBSOLETE DATA CONVERTED V0203\n",
    "See code 997\n",
    "\n",
    "Ordered, but results not in chart\n",
    "988\tNot applicable:  Information not collected for this case\n",
    "(If this item is required by your standard setter, use of code 988 will result in an edit error.)\n",
    "996\tTest ordered, results not interpretable\n",
    "997\tTest ordered, results not in chart\n",
    "998\tTest not done (test not ordered and not performed)\n",
    "999\tUnknown or no information\n",
    "Not documented in patient record\n",
    "'''\n",
    "df['CS1SITE']= df['CS1SITE'].replace({0:'Test not done',10:'Positive/elevated/amplified',20:'Negative/normal/not amplified',\n",
    "                                  30:\"Borderline/equivocal/ndeterminate\",80:\"Ordered, not in chart\", 988:\"Not applicable\",\n",
    "                                  996:\"Test ordered, not interpretable\",997:\"Test ordered, not in chart\",998:\"Test(s) not done\",\n",
    "                                  999:\"Unknown or no information\"})"
   ]
  },
  {
   "cell_type": "code",
   "execution_count": 45,
   "metadata": {
    "collapsed": true
   },
   "outputs": [],
   "source": [
    "#CS2SITE\n",
    "'''\n",
    "000\tOBSOLETE DATA CONVERTED V0203\n",
    "See code 998\n",
    "\n",
    "Test not done (test was not ordered and was not performed)\n",
    "010\tPositive/elevated\n",
    "020\tNegative/normal; within normal limits\n",
    "030\tBorderline; undetermined whether positive or negative\n",
    "080\tOBSOLETE DATA CONVERTED V0203\n",
    "See code 997\n",
    "\n",
    "Ordered, but results not in chart\n",
    "988\tNot applicable:  Information not collected for this case\n",
    "(If this item is required by your standard setter, use of code 988 will result in an edit error.)\n",
    "996\tTest ordered, results not interpretable\n",
    "997\tTest ordered, results not in chart\n",
    "998\tTest not done (test not ordered and not performed)\n",
    "999\tUnknown or no information\n",
    "Not documented in patient record\n",
    "'''\n",
    "df['CS2SITE']= df['CS2SITE'].replace({0:'Test not done',10:'Positive/elevated/amplified',20:'Negative/normal/not amplified',\n",
    "                                  30:\"Borderline/equivocal/ndeterminate\",80:\"Ordered, not in chart\", 988:\"Not applicable\",\n",
    "                                  996:\"Test ordered, not interpretable\",997:\"Test ordered, not in chart\",998:\"Test(s) not done\",\n",
    "                                  999:\"Unknown or no information\"})\n",
    "\n"
   ]
  },
  {
   "cell_type": "code",
   "execution_count": 46,
   "metadata": {},
   "outputs": [
    {
     "data": {
      "text/plain": [
       "All nodes negative                      182195\n",
       "No axillary nodes examined               29402\n",
       "<10                                      22094\n",
       "Unknown if positive                       5144\n",
       "<20                                       4348\n",
       "Positive aspiration of lymph node(s)      2383\n",
       "<30                                       1002\n",
       "Positive nodes, number unspecified         827\n",
       "<40                                        201\n",
       "<50                                         37\n",
       "<60                                         16\n",
       "90 or more positive                          5\n",
       "<80                                          4\n",
       "<70                                          2\n",
       "<89                                          2\n",
       "Name: CS3SITE, dtype: int64"
      ]
     },
     "execution_count": 46,
     "metadata": {},
     "output_type": "execute_result"
    }
   ],
   "source": [
    "df[\"CS3SITE\"].value_counts()"
   ]
  },
  {
   "cell_type": "code",
   "execution_count": 47,
   "metadata": {
    "collapsed": true
   },
   "outputs": [],
   "source": [
    "#CS4SITE\n",
    "'''\n",
    "000\tRegional lymph nodes negative on routine hematoxylin and eosin (H and E), no immunohistochemistry (IHC)  \n",
    "OR unknown if tested for isolated tumor cells (ITCs) by IHC studies \n",
    "Nodes clinically negative, not examined pathologically\n",
    "001\tRegional lymph nodes negative on routine H and E, IHC studies done, negative for tumor\n",
    "002\tRegional lymph nodes negative on routine H and E, IHC studies done, positive for ITCs \n",
    "(Tumor cell clusters not greater than 0.2 millimeter (mm))\n",
    "009\tRegional lymph nodes negative on routine H and E, positive for tumor detected by IHC, size of tumor cell clusters or metastases not stated\n",
    "\n",
    "Stated as N0(i+) with no further information on regional lymph nodes\n",
    "888\tOBSOLETE DATA CONVERTED V0200 \n",
    "See code 987\n",
    "\n",
    "Not applicable: CS Lymph Nodes not coded 000\n",
    "987\tNot applicable: CS Lymph Nodes not coded 000\n",
    "988\tNot applicable:  Information not collected for this case\n",
    "(If this item is required by your standard setter, use of code 988 will result in an edit error.)\n",
    "'''\n",
    "df['CS4SITE']= df['CS4SITE'].replace({0:'nodes negative/no immunohistochemistry',1:'nodes negative/negative for tumor',\n",
    "                                  2:'nodes negative/positive for ITCs',\n",
    "                                  9:\"nodes negative/positive for tumor\",888:\"Not applicable/not coded\", 988:\"Not applicable/not coded\",\n",
    "                                  987:\"Not applicable/not coded\"})\n"
   ]
  },
  {
   "cell_type": "code",
   "execution_count": 48,
   "metadata": {
    "collapsed": true
   },
   "outputs": [],
   "source": [
    "#CS5SITE\n",
    "'''\n",
    "000\tRegional lymph nodes negative on routine hematoxylin and eosin (H and E), no RT-PCR molecular (MOL) studies done \n",
    "OR unknown if RT-PCR studies done\n",
    "Nodes clinically negative, not examined pathologically\n",
    "001\tRegional lymph nodes negative on routine H and E, RT-PCR MOL studies done, negative for tumor\n",
    "002\tRegional lymph nodes negative on routine H and E, RT-PCR MOL studies done, positive for tumor\n",
    "888\tOBSOLETE DATA CONVERTED V0200  \n",
    "See code 987\n",
    "\n",
    "Not applicable\n",
    "CS Lymph Nodes not coded 000\n",
    "987\tNot applicable:  CS Lymph Nodes not coded 000\n",
    "988\tNot applicable:  Information not collected for this case\n",
    "(If this item is required by your standard setter, use of code 988 will result in an edit error.)\n",
    "'''\n",
    "\n",
    "df['CS5SITE']= df['CS5SITE'].replace({0:'nodes negative/no RT-PCR',1:'nodes negative/negative for tumor',\n",
    "                                  2:'nodes negative/positive for tumor',888:\"Not applicable/not coded\", \n",
    "                                  988:\"Not applicable/not coded\",987:\"Not applicable/not coded\"})"
   ]
  },
  {
   "cell_type": "code",
   "execution_count": 49,
   "metadata": {
    "collapsed": true
   },
   "outputs": [],
   "source": [
    "#CS6SITE\n",
    "'''\n",
    "000\tEntire tumor reported as invasive \n",
    "(No in situ component reported)\n",
    "010\tEntire tumor reported as in situ \n",
    "(No invasive component reported)\n",
    "020\tInvasive and in situ components present, size of invasive component stated and coded in CS Tumor Size\n",
    "030\tInvasive and in situ components present, size of entire tumor coded in CS Tumor Size because size of invasive component not stated\n",
    "AND in situ described as minimal (less than 25%)\n",
    "040\tInvasive and in situ components present, size of entire tumor coded in CS Tumor Size because size of invasive component not stated\n",
    "AND in situ described as extensive (25% or more)\n",
    "050\tInvasive and in situ components present, size of entire tumor coded in CS Tumor Size because size of invasive component not stated\n",
    "AND proportions of in situ and invasive not known\n",
    "060\tInvasive and in situ components present, unknown size of tumor (CS Tumor Size coded 999)\n",
    "888\tOBSOLETE DATA CONVERTED V0200 \n",
    "See code 987\n",
    "\n",
    "Unknown if invasive and in situ components present, unknown if tumor size represents mixed tumor or a \"pure\" tumor. (See Note 2.)\n",
    "Clinical tumor size coded.\n",
    "987\tUnknown if invasive and in situ components present, unknown if tumor size represents mixed tumor or a \"pure\" tumor. (See Note 2.)\n",
    "Clinical tumor size coded.\n",
    "988\tNot applicable:  Information not collected for this case\n",
    "(If this item is required by your standard setter, use of code 988 will result in an edit error.)\n",
    "'''\n",
    "\n",
    "df['CS6SITE']= df['CS6SITE'].replace({0:'tumor invasive',10:'tumor in situ',20:'Invasive and in situ, coded in CS Tumor Size',\n",
    "                                  30:\"Invasive and in situ (less than 25%)\",40:\"Invasive and in situ (25% or more)\",\n",
    "                                  50:\"Invasive and in situ (not known)\",60:\"Invasive and in situ (unknown size of tumor)\",\n",
    "                                  888:\"Unknown if invasive and in situ\",987:\"Unknown if invasive and in situ\",\n",
    "                                  988:\"Not applicable\"})"
   ]
  },
  {
   "cell_type": "code",
   "execution_count": 50,
   "metadata": {
    "collapsed": true
   },
   "outputs": [],
   "source": [
    "#CS25SITE\n",
    "'''\n",
    "988\tNot applicable:  Site-specific factor not defined\n",
    "'''\n",
    "'''\n",
    "Plus lots of NA - WIll be deleted\n",
    "'''\n",
    "df.drop('CS25SITE', axis=1,inplace=True)"
   ]
  },
  {
   "cell_type": "code",
   "execution_count": 51,
   "metadata": {
    "collapsed": true
   },
   "outputs": [],
   "source": [
    "#DAJCCT\n",
    "'''\n",
    "99 \tTX \n",
    "00 \tT0 \n",
    "01 \tTa \n",
    "05 \tTis \n",
    "06 \tTispu (Urethra only) \n",
    "07 \tTispd (Urethra only) \n",
    "10 \tT1 \n",
    "11 \tT1mic \n",
    "19 \tT1 NOS \n",
    "12 \tT1a \n",
    "13 \tT1a1 \n",
    "14 \tT1a2 \n",
    "15 \tT1b \n",
    "16 \tT1b1 \n",
    "17 \tT1b2 \n",
    "18 \tT1c \n",
    "20 \tT2 \n",
    "29 \tT2 NOS \n",
    "21 \tT2a \n",
    "22 \tT2b \n",
    "23 \tT2c \n",
    "30 \tT3 \n",
    "39 \tT3 NOS \n",
    "31 \tT3a \n",
    "32 \tT3b \n",
    "33 \tT3c \n",
    "40 \tT4 \n",
    "49 \tT4 NOS \n",
    "41 \tT4a \n",
    "42 \tT4b \n",
    "43 \tT4c \n",
    "44 \tT4d \n",
    "80 \tT1a NOS \n",
    "81 \tT1b NOS \n",
    "88 \tNot applicable \n",
    "'''\n",
    "df['DAJCCT'] = df['DAJCCT'].replace({99: 'TX', 0: 'T0',1:'Ta',5:'Tis',6: 'Tispu', 7: 'Tispd',10:'T1',\n",
    "                                 11: 'T1mic', 19: 'T1 NOS',12:'T1a',13:'T1a1',14: 'T1a2', 15: 'T1b',16:'T1b1',\n",
    "                                 17: 'T1b2', 18: 'T1c',20:'T2',29:'T2 NOS',21: 'T2a', 22: 'T2b',23:'T2c',\n",
    "                                 30: 'T3', 39: 'T3 NOS',31:'T3a',32:'T3b',33: 'T3c', 40: 'T4',49:'T4 NOS',\n",
    "                                 41: 'T4a', 42: 'T4b',43:'T4c',44:'T4d',80: 'T1a NOS', 81: 'T1b NOS',88:'Not applicable'})\n"
   ]
  },
  {
   "cell_type": "code",
   "execution_count": 52,
   "metadata": {
    "collapsed": true
   },
   "outputs": [],
   "source": [
    "#DAJCCN\n",
    "'''\n",
    "99 \tNX \n",
    "00 \tN0 \n",
    "01 \tN0(i-) \n",
    "02 \tN0(i+) \n",
    "03 \tN0(mol-) \n",
    "04 \tN0(mol+) \n",
    "10 \tN1 \n",
    "19 \tN1 NOS \n",
    "11 \tN1a \n",
    "12 \tN1b \n",
    "13 \tN1c \n",
    "18 \tN1mi \n",
    "20 \tN2 \n",
    "29 \tN2 NOS \n",
    "21 \tN2a \n",
    "22 \tN2b \n",
    "23 \tN2c \n",
    "30 \tN3 \n",
    "39 \tN3 NOS \n",
    "31 \tN3a \n",
    "32 \tN3b \n",
    "33 \tN3c \n",
    "88 \tNoN applicable \n",
    "'''\n",
    "\n",
    "df['DAJCCN'] = df['DAJCCN'].replace({99: 'NX', 0: 'N0',1:'N0(i-)',2:'N0(i+)',3: 'N0(mol-)', 4: 'N0(mol+)',10:'N1',\n",
    "                                 19: 'N1 NOS',11: 'N1a', 12:'N1b',13:'N1c',18: 'N1mi', 20: 'N2',29:'N2 NOS',\n",
    "                                 21: 'N2a', 22: 'N2b',23:'N2c',30:'N3',39:'N3 NOS', 31: 'N3a',32:'N3b',\n",
    "                                 33: 'N3c', 88:'Not applicable'})"
   ]
  },
  {
   "cell_type": "code",
   "execution_count": 53,
   "metadata": {
    "collapsed": true
   },
   "outputs": [],
   "source": [
    "#DAJCCM\n",
    "'''\n",
    "99\tMX \n",
    "0\tM0 \n",
    "10\tM1 \n",
    "11\tM1a \n",
    "12\tM1b \n",
    "13\tM1c \n",
    "19\tM1 NOS \n",
    "88\tNot applicable \n",
    "'''\n",
    "\n",
    "df['DAJCCM'] = df['DAJCCM'].replace({99: 'MX', 0: 'M0',10:'M1',11:'M1a',12: 'M1b', 13: 'M1c',19:'M1 NOS',\n",
    "                                 88:'Not applicable'})"
   ]
  },
  {
   "cell_type": "code",
   "execution_count": 54,
   "metadata": {
    "collapsed": true
   },
   "outputs": [],
   "source": [
    "#DAJCCSTG\n",
    "'''\n",
    "33 \tStage IIB \n",
    "34 \tStage IIC \n",
    "35 \tStage IIEA (lymphoma only) \n",
    "36 \tStage IIEB (lymphoma only) \n",
    "37 \tStage IIE (lymphoma only) \n",
    "38 \tStage IISA (lymphoma only) \n",
    "39 \tStage IISB (lymphoma only) \n",
    "40 \tStage IIS (lymphoma only) \n",
    "41 \tStage IIESA (lymphoma only) \n",
    "42 \tStage IIESB (lymphoma only) \n",
    "43 \tStage IIES (lymphoma only) \n",
    "50 \tStage III \n",
    "51 \tStage III NOS \n",
    "52 \tStage IIIA \n",
    "53 \tStage IIIB \n",
    "54 \tStage IIIC \n",
    "55 \tStage IIIEA (lymphoma only) \n",
    "56 \tStage IIIEB (lymphoma only) \n",
    "57 \tStage IIIE (lymphoma only) \n",
    "58 \tStage IIISA (lymphoma only) \n",
    "59 \tStage IIISB (lymphoma only) \n",
    "60 \tStage IIIS (lymphoma only) \n",
    "61 \tStage IIIESA (lymphoma only) \n",
    "62 \tStage IIIESB (lymphoma only) \n",
    "63 \tStage IIIES (lymphoma only) \n",
    "70 \tStage IV \n",
    "71 \tStage IV NOS \n",
    "72 \tStage IVA \n",
    "73 \tStage IVB \n",
    "74 \tStage IVC \n",
    "88 \tNot applicable \n",
    "90 \tStage Occult \n",
    "99 \tStage Unknown \n",
    "'''\n",
    "\n",
    "\n",
    "\n",
    "\n",
    "\n",
    "replace={0:'Stage 0',1:'Stage 0a',2:'Stage 0is',10:'Stage I',11:'Stage I NOS',\n",
    "         12:'Stage IA',13:'Stage IA1',14:'Stage IA2',15:'Stage IB',16:'Stage IB1',\n",
    "         17:'Stage IB2',18:'Stage IC',19:'Stage IS',23:'Stage ISA',24:'Stage ISB',\n",
    "         20:'Stage IEA',21:'Stage IEB',22:'Stage IE',30:'Stage II',31:'Stage II NOS',\n",
    "         32:'Stage IIA', 33:'Stage IIB',34:'Stage IIC',35:'Stage IIEA',36 :'Stage IIEB',\n",
    "         37:'Stage IIE',38:'Stage IISA',39 :'Stage IISB',40 :'Stage IIS',\n",
    "         41:'Stage IIESA',42:'Stage IIESB',43: 'Stage IIES',50 :'Stage III',\n",
    "         51:'Stage III NOS',52:'Stage IIIA ',53:'Stage IIIB',54 :'Stage IIIC',\n",
    "         55:'Stage IIIEA',56 :'Stage IIIEB',57 :'Stage IIIE',58:'Stage IIISA',\n",
    "         59:'Stage IIISB',60:'Stage IIIS',61:'Stage IIIESA',62:'Stage IIIESB',\n",
    "         63:'Stage IIIES',70:'Stage IV',71:'Stage IV NOS',72:'Stage IVA',73:'Stage IVB',\n",
    "         74:'Stage IVC',88:'Not applicable',90:'Stage Occult',99:'Stage Unknown'}\n",
    "df.replace({\"DAJCCSTG\": replace}, inplace=True)"
   ]
  },
  {
   "cell_type": "code",
   "execution_count": 55,
   "metadata": {
    "collapsed": true
   },
   "outputs": [],
   "source": [
    "#DSS1977S\n",
    "'''\n",
    "0\tIn Situ \n",
    "1\tLocalized \n",
    "2\tRegional, direct extension \n",
    "3\tRegional, lymph nodes only \n",
    "4\tRegional, extension and nodes \n",
    "5\tRegional, NOS \n",
    "7\tDistant \n",
    "8\tNot applicable \n",
    "9\tUnknown/Unstaged \n",
    "'''\n",
    "\n",
    "\n",
    "\n",
    "df['DSS1977S']= df['DSS1977S'].replace({0:'In Situ',1:'Localized',2:'Regional, direct extension',\n",
    "                                    3 :'Regional, lymph nodes only',4:'Regional, extension and nodes',\n",
    "                                    5:'Regional, NOS',7 :'Distant',8 :'Not applicable',9:'Unknown/Unstaged'})"
   ]
  },
  {
   "cell_type": "code",
   "execution_count": 56,
   "metadata": {
    "collapsed": true
   },
   "outputs": [],
   "source": [
    "#DSS2000S\n",
    "'''\n",
    "0\tIn Situ \n",
    "1\tLocalized \n",
    "2\tRegional, direct extension \n",
    "3\tRegional, lymph nodes only \n",
    "4\tRegional, extension and nodes \n",
    "5\tRegional, NOS \n",
    "7\tDistant \n",
    "8\tNot applicable \n",
    "9\tUnknown/Unstaged \n",
    "'''\n",
    "\n",
    "df['DSS2000S']= df['DSS2000S'].replace({0:'In Situ',1:'Localized',2:'Regional, direct extension',\n",
    "                                    3 :'Regional, lymph nodes only',4:'Regional, extension and nodes',\n",
    "                                    5:'Regional, NOS',7 :'Distant',8 :'Not applicable',9:'Unknown/Unstaged'})"
   ]
  },
  {
   "cell_type": "code",
   "execution_count": 57,
   "metadata": {
    "collapsed": true
   },
   "outputs": [],
   "source": [
    "\n",
    "#DAJCCFL             \n",
    "'''\n",
    "1\tAJCC Sixth Edition derived from Collaborative Staging Manual and Coding Instructions, Version 1.0 \n",
    "2\tAJCC Sixth Edition derived from EOD (prior to 2004) \n",
    "Blank \tNot derived \n",
    "'''\n",
    "df['DAJCCFL']= df['DAJCCFL'].replace({0:'Not derived',1:'Derived from Collaborative Staging Manual and Coding Instructions',\n",
    "                                  2:'derived from EOD'})"
   ]
  },
  {
   "cell_type": "code",
   "execution_count": 58,
   "metadata": {},
   "outputs": [
    {
     "data": {
      "text/plain": [
       "Not derived                                                          168249\n",
       "Derived from Collaborative Staging Manual and Coding Instructions     79413\n",
       "Name: DAJCCFL, dtype: int64"
      ]
     },
     "execution_count": 58,
     "metadata": {},
     "output_type": "execute_result"
    }
   ],
   "source": [
    "df['DAJCCFL'].value_counts()"
   ]
  },
  {
   "cell_type": "code",
   "execution_count": 59,
   "metadata": {
    "collapsed": true
   },
   "outputs": [],
   "source": [
    "#NO_SURG\n",
    "'''\n",
    "0 \tSurgery performed \n",
    "1\tSurgery not recommended \n",
    "2\tContraindicated due to other conditions; Autopsy Only case (1973-2002) \n",
    "5 \tPatient died before recommended surgery \n",
    "6 \tUnknown reason for no surgery \n",
    "7\tPatient or patient's guardian refused \n",
    "8 \tRecommended, unknown if done \n",
    "9 \tUnknown if surgery performed; Death Certificate Only case; Autopsy only case (2003+) \n",
    "'''\n",
    "\n",
    "df['NO_SURG']= df['NO_SURG'].replace({0:'Surgery performed',1:'Surgery not recommended',2:'Contraindicated/Autopsy',\n",
    "                                  5 :'Died before surgery',6:'Unknown reason for no surgery',\n",
    "                                  7:'Refused',8 :'Recommended, unknown if done',9 :'Unknown if performed/ Death Certificate/Autopsy'})"
   ]
  },
  {
   "cell_type": "code",
   "execution_count": 60,
   "metadata": {
    "collapsed": true
   },
   "outputs": [],
   "source": [
    "#cs0204schema\n",
    "'''\n",
    "001 \tAdnexaUterineOther \n",
    "002 \tAdrenalGland \n",
    "003 \tAmpullaVater \n",
    "004 \tAnus \n",
    "005 \tAppendix \n",
    "006 \tBileDuctsDistal \n",
    "007 \tBileDuctsIntraHepat \n",
    "008 \tBileDuctsPerihilar \n",
    "009 \tBiliaryOther \n",
    "010 \tBladder \n",
    "011 \tBone \n",
    "012 \tBrain \n",
    "013 \tBreast \n",
    "014 \tBuccalMucosa \n",
    "015 \tCarcinoidAppendix \n",
    "016 \tCervix \n",
    "017 \tCNSOther \n",
    "018 \tColon \n",
    "019 \tConjunctiva \n",
    "020 \tCorpusAdenosarcoma \n",
    "021 \tCorpusCarcinoma \n",
    "022 \tCorpusSarcoma \n",
    "023 \tCysticDuct \n",
    "024 \tDigestiveOther \n",
    "025 \tEndocrineOther \n",
    "026 \tEpiglottisAnterior \n",
    "027 \tEsophagus \n",
    "028 \tEsophagusGEJunction \n",
    "029 \tEyeOther \n",
    "030 \tFallopianTube \n",
    "031 \tFloorMouth \n",
    "032 \tGallbladder \n",
    "033 \tGenitalFemaleOther \n",
    "034 \tGenitalMaleOther \n",
    "035 \tGISTAppendix \n",
    "036 \tGISTColon \n",
    "037 \tGISTEsophagus \n",
    "038 \tGISTPeritoneum \n",
    "039 \tGISTRectum \n",
    "040 \tGISTSmallIntestine \n",
    "041 \tGISTStomach \n",
    "042 \tGumLower \n",
    "043 \tGumOther \n",
    "044 \tGumUpper \n",
    "045 \tHeartMediastinum \n",
    "046 \tHemeRetic \n",
    "047 \tHypopharynx \n",
    "048 \tIllDefinedOther \n",
    "049 \tIntracranialGland \n",
    "050 \tKaposiSarcoma \n",
    "051 \tKidneyParenchyma \n",
    "052 \tKidneyRenalPelvis \n",
    "053 \tLacrimalGland \n",
    "054 \tLacrimalSac \n",
    "055 \tLarynxGlottic \n",
    "056 \tLarynxOther \n",
    "057 \tLarynxSubglottic \n",
    "058 \tLarynxSupraglottic \n",
    "059 \tLipLower \n",
    "060 \tLipOther \n",
    "061 \tLipUpper \n",
    "062 \tLiver \n",
    "063 \tLung \n",
    "064 \tLymphoma \n",
    "065 \tLymphomaOcularAdnexa \n",
    "066 \tMelanomaBuccalMucosa \n",
    "067 \tMelanomaChoroid \n",
    "068 \tMelanomaCiliaryBody \n",
    "069 \tMelanomaConjunctiva \n",
    "070 \tMelanomaEpiglottisAnterior \n",
    "071 \tMelanomaEyeOther \n",
    "072 \tMelanomaFloorMouth \n",
    "073 \tMelanomaGumLower \n",
    "074 \tMelanomaGumOther \n",
    "075 \tMelanomaGumUpper \n",
    "076 \tMelanomaHypopharynx \n",
    "077 \tMelanomaIris \n",
    "078 \tMelanomaLarynxGlottic \n",
    "079 \tMelanomaLarynxOther \n",
    "080 \tMelanomaLarynxSubglottic \n",
    "081 \tMelanomaLarynxSupraglottic \n",
    "082 \tMelanomaLipLower \n",
    "083 \tMelanomaLipOther \n",
    "084 \tMelanomaLipUpper \n",
    "085 \tMelanomaMouthOther \n",
    "086 \tMelanomaNasalCavity \n",
    "087 \tMelanomaNasopharynx \n",
    "088 \tMelanomaOropharynx \n",
    "089 \tMelanomaPalateHard \n",
    "090 \tMelanomaPalateSoft \n",
    "091 \tMelanomaPharynxOther \n",
    "092 \tMelanomaSinusEthmoid \n",
    "093 \tMelanomaSinusMaxillary \n",
    "094 \tMelanomaSinusOther \n",
    "095 \tMelanomaSkin \n",
    "096 \tMelanomaTongueAnterior \n",
    "097 \tMelanomaTongueBase \n",
    "098 \tMerkelCellPenis \n",
    "099 \tMerkelCellScrotum \n",
    "100 \tMerkelCellSkin \n",
    "101 \tMerkelCellVulva \n",
    "102 \tMiddleEar \n",
    "103 \tMouthOther \n",
    "104 \tMycosisFungoides \n",
    "105 \tMyelomaPlasmaCellDisorder \n",
    "106 \tNasalCavity \n",
    "107 \tNasopharynx \n",
    "108 \tNETAmpulla \n",
    "109 \tNETColon \n",
    "110 \tNETRectum \n",
    "111 \tNETSmallIntestine \n",
    "112 \tNETStomach \n",
    "113 \tOrbit \n",
    "114 \tOropharynx \n",
    "115 \tOvary \n",
    "116 \tPalateHard \n",
    "117 \tPalateSoft \n",
    "118 \tPancreasBodyTail \n",
    "119 \tPancreasHead \n",
    "120 \tPancreasOther \n",
    "121 \tParotidGland \n",
    "122 \tPenis \n",
    "123 \tPeritoneum \n",
    "124 \tPeritoneumFemaleGen \n",
    "125 \tPharyngealTonsil \n",
    "126 \tPharynxOther \n",
    "127 \tPlacenta \n",
    "128 \tPleura \n",
    "129 \tProstate \n",
    "130 \tRectum \n",
    "131 \tRespiratoryOther \n",
    "132 \tRetinoblastoma \n",
    "133 \tRetroperitoneum \n",
    "134 \tSalivaryGlandOther \n",
    "135 \tScrotum \n",
    "136 \tSinusEthmoid \n",
    "137 \tSinusMaxillary \n",
    "138 \tSinusOther \n",
    "139 \tSkin \n",
    "140 \tSkinEyelid \n",
    "141 \tSmallIntestine \n",
    "142 \tSoftTissue \n",
    "143 \tStomach \n",
    "144 \tSubmandibularGland \n",
    "145 \tTestis \n",
    "146 \tThyroid \n",
    "147 \tTongueAnterior \n",
    "148 \tTongueBase \n",
    "149 \tTrachea \n",
    "150 \tUrethra \n",
    "151 \tUrinaryOther \n",
    "152 \tVagina \n",
    "153 \tVulva \n",
    "'''\n",
    "'''\n",
    "013    1631572\n",
    "Name: cs0204schema, dtype: int64 - WILL BE DELETED\n",
    "'''\n",
    "\n",
    "df=df.drop(['cs0204schema'], axis=1)"
   ]
  },
  {
   "cell_type": "code",
   "execution_count": 61,
   "metadata": {
    "collapsed": true
   },
   "outputs": [],
   "source": [
    "#HST_STGA\n",
    "'''\n",
    "0\tIn situ — A noninvasive neoplasm; a tumor which has not penetrated the basement membrane nor extended beyond the epithelial tissue. Some synonyms are intraepithelial (confined to epithelial tissue), noninvasive and noninfiltrating. \n",
    "1\tLocalized — An invasive neoplasm confined entirely to the organ of origin. It may include intraluminal extension where specified. For example for colon, intraluminal extension limited to immediately contiguous segments of the large bowel is localized, if no lymph nodes are involved. Localized may exclude invasion of the serosa because of the poor survival of the patient once the serosa is invaded. \n",
    "2\tRegional — A neoplasm that has extended 1) beyond the limits of the organ of origin directly into surrounding organs or tissues; 2) into regional lymph nodes by way of the lymphatic system; or 3) by a combination of extension and regional lymph nodes. \n",
    "4\tDistant — A neoplasm that has spread to parts of the body remote from the primary tumor either by direct extension or by discontinuous metastasis (e.g., implantation or seeding) to distant organs, issues, or via the lymphatic system to distant lymph nodes. \n",
    "8\tLocalized/Regional – Only used for Prostate cases. \n",
    "9\tUnstaged — Information is not sufficient to assign a stage. \n",
    "'''\n",
    "\n",
    "df['HST_STGA']= df['HST_STGA'].replace({0:'In situ - noninvasive neoplasm',1:'Localized - invasive neoplasm',\n",
    "                             2:'Regional — neoplasm that has extended',4 :'Distant — neoplasm that has spread',\n",
    "                             8:'Localized/Regional – Only used for Prostate cases',9:'Unstaged'})"
   ]
  },
  {
   "cell_type": "code",
   "execution_count": 62,
   "metadata": {
    "collapsed": true
   },
   "outputs": [],
   "source": [
    "#FIRSTPRM\n",
    "'''\n",
    "0\tno\n",
    "1\tyes\n",
    "'''\n",
    "df['FIRSTPRM']= df['FIRSTPRM'].replace({0:'no',1:'yes'})"
   ]
  },
  {
   "cell_type": "code",
   "execution_count": 63,
   "metadata": {},
   "outputs": [
    {
     "data": {
      "text/plain": [
       "yes    206484\n",
       "no      41178\n",
       "Name: FIRSTPRM, dtype: int64"
      ]
     },
     "execution_count": 63,
     "metadata": {},
     "output_type": "execute_result"
    }
   ],
   "source": [
    "df['FIRSTPRM'].value_counts()"
   ]
  },
  {
   "cell_type": "code",
   "execution_count": 64,
   "metadata": {
    "collapsed": true
   },
   "outputs": [],
   "source": [
    "#CODPUB              \n",
    "'''\n",
    "20010\tLip, Oral/Pharynx, Malignant\n",
    "20020\tTongue, Oral/Pharynx, Malignant\n",
    "20030\tSalivary Gland, Oral/Pharynx, Malignant\n",
    "20040\tFloor of Mouth, Oral/Pharynx, Malignant\n",
    "20050\tGum and Other Mouth, Oral/Pharynx, Malignant\n",
    "20060\tNasopharynx, Oral/Pharynx, Malignant\n",
    "20070\tTonsil, Oral/Pharynx, Malignant\n",
    "20080\tOropharynx, Oral/Pharynx, Malignant\n",
    "20090\tHypopharynx, Oral/Pharynx, Malignant\n",
    "20100\tOther Oral Cavity and Pharynx, Oral/Pharynx, Malignant\n",
    "21010\tEsophagus, Digestive, Malignant\n",
    "21020\tStomach, Digestive, Malignant\n",
    "21030\tSmall Intestine, Digestive, Malignant\n",
    "21040\tColon excluding Rectum, Digestive, Malignant\n",
    "21050\tRectum and Rectosigmoid Junction, Digestive, Malignant\n",
    "21060\tAnus, Anal Canal and Anorectum, Digestive, Malignant\n",
    "21071\tLiver, Digestive, Malignant\n",
    "21072\tIntrahepatic Bile Duct, Digestive, Malignant\n",
    "21080\tGallbladder, Digestive, Malignant\n",
    "21090\tOther Biliary, Digestive, Malignant\n",
    "21100\tPancreas, Digestive, Malignant\n",
    "21110\tRetroperitoneum, Digestive, Malignant\n",
    "21120\tPeritoneum, Omentum and Mesentery, Digestive, Malignant\n",
    "21130\tOther Digestive Organs, Digestive, Malignant\n",
    "22010\tNose, Nasal Cavity and Middle Ear, Respiratory, Malignant\n",
    "22020\tLarynx, Respiratory, Malignant\n",
    "22030\tLung and Bronchus, Respiratory, Malignant\n",
    "22050\tPleura, Respiratory, Malignant\n",
    "22060\tTrachea, Mediastinum and Other Respiratory Organs, Respiratory, Malignant\n",
    "23000\tBones and Joints,  Malignant\n",
    "24000\tSoft Tissue including Heart , Malignant\n",
    "25010\tSkin & Melanoma , Skin, Malignant\n",
    "25020\tNon-Melanoma , Skin, Malignant\n",
    "26000\tBreast, Malignant\n",
    "27010\tCervix Uteri, Female genitalia, Malignant\n",
    "27020\tCorpus Uteri, Female genitalia, Malignant\n",
    "27030\tUterus, NOS, Female genitalia, Malignant\n",
    "27040\tOvary, Female genitalia, Malignant\n",
    "27050\tVagina, Female genitalia, Malignant\n",
    "27060\tVulva, Female genitalia, Malignant\n",
    "27070\tOther Female Genital Organs, Female genitalia, Malignant\n",
    "28010\tProstate, Male genitalia, Malignant\n",
    "28020\tTestis, Male genitalia, Malignant\n",
    "28030\tPenis, Male genitalia, Malignant\n",
    "28040\tOther Male Genital Organs, Male genitalia, Malignant\n",
    "29010\tUrinary Bladder, Urinary, Malignant\n",
    "29020\tKidney and Renal Pelvis, Urinary, Malignant\n",
    "29030\tUreter, Urinary, Malignant\n",
    "29040\tOther Urinary Organs, Urinary, Malignant\n",
    "30000\tEye and Orbit, Malignant\n",
    "31010\tBrain and Other Nervous System, Malignant\n",
    "32010\tThyroid, Endocrine, Malignant\n",
    "32020\tOther Endocrine including thymus, Endocrine, Malignant\n",
    "33010\tHodgkin Lymphoma, Lymphoma, Malignant\n",
    "33040\tNon-Hodgkin Lymphoma, Lymphoma, Malignant\n",
    "34000\tMyeloma, Malignant\n",
    "35011\tAcute Lymphocytic Leukemia, Leukemia, Malignant\n",
    "35012\tChronic Lymphocytic Leukemia, Leukemia, Malignant\n",
    "35013\tOther Lymphocytic Leukemia, Leukemia, Malignant\n",
    "35021\tAcute myeloid, Leukemia, Malignant\n",
    "35031\tAcute Monocytic Leukemia, Leukemia, Malignant\n",
    "35022\tChronic Myeloid Leukemia, Leukemia, Malignant\n",
    "35023\tOther Myeloid/Monocytic Leukemia, Leukemia, Malignant\n",
    "35041\tOther Acute Leukemia, Leukemia, Malignant\n",
    "35043\tAleukemic, subleukemic and NOS, Leukemia, Malignant\n",
    "36010\tMesothelioma (ICD-10 only) +, Malignant\n",
    "36020\tKaposi Sarcoma (ICD-10 only) +, Malignant\n",
    "37000\tMiscellaneous Malignant Cancer, Malignant\n",
    "38000\tIn situ, benign or unknown behavior neoplasm, Non-Cancer\n",
    "50000\tTuberculosis, Non-Cancer\n",
    "50010\tSyphilis, Non-Cancer\n",
    "50040\tHuman Immunodeficiency Virus (HIV) (1987+), Non-Cancer\n",
    "50030\tSepticemia, Non-Cancer\n",
    "50040 \tOther Infectious and Parasitic Diseases, Non-Cancer\n",
    "50050\tDiabetes Mellitus, Non-Cancer\n",
    "50051\tAlzheimers (ICD-9 and 10 only), Non-Cancer\n",
    "50060\tDiseases of Heart, Non-Cancer\n",
    "50070\tHypertension without Heart Disease, Non-Cancer\n",
    "50080\tCerebrovascular Diseases, Non-Cancer\n",
    "50090\tAtherosclerosis, Non-Cancer\n",
    "50100\tAortic Aneurysm and Dissection, Non-Cancer\n",
    "50110\tOther Diseases of Arteries, Arterioles, Capillaries, Non-Cancer\n",
    "50120\tPneumonia and Influenza, Non-Cancer\n",
    "50130\tChronic Obstructive Pulmonary Disease and Allied Cond, Non-Cancer\n",
    "50140\tStomach and Duodenal Ulcers, Non-Cancer\n",
    "50150\tChronic Liver Disease and Cirrhosis, Non-Cancer\n",
    "50160\tNephritis, Nephrotic Syndrome and Nephrosis, Non-Cancer\n",
    "50170\tComplications of Pregnancy, Childbirth, Puerperium, Non-Cancer\n",
    "50180\tCongenital Anomalies, Non-Cancer\n",
    "50190\tCertain Conditions Originating in Perinatal Period, Non-Cancer\n",
    "50200\tSymptoms, Signs and Ill-Defined Conditions, Non-Cancer\n",
    "50210\tAccidents and Adverse Effects, Non-Cancer\n",
    "50220\tSuicide and Self-Inflicted Injury, Non-Cancer\n",
    "50230\tHomicide and Legal Intervention, Non-Cancer\n",
    "50300\tOther Cause of Death, Non-Cancer\n",
    "0\tAlive\n",
    "41000 \tNot Available/no COD\n",
    "99999 \tUnknown\n",
    "'''\n",
    "list1=[20010,20020,20030,20040,20050,20060,20070,20080,20090,20100,21010,21020,21030,21040,21050,21060,\n",
    "       21071,21072,21080,21090,21100,21110,21120,21130,22010,22020,22030,22050,22060,23000,24000,25010,\n",
    "       25020,26000,27010,27020,27030,27040,27050,27060,27070,28010,28020,28030,28040,29010,29020,29030,\n",
    "       29040,30000,31010,32010,32020,33010,33040,34000,35011,35012,35013,35021,35031,35022,35023,35041,\n",
    "       35043,36010,36020,37000,38000,50000,50010,50040,50030,50040,50050,50051,50060,50070,50080,50090,\n",
    "       50100,50110,50120,50130,50140,50150,50160,50170,50180,50190,50200,50210,50220,50230,50300,0,41000,\n",
    "       99999]\n",
    "list2=['Lip, Oral/Pharynx, Malignant','Tongue, Oral/Pharynx, Malignant','Salivary Gland, Oral/Pharynx, Malignant',\n",
    "       'Floor of Mouth, Oral/Pharynx, Malignant','Gum and Other Mouth, Oral/Pharynx, Malignant',\n",
    "       'Nasopharynx, Oral/Pharynx, Malignant','Tonsil, Oral/Pharynx, Malignant','Oropharynx, Oral/Pharynx, Malignant',\n",
    "       'Hypopharynx, Oral/Pharynx, Malignant','Other Oral Cavity and Pharynx, Oral/Pharynx, Malignant',\n",
    "       'Esophagus, Digestive, Malignant','Stomach, Digestive, Malignant','Small Intestine, Digestive, Malignant',\n",
    "       'Colon excluding Rectum, Digestive, Malignant','Rectum and Rectosigmoid Junction, Digestive, Malignant',\n",
    "       'Anus, Anal Canal and Anorectum, Digestive, Malignant','Liver, Digestive, Malignant',\n",
    "       'Intrahepatic Bile Duct, Digestive, Malignant','Gallbladder, Digestive, Malignant',\n",
    "       'Other Biliary, Digestive, Malignant','Pancreas, Digestive, Malignant','Retroperitoneum, Digestive, Malignant',\n",
    "       'Peritoneum, Omentum and Mesentery, Digestive, Malignant','Other Digestive Organs, Digestive, Malignant',\n",
    "       'Nose, Nasal Cavity and Middle Ear, Respiratory, Malignant','Larynx, Respiratory, Malignant',\n",
    "       'Lung and Bronchus, Respiratory, Malignant','Pleura, Respiratory, Malignant',\n",
    "       'Trachea, Mediastinum and Other Respiratory Organs, Respiratory, Malignant','Bones and Joints,  Malignant',\n",
    "       'Soft Tissue including Heart , Malignant','Skin & Melanoma , Skin, Malignant','Non-Melanoma , Skin, Malignant',\n",
    "       'Breast, Malignant','Cervix Uteri, Female genitalia, Malignant','Corpus Uteri, Female genitalia, Malignant',\n",
    "       'Uterus, NOS, Female genitalia, Malignant','Ovary, Female genitalia, Malignant','Vagina, Female genitalia, Malignant',\n",
    "       'Vulva, Female genitalia, Malignant','Other Female Genital Organs, Female genitalia, Malignant',\n",
    "       'Prostate, Male genitalia, Malignant','Testis, Male genitalia, Malignant','Penis, Male genitalia, Malignant',\n",
    "       'Other Male Genital Organs, Male genitalia, Malignant','Urinary Bladder, Urinary, Malignant',\n",
    "       'Kidney and Renal Pelvis, Urinary, Malignant','Ureter, Urinary, Malignant','Other Urinary Organs, Urinary, Malignant',\n",
    "       'Eye and Orbit, Malignant','Brain and Other Nervous System, Malignant','Thyroid, Endocrine, Malignant',\n",
    "       'Other Endocrine including thymus, Endocrine, Malignant','Hodgkin Lymphoma, Lymphoma, Malignant',\n",
    "       'Non-Hodgkin Lymphoma, Lymphoma, Malignant','Myeloma, Malignant','Acute Lymphocytic Leukemia, Leukemia, Malignant',\n",
    "       'Chronic Lymphocytic Leukemia, Leukemia, Malignant','Other Lymphocytic Leukemia, Leukemia, Malignant',\n",
    "       'Acute myeloid, Leukemia, Malignant','Acute Monocytic Leukemia, Leukemia, Malignant',\n",
    "       'Chronic Myeloid Leukemia, Leukemia, Malignant','Other Myeloid/Monocytic Leukemia, Leukemia, Malignant',\n",
    "       'Other Acute Leukemia, Leukemia, Malignant','Aleukemic, subleukemic and NOS, Leukemia, Malignant',\n",
    "       'Mesothelioma (ICD-10 only) +, Malignant','Kaposi Sarcoma (ICD-10 only) +, Malignant',\n",
    "       'Miscellaneous Malignant Cancer, Malignant','In situ, benign or unknown behavior neoplasm, Non-Cancer',\n",
    "       'Tuberculosis, Non-Cancer','Syphilis, Non-Cancer','Human Immunodeficiency Virus (HIV) (1987+), Non-Cancer',\n",
    "       'Septicemia, Non-Cancer','Other Infectious and Parasitic Diseases, Non-Cancer','Diabetes Mellitus, Non-Cancer',\n",
    "       'Alzheimers (ICD-9 and 10 only), Non-Cancer',\n",
    "       'Diseases of Heart, Non-Cancer','Hypertension without Heart Disease, Non-Cancer',\n",
    "       'Cerebrovascular Diseases, Non-Cancer','Atherosclerosis, Non-Cancer','Aortic Aneurysm and Dissection, Non-Cancer',\n",
    "       'Other Diseases of Arteries, Arterioles, Capillaries, Non-Cancer','Pneumonia and Influenza, Non-Cancer',\n",
    "       'Chronic Obstructive Pulmonary Disease and Allied Cond, Non-Cancer','Stomach and Duodenal Ulcers, Non-Cancer',\n",
    "       'Chronic Liver Disease and Cirrhosis, Non-Cancer','Nephritis, Nephrotic Syndrome and Nephrosis, Non-Cancer',\n",
    "       'Complications of Pregnancy, Childbirth, Puerperium, Non-Cancer','Congenital Anomalies, Non-Cancer',\n",
    "       'Certain Conditions Originating in Perinatal Period, Non-Cancer',\n",
    "       'Symptoms, Signs and Ill-Defined Conditions, Non-Cancer','Accidents and Adverse Effects, Non-Cancer',\n",
    "       'Suicide and Self-Inflicted Injury, Non-Cancer','Homicide and Legal Intervention, Non-Cancer',\n",
    "       'Other Cause of Death, Non-Cancer','Alive','Not Available/no COD','Unknown']\n"
   ]
  },
  {
   "cell_type": "code",
   "execution_count": 65,
   "metadata": {
    "collapsed": true
   },
   "outputs": [],
   "source": [
    "recode=dict(zip(list1, list2))"
   ]
  },
  {
   "cell_type": "code",
   "execution_count": 66,
   "metadata": {
    "collapsed": true
   },
   "outputs": [],
   "source": [
    "df['CODPUB']= df['CODPUB'].replace(recode)"
   ]
  },
  {
   "cell_type": "code",
   "execution_count": 67,
   "metadata": {
    "collapsed": true
   },
   "outputs": [],
   "source": [
    "# Replace Non cancer cases with \"Non-Cancer\"\n",
    "df['CODPUB'] = df['CODPUB'].replace({'In situ, benign or unknown behavior neoplasm, Non-Cancer':'Non-Cancer',\n",
    "                                     'Tuberculosis, Non-Cancer':'Non-Cancer','Syphilis, Non-Cancer':'Non-Cancer',\n",
    "                                     'Human Immunodeficiency Virus (HIV) (1987+), Non-Cancer':'Non-Cancer',\n",
    "                                     'Septicemia, Non-Cancer':'Non-Cancer',\n",
    "                                     'Other Infectious and Parasitic Diseases, Non-Cancer':'Non-Cancer',\n",
    "                                     'Diabetes Mellitus, Non-Cancer':'Non-Cancer',\n",
    "                                     'Alzheimers (ICD-9 and 10 only), Non-Cancer':'Non-Cancer',\n",
    "                                     'Diseases of Heart, Non-Cancer':'Non-Cancer',\n",
    "                                     'Hypertension without Heart Disease, Non-Cancer':'Non-Cancer',\n",
    "                                     'Cerebrovascular Diseases, Non-Cancer':'Non-Cancer',\n",
    "                                     'Atherosclerosis, Non-Cancer':'Non-Cancer',\n",
    "                                     'Aortic Aneurysm and Dissection, Non-Cancer':'Non-Cancer',\n",
    "                                     'Other Diseases of Arteries, Arterioles, Capillaries, Non-Cancer':'Non-Cancer',\n",
    "                                     'Pneumonia and Influenza, Non-Cancer':'Non-Cancer',\n",
    "                                     'Chronic Obstructive Pulmonary Disease and Allied Cond, Non-Cancer':'Non-Cancer',\n",
    "                                     'Stomach and Duodenal Ulcers, Non-Cancer':'Non-Cancer',\n",
    "                                     'Chronic Liver Disease and Cirrhosis, Non-Cancer':'Non-Cancer',\n",
    "                                     'Nephritis, Nephrotic Syndrome and Nephrosis, Non-Cancer':'Non-Cancer',\n",
    "                                     'Complications of Pregnancy, Childbirth, Puerperium, Non-Cancer':'Non-Cancer',\n",
    "                                     'Congenital Anomalies, Non-Cancer':'Non-Cancer',\n",
    "                                     'Certain Conditions Originating in Perinatal Period, Non-Cancer':'Non-Cancer',\n",
    "                                     'Symptoms, Signs and Ill-Defined Conditions, Non-Cancer':'Non-Cancer',\n",
    "                                     'Accidents and Adverse Effects, Non-Cancer':'Non-Cancer',\n",
    "                                     'Suicide and Self-Inflicted Injury, Non-Cancer':'Non-Cancer',\n",
    "                                     'Homicide and Legal Intervention, Non-Cancer':'Non-Cancer',\n",
    "                                     'Other Cause of Death, Non-Cancer':'Non-Cancer'})"
   ]
  },
  {
   "cell_type": "code",
   "execution_count": 68,
   "metadata": {
    "collapsed": true
   },
   "outputs": [],
   "source": [
    "#STAT_REC\n",
    "'''\n",
    "1\tAlive\n",
    "4\tDead\n",
    "'''\n",
    "df['STAT_REC']= df['STAT_REC'].replace({1:'Alive',4:'Dead'})"
   ]
  },
  {
   "cell_type": "markdown",
   "metadata": {},
   "source": [
    "# DEPENDANT VARIABLE"
   ]
  },
  {
   "cell_type": "code",
   "execution_count": 69,
   "metadata": {
    "collapsed": true
   },
   "outputs": [],
   "source": [
    "#VSRTSADX\n",
    "'''\n",
    "0\tAlive or dead of other cause \n",
    "1\tDead \n",
    "9\tN/A not first tumor \n",
    "'''\n",
    "\n",
    "df['VSRTSADX']= df['VSRTSADX'].replace({9:0,8:0})"
   ]
  },
  {
   "cell_type": "code",
   "execution_count": 96,
   "metadata": {
    "collapsed": true
   },
   "outputs": [],
   "source": [
    "df['VSRTSADX']=df['VSRTSADX'].astype(str)"
   ]
  },
  {
   "cell_type": "code",
   "execution_count": 70,
   "metadata": {},
   "outputs": [
    {
     "data": {
      "text/plain": [
       "1    206470\n",
       "0     41192\n",
       "Name: VSRTSADX, dtype: int64"
      ]
     },
     "execution_count": 70,
     "metadata": {},
     "output_type": "execute_result"
    }
   ],
   "source": [
    "df['VSRTSADX'].value_counts()"
   ]
  },
  {
   "cell_type": "code",
   "execution_count": 71,
   "metadata": {
    "collapsed": true
   },
   "outputs": [],
   "source": [
    "#ODTHCLASS\n",
    "'''\n",
    "0\tAlive or dead due to cancer \n",
    "1\tDead \n",
    "9\tN/A not first tumor \n",
    "8 - Dead (missing/unknown COD)\n",
    "'''\n",
    "df['ODTHCLASS']= df['ODTHCLASS'].replace({0:'Alive or dead due to cancer',1:'Dead',9:'N/A not first tumor',\n",
    "                                         8:\"Dead\"})"
   ]
  },
  {
   "cell_type": "code",
   "execution_count": 72,
   "metadata": {},
   "outputs": [
    {
     "data": {
      "text/plain": [
       "Alive or dead due to cancer    206470\n",
       "N/A not first tumor             41154\n",
       "Dead                               38\n",
       "Name: ODTHCLASS, dtype: int64"
      ]
     },
     "execution_count": 72,
     "metadata": {},
     "output_type": "execute_result"
    }
   ],
   "source": [
    "df['ODTHCLASS'].value_counts()"
   ]
  },
  {
   "cell_type": "code",
   "execution_count": 73,
   "metadata": {
    "collapsed": true
   },
   "outputs": [],
   "source": [
    "#CS15SITE\n",
    "'''\n",
    "010\tPositive/elevated; amplified\n",
    "020\tNegative/normal; within normal limits; not amplified\n",
    "030\tBorderline; equivocal; indeterminate; undetermined whether positive or negative\n",
    "988\tNot applicable: Information not collected for this case\n",
    "(If this information is required by your standard setter, use of code 988 may result in an edit error.)\n",
    "997\tTest(s) ordered, results not in chart\n",
    "998\tTest(s) not done (test(s) not ordered and not performed)\n",
    "999\tUnknown or no information\n",
    "Not documented in patient record\n",
    "'''\n",
    "df['CS15SITE']= df['CS15SITE'].replace({0:'Not documented',10:'Positive/elevated/amplified',20:'Negative/normal, not amplified',\n",
    "                                    30:\"Borderline/equivocal/ndeterminate\",988:\"Not applicable\",997:\"Test(s) ordered\",\n",
    "                                    998:\"Test(s) not done\",999:\"Unknown or no information\"})\n"
   ]
  },
  {
   "cell_type": "code",
   "execution_count": 74,
   "metadata": {},
   "outputs": [
    {
     "data": {
      "text/plain": [
       "Not documented                       220947\n",
       "Negative/normal, not amplified        16506\n",
       "Positive/elevated/amplified            3823\n",
       "Unknown or no information              3191\n",
       "Test(s) not done                       1922\n",
       "Borderline/equivocal/ndeterminate       589\n",
       "Not applicable                          404\n",
       "Test(s) ordered                         280\n",
       "Name: CS15SITE, dtype: int64"
      ]
     },
     "execution_count": 74,
     "metadata": {},
     "output_type": "execute_result"
    }
   ],
   "source": [
    "df['CS15SITE'].value_counts()"
   ]
  },
  {
   "cell_type": "code",
   "execution_count": 75,
   "metadata": {
    "collapsed": true
   },
   "outputs": [],
   "source": [
    "#DAJCC7T\n",
    "'''\n",
    "999 \tTX \n",
    "000 \tT0 \n",
    "010 \tTa \n",
    "050 \tTis \n",
    "060 \tTispu (Urethra only) \n",
    "070 \tTispd (Urethra only) \n",
    "100 \tT1 \n",
    "110 \tT1mic \n",
    "199 \tT1 NOS \n",
    "120 \tT1a \n",
    "130 \tT1a1 \n",
    "140 \tT1a2 \n",
    "150 \tT1b \n",
    "160 \tT1b1 \n",
    "170 \tT1b2 \n",
    "180 \tT1c \n",
    "181 \tT1d \n",
    "200 \tT2 \n",
    "299 \tT2 NOS \n",
    "210 \tT2a \n",
    "211 \tT2a1 \n",
    "212 \tT2a2 \n",
    "213 \tT2a NOS \n",
    "220 \tT2b \n",
    "230 \tT2c \n",
    "240 \tT2d \n",
    "300 \tT3 \n",
    "399 \tT3 NOS \n",
    "310 \tT3a \n",
    "320 \tT3b \n",
    "330 \tT3c \n",
    "400 \tT4 \n",
    "499 \tT4 NOS \n",
    "410 \tT4a \n",
    "420 \tT4b \n",
    "430 \tT4c \n",
    "440 \tT4d \n",
    "450 \tT4e \n",
    "800 \tT1a NOS \n",
    "810 \tT1b NOS \n",
    "888 \tNot applicable \n",
    "\n",
    "'''\n",
    "replace={0:\"Not applicable\", 999: 'TX', 0: 'T0',10:'Ta',50:'Tis',60: 'Tispu', 70: 'Tispd',100:'T1',\n",
    "                                 110: 'T1mic', 199: 'T1 NOS',120:'T1a',130:'T1a1',140: 'T1a2', 150: 'T1b',160:'T1b1',\n",
    "                                 170: 'T1b2', 180: 'T1c',181:\"T1d\", 200:'T2',299:'T2 NOS',210: 'T2a',211:\"T2a1\",\n",
    "                                 212:\"T2a2\",213:\"T2a NOS\",220: 'T2b',230:'T2c',240:\"T2d\", 300: 'T3', 399: 'T3 NOS',\n",
    "                                 310:'T3a',320:'T3b',330: 'T3c', 400: 'T4',499:'T4 NOS',410: 'T4a', 420: 'T4b',\n",
    "                                 430:'T4c',440:'T4d',450:\"T4e\", 800: 'T1a NOS', 810: 'T1b NOS',88:'Not applicable',888:'Not applicable'}\n",
    "df.replace({\"DAJCC7T\": replace}, inplace=True)"
   ]
  },
  {
   "cell_type": "code",
   "execution_count": 76,
   "metadata": {
    "collapsed": true
   },
   "outputs": [],
   "source": [
    "#DAJCC7N\n",
    "'''\n",
    "999 \tNX \n",
    "000 \tN0 \n",
    "010 \tN0(i-) \n",
    "020 \tN0(i+) \n",
    "030 \tN0(mol-) \n",
    "040 \tN0(mol+) \n",
    "100 \tN1 \n",
    "199 \tN1 NOS \n",
    "110 \tN1a \n",
    "120 \tN1b \n",
    "130 \tN1c \n",
    "180 \tN1mi \n",
    "200 \tN2 \n",
    "299 \tN2 NOS \n",
    "210 \tN2a \n",
    "220 \tN2b \n",
    "230 \tN2c \n",
    "300 \tN3 \n",
    "399 \tN3 NOS \n",
    "310 \tN3a \n",
    "320 \tN3b \n",
    "330 \tN3c \n",
    "400 \tN4 \n",
    "888 \tNot applicable \n",
    "\n",
    "'''\n",
    "\n",
    "df['DAJCC7N'] = df['DAJCC7N'].replace({999: 'NX', 0: 'N0',10:'N0(i-)',20:'N0(i+)',30: 'N0(mol-)', 40: 'N0(mol+)',100:'N1',\n",
    "                                 199: 'N1 NOS',110: 'N1a', 120:'N1b',130:'N1c',180: 'N1mi', 200: 'N2',299:'N2 NOS',\n",
    "                                 210: 'N2a', 220: 'N2b',230:'N2c',300:'N3',399:'N3 NOS', 310: 'N3a',320:'N3b',\n",
    "                                 330: 'N3c',400:\"N4\", 888:'Not applicable'})"
   ]
  },
  {
   "cell_type": "code",
   "execution_count": 77,
   "metadata": {
    "collapsed": true
   },
   "outputs": [],
   "source": [
    "#DAJCC7M\n",
    "'''\n",
    "999 \tMX \n",
    "000 \tM0 \n",
    "010 \tM0(i+) \n",
    "100 \tM1 \n",
    "110 \tM1a \n",
    "120 \tM1b \n",
    "130 \tM1c \n",
    "140 \tM1d \n",
    "150 \tM1e \n",
    "199 \tM1 NOS \n",
    "888 \tNot applicable \n",
    "'''\n",
    "df['DAJCC7M'] = df['DAJCC7M'].replace({999: 'MX', 0: 'M0',10:\"M0(i+)\", 100:'M1',110:'M1a',120: 'M1b', 130: 'M1c',\n",
    "                                   140:\"M1d\",150:\"M1e\", 199:'M1 NOS',888:'Not applicable'})\n"
   ]
  },
  {
   "cell_type": "code",
   "execution_count": 78,
   "metadata": {
    "collapsed": true
   },
   "outputs": [],
   "source": [
    "#DAJCC7STG\n",
    "'''\n",
    "0\tStage 0 \n",
    "010 \tStage 0a \n",
    "020 \tStage 0is \n",
    "100 \tStage I \n",
    "110 \tStage I NOS \n",
    "120 \tStage IA \n",
    "130 \tStage IA1 \n",
    "140 \tStage IA2 \n",
    "121 \tStage IA NOS \n",
    "150 \tStage IB \n",
    "160 \tStage IB1 \n",
    "170 \tStage IB2 \n",
    "151 \tStage IB NOS \n",
    "180 \tStage IC \n",
    "190 \tStage IS \n",
    "230 \tStage ISA (lymphoma only) \n",
    "240 \tStage ISB (lymphoma only) \n",
    "200 \tStage IEA (lymphoma only) \n",
    "210 \tStage IEB (lymphoma only) \n",
    "220 \tStage IE (lymphoma only) \n",
    "300 \tStage II \n",
    "310 \tStage II NOS \n",
    "320 \tStage IIA \n",
    "321 \tStage IIA NOS \n",
    "322 \tStage IIA1 \n",
    "323 \tStage IIA NOS \n",
    "330 \tStage IIB \n",
    "340 \tStage IIC \n",
    "350 \tStage IIEA (lymphoma only) \n",
    "360 \tStage IIEB (lymphoma only) \n",
    "370 \tStage IIE (lymphoma only) \n",
    "380 \tStage IISA (lymphoma only) \n",
    "390 \tStage IISB (lymphoma only) \n",
    "400 \tStage IIS (lymphoma only) \n",
    "410 \tStage IIESA (lymphoma only) \n",
    "420 \tStage IIESB (lymphoma only) \n",
    "430 \tStage IIES (lymphoma only) \n",
    "500 \tStage III \n",
    "510 \tStage III NOS \n",
    "520 \tStage IIIA \n",
    "530 \tStage IIIB \n",
    "540 \tStage IIIC \n",
    "541 \tStage IIIC1 \n",
    "542 \tStage IIIC2 \n",
    "550 \tStage IIIEA (lymphoma only) \n",
    "560 \tStage IIIEB (lymphoma only) \n",
    "570 \tStage IIIE (lymphoma only) \n",
    "580 \tStage IIISA (lymphoma only) \n",
    "590 \tStage IIISB (lymphoma only) \n",
    "600 \tStage IIIS (lymphoma only) \n",
    "610 \tStage IIIESA (lymphoma only) \n",
    "620 \tStage IIIESB (lymphoma only) \n",
    "630 \tStage IIIES (lymphoma only) \n",
    "700 \tStage IV \n",
    "710 \tStage IV NOS \n",
    "720 \tStage IVA \n",
    "730 \tStage IVB \n",
    "740 \tStage IVC \n",
    "888 \tNot applicable \n",
    "900 \tStage Occult \n",
    "999 \tStage Unknown \n",
    "'''\n",
    "\n",
    "replace={0:'Stage 0',10:'Stage 0a',20:'Stage 0is',100:'Stage I',110:'Stage I NOS',\n",
    "         120:'Stage IA',130:'Stage IA1',140:'Stage IA2',121:'Stage IA NOS', 150:'Stage IB',160:'Stage IB1',\n",
    "         170:'Stage IB2',151 :'Stage IB NOS', 180:'Stage IC',190:'Stage IS',230:'Stage ISA',240:'Stage ISB',\n",
    "         200:'Stage IEA',210:'Stage IEB',220:'Stage IE',300:'Stage II',310:'Stage II NOS',\n",
    "         320:'Stage IIA',321:'Stage IIA NOS',322:'Stage IIA1',323:'Stage IIA NOS', 330:'Stage IIB',\n",
    "         340:'Stage IIC',350:'Stage IIEA',360 :'Stage IIEB',\n",
    "         370:'Stage IIE',380:'Stage IISA',390:'Stage IISB',400 :'Stage IIS',\n",
    "         410:'Stage IIESA',420:'Stage IIESB',430: 'Stage IIES',500 :'Stage III',\n",
    "         510:'Stage III NOS',520:'Stage IIIA ',530:'Stage IIIB',540 :'Stage IIIC',\n",
    "         541 :'Stage IIIC1',542 :'Stage IIIC2',550:'Stage IIIEA',560 :'Stage IIIEB',570 :'Stage IIIE',580:'Stage IIISA',\n",
    "         590:'Stage IIISB',600:'Stage IIIS',610:'Stage IIIESA',620:'Stage IIIESB',\n",
    "         630:'Stage IIIES',700:'Stage IV',710:'Stage IV NOS',720:'Stage IVA',730:'Stage IVB',\n",
    "         740:'Stage IVC',888:'Not applicable',900:'Stage Occult',999:'Stage Unknown'}\n",
    "df.replace({\"DAJCC7STG\": replace}, inplace=True)"
   ]
  },
  {
   "cell_type": "code",
   "execution_count": 79,
   "metadata": {
    "collapsed": true
   },
   "outputs": [],
   "source": [
    "#CS7SITE\n",
    "'''\n",
    "030\tScore of 3\n",
    "040\tScore of 4\n",
    "050\tScore of 5\n",
    "060\tScore of 6\n",
    "070\tScore of 7\n",
    "080\tScore of 8\n",
    "090\tScore of 9\n",
    "110\tLow Grade, Bloom-Richardson (BR) grade 1, score not given\n",
    "120\tMedium (Intermediate) Grade, BR grade 2, score not given\n",
    "130\tHigh Grade, BR grade 3, score not given\n",
    "988\tNot applicable: Information not collected for this case\n",
    "(If this information is required by your standard setter, use of code 988 may result in an edit error.)\n",
    "998\tNo histologic examination of primary site\n",
    "999\tNeither BR grade nor BR score given\n",
    "Unknown or no information\n",
    "Not documented in patient record\n",
    "'''\n",
    "\n",
    "df['CS7SITE'] = df['CS7SITE'].replace({0: 'Unknown',30:\"Score of 3\",40:'Score of 4',50:'Score of 5',60:'Score of 6',\n",
    "                                   70:'Score of 7',80:'Score of 8',90:'Score of 9',110:'Low Grade',\n",
    "                                   120:'Medium Grade',130:'High Grade',988:'Not applicable',\n",
    "                                   998:'No histologic examination',999:'Unknown'})"
   ]
  },
  {
   "cell_type": "code",
   "execution_count": 80,
   "metadata": {
    "collapsed": true
   },
   "outputs": [],
   "source": [
    "#brst_sub\n",
    "'''\n",
    "1\tHer2+/HR+ \n",
    "2\tHer2+/HR- \n",
    "3\tHer2-/HR+ \n",
    "4\tTriple Negative \n",
    "5\tUnknown \n",
    "9\tNot 2010+ Breast \n",
    "\n",
    "'''\n",
    "df['brst_sub'] = df['brst_sub'].replace({1:'Her2+/HR+',2:'Her2+/HR-',3:'Her2-/HR+',4:'Triple Negative',\n",
    "                                     5:'Unknown',9:'Not 2010+ Breast'})"
   ]
  },
  {
   "cell_type": "code",
   "execution_count": 81,
   "metadata": {
    "collapsed": true
   },
   "outputs": [],
   "source": [
    "#CSMETSDXB_PUB\n",
    "'''\n",
    "0\tNone; no bone metastases \n",
    "1\tYes \n",
    "8\tNot applicable \n",
    "9\tUnknown; not documented in patient record \n",
    "\n",
    "'''\n",
    "df['CSMETSDXB_PUB'] = df['CSMETSDXB_PUB'].replace({0:'None',1:'Yes',8:'Not applicable',9:'Unknown'})"
   ]
  },
  {
   "cell_type": "code",
   "execution_count": 82,
   "metadata": {
    "collapsed": true
   },
   "outputs": [],
   "source": [
    "#CSMETSDXBR_PUB\n",
    "'''\n",
    "0\tNone; no bone metastases \n",
    "1\tYes \n",
    "8\tNot applicable \n",
    "9\tUnknown; not documented in patient record \n",
    "\n",
    "'''\n",
    "df['CSMETSDXBR_PUB'] = df['CSMETSDXBR_PUB'].replace({0:'None',1:'Yes',8:'Not applicable',9:'Unknown'})"
   ]
  },
  {
   "cell_type": "code",
   "execution_count": 83,
   "metadata": {
    "collapsed": true
   },
   "outputs": [],
   "source": [
    "#CSMETSDXLIV_PUB\n",
    "'''\n",
    "0\tNone; no bone metastases \n",
    "1\tYes \n",
    "8\tNot applicable \n",
    "9\tUnknown; not documented in patient record \n",
    "\n",
    "'''\n",
    "df['CSMETSDXLIV_PUB'] = df['CSMETSDXLIV_PUB'].replace({0:'None',1:'Yes',8:'Not applicable',9:'Unknown'})"
   ]
  },
  {
   "cell_type": "code",
   "execution_count": 84,
   "metadata": {
    "collapsed": true
   },
   "outputs": [],
   "source": [
    "#CSMETSDXLUNG_PUB\n",
    "'''\n",
    "0\tNone; no bone metastases \n",
    "1\tYes \n",
    "8\tNot applicable \n",
    "9\tUnknown; not documented in patient record\n",
    "'''\n",
    "df['CSMETSDXLUNG_PUB'] = df['CSMETSDXLUNG_PUB'].replace({0:'None',1:'Yes',8:'Not applicable',9:'Unknown'})"
   ]
  },
  {
   "cell_type": "code",
   "execution_count": 85,
   "metadata": {
    "collapsed": true
   },
   "outputs": [],
   "source": [
    "#CSEXTEN             \n",
    "'''\n",
    "0\tIn situ\n",
    "50\tPaget disease of nipple  no tumor\n",
    "70\tPaget Disease disease of nipple  no carcinoma\n",
    "100\tConfined to breast tissue and fat including nipple and/or areola\n",
    "110\tT1mi\n",
    "120\t T1a\n",
    "130\tT1b \n",
    "140\tT1c\n",
    "170\tT1 [NOS] \n",
    "180\t T2 \n",
    "190\tT3 \n",
    "200\tInvasion of subcutaneous tissue\n",
    "300\tAttachment or fixation to pectoral muscle(s) or underlying tissue\n",
    "380\tT4 \n",
    "390\tT4a \n",
    "400\tInvasion chest wall\n",
    "410\tT4a\n",
    "510\tExtensive skin involvement\n",
    "512\tExtensive skin involvement\n",
    "514\tExtensive skin involvement\n",
    "516\tExtensive skin involvement breast more then 33%\n",
    "518\tExtensive skin involvement breast  33%-50%\n",
    "519\tExtensive skin involvement\n",
    "520\tExtensive skin involvement breast  more 50%\n",
    "575\tExtensive skin involvement\n",
    "580\tExtensive skin involvement breast  % not stated\n",
    "585\tExtensive skin involvement\n",
    "590\tT4b\n",
    "605\tT4b\n",
    "610\tInvasion chest wall +Extensive skin involvement\n",
    "612\tExtensive skin involvement\n",
    "613\tExtensive skin involvement\n",
    "615\tExtensive skin involvement\n",
    "620\tExtensive skin involvement\n",
    "680\tT4c\n",
    "710\tDiagnosis of inflammatory carcinoma\n",
    "715\tDiagnosis of inflammatory carcinoma\n",
    "720\tDiagnosis of inflammatory carcinoma\n",
    "725\tDiagnosis of inflammatory carcinoma\n",
    "730\tDiagnosis of inflammatory carcinoma\n",
    "750\tDiagnosis of inflammatory carcinoma\n",
    "780\tT4d\n",
    "790\tT4 -NOS\n",
    "950\tNo evidence of primary tumor\n",
    "999\tUnknown\n",
    "'''\n",
    "df['CSEXTEN']= df['CSEXTEN'].replace({0 : 'In situ Lobular neoplasia',50 : 'Paget disease of nipple  no tumor',\n",
    "                                      70 : 'Paget Disease disease of nipple  no carcinoma',\n",
    "                                      100 : 'Confined to breast tissue and fat including nipple and/or areola',\n",
    "                                      110 : 'T1mi',120 : ' T1a',130 : 'T1b ',140 : 'T1c',170 : 'T1 [NOS]',\n",
    "                                      180 : ' T2 ',190 : 'T3 ',200 : 'Invasion of subcutaneous tissue',\n",
    "                                      300 : 'Attachment or fixation to pectoral muscle(s) or underlying tissue',\n",
    "                                      380 : 'T4 ',390 : 'T4a ',400 : 'Invasion chest wall',410 : 'T4a',\n",
    "                                      510 : 'Extensive skin involvement',512 : 'Extensive skin involvement',\n",
    "                                      514 : 'Extensive skin involvement',\n",
    "                                      516 : 'Extensive skin involvement breast more then 33%',\n",
    "                                      518 : 'Extensive skin involvement breast  33%-50%',519 : 'Extensive skin involvement',\n",
    "                                      520 : 'Extensive skin involvement breast  more 50%',\n",
    "                                      575 : 'Extensive skin involvement',\n",
    "                                      580 : 'Extensive skin involvement breast  % not stated',\n",
    "                                      585 : 'Extensive skin involvement',590 : 'T4b',\n",
    "                                      610 : \"Diagnosis of inflammatory carcinoma\",605 : 'T4b',\n",
    "                                      610 : 'Invasion chest wall +Extensive skin involvement',\n",
    "                                      612 : 'Extensive skin involvement',613 : 'Extensive skin involvement',\n",
    "                                      615 : 'Extensive skin involvement',620 : 'Extensive skin involvement',\n",
    "                                      680 : 'T4c',710 : 'Diagnosis of inflammatory carcinoma',\n",
    "                                      715 : 'Diagnosis of inflammatory carcinoma',\n",
    "                                      720 : 'Diagnosis of inflammatory carcinoma',\n",
    "                                      725 : 'Diagnosis of inflammatory carcinoma',\n",
    "                                      730 : 'Diagnosis of inflammatory carcinoma',\n",
    "                                      750 : 'Diagnosis of inflammatory carcinoma',\n",
    "                                      780 : 'T4d',790 : 'T4 -NOS',950 : 'No evidence of primary tumor',999 : 'Unknown',}) \n",
    "\n"
   ]
  },
  {
   "cell_type": "code",
   "execution_count": 86,
   "metadata": {
    "collapsed": true
   },
   "outputs": [],
   "source": [
    "#CSLYMPHN            \n",
    "'''\n",
    "0 : 'No regional lymph node involvement ',\n",
    "50 : 'Evaluated pathologically:',\n",
    "130 : 'Evaluated pathologically:',\n",
    "150 : 'Evaluated pathologically:',\n",
    "155 : 'Evaluated pathologically:',\n",
    "250 : 'Evaluated pathologically:',\n",
    "255 : 'Evaluated clinically:',\n",
    "257 : 'Evaluated clinically:',\n",
    "258 : 'Evaluated pathologically:',\n",
    "260 : 'N1 [NOS] ',\n",
    "280 : 'N2 NOS ',\n",
    "290 : 'N2 NOS - clinical',\n",
    "300 : 'N2 NOS pathological',\n",
    "500 : 'Fixed/matted ipsilateral axillary nodes NOS',\n",
    "510 : 'Evaluated clinically:',\n",
    "520 : 'Evaluated pathologically:',\n",
    "600 : 'Axillary/regional lymph node(s)',\n",
    "610 : 'Evaluated clinically:',\n",
    "620 : 'Evaluated pathologically:',\n",
    "630 : 'Stated as N2 [NOS] with no other information on regional lymph nodes',\n",
    "710 : 'Evaluated pathologically:',\n",
    "720 : 'Evaluated pathologically:',\n",
    "730 : 'Evaluated pathologically:',\n",
    "735 : 'Evaluated clinically:',\n",
    "740 : 'Internal mammary node(s)',\n",
    "745 : 'Internal mammary node(s)',\n",
    "748 : ' N2b',\n",
    "750 : 'Infraclavicular lymph node(s)',\n",
    "755 : 'N3a',\n",
    "760 : 'Internal mammary node(s)',\n",
    "763 : 'Internal mammary node(s)',\n",
    "764 : 'Internal mammary node(s)',\n",
    "765 : 'Internal mammary node(s)',\n",
    "768 : 'N3b',\n",
    "770 : 'UNKNOWN if positive',\n",
    "780 : 'UNKNOWN if positive Infraclavicular lymph nodes',\n",
    "790 : 'N3',\n",
    "800 : 'Supraclavicular node(s), ipsilateral',\n",
    "805 : 'N3c ',\n",
    "810 : 'Evaluated clinically:',\n",
    "815 : 'Evaluated pathologically:',\n",
    "820 : 'Stated as N3, NOS with no other information on regional lymph nodes',\n",
    "999 : 'Unknown; regional lymph nodes not stated',\n",
    "\n",
    "'''\n",
    "\n",
    "df['CSLYMPHN']= df['CSLYMPHN'].replace ({0 : 'No regional lymph node involvement ',50 : 'Evaluated pathologically:',\n",
    "                                         130 : 'Evaluated pathologically:',150 : 'Evaluated pathologically:',\n",
    "                                         155 : 'Evaluated pathologically:',250 : 'Evaluated pathologically:',\n",
    "                                         255 : 'Evaluated clinically:',257 : 'Evaluated clinically:',\n",
    "                                         258 : 'Evaluated pathologically:',260 : 'N1 [NOS] ',280 : 'N2 NOS ',\n",
    "                                         290 : 'N2 NOS - clinical',300 : 'N2 NOS pathological',\n",
    "                                         500 : 'Fixed/matted ipsilateral axillary nodes NOS',\n",
    "                                         510 : 'Evaluated clinically:',520 : 'Evaluated pathologically:',\n",
    "                                         600 : 'Axillary/regional lymph node(s)',610 : 'Evaluated clinically:',\n",
    "                                         620 : 'Evaluated pathologically:',\n",
    "                                         630 : 'Stated as N2 [NOS] with no other information on regional lymph nodes',\n",
    "                                         710 : 'Evaluated pathologically:',720 : 'Evaluated pathologically:',\n",
    "                                         730 : 'Evaluated pathologically:',735 : 'Evaluated clinically:',\n",
    "                                         740 : 'Internal mammary node(s)',745 : 'Internal mammary node(s)',748 : 'N2b',\n",
    "                                         750 : 'Infraclavicular lymph node(s)',755 : 'N3a',760 : 'Internal mammary node(s)',\n",
    "                                         763 : 'Internal mammary node(s)',764 : 'Internal mammary node(s)',\n",
    "                                         765 : 'Internal mammary node(s)',768 : 'N3b',770 : 'UNKNOWN if positive',\n",
    "                                         780 : 'UNKNOWN if positive Infraclavicular lymph nodes',790 : 'N3',\n",
    "                                         800 : 'Supraclavicular node(s), ipsilateral',805 : 'N3c ',\n",
    "                                         810 : 'Evaluated clinically:',815 : 'Evaluated pathologically:',\n",
    "                                         820 : 'Stated as N3, NOS with no other information on regional lymph nodes',\n",
    "                                         999 : 'Unknown; regional lymph nodes not stated'})"
   ]
  },
  {
   "cell_type": "code",
   "execution_count": 87,
   "metadata": {
    "collapsed": true
   },
   "outputs": [],
   "source": [
    "#CSMETSDX\n",
    "'''\n",
    "0 : 'No distant metastasis',\n",
    "5 : 'No clinical or radiographic evidence of distant metastasis',\n",
    "7 : 'M0(i+) ',\n",
    "10 : 'Distant lymph node(s):',\n",
    "40 : 'Distant metastasis except distant lymph node(s)',\n",
    "42 : 'Further contiguous extension:',\n",
    "44 : 'Metastasis:',\n",
    "50 : 'Metastasis + Distant lymph node(s):',\n",
    "60 : 'Distant metastasis, NOS',\n",
    "99 : 'Unknown',\n",
    "'''\n",
    "df['CSMETSDX']=df['CSMETSDX'].replace({0 : 'No distant metastasis',\n",
    "                                       5 : 'No clinical or radiographic evidence of distant metastasis',\n",
    "                                       7 : 'M0(i+) ',10 : 'Distant lymph node(s):',\n",
    "                                       40 : 'Distant metastasis except distant lymph node(s)',\n",
    "                                       42 : 'Further contiguous extension:',44 : 'Metastasis:',\n",
    "                                       50 : 'Metastasis + Distant lymph node(s):',60 : 'Distant metastasis, NOS',\n",
    "                                       99 : 'Unknown'})"
   ]
  },
  {
   "cell_type": "code",
   "execution_count": 98,
   "metadata": {
    "scrolled": true
   },
   "outputs": [
    {
     "name": "stdout",
     "output_type": "stream",
     "text": [
      "<class 'pandas.core.frame.DataFrame'>\n",
      "Int64Index: 247662 entries, 11 to 1631571\n",
      "Data columns (total 47 columns):\n",
      "MAR_STAT            247662 non-null object\n",
      "RACE1V              247662 non-null object\n",
      "SEX                 247662 non-null object\n",
      "AGE_DX              247662 non-null object\n",
      "PRIMSITE            247662 non-null object\n",
      "LATERAL             247662 non-null object\n",
      "HISTO2V             247662 non-null object\n",
      "BEHO2V              247662 non-null object\n",
      "HISTO3V             247662 non-null object\n",
      "BEHO3V              247662 non-null object\n",
      "GRADE               247662 non-null object\n",
      "CSTUMSIZ            247662 non-null object\n",
      "CSEXTEN             247662 non-null object\n",
      "CSLYMPHN            247662 non-null object\n",
      "CSMETSDX            247662 non-null object\n",
      "CS1SITE             247662 non-null object\n",
      "CS2SITE             247662 non-null object\n",
      "CS3SITE             247662 non-null object\n",
      "CS4SITE             247662 non-null object\n",
      "CS5SITE             247662 non-null object\n",
      "CS6SITE             247662 non-null object\n",
      "DAJCCT              247662 non-null object\n",
      "DAJCCN              247662 non-null object\n",
      "DAJCCM              247662 non-null object\n",
      "DAJCCSTG            247662 non-null object\n",
      "DSS1977S            247662 non-null object\n",
      "DSS2000S            247662 non-null object\n",
      "DAJCCFL             247662 non-null object\n",
      "NO_SURG             247662 non-null object\n",
      "HST_STGA            247662 non-null object\n",
      "FIRSTPRM            247662 non-null object\n",
      "VSRTSADX            247662 non-null object\n",
      "ODTHCLASS           247662 non-null object\n",
      "CS15SITE            247662 non-null object\n",
      "srv_time_mon        247662 non-null object\n",
      "DAJCC7T             247662 non-null object\n",
      "DAJCC7N             247662 non-null object\n",
      "DAJCC7M             247662 non-null object\n",
      "DAJCC7STG           247662 non-null object\n",
      "CS7SITE             247662 non-null object\n",
      "brst_sub            247662 non-null object\n",
      "CSMETSDXB_PUB       247662 non-null object\n",
      "CSMETSDXBR_PUB      247662 non-null object\n",
      "CSMETSDXLIV_PUB     247662 non-null object\n",
      "CSMETSDXLUNG_PUB    247662 non-null object\n",
      "MALIGCOUNT          247662 non-null object\n",
      "BENBORDCOUNT        247662 non-null object\n",
      "dtypes: object(47)\n",
      "memory usage: 90.7+ MB\n"
     ]
    }
   ],
   "source": [
    "df.info()"
   ]
  },
  {
   "cell_type": "code",
   "execution_count": 97,
   "metadata": {},
   "outputs": [
    {
     "name": "stdout",
     "output_type": "stream",
     "text": [
      "Number of Categories per feature MAR_STAT         is 7\n",
      "Number of Categories per feature RACE1V           is 30\n",
      "Number of Categories per feature SEX              is 2\n",
      "Number of Categories per feature AGE_DX           is 10\n",
      "Number of Categories per feature PRIMSITE         is 9\n",
      "Number of Categories per feature LATERAL          is 5\n",
      "Number of Categories per feature HISTO2V          is 21\n",
      "Number of Categories per feature BEHO2V           is 3\n",
      "Number of Categories per feature HISTO3V          is 21\n",
      "Number of Categories per feature BEHO3V           is 2\n",
      "Number of Categories per feature GRADE            is 5\n",
      "Number of Categories per feature CSTUMSIZ         is 29\n",
      "Number of Categories per feature CSEXTEN          is 29\n",
      "Number of Categories per feature CSLYMPHN         is 19\n",
      "Number of Categories per feature CSMETSDX         is 10\n",
      "Number of Categories per feature CS1SITE          is 8\n",
      "Number of Categories per feature CS2SITE          is 8\n",
      "Number of Categories per feature CS3SITE          is 15\n",
      "Number of Categories per feature CS4SITE          is 5\n",
      "Number of Categories per feature CS5SITE          is 4\n",
      "Number of Categories per feature CS6SITE          is 8\n",
      "Number of Categories per feature DAJCCT           is 16\n",
      "Number of Categories per feature DAJCCN           is 20\n",
      "Number of Categories per feature DAJCCM           is 4\n",
      "Number of Categories per feature DAJCCSTG         is 11\n",
      "Number of Categories per feature DSS1977S         is 8\n",
      "Number of Categories per feature DSS2000S         is 8\n",
      "Number of Categories per feature DAJCCFL          is 2\n",
      "Number of Categories per feature NO_SURG          is 8\n",
      "Number of Categories per feature HST_STGA         is 5\n",
      "Number of Categories per feature FIRSTPRM         is 2\n",
      "Number of Categories per feature VSRTSADX         is 2\n",
      "Number of Categories per feature ODTHCLASS        is 3\n",
      "Number of Categories per feature CS15SITE         is 8\n",
      "Number of Categories per feature srv_time_mon     is 17\n",
      "Number of Categories per feature DAJCC7T          is 16\n",
      "Number of Categories per feature DAJCC7N          is 19\n",
      "Number of Categories per feature DAJCC7M          is 4\n",
      "Number of Categories per feature DAJCC7STG        is 12\n",
      "Number of Categories per feature CS7SITE          is 12\n",
      "Number of Categories per feature brst_sub         is 6\n",
      "Number of Categories per feature CSMETSDXB_PUB    is 4\n",
      "Number of Categories per feature CSMETSDXBR_PUB   is 4\n",
      "Number of Categories per feature CSMETSDXLIV_PUB  is 4\n",
      "Number of Categories per feature CSMETSDXLUNG_PUB is 4\n",
      "Number of Categories per feature MALIGCOUNT       is 10\n",
      "Number of Categories per feature BENBORDCOUNT     is 4\n"
     ]
    }
   ],
   "source": [
    "def category_count(df,feature):\n",
    "    score=df[feature].value_counts().count()\n",
    "    print(\"Number of Categories per feature {:16} is {:.0f}\".format(feature, score))\n",
    "for feature in df.columns:\n",
    "    category_count(df,feature)"
   ]
  },
  {
   "cell_type": "code",
   "execution_count": 93,
   "metadata": {},
   "outputs": [],
   "source": [
    "drop=['CODPUB','STAT_REC']\n",
    "df.drop(drop,axis=1,inplace=True)"
   ]
  },
  {
   "cell_type": "code",
   "execution_count": 99,
   "metadata": {},
   "outputs": [
    {
     "data": {
      "text/html": [
       "<div>\n",
       "<style scoped>\n",
       "    .dataframe tbody tr th:only-of-type {\n",
       "        vertical-align: middle;\n",
       "    }\n",
       "\n",
       "    .dataframe tbody tr th {\n",
       "        vertical-align: top;\n",
       "    }\n",
       "\n",
       "    .dataframe thead th {\n",
       "        text-align: right;\n",
       "    }\n",
       "</style>\n",
       "<table border=\"1\" class=\"dataframe\">\n",
       "  <thead>\n",
       "    <tr style=\"text-align: right;\">\n",
       "      <th></th>\n",
       "      <th>MAR_STAT</th>\n",
       "      <th>RACE1V</th>\n",
       "      <th>SEX</th>\n",
       "      <th>AGE_DX</th>\n",
       "      <th>PRIMSITE</th>\n",
       "      <th>LATERAL</th>\n",
       "      <th>HISTO2V</th>\n",
       "      <th>BEHO2V</th>\n",
       "      <th>HISTO3V</th>\n",
       "      <th>BEHO3V</th>\n",
       "      <th>...</th>\n",
       "      <th>DAJCC7M</th>\n",
       "      <th>DAJCC7STG</th>\n",
       "      <th>CS7SITE</th>\n",
       "      <th>brst_sub</th>\n",
       "      <th>CSMETSDXB_PUB</th>\n",
       "      <th>CSMETSDXBR_PUB</th>\n",
       "      <th>CSMETSDXLIV_PUB</th>\n",
       "      <th>CSMETSDXLUNG_PUB</th>\n",
       "      <th>MALIGCOUNT</th>\n",
       "      <th>BENBORDCOUNT</th>\n",
       "    </tr>\n",
       "  </thead>\n",
       "  <tbody>\n",
       "    <tr>\n",
       "      <th>11</th>\n",
       "      <td>Widowed</td>\n",
       "      <td>White</td>\n",
       "      <td>Female</td>\n",
       "      <td>&lt;80</td>\n",
       "      <td>Overlapping lesion</td>\n",
       "      <td>Left</td>\n",
       "      <td>Ductal and lobular neoplasms</td>\n",
       "      <td>Malignant, primary site</td>\n",
       "      <td>Ductal and lobular neoplasms</td>\n",
       "      <td>Malignant, primary site</td>\n",
       "      <td>...</td>\n",
       "      <td>Not applicable</td>\n",
       "      <td>Not applicable</td>\n",
       "      <td>Unknown</td>\n",
       "      <td>Not 2010+ Breast</td>\n",
       "      <td>Not applicable</td>\n",
       "      <td>Not applicable</td>\n",
       "      <td>Not applicable</td>\n",
       "      <td>Not applicable</td>\n",
       "      <td>2</td>\n",
       "      <td>0</td>\n",
       "    </tr>\n",
       "    <tr>\n",
       "      <th>16</th>\n",
       "      <td>Married</td>\n",
       "      <td>White</td>\n",
       "      <td>Female</td>\n",
       "      <td>&lt;60</td>\n",
       "      <td>Upper-outer quadrant</td>\n",
       "      <td>Right</td>\n",
       "      <td>Ductal and lobular neoplasms</td>\n",
       "      <td>Malignant, primary site</td>\n",
       "      <td>Ductal and lobular neoplasms</td>\n",
       "      <td>Malignant, primary site</td>\n",
       "      <td>...</td>\n",
       "      <td>Not applicable</td>\n",
       "      <td>Not applicable</td>\n",
       "      <td>Unknown</td>\n",
       "      <td>Not 2010+ Breast</td>\n",
       "      <td>Not applicable</td>\n",
       "      <td>Not applicable</td>\n",
       "      <td>Not applicable</td>\n",
       "      <td>Not applicable</td>\n",
       "      <td>2</td>\n",
       "      <td>0</td>\n",
       "    </tr>\n",
       "    <tr>\n",
       "      <th>18</th>\n",
       "      <td>Separated</td>\n",
       "      <td>White</td>\n",
       "      <td>Female</td>\n",
       "      <td>&lt;80</td>\n",
       "      <td>Upper-outer quadrant</td>\n",
       "      <td>Left</td>\n",
       "      <td>Ductal and lobular neoplasms</td>\n",
       "      <td>Malignant, primary site</td>\n",
       "      <td>Ductal and lobular neoplasms</td>\n",
       "      <td>Malignant, primary site</td>\n",
       "      <td>...</td>\n",
       "      <td>Not applicable</td>\n",
       "      <td>Not applicable</td>\n",
       "      <td>Unknown</td>\n",
       "      <td>Not 2010+ Breast</td>\n",
       "      <td>Not applicable</td>\n",
       "      <td>Not applicable</td>\n",
       "      <td>Not applicable</td>\n",
       "      <td>Not applicable</td>\n",
       "      <td>2</td>\n",
       "      <td>0</td>\n",
       "    </tr>\n",
       "    <tr>\n",
       "      <th>30</th>\n",
       "      <td>Widowed</td>\n",
       "      <td>White</td>\n",
       "      <td>Female</td>\n",
       "      <td>&lt;60</td>\n",
       "      <td>Breast, NOS</td>\n",
       "      <td>Right</td>\n",
       "      <td>Ductal and lobular neoplasms</td>\n",
       "      <td>Malignant, primary site</td>\n",
       "      <td>Ductal and lobular neoplasms</td>\n",
       "      <td>Malignant, primary site</td>\n",
       "      <td>...</td>\n",
       "      <td>Not applicable</td>\n",
       "      <td>Not applicable</td>\n",
       "      <td>Unknown</td>\n",
       "      <td>Not 2010+ Breast</td>\n",
       "      <td>Not applicable</td>\n",
       "      <td>Not applicable</td>\n",
       "      <td>Not applicable</td>\n",
       "      <td>Not applicable</td>\n",
       "      <td>2</td>\n",
       "      <td>0</td>\n",
       "    </tr>\n",
       "    <tr>\n",
       "      <th>32</th>\n",
       "      <td>Married</td>\n",
       "      <td>White</td>\n",
       "      <td>Female</td>\n",
       "      <td>&lt;70</td>\n",
       "      <td>Upper-outer quadrant</td>\n",
       "      <td>Right</td>\n",
       "      <td>Ductal and lobular neoplasms</td>\n",
       "      <td>Malignant, primary site</td>\n",
       "      <td>Ductal and lobular neoplasms</td>\n",
       "      <td>Malignant, primary site</td>\n",
       "      <td>...</td>\n",
       "      <td>Not applicable</td>\n",
       "      <td>Not applicable</td>\n",
       "      <td>Unknown</td>\n",
       "      <td>Not 2010+ Breast</td>\n",
       "      <td>Not applicable</td>\n",
       "      <td>Not applicable</td>\n",
       "      <td>Not applicable</td>\n",
       "      <td>Not applicable</td>\n",
       "      <td>2</td>\n",
       "      <td>0</td>\n",
       "    </tr>\n",
       "  </tbody>\n",
       "</table>\n",
       "<p>5 rows × 47 columns</p>\n",
       "</div>"
      ],
      "text/plain": [
       "     MAR_STAT RACE1V     SEX AGE_DX              PRIMSITE LATERAL  \\\n",
       "11    Widowed  White  Female    <80    Overlapping lesion    Left   \n",
       "16    Married  White  Female    <60  Upper-outer quadrant   Right   \n",
       "18  Separated  White  Female    <80  Upper-outer quadrant    Left   \n",
       "30    Widowed  White  Female    <60           Breast, NOS   Right   \n",
       "32    Married  White  Female    <70  Upper-outer quadrant   Right   \n",
       "\n",
       "                         HISTO2V                   BEHO2V  \\\n",
       "11  Ductal and lobular neoplasms  Malignant, primary site   \n",
       "16  Ductal and lobular neoplasms  Malignant, primary site   \n",
       "18  Ductal and lobular neoplasms  Malignant, primary site   \n",
       "30  Ductal and lobular neoplasms  Malignant, primary site   \n",
       "32  Ductal and lobular neoplasms  Malignant, primary site   \n",
       "\n",
       "                         HISTO3V                   BEHO3V     ...       \\\n",
       "11  Ductal and lobular neoplasms  Malignant, primary site     ...        \n",
       "16  Ductal and lobular neoplasms  Malignant, primary site     ...        \n",
       "18  Ductal and lobular neoplasms  Malignant, primary site     ...        \n",
       "30  Ductal and lobular neoplasms  Malignant, primary site     ...        \n",
       "32  Ductal and lobular neoplasms  Malignant, primary site     ...        \n",
       "\n",
       "           DAJCC7M       DAJCC7STG  CS7SITE          brst_sub   CSMETSDXB_PUB  \\\n",
       "11  Not applicable  Not applicable  Unknown  Not 2010+ Breast  Not applicable   \n",
       "16  Not applicable  Not applicable  Unknown  Not 2010+ Breast  Not applicable   \n",
       "18  Not applicable  Not applicable  Unknown  Not 2010+ Breast  Not applicable   \n",
       "30  Not applicable  Not applicable  Unknown  Not 2010+ Breast  Not applicable   \n",
       "32  Not applicable  Not applicable  Unknown  Not 2010+ Breast  Not applicable   \n",
       "\n",
       "    CSMETSDXBR_PUB CSMETSDXLIV_PUB CSMETSDXLUNG_PUB MALIGCOUNT BENBORDCOUNT  \n",
       "11  Not applicable  Not applicable   Not applicable          2            0  \n",
       "16  Not applicable  Not applicable   Not applicable          2            0  \n",
       "18  Not applicable  Not applicable   Not applicable          2            0  \n",
       "30  Not applicable  Not applicable   Not applicable          2            0  \n",
       "32  Not applicable  Not applicable   Not applicable          2            0  \n",
       "\n",
       "[5 rows x 47 columns]"
      ]
     },
     "execution_count": 99,
     "metadata": {},
     "output_type": "execute_result"
    }
   ],
   "source": [
    "df.head()"
   ]
  },
  {
   "cell_type": "code",
   "execution_count": 117,
   "metadata": {
    "collapsed": true
   },
   "outputs": [],
   "source": [
    "df=df.join(df1, rsuffix='_cont')"
   ]
  },
  {
   "cell_type": "code",
   "execution_count": 118,
   "metadata": {
    "collapsed": true
   },
   "outputs": [],
   "source": [
    "df.to_csv('whole_list_categorical.csv')"
   ]
  },
  {
   "cell_type": "markdown",
   "metadata": {},
   "source": [
    "# Data Preprocessing "
   ]
  },
  {
   "cell_type": "markdown",
   "metadata": {
    "collapsed": true
   },
   "source": [
    "### Onehot encode"
   ]
  },
  {
   "cell_type": "code",
   "execution_count": 100,
   "metadata": {
    "collapsed": true
   },
   "outputs": [],
   "source": [
    "df=pd.get_dummies(df,drop_first=True)"
   ]
  },
  {
   "cell_type": "code",
   "execution_count": 101,
   "metadata": {},
   "outputs": [],
   "source": [
    "df=df.join(df1)"
   ]
  },
  {
   "cell_type": "code",
   "execution_count": 102,
   "metadata": {
    "scrolled": true
   },
   "outputs": [
    {
     "name": "stdout",
     "output_type": "stream",
     "text": [
      "<class 'pandas.core.frame.DataFrame'>\n",
      "Int64Index: 247662 entries, 11 to 1631571\n",
      "Columns: 422 entries, MAR_STAT_Married to srv_time_mon\n",
      "dtypes: float64(2), int64(4), uint8(416)\n",
      "memory usage: 121.5 MB\n"
     ]
    }
   ],
   "source": [
    "df.info(memory_usage='deep')"
   ]
  },
  {
   "cell_type": "code",
   "execution_count": 103,
   "metadata": {},
   "outputs": [
    {
     "data": {
      "text/html": [
       "<div>\n",
       "<style scoped>\n",
       "    .dataframe tbody tr th:only-of-type {\n",
       "        vertical-align: middle;\n",
       "    }\n",
       "\n",
       "    .dataframe tbody tr th {\n",
       "        vertical-align: top;\n",
       "    }\n",
       "\n",
       "    .dataframe thead th {\n",
       "        text-align: right;\n",
       "    }\n",
       "</style>\n",
       "<table border=\"1\" class=\"dataframe\">\n",
       "  <thead>\n",
       "    <tr style=\"text-align: right;\">\n",
       "      <th></th>\n",
       "      <th>MAR_STAT_Married</th>\n",
       "      <th>MAR_STAT_Separated</th>\n",
       "      <th>MAR_STAT_Single</th>\n",
       "      <th>MAR_STAT_Unknown</th>\n",
       "      <th>MAR_STAT_Unmarried</th>\n",
       "      <th>MAR_STAT_Widowed</th>\n",
       "      <th>RACE1V_Asian Indian or Pakistani</th>\n",
       "      <th>RACE1V_Black</th>\n",
       "      <th>RACE1V_Chamorran</th>\n",
       "      <th>RACE1V_Chinese</th>\n",
       "      <th>...</th>\n",
       "      <th>MALIGCOUNT_Unknown</th>\n",
       "      <th>BENBORDCOUNT_1</th>\n",
       "      <th>BENBORDCOUNT_2</th>\n",
       "      <th>BENBORDCOUNT_3</th>\n",
       "      <th>AGE_DX</th>\n",
       "      <th>CSTUMSIZ</th>\n",
       "      <th>CS3SITE</th>\n",
       "      <th>MALIGCOUNT</th>\n",
       "      <th>BENBORDCOUNT</th>\n",
       "      <th>srv_time_mon</th>\n",
       "    </tr>\n",
       "  </thead>\n",
       "  <tbody>\n",
       "    <tr>\n",
       "      <th>11</th>\n",
       "      <td>0</td>\n",
       "      <td>0</td>\n",
       "      <td>0</td>\n",
       "      <td>0</td>\n",
       "      <td>0</td>\n",
       "      <td>1</td>\n",
       "      <td>0</td>\n",
       "      <td>0</td>\n",
       "      <td>0</td>\n",
       "      <td>0</td>\n",
       "      <td>...</td>\n",
       "      <td>0</td>\n",
       "      <td>0</td>\n",
       "      <td>0</td>\n",
       "      <td>0</td>\n",
       "      <td>76</td>\n",
       "      <td>0.0</td>\n",
       "      <td>0.0</td>\n",
       "      <td>2</td>\n",
       "      <td>0</td>\n",
       "      <td>30</td>\n",
       "    </tr>\n",
       "    <tr>\n",
       "      <th>16</th>\n",
       "      <td>1</td>\n",
       "      <td>0</td>\n",
       "      <td>0</td>\n",
       "      <td>0</td>\n",
       "      <td>0</td>\n",
       "      <td>0</td>\n",
       "      <td>0</td>\n",
       "      <td>0</td>\n",
       "      <td>0</td>\n",
       "      <td>0</td>\n",
       "      <td>...</td>\n",
       "      <td>0</td>\n",
       "      <td>0</td>\n",
       "      <td>0</td>\n",
       "      <td>0</td>\n",
       "      <td>58</td>\n",
       "      <td>0.0</td>\n",
       "      <td>0.0</td>\n",
       "      <td>2</td>\n",
       "      <td>0</td>\n",
       "      <td>18</td>\n",
       "    </tr>\n",
       "    <tr>\n",
       "      <th>18</th>\n",
       "      <td>0</td>\n",
       "      <td>1</td>\n",
       "      <td>0</td>\n",
       "      <td>0</td>\n",
       "      <td>0</td>\n",
       "      <td>0</td>\n",
       "      <td>0</td>\n",
       "      <td>0</td>\n",
       "      <td>0</td>\n",
       "      <td>0</td>\n",
       "      <td>...</td>\n",
       "      <td>0</td>\n",
       "      <td>0</td>\n",
       "      <td>0</td>\n",
       "      <td>0</td>\n",
       "      <td>78</td>\n",
       "      <td>0.0</td>\n",
       "      <td>0.0</td>\n",
       "      <td>2</td>\n",
       "      <td>0</td>\n",
       "      <td>59</td>\n",
       "    </tr>\n",
       "    <tr>\n",
       "      <th>30</th>\n",
       "      <td>0</td>\n",
       "      <td>0</td>\n",
       "      <td>0</td>\n",
       "      <td>0</td>\n",
       "      <td>0</td>\n",
       "      <td>1</td>\n",
       "      <td>0</td>\n",
       "      <td>0</td>\n",
       "      <td>0</td>\n",
       "      <td>0</td>\n",
       "      <td>...</td>\n",
       "      <td>0</td>\n",
       "      <td>0</td>\n",
       "      <td>0</td>\n",
       "      <td>0</td>\n",
       "      <td>59</td>\n",
       "      <td>0.0</td>\n",
       "      <td>0.0</td>\n",
       "      <td>2</td>\n",
       "      <td>0</td>\n",
       "      <td>54</td>\n",
       "    </tr>\n",
       "    <tr>\n",
       "      <th>32</th>\n",
       "      <td>1</td>\n",
       "      <td>0</td>\n",
       "      <td>0</td>\n",
       "      <td>0</td>\n",
       "      <td>0</td>\n",
       "      <td>0</td>\n",
       "      <td>0</td>\n",
       "      <td>0</td>\n",
       "      <td>0</td>\n",
       "      <td>0</td>\n",
       "      <td>...</td>\n",
       "      <td>0</td>\n",
       "      <td>0</td>\n",
       "      <td>0</td>\n",
       "      <td>0</td>\n",
       "      <td>63</td>\n",
       "      <td>0.0</td>\n",
       "      <td>0.0</td>\n",
       "      <td>2</td>\n",
       "      <td>0</td>\n",
       "      <td>121</td>\n",
       "    </tr>\n",
       "  </tbody>\n",
       "</table>\n",
       "<p>5 rows × 422 columns</p>\n",
       "</div>"
      ],
      "text/plain": [
       "    MAR_STAT_Married  MAR_STAT_Separated  MAR_STAT_Single  MAR_STAT_Unknown  \\\n",
       "11                 0                   0                0                 0   \n",
       "16                 1                   0                0                 0   \n",
       "18                 0                   1                0                 0   \n",
       "30                 0                   0                0                 0   \n",
       "32                 1                   0                0                 0   \n",
       "\n",
       "    MAR_STAT_Unmarried  MAR_STAT_Widowed  RACE1V_Asian Indian or Pakistani  \\\n",
       "11                   0                 1                                 0   \n",
       "16                   0                 0                                 0   \n",
       "18                   0                 0                                 0   \n",
       "30                   0                 1                                 0   \n",
       "32                   0                 0                                 0   \n",
       "\n",
       "    RACE1V_Black  RACE1V_Chamorran  RACE1V_Chinese      ...       \\\n",
       "11             0                 0               0      ...        \n",
       "16             0                 0               0      ...        \n",
       "18             0                 0               0      ...        \n",
       "30             0                 0               0      ...        \n",
       "32             0                 0               0      ...        \n",
       "\n",
       "    MALIGCOUNT_Unknown  BENBORDCOUNT_1  BENBORDCOUNT_2  BENBORDCOUNT_3  \\\n",
       "11                   0               0               0               0   \n",
       "16                   0               0               0               0   \n",
       "18                   0               0               0               0   \n",
       "30                   0               0               0               0   \n",
       "32                   0               0               0               0   \n",
       "\n",
       "    AGE_DX  CSTUMSIZ  CS3SITE  MALIGCOUNT  BENBORDCOUNT  srv_time_mon  \n",
       "11      76       0.0      0.0           2             0            30  \n",
       "16      58       0.0      0.0           2             0            18  \n",
       "18      78       0.0      0.0           2             0            59  \n",
       "30      59       0.0      0.0           2             0            54  \n",
       "32      63       0.0      0.0           2             0           121  \n",
       "\n",
       "[5 rows x 422 columns]"
      ]
     },
     "execution_count": 103,
     "metadata": {},
     "output_type": "execute_result"
    }
   ],
   "source": [
    "df.head()"
   ]
  },
  {
   "cell_type": "markdown",
   "metadata": {
    "collapsed": true
   },
   "source": [
    "# Multiple linear regression for the whole df"
   ]
  },
  {
   "cell_type": "code",
   "execution_count": 104,
   "metadata": {},
   "outputs": [],
   "source": [
    "X=df.iloc[:,:-1].values\n",
    "y=df.iloc[:,421].values"
   ]
  },
  {
   "cell_type": "code",
   "execution_count": 105,
   "metadata": {},
   "outputs": [
    {
     "name": "stderr",
     "output_type": "stream",
     "text": [
      "C:\\Users\\user\\Anaconda3\\lib\\site-packages\\sklearn\\cross_validation.py:44: DeprecationWarning: This module was deprecated in version 0.18 in favor of the model_selection module into which all the refactored classes and functions are moved. Also note that the interface of the new CV iterators are different from that of this module. This module will be removed in 0.20.\n",
      "  \"This module will be removed in 0.20.\", DeprecationWarning)\n"
     ]
    }
   ],
   "source": [
    "from sklearn.cross_validation import train_test_split\n",
    "X_train,X_test, y_train, y_test= train_test_split(X,y,test_size=0.20,random_state=42)"
   ]
  },
  {
   "cell_type": "code",
   "execution_count": 106,
   "metadata": {},
   "outputs": [
    {
     "data": {
      "text/plain": [
       "LinearRegression(copy_X=True, fit_intercept=True, n_jobs=1, normalize=False)"
      ]
     },
     "execution_count": 106,
     "metadata": {},
     "output_type": "execute_result"
    }
   ],
   "source": [
    "from sklearn.linear_model import LinearRegression\n",
    "regressor= LinearRegression()\n",
    "regressor.fit(X_train,y_train)"
   ]
  },
  {
   "cell_type": "code",
   "execution_count": 107,
   "metadata": {
    "collapsed": true
   },
   "outputs": [],
   "source": [
    "y_pred=regressor.predict(X_test)"
   ]
  },
  {
   "cell_type": "code",
   "execution_count": 108,
   "metadata": {},
   "outputs": [
    {
     "data": {
      "text/plain": [
       "0.7139363526769968"
      ]
     },
     "execution_count": 108,
     "metadata": {},
     "output_type": "execute_result"
    }
   ],
   "source": [
    "from sklearn.metrics import r2_score\n",
    "r2_score(y_test,y_pred)"
   ]
  },
  {
   "cell_type": "markdown",
   "metadata": {
    "collapsed": true
   },
   "source": [
    "# Multiple linear regression for the cont vars"
   ]
  },
  {
   "cell_type": "code",
   "execution_count": 109,
   "metadata": {
    "scrolled": true
   },
   "outputs": [
    {
     "name": "stdout",
     "output_type": "stream",
     "text": [
      "<class 'pandas.core.frame.DataFrame'>\n",
      "Int64Index: 247662 entries, 11 to 1631571\n",
      "Data columns (total 6 columns):\n",
      "AGE_DX          247662 non-null int64\n",
      "CSTUMSIZ        247662 non-null float64\n",
      "CS3SITE         247662 non-null float64\n",
      "MALIGCOUNT      247662 non-null int64\n",
      "BENBORDCOUNT    247662 non-null int64\n",
      "srv_time_mon    247662 non-null int64\n",
      "dtypes: float64(2), int64(4)\n",
      "memory usage: 23.2 MB\n"
     ]
    }
   ],
   "source": [
    "df1.info()"
   ]
  },
  {
   "cell_type": "code",
   "execution_count": 110,
   "metadata": {
    "collapsed": true
   },
   "outputs": [],
   "source": [
    "X=df1.iloc[:,:-1].values\n",
    "y=df1.iloc[:,5].values"
   ]
  },
  {
   "cell_type": "code",
   "execution_count": 111,
   "metadata": {
    "collapsed": true
   },
   "outputs": [],
   "source": [
    "from sklearn.cross_validation import train_test_split\n",
    "X_train,X_test, y_train, y_test= train_test_split(X,y,test_size=0.20,random_state=42)"
   ]
  },
  {
   "cell_type": "code",
   "execution_count": 112,
   "metadata": {},
   "outputs": [
    {
     "data": {
      "text/plain": [
       "LinearRegression(copy_X=True, fit_intercept=True, n_jobs=1, normalize=False)"
      ]
     },
     "execution_count": 112,
     "metadata": {},
     "output_type": "execute_result"
    }
   ],
   "source": [
    "from sklearn.linear_model import LinearRegression\n",
    "regressor= LinearRegression()\n",
    "regressor.fit(X_train,y_train)"
   ]
  },
  {
   "cell_type": "code",
   "execution_count": 113,
   "metadata": {},
   "outputs": [],
   "source": [
    "y_pred=regressor.predict(X_test)"
   ]
  },
  {
   "cell_type": "code",
   "execution_count": 114,
   "metadata": {
    "scrolled": true
   },
   "outputs": [
    {
     "data": {
      "text/plain": [
       "0.05565996352037117"
      ]
     },
     "execution_count": 114,
     "metadata": {},
     "output_type": "execute_result"
    }
   ],
   "source": [
    "from sklearn.metrics import r2_score\n",
    "r2_score(y_test,y_pred)"
   ]
  },
  {
   "cell_type": "markdown",
   "metadata": {},
   "source": [
    "## training a supervised regression learner on a subset of the data with one feature removed, and then score how well that model can predict the removed feature."
   ]
  },
  {
   "cell_type": "code",
   "execution_count": 115,
   "metadata": {},
   "outputs": [
    {
     "name": "stdout",
     "output_type": "stream",
     "text": [
      "The score for feature AGE_DX           is +0.04832\n",
      "The score for feature CSTUMSIZ         is +0.36656\n",
      "The score for feature CS3SITE          is +0.35778\n",
      "The score for feature MALIGCOUNT       is +0.00921\n",
      "The score for feature BENBORDCOUNT     is +0.00096\n",
      "The score for feature srv_time_mon     is +0.05943\n"
     ]
    }
   ],
   "source": [
    "from sklearn.linear_model import LinearRegression\n",
    "def predict_feature(feature):\n",
    "        # TODO: Make a copy of the DataFrame, using the 'drop' function to drop the given feature\n",
    "    new_data = df1.drop([feature],axis=1)\n",
    "\n",
    "    # TODO: Split the data into training and testing sets using the given feature as the target\n",
    "    X_train, X_test, y_train, y_test = train_test_split(new_data,df1[feature],test_size=0.25,random_state=101)\n",
    "\n",
    "    # TODO: Create a decision tree regressor and fit it to the training set\n",
    "    regressor = LinearRegression().fit(X_train,y_train)\n",
    "\n",
    "    # TODO: Report the score of the prediction using the testing set\n",
    "    score = regressor.score(X_test,y_test)\n",
    "\n",
    "    print(\"The score for feature {:16} is {:+.5f}\".format(feature, score))\n",
    "\n",
    "for feature in df1.columns.values:\n",
    "    predict_feature(feature)"
   ]
  },
  {
   "cell_type": "code",
   "execution_count": 116,
   "metadata": {},
   "outputs": [
    {
     "name": "stdout",
     "output_type": "stream",
     "text": [
      "The score for feature AGE_DX           is -0.07832\n",
      "The score for feature CSTUMSIZ         is +0.13273\n",
      "The score for feature CS3SITE          is +0.23868\n",
      "The score for feature MALIGCOUNT       is -0.46719\n",
      "The score for feature BENBORDCOUNT     is -1.17360\n",
      "The score for feature srv_time_mon     is +0.23216\n"
     ]
    }
   ],
   "source": [
    "from sklearn.tree import DecisionTreeRegressor\n",
    "def predict_feature(feature):\n",
    "        # TODO: Make a copy of the DataFrame, using the 'drop' function to drop the given feature\n",
    "    new_data = df1.drop([feature],axis=1)\n",
    "\n",
    "    # TODO: Split the data into training and testing sets using the given feature as the target\n",
    "    X_train, X_test, y_train, y_test = train_test_split(new_data,df1[feature],test_size=0.25,random_state=101)\n",
    "\n",
    "    # TODO: Create a decision tree regressor and fit it to the training set\n",
    "    regressor = DecisionTreeRegressor(random_state=101).fit(X_train,y_train)\n",
    "\n",
    "    # TODO: Report the score of the prediction using the testing set\n",
    "    score = regressor.score(X_test,y_test)\n",
    "\n",
    "    print(\"The score for feature {:16} is {:+.5f}\".format(feature, score))\n",
    "\n",
    "for feature in df1.columns.values:\n",
    "    predict_feature(feature)"
   ]
  },
  {
   "cell_type": "code",
   "execution_count": null,
   "metadata": {
    "collapsed": true
   },
   "outputs": [],
   "source": []
  },
  {
   "cell_type": "code",
   "execution_count": null,
   "metadata": {
    "collapsed": true
   },
   "outputs": [],
   "source": []
  }
 ],
 "metadata": {
  "kernelspec": {
   "display_name": "Python 3",
   "language": "python",
   "name": "python3"
  },
  "language_info": {
   "codemirror_mode": {
    "name": "ipython",
    "version": 3
   },
   "file_extension": ".py",
   "mimetype": "text/x-python",
   "name": "python",
   "nbconvert_exporter": "python",
   "pygments_lexer": "ipython3",
   "version": "3.6.1"
  }
 },
 "nbformat": 4,
 "nbformat_minor": 2
}
